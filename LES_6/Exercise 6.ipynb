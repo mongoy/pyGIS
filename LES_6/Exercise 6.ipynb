{
 "cells": [
  {
   "cell_type": "markdown",
   "metadata": {},
   "source": [
    "### Урок 6 (2020) https://geo-python-site.readthedocs.io/en/latest/lessons/L6/overview.html\n",
    "##### GITHUB\n",
    "https://github.com/Geo-Python-2020/Exercise-6"
   ]
  },
  {
   "cell_type": "code",
   "execution_count": 1,
   "metadata": {},
   "outputs": [],
   "source": [
    "import os\n",
    "import pandas as pd\n",
    "import numpy as np\n",
    "from IPython.display import display\n",
    "import matplotlib.pyplot as plt # построение графиков\n",
    "\n",
    "%matplotlib inline"
   ]
  },
  {
   "cell_type": "markdown",
   "metadata": {},
   "source": [
    "Цель этого упражнения - проанализировать исторические данные о погоде. \n",
    "- В задаче 1 Вы читаете файл с данными и исследуете его содержимое. \n",
    "- В задаче 2 вы преобразуете и агрегируете данные от дневной температуры в градусах Фаренгейта до среднемесячной температуры в градусах Цельсия. \n",
    "- В задаче 3 Вы, наконец, проанализируете погодные аномалии, сравнив среднемесячные температуры с долгосрочными средними."
   ]
  },
  {
   "cell_type": "code",
   "execution_count": 2,
   "metadata": {},
   "outputs": [],
   "source": [
    "# Текущая директория\n",
    "ROOT_PATH = os.path.abspath(os.curdir)"
   ]
  },
  {
   "cell_type": "code",
   "execution_count": 3,
   "metadata": {},
   "outputs": [],
   "source": [
    "# Для колонок:\n",
    "pd.set_option('display.max_columns', None)\n",
    "# Для строк:\n",
    "pd.set_option('display.max_rows', 10)"
   ]
  },
  {
   "cell_type": "markdown",
   "metadata": {},
   "source": [
    "### Чтение в файле данных"
   ]
  },
  {
   "cell_type": "code",
   "execution_count": 4,
   "metadata": {},
   "outputs": [
    {
     "data": {
      "text/html": [
       "<div>\n",
       "<style scoped>\n",
       "    .dataframe tbody tr th:only-of-type {\n",
       "        vertical-align: middle;\n",
       "    }\n",
       "\n",
       "    .dataframe tbody tr th {\n",
       "        vertical-align: top;\n",
       "    }\n",
       "\n",
       "    .dataframe thead th {\n",
       "        text-align: right;\n",
       "    }\n",
       "</style>\n",
       "<table border=\"1\" class=\"dataframe\">\n",
       "  <thead>\n",
       "    <tr style=\"text-align: right;\">\n",
       "      <th></th>\n",
       "      <th>STATION</th>\n",
       "      <th>ELEVATION</th>\n",
       "      <th>LATITUDE</th>\n",
       "      <th>LONGITUDE</th>\n",
       "      <th>DATE</th>\n",
       "      <th>PRCP</th>\n",
       "      <th>TAVG</th>\n",
       "      <th>TMAX</th>\n",
       "      <th>TMIN</th>\n",
       "    </tr>\n",
       "  </thead>\n",
       "  <tbody>\n",
       "    <tr>\n",
       "      <th>0</th>\n",
       "      <td>GHCND:FIE00142080</td>\n",
       "      <td>51</td>\n",
       "      <td>60.3269</td>\n",
       "      <td>24.9603</td>\n",
       "      <td>19520101</td>\n",
       "      <td>0.31</td>\n",
       "      <td>37.0</td>\n",
       "      <td>39.0</td>\n",
       "      <td>34.0</td>\n",
       "    </tr>\n",
       "    <tr>\n",
       "      <th>1</th>\n",
       "      <td>GHCND:FIE00142080</td>\n",
       "      <td>51</td>\n",
       "      <td>60.3269</td>\n",
       "      <td>24.9603</td>\n",
       "      <td>19520102</td>\n",
       "      <td>NaN</td>\n",
       "      <td>35.0</td>\n",
       "      <td>37.0</td>\n",
       "      <td>34.0</td>\n",
       "    </tr>\n",
       "    <tr>\n",
       "      <th>2</th>\n",
       "      <td>GHCND:FIE00142080</td>\n",
       "      <td>51</td>\n",
       "      <td>60.3269</td>\n",
       "      <td>24.9603</td>\n",
       "      <td>19520103</td>\n",
       "      <td>0.14</td>\n",
       "      <td>33.0</td>\n",
       "      <td>36.0</td>\n",
       "      <td>NaN</td>\n",
       "    </tr>\n",
       "    <tr>\n",
       "      <th>3</th>\n",
       "      <td>GHCND:FIE00142080</td>\n",
       "      <td>51</td>\n",
       "      <td>60.3269</td>\n",
       "      <td>24.9603</td>\n",
       "      <td>19520104</td>\n",
       "      <td>0.05</td>\n",
       "      <td>29.0</td>\n",
       "      <td>30.0</td>\n",
       "      <td>25.0</td>\n",
       "    </tr>\n",
       "    <tr>\n",
       "      <th>4</th>\n",
       "      <td>GHCND:FIE00142080</td>\n",
       "      <td>51</td>\n",
       "      <td>60.3269</td>\n",
       "      <td>24.9603</td>\n",
       "      <td>19520105</td>\n",
       "      <td>0.06</td>\n",
       "      <td>27.0</td>\n",
       "      <td>30.0</td>\n",
       "      <td>25.0</td>\n",
       "    </tr>\n",
       "  </tbody>\n",
       "</table>\n",
       "</div>"
      ],
      "text/plain": [
       "             STATION  ELEVATION  LATITUDE  LONGITUDE      DATE  PRCP  TAVG  \\\n",
       "0  GHCND:FIE00142080         51   60.3269    24.9603  19520101  0.31  37.0   \n",
       "1  GHCND:FIE00142080         51   60.3269    24.9603  19520102   NaN  35.0   \n",
       "2  GHCND:FIE00142080         51   60.3269    24.9603  19520103  0.14  33.0   \n",
       "3  GHCND:FIE00142080         51   60.3269    24.9603  19520104  0.05  29.0   \n",
       "4  GHCND:FIE00142080         51   60.3269    24.9603  19520105  0.06  27.0   \n",
       "\n",
       "   TMAX  TMIN  \n",
       "0  39.0  34.0  \n",
       "1  37.0  34.0  \n",
       "2  36.0   NaN  \n",
       "3  30.0  25.0  \n",
       "4  30.0  25.0  "
      ]
     },
     "execution_count": 4,
     "metadata": {},
     "output_type": "execute_result"
    }
   ],
   "source": [
    "# чтение данных\n",
    "fd = os.path.join(ROOT_PATH, r\"data\\1091402.txt\")\n",
    "# считывает данные, используя различное количество пробелов в качестве разделителя\n",
    "# отбросим первую строку содержащую \"----\", заменим -9999 на NaN\n",
    "\n",
    "df = pd.read_csv(fd, delim_whitespace=True, skiprows=[1], na_values=[-9999]) \n",
    "df.head()"
   ]
  },
  {
   "cell_type": "markdown",
   "metadata": {},
   "source": [
    "##### Входные данные:\n",
    "Для задач 1-3 в этом упражнении мы будем использовать исторические климатические данные \n",
    "со станции аэропорта Хельсинки-Вантаа. Для решения этих проблем у нас есть ежедневные наблюдения, \n",
    "полученные из глобальной исторической климатологической сети NOAA. \n",
    "Файл был загружен с использованием выходного формата \"Custom GHCN-Daily Text\", включая следующие атрибуты:\n",
    "\n"
   ]
  },
  {
   "cell_type": "markdown",
   "metadata": {},
   "source": [
    "|Атрибут|Описание|\n",
    "|-------|:-------|\n",
    "|STATION|Уникальный идентификатор метеостанции|\n",
    "| ELEVATION|Возвышение станции|\n",
    "|LATITUDE , LONGITUDE|Координаты станции|\n",
    "|DATE|Дата измерения|\n",
    "|PRCP|Осадки|\n",
    "|TAVG|Средняя температура|\n",
    "|TMAX|Максимальная температура|\n",
    "|TMIN|Минимальная температура|"
   ]
  },
  {
   "cell_type": "markdown",
   "metadata": {},
   "source": [
    "##### Примечание: температуры в этом наборе данных задаются в градусах Фаренгейта."
   ]
  },
  {
   "cell_type": "code",
   "execution_count": 5,
   "metadata": {},
   "outputs": [
    {
     "name": "stdout",
     "output_type": "stream",
     "text": [
      "<class 'pandas.core.frame.DataFrame'>\n",
      "RangeIndex: 23716 entries, 0 to 23715\n",
      "Data columns (total 9 columns):\n",
      " #   Column     Non-Null Count  Dtype  \n",
      "---  ------     --------------  -----  \n",
      " 0   STATION    23716 non-null  object \n",
      " 1   ELEVATION  23716 non-null  int64  \n",
      " 2   LATITUDE   23716 non-null  float64\n",
      " 3   LONGITUDE  23716 non-null  float64\n",
      " 4   DATE       23716 non-null  int64  \n",
      " 5   PRCP       22163 non-null  float64\n",
      " 6   TAVG       20408 non-null  float64\n",
      " 7   TMAX       23456 non-null  float64\n",
      " 8   TMIN       23351 non-null  float64\n",
      "dtypes: float64(6), int64(2), object(1)\n",
      "memory usage: 1.6+ MB\n"
     ]
    }
   ],
   "source": [
    "df.info()"
   ]
  },
  {
   "cell_type": "markdown",
   "metadata": {},
   "source": [
    "##### Значений NaN ЕСТЬ в последни 4х колонках"
   ]
  },
  {
   "cell_type": "code",
   "execution_count": 6,
   "metadata": {},
   "outputs": [
    {
     "data": {
      "text/plain": [
       "<AxesSubplot:ylabel='Frequency'>"
      ]
     },
     "execution_count": 6,
     "metadata": {},
     "output_type": "execute_result"
    },
    {
     "data": {
      "image/png": "[encoded data removed]",
      "text/plain": [
       "<Figure size 1008x360 with 4 Axes>"
      ]
     },
     "metadata": {
      "needs_background": "light"
     },
     "output_type": "display_data"
    }
   ],
   "source": [
    "# 1. объект figure\n",
    "fig = plt.figure(figsize=(14,5))\n",
    "# 2. несколько графиков. 221 - 1 график в матрице 2 х 2 (4 графика)\n",
    "ax1 = fig.add_subplot(221)\n",
    "df['PRCP'].plot.hist(bins=10)\n",
    "ax2 = fig.add_subplot(222)\n",
    "df['TAVG'].plot.hist(bins=10)\n",
    "ax3 = fig.add_subplot(223)\n",
    "df['TMAX'].plot.hist(bins=10)\n",
    "ax4 = fig.add_subplot(224)\n",
    "df['TMIN'].plot.hist(bins=10)"
   ]
  },
  {
   "cell_type": "markdown",
   "metadata": {},
   "source": [
    "##### выбросов нет - -9999 замена на NaN"
   ]
  },
  {
   "cell_type": "code",
   "execution_count": 7,
   "metadata": {},
   "outputs": [
    {
     "name": "stdout",
     "output_type": "stream",
     "text": [
      "<class 'pandas.core.frame.DataFrame'>\n",
      "RangeIndex: 23716 entries, 0 to 23715\n",
      "Data columns (total 9 columns):\n",
      " #   Column     Non-Null Count  Dtype  \n",
      "---  ------     --------------  -----  \n",
      " 0   STATION    23716 non-null  object \n",
      " 1   ELEVATION  23716 non-null  int64  \n",
      " 2   LATITUDE   23716 non-null  float64\n",
      " 3   LONGITUDE  23716 non-null  float64\n",
      " 4   DATE       23716 non-null  int64  \n",
      " 5   PRCP       22163 non-null  float64\n",
      " 6   TAVG       20408 non-null  float64\n",
      " 7   TMAX       23456 non-null  float64\n",
      " 8   TMIN       23351 non-null  float64\n",
      "dtypes: float64(6), int64(2), object(1)\n",
      "memory usage: 1.6+ MB\n"
     ]
    }
   ],
   "source": [
    "# просмотр общей информации о данных\n",
    "df.info()"
   ]
  },
  {
   "cell_type": "code",
   "execution_count": 8,
   "metadata": {},
   "outputs": [
    {
     "name": "stdout",
     "output_type": "stream",
     "text": [
      "Всего записей в Data Frame: 23716\n"
     ]
    }
   ],
   "source": [
    "# всего записей (строк)\n",
    "# Вычислите общее количество дней, охватываемых этим файлом данных\n",
    "# Присвойте свой ответ переменной day_count\n",
    "day_count = len(df['PRCP'])\n",
    "print(\"Всего записей в Data Frame:\", day_count)"
   ]
  },
  {
   "cell_type": "code",
   "execution_count": 9,
   "metadata": {},
   "outputs": [
    {
     "name": "stdout",
     "output_type": "stream",
     "text": [
      "Количество значений Non-Null в колонке 'Осадки': 22163\n"
     ]
    }
   ],
   "source": [
    "# всего Non-null записей (элементов)\n",
    "# Подсчитать, сколько без данных (NaN) значения находятся в столбце PRCP\n",
    "# Назначить ваш ответ в переменную с названием prcp_nodata_count.\n",
    "prcp_nodata_count = df[\"PRCP\"].count()\n",
    "print(\"Количество значений Non-Null в колонке 'Осадки':\",prcp_nodata_count)"
   ]
  },
  {
   "cell_type": "code",
   "execution_count": 10,
   "metadata": {},
   "outputs": [
    {
     "data": {
      "text/plain": [
       "True   NaN\n",
       "True   NaN\n",
       "True   NaN\n",
       "True   NaN\n",
       "True   NaN\n",
       "Name: PRCP, dtype: float64"
      ]
     },
     "execution_count": 10,
     "metadata": {},
     "output_type": "execute_result"
    }
   ],
   "source": [
    "# сколько нvalue_countsданных\n",
    "df1 = df['PRCP'].filter(df['PRCP'] != None)\n",
    "df1.head()"
   ]
  },
  {
   "cell_type": "code",
   "execution_count": 11,
   "metadata": {},
   "outputs": [],
   "source": [
    "df[\"YEAR_MONTH_DAY\"] = pd.to_datetime(df[\"DATE\"], format='%Y%m', exact=False)"
   ]
  },
  {
   "cell_type": "code",
   "execution_count": 12,
   "metadata": {},
   "outputs": [
    {
     "data": {
      "text/html": [
       "<div>\n",
       "<style scoped>\n",
       "    .dataframe tbody tr th:only-of-type {\n",
       "        vertical-align: middle;\n",
       "    }\n",
       "\n",
       "    .dataframe tbody tr th {\n",
       "        vertical-align: top;\n",
       "    }\n",
       "\n",
       "    .dataframe thead th {\n",
       "        text-align: right;\n",
       "    }\n",
       "</style>\n",
       "<table border=\"1\" class=\"dataframe\">\n",
       "  <thead>\n",
       "    <tr style=\"text-align: right;\">\n",
       "      <th></th>\n",
       "      <th>STATION</th>\n",
       "      <th>ELEVATION</th>\n",
       "      <th>LATITUDE</th>\n",
       "      <th>LONGITUDE</th>\n",
       "      <th>DATE</th>\n",
       "      <th>PRCP</th>\n",
       "      <th>TAVG</th>\n",
       "      <th>TMAX</th>\n",
       "      <th>TMIN</th>\n",
       "      <th>YEAR_MONTH_DAY</th>\n",
       "    </tr>\n",
       "  </thead>\n",
       "  <tbody>\n",
       "    <tr>\n",
       "      <th>0</th>\n",
       "      <td>GHCND:FIE00142080</td>\n",
       "      <td>51</td>\n",
       "      <td>60.3269</td>\n",
       "      <td>24.9603</td>\n",
       "      <td>19520101</td>\n",
       "      <td>0.31</td>\n",
       "      <td>37.0</td>\n",
       "      <td>39.0</td>\n",
       "      <td>34.0</td>\n",
       "      <td>1952-01-01</td>\n",
       "    </tr>\n",
       "    <tr>\n",
       "      <th>1</th>\n",
       "      <td>GHCND:FIE00142080</td>\n",
       "      <td>51</td>\n",
       "      <td>60.3269</td>\n",
       "      <td>24.9603</td>\n",
       "      <td>19520102</td>\n",
       "      <td>NaN</td>\n",
       "      <td>35.0</td>\n",
       "      <td>37.0</td>\n",
       "      <td>34.0</td>\n",
       "      <td>1952-01-01</td>\n",
       "    </tr>\n",
       "    <tr>\n",
       "      <th>2</th>\n",
       "      <td>GHCND:FIE00142080</td>\n",
       "      <td>51</td>\n",
       "      <td>60.3269</td>\n",
       "      <td>24.9603</td>\n",
       "      <td>19520103</td>\n",
       "      <td>0.14</td>\n",
       "      <td>33.0</td>\n",
       "      <td>36.0</td>\n",
       "      <td>NaN</td>\n",
       "      <td>1952-01-01</td>\n",
       "    </tr>\n",
       "    <tr>\n",
       "      <th>3</th>\n",
       "      <td>GHCND:FIE00142080</td>\n",
       "      <td>51</td>\n",
       "      <td>60.3269</td>\n",
       "      <td>24.9603</td>\n",
       "      <td>19520104</td>\n",
       "      <td>0.05</td>\n",
       "      <td>29.0</td>\n",
       "      <td>30.0</td>\n",
       "      <td>25.0</td>\n",
       "      <td>1952-01-01</td>\n",
       "    </tr>\n",
       "    <tr>\n",
       "      <th>4</th>\n",
       "      <td>GHCND:FIE00142080</td>\n",
       "      <td>51</td>\n",
       "      <td>60.3269</td>\n",
       "      <td>24.9603</td>\n",
       "      <td>19520105</td>\n",
       "      <td>0.06</td>\n",
       "      <td>27.0</td>\n",
       "      <td>30.0</td>\n",
       "      <td>25.0</td>\n",
       "      <td>1952-01-01</td>\n",
       "    </tr>\n",
       "    <tr>\n",
       "      <th>...</th>\n",
       "      <td>...</td>\n",
       "      <td>...</td>\n",
       "      <td>...</td>\n",
       "      <td>...</td>\n",
       "      <td>...</td>\n",
       "      <td>...</td>\n",
       "      <td>...</td>\n",
       "      <td>...</td>\n",
       "      <td>...</td>\n",
       "      <td>...</td>\n",
       "    </tr>\n",
       "    <tr>\n",
       "      <th>23711</th>\n",
       "      <td>GHCND:FIE00142080</td>\n",
       "      <td>51</td>\n",
       "      <td>60.3269</td>\n",
       "      <td>24.9603</td>\n",
       "      <td>20170930</td>\n",
       "      <td>NaN</td>\n",
       "      <td>47.0</td>\n",
       "      <td>49.0</td>\n",
       "      <td>44.0</td>\n",
       "      <td>2017-09-01</td>\n",
       "    </tr>\n",
       "    <tr>\n",
       "      <th>23712</th>\n",
       "      <td>GHCND:FIE00142080</td>\n",
       "      <td>51</td>\n",
       "      <td>60.3269</td>\n",
       "      <td>24.9603</td>\n",
       "      <td>20171001</td>\n",
       "      <td>0.04</td>\n",
       "      <td>47.0</td>\n",
       "      <td>48.0</td>\n",
       "      <td>45.0</td>\n",
       "      <td>2017-10-01</td>\n",
       "    </tr>\n",
       "    <tr>\n",
       "      <th>23713</th>\n",
       "      <td>GHCND:FIE00142080</td>\n",
       "      <td>51</td>\n",
       "      <td>60.3269</td>\n",
       "      <td>24.9603</td>\n",
       "      <td>20171002</td>\n",
       "      <td>NaN</td>\n",
       "      <td>47.0</td>\n",
       "      <td>49.0</td>\n",
       "      <td>46.0</td>\n",
       "      <td>2017-10-01</td>\n",
       "    </tr>\n",
       "    <tr>\n",
       "      <th>23714</th>\n",
       "      <td>GHCND:FIE00142080</td>\n",
       "      <td>51</td>\n",
       "      <td>60.3269</td>\n",
       "      <td>24.9603</td>\n",
       "      <td>20171003</td>\n",
       "      <td>0.94</td>\n",
       "      <td>47.0</td>\n",
       "      <td>NaN</td>\n",
       "      <td>44.0</td>\n",
       "      <td>2017-10-01</td>\n",
       "    </tr>\n",
       "    <tr>\n",
       "      <th>23715</th>\n",
       "      <td>GHCND:FIE00142080</td>\n",
       "      <td>51</td>\n",
       "      <td>60.3269</td>\n",
       "      <td>24.9603</td>\n",
       "      <td>20171004</td>\n",
       "      <td>0.51</td>\n",
       "      <td>52.0</td>\n",
       "      <td>56.0</td>\n",
       "      <td>NaN</td>\n",
       "      <td>2017-10-01</td>\n",
       "    </tr>\n",
       "  </tbody>\n",
       "</table>\n",
       "<p>23716 rows × 10 columns</p>\n",
       "</div>"
      ],
      "text/plain": [
       "                 STATION  ELEVATION  LATITUDE  LONGITUDE      DATE  PRCP  \\\n",
       "0      GHCND:FIE00142080         51   60.3269    24.9603  19520101  0.31   \n",
       "1      GHCND:FIE00142080         51   60.3269    24.9603  19520102   NaN   \n",
       "2      GHCND:FIE00142080         51   60.3269    24.9603  19520103  0.14   \n",
       "3      GHCND:FIE00142080         51   60.3269    24.9603  19520104  0.05   \n",
       "4      GHCND:FIE00142080         51   60.3269    24.9603  19520105  0.06   \n",
       "...                  ...        ...       ...        ...       ...   ...   \n",
       "23711  GHCND:FIE00142080         51   60.3269    24.9603  20170930   NaN   \n",
       "23712  GHCND:FIE00142080         51   60.3269    24.9603  20171001  0.04   \n",
       "23713  GHCND:FIE00142080         51   60.3269    24.9603  20171002   NaN   \n",
       "23714  GHCND:FIE00142080         51   60.3269    24.9603  20171003  0.94   \n",
       "23715  GHCND:FIE00142080         51   60.3269    24.9603  20171004  0.51   \n",
       "\n",
       "       TAVG  TMAX  TMIN YEAR_MONTH_DAY  \n",
       "0      37.0  39.0  34.0     1952-01-01  \n",
       "1      35.0  37.0  34.0     1952-01-01  \n",
       "2      33.0  36.0   NaN     1952-01-01  \n",
       "3      29.0  30.0  25.0     1952-01-01  \n",
       "4      27.0  30.0  25.0     1952-01-01  \n",
       "...     ...   ...   ...            ...  \n",
       "23711  47.0  49.0  44.0     2017-09-01  \n",
       "23712  47.0  48.0  45.0     2017-10-01  \n",
       "23713  47.0  49.0  46.0     2017-10-01  \n",
       "23714  47.0   NaN  44.0     2017-10-01  \n",
       "23715  52.0  56.0   NaN     2017-10-01  \n",
       "\n",
       "[23716 rows x 10 columns]"
      ]
     },
     "execution_count": 12,
     "metadata": {},
     "output_type": "execute_result"
    }
   ],
   "source": [
    "df"
   ]
  },
  {
   "cell_type": "code",
   "execution_count": 13,
   "metadata": {},
   "outputs": [
    {
     "name": "stdout",
     "output_type": "stream",
     "text": [
      "Первое наблюдение\": 1952-01-01 00:00:00\n"
     ]
    }
   ],
   "source": [
    "# Найдите дату самого старого (первого) наблюдения\n",
    "# Присвойте свой ответ переменной first_obs\n",
    "first_obs = df.YEAR_MONTH_DAY.min()\n",
    "print('Первое наблюдение\":', first_obs)"
   ]
  },
  {
   "cell_type": "code",
   "execution_count": 14,
   "metadata": {},
   "outputs": [
    {
     "name": "stdout",
     "output_type": "stream",
     "text": [
      "Последнее наблюдение\": 2017-10-01 00:00:00\n"
     ]
    }
   ],
   "source": [
    "# Найдите дату самого старого (первого) наблюдения\n",
    "# Присвойте свой ответ переменной first_obs\n",
    "last_obs = df.YEAR_MONTH_DAY.max()\n",
    "print('Последнее наблюдение\":', last_obs)"
   ]
  },
  {
   "cell_type": "code",
   "execution_count": 15,
   "metadata": {},
   "outputs": [
    {
     "name": "stdout",
     "output_type": "stream",
     "text": [
      "Средняя температура (F): 41.32\n"
     ]
    }
   ],
   "source": [
    "# Найдите среднюю температуру для всего файла данных (все наблюдения) из столбца TAVG\n",
    "# Присвойте свой ответ переменной avg_temp\n",
    "avg_temp = df.TAVG.mean()\n",
    "print('Средняя температура (F):', round(avg_temp, 2))"
   ]
  },
  {
   "cell_type": "code",
   "execution_count": 16,
   "metadata": {},
   "outputs": [],
   "source": [
    "# Найдите среднюю температуру TMAX за лето 1969 года (месяцы май, июнь, июль и август 1969 года)\n",
    "# Присвойте свой ответ переменной avg_temp_1969"
   ]
  },
  {
   "cell_type": "code",
   "execution_count": 17,
   "metadata": {},
   "outputs": [
    {
     "name": "stdout",
     "output_type": "stream",
     "text": [
      "Средняя максимальная температура (F) с мая по август 1969г: 67.82\n"
     ]
    }
   ],
   "source": [
    "df_1969 = df[(df[\"DATE\"] >= 19690501) & (df[\"DATE\"] < 19690901)]\n",
    "# df_1969.describe()\n",
    "avg_temp_1969 = df_1969.TMAX.mean()\n",
    "print(\"Средняя максимальная температура (F) с мая по август 1969г:\", round(avg_temp_1969, 2))"
   ]
  },
  {
   "cell_type": "markdown",
   "metadata": {},
   "source": [
    "### Расчет среднемесячных температур\n",
    "Для этой задачи ваша цель состоит в том, чтобы вычислить среднемесячные температуры в градусах Цельсия из ежедневных значений Фаренгейта, которые мы имеем в файле данных. Можно продолжить работу с тем же фреймом данных, который использовался в задаче 1."
   ]
  },
  {
   "cell_type": "markdown",
   "metadata": {},
   "source": [
    "Вычисление среднемесячных температур в градусах Цельсия для каждого месяца в наборе данных (т. е. для каждого месяца каждого года)\n",
    "Вы должны хранить среднемесячные температуры в новом фрейме данных Pandas с именем monthly_data.\n",
    "monthly_data должен содержать новый столбец temp_celsius среднемесячные температуры в градусах Цельсия\n",
    "Преобразуйте значения TAVG в градусах Фаренгейта в градус Цельсия и сохраните выходные данные в temp_celsius"
   ]
  },
  {
   "cell_type": "code",
   "execution_count": 18,
   "metadata": {},
   "outputs": [],
   "source": [
    "# 1 - функция преобразования F в С\n",
    "def fahr_to_celsius(temp_fahrenheit):\n",
    "    \"\"\"\n",
    "    Функция для преобразования температуры по Фаренгейту В градус Цельсия.\n",
    "    parameters\n",
    "    ----------\n",
    "    temp_fahrenheit: int | float -\n",
    "    ввод температуры в градусах Фаренгейта (должно быть число)\n",
    "\n",
    "    returns\n",
    "    -------\n",
    "    температура в градусах Цельсия (поплавок)\n",
    "    \"\"\"\n",
    "\n",
    "    # преобразовать Фаренгейта в Цельсия и вернуть его\n",
    "    converted_temp = (temp_fahrenheit - 32) / 1.8\n",
    "    return converted_temp"
   ]
  },
  {
   "cell_type": "code",
   "execution_count": 19,
   "metadata": {},
   "outputs": [
    {
     "name": "stdout",
     "output_type": "stream",
     "text": [
      "Тип данных в колонке 'DATE': int64\n"
     ]
    },
    {
     "data": {
      "text/html": [
       "<div>\n",
       "<style scoped>\n",
       "    .dataframe tbody tr th:only-of-type {\n",
       "        vertical-align: middle;\n",
       "    }\n",
       "\n",
       "    .dataframe tbody tr th {\n",
       "        vertical-align: top;\n",
       "    }\n",
       "\n",
       "    .dataframe thead th {\n",
       "        text-align: right;\n",
       "    }\n",
       "</style>\n",
       "<table border=\"1\" class=\"dataframe\">\n",
       "  <thead>\n",
       "    <tr style=\"text-align: right;\">\n",
       "      <th></th>\n",
       "      <th>STATION</th>\n",
       "      <th>ELEVATION</th>\n",
       "      <th>LATITUDE</th>\n",
       "      <th>LONGITUDE</th>\n",
       "      <th>DATE</th>\n",
       "      <th>PRCP</th>\n",
       "      <th>TAVG</th>\n",
       "      <th>TMAX</th>\n",
       "      <th>TMIN</th>\n",
       "      <th>YEAR_MONTH_DAY</th>\n",
       "      <th>TIME_STR</th>\n",
       "      <th>YEAR</th>\n",
       "      <th>MONTH</th>\n",
       "    </tr>\n",
       "  </thead>\n",
       "  <tbody>\n",
       "    <tr>\n",
       "      <th>0</th>\n",
       "      <td>GHCND:FIE00142080</td>\n",
       "      <td>51</td>\n",
       "      <td>60.3269</td>\n",
       "      <td>24.9603</td>\n",
       "      <td>19520101</td>\n",
       "      <td>0.31</td>\n",
       "      <td>37.0</td>\n",
       "      <td>39.0</td>\n",
       "      <td>34.0</td>\n",
       "      <td>1952-01-01</td>\n",
       "      <td>1952-01-01</td>\n",
       "      <td>1952</td>\n",
       "      <td>1</td>\n",
       "    </tr>\n",
       "    <tr>\n",
       "      <th>1</th>\n",
       "      <td>GHCND:FIE00142080</td>\n",
       "      <td>51</td>\n",
       "      <td>60.3269</td>\n",
       "      <td>24.9603</td>\n",
       "      <td>19520102</td>\n",
       "      <td>NaN</td>\n",
       "      <td>35.0</td>\n",
       "      <td>37.0</td>\n",
       "      <td>34.0</td>\n",
       "      <td>1952-01-01</td>\n",
       "      <td>1952-01-02</td>\n",
       "      <td>1952</td>\n",
       "      <td>1</td>\n",
       "    </tr>\n",
       "    <tr>\n",
       "      <th>2</th>\n",
       "      <td>GHCND:FIE00142080</td>\n",
       "      <td>51</td>\n",
       "      <td>60.3269</td>\n",
       "      <td>24.9603</td>\n",
       "      <td>19520103</td>\n",
       "      <td>0.14</td>\n",
       "      <td>33.0</td>\n",
       "      <td>36.0</td>\n",
       "      <td>NaN</td>\n",
       "      <td>1952-01-01</td>\n",
       "      <td>1952-01-03</td>\n",
       "      <td>1952</td>\n",
       "      <td>1</td>\n",
       "    </tr>\n",
       "    <tr>\n",
       "      <th>3</th>\n",
       "      <td>GHCND:FIE00142080</td>\n",
       "      <td>51</td>\n",
       "      <td>60.3269</td>\n",
       "      <td>24.9603</td>\n",
       "      <td>19520104</td>\n",
       "      <td>0.05</td>\n",
       "      <td>29.0</td>\n",
       "      <td>30.0</td>\n",
       "      <td>25.0</td>\n",
       "      <td>1952-01-01</td>\n",
       "      <td>1952-01-04</td>\n",
       "      <td>1952</td>\n",
       "      <td>1</td>\n",
       "    </tr>\n",
       "    <tr>\n",
       "      <th>4</th>\n",
       "      <td>GHCND:FIE00142080</td>\n",
       "      <td>51</td>\n",
       "      <td>60.3269</td>\n",
       "      <td>24.9603</td>\n",
       "      <td>19520105</td>\n",
       "      <td>0.06</td>\n",
       "      <td>27.0</td>\n",
       "      <td>30.0</td>\n",
       "      <td>25.0</td>\n",
       "      <td>1952-01-01</td>\n",
       "      <td>1952-01-05</td>\n",
       "      <td>1952</td>\n",
       "      <td>1</td>\n",
       "    </tr>\n",
       "  </tbody>\n",
       "</table>\n",
       "</div>"
      ],
      "text/plain": [
       "             STATION  ELEVATION  LATITUDE  LONGITUDE      DATE  PRCP  TAVG  \\\n",
       "0  GHCND:FIE00142080         51   60.3269    24.9603  19520101  0.31  37.0   \n",
       "1  GHCND:FIE00142080         51   60.3269    24.9603  19520102   NaN  35.0   \n",
       "2  GHCND:FIE00142080         51   60.3269    24.9603  19520103  0.14  33.0   \n",
       "3  GHCND:FIE00142080         51   60.3269    24.9603  19520104  0.05  29.0   \n",
       "4  GHCND:FIE00142080         51   60.3269    24.9603  19520105  0.06  27.0   \n",
       "\n",
       "   TMAX  TMIN YEAR_MONTH_DAY   TIME_STR  YEAR  MONTH  \n",
       "0  39.0  34.0     1952-01-01 1952-01-01  1952      1  \n",
       "1  37.0  34.0     1952-01-01 1952-01-02  1952      1  \n",
       "2  36.0   NaN     1952-01-01 1952-01-03  1952      1  \n",
       "3  30.0  25.0     1952-01-01 1952-01-04  1952      1  \n",
       "4  30.0  25.0     1952-01-01 1952-01-05  1952      1  "
      ]
     },
     "execution_count": 19,
     "metadata": {},
     "output_type": "execute_result"
    }
   ],
   "source": [
    "# 2 - выделяем из даты год и месяц\n",
    "print(\"Тип данных в колонке 'DATE':\", df[\"DATE\"].dtypes)\n",
    "# преобразуем значения int в str\n",
    "df['TIME_STR'] = pd.to_datetime(df['DATE'].astype(str))\n",
    "df['YEAR'] = df['TIME_STR'].dt.year\n",
    "df['MONTH'] = df['TIME_STR'].dt.month\n",
    "df.head()"
   ]
  },
  {
   "cell_type": "code",
   "execution_count": 20,
   "metadata": {},
   "outputs": [
    {
     "name": "stdout",
     "output_type": "stream",
     "text": [
      "<class 'pandas.core.frame.DataFrame'>\n",
      "RangeIndex: 23716 entries, 0 to 23715\n",
      "Data columns (total 13 columns):\n",
      " #   Column          Non-Null Count  Dtype         \n",
      "---  ------          --------------  -----         \n",
      " 0   STATION         23716 non-null  object        \n",
      " 1   ELEVATION       23716 non-null  int64         \n",
      " 2   LATITUDE        23716 non-null  float64       \n",
      " 3   LONGITUDE       23716 non-null  float64       \n",
      " 4   DATE            23716 non-null  int64         \n",
      " 5   PRCP            22163 non-null  float64       \n",
      " 6   TAVG            20408 non-null  float64       \n",
      " 7   TMAX            23456 non-null  float64       \n",
      " 8   TMIN            23351 non-null  float64       \n",
      " 9   YEAR_MONTH_DAY  23716 non-null  datetime64[ns]\n",
      " 10  TIME_STR        23716 non-null  datetime64[ns]\n",
      " 11  YEAR            23716 non-null  int64         \n",
      " 12  MONTH           23716 non-null  int64         \n",
      "dtypes: datetime64[ns](2), float64(6), int64(4), object(1)\n",
      "memory usage: 2.4+ MB\n"
     ]
    }
   ],
   "source": [
    "df.info()"
   ]
  },
  {
   "cell_type": "code",
   "execution_count": 21,
   "metadata": {},
   "outputs": [
    {
     "data": {
      "text/html": [
       "<div>\n",
       "<style scoped>\n",
       "    .dataframe tbody tr th:only-of-type {\n",
       "        vertical-align: middle;\n",
       "    }\n",
       "\n",
       "    .dataframe tbody tr th {\n",
       "        vertical-align: top;\n",
       "    }\n",
       "\n",
       "    .dataframe thead th {\n",
       "        text-align: right;\n",
       "    }\n",
       "</style>\n",
       "<table border=\"1\" class=\"dataframe\">\n",
       "  <thead>\n",
       "    <tr style=\"text-align: right;\">\n",
       "      <th></th>\n",
       "      <th>STATION</th>\n",
       "      <th>ELEVATION</th>\n",
       "      <th>LATITUDE</th>\n",
       "      <th>LONGITUDE</th>\n",
       "      <th>DATE</th>\n",
       "      <th>PRCP</th>\n",
       "      <th>TAVG</th>\n",
       "      <th>TMAX</th>\n",
       "      <th>TMIN</th>\n",
       "      <th>YEAR_MONTH_DAY</th>\n",
       "      <th>TIME_STR</th>\n",
       "      <th>YEAR</th>\n",
       "      <th>MONTH</th>\n",
       "      <th>TEMP_C</th>\n",
       "    </tr>\n",
       "  </thead>\n",
       "  <tbody>\n",
       "    <tr>\n",
       "      <th>0</th>\n",
       "      <td>GHCND:FIE00142080</td>\n",
       "      <td>51</td>\n",
       "      <td>60.3269</td>\n",
       "      <td>24.9603</td>\n",
       "      <td>19520101</td>\n",
       "      <td>0.31</td>\n",
       "      <td>37.0</td>\n",
       "      <td>39.0</td>\n",
       "      <td>34.0</td>\n",
       "      <td>1952-01-01</td>\n",
       "      <td>1952-01-01</td>\n",
       "      <td>1952</td>\n",
       "      <td>1</td>\n",
       "      <td>2.777778</td>\n",
       "    </tr>\n",
       "    <tr>\n",
       "      <th>1</th>\n",
       "      <td>GHCND:FIE00142080</td>\n",
       "      <td>51</td>\n",
       "      <td>60.3269</td>\n",
       "      <td>24.9603</td>\n",
       "      <td>19520102</td>\n",
       "      <td>NaN</td>\n",
       "      <td>35.0</td>\n",
       "      <td>37.0</td>\n",
       "      <td>34.0</td>\n",
       "      <td>1952-01-01</td>\n",
       "      <td>1952-01-02</td>\n",
       "      <td>1952</td>\n",
       "      <td>1</td>\n",
       "      <td>1.666667</td>\n",
       "    </tr>\n",
       "    <tr>\n",
       "      <th>2</th>\n",
       "      <td>GHCND:FIE00142080</td>\n",
       "      <td>51</td>\n",
       "      <td>60.3269</td>\n",
       "      <td>24.9603</td>\n",
       "      <td>19520103</td>\n",
       "      <td>0.14</td>\n",
       "      <td>33.0</td>\n",
       "      <td>36.0</td>\n",
       "      <td>NaN</td>\n",
       "      <td>1952-01-01</td>\n",
       "      <td>1952-01-03</td>\n",
       "      <td>1952</td>\n",
       "      <td>1</td>\n",
       "      <td>0.555556</td>\n",
       "    </tr>\n",
       "    <tr>\n",
       "      <th>3</th>\n",
       "      <td>GHCND:FIE00142080</td>\n",
       "      <td>51</td>\n",
       "      <td>60.3269</td>\n",
       "      <td>24.9603</td>\n",
       "      <td>19520104</td>\n",
       "      <td>0.05</td>\n",
       "      <td>29.0</td>\n",
       "      <td>30.0</td>\n",
       "      <td>25.0</td>\n",
       "      <td>1952-01-01</td>\n",
       "      <td>1952-01-04</td>\n",
       "      <td>1952</td>\n",
       "      <td>1</td>\n",
       "      <td>-1.666667</td>\n",
       "    </tr>\n",
       "    <tr>\n",
       "      <th>4</th>\n",
       "      <td>GHCND:FIE00142080</td>\n",
       "      <td>51</td>\n",
       "      <td>60.3269</td>\n",
       "      <td>24.9603</td>\n",
       "      <td>19520105</td>\n",
       "      <td>0.06</td>\n",
       "      <td>27.0</td>\n",
       "      <td>30.0</td>\n",
       "      <td>25.0</td>\n",
       "      <td>1952-01-01</td>\n",
       "      <td>1952-01-05</td>\n",
       "      <td>1952</td>\n",
       "      <td>1</td>\n",
       "      <td>-2.777778</td>\n",
       "    </tr>\n",
       "    <tr>\n",
       "      <th>...</th>\n",
       "      <td>...</td>\n",
       "      <td>...</td>\n",
       "      <td>...</td>\n",
       "      <td>...</td>\n",
       "      <td>...</td>\n",
       "      <td>...</td>\n",
       "      <td>...</td>\n",
       "      <td>...</td>\n",
       "      <td>...</td>\n",
       "      <td>...</td>\n",
       "      <td>...</td>\n",
       "      <td>...</td>\n",
       "      <td>...</td>\n",
       "      <td>...</td>\n",
       "    </tr>\n",
       "    <tr>\n",
       "      <th>23711</th>\n",
       "      <td>GHCND:FIE00142080</td>\n",
       "      <td>51</td>\n",
       "      <td>60.3269</td>\n",
       "      <td>24.9603</td>\n",
       "      <td>20170930</td>\n",
       "      <td>NaN</td>\n",
       "      <td>47.0</td>\n",
       "      <td>49.0</td>\n",
       "      <td>44.0</td>\n",
       "      <td>2017-09-01</td>\n",
       "      <td>2017-09-30</td>\n",
       "      <td>2017</td>\n",
       "      <td>9</td>\n",
       "      <td>8.333333</td>\n",
       "    </tr>\n",
       "    <tr>\n",
       "      <th>23712</th>\n",
       "      <td>GHCND:FIE00142080</td>\n",
       "      <td>51</td>\n",
       "      <td>60.3269</td>\n",
       "      <td>24.9603</td>\n",
       "      <td>20171001</td>\n",
       "      <td>0.04</td>\n",
       "      <td>47.0</td>\n",
       "      <td>48.0</td>\n",
       "      <td>45.0</td>\n",
       "      <td>2017-10-01</td>\n",
       "      <td>2017-10-01</td>\n",
       "      <td>2017</td>\n",
       "      <td>10</td>\n",
       "      <td>8.333333</td>\n",
       "    </tr>\n",
       "    <tr>\n",
       "      <th>23713</th>\n",
       "      <td>GHCND:FIE00142080</td>\n",
       "      <td>51</td>\n",
       "      <td>60.3269</td>\n",
       "      <td>24.9603</td>\n",
       "      <td>20171002</td>\n",
       "      <td>NaN</td>\n",
       "      <td>47.0</td>\n",
       "      <td>49.0</td>\n",
       "      <td>46.0</td>\n",
       "      <td>2017-10-01</td>\n",
       "      <td>2017-10-02</td>\n",
       "      <td>2017</td>\n",
       "      <td>10</td>\n",
       "      <td>8.333333</td>\n",
       "    </tr>\n",
       "    <tr>\n",
       "      <th>23714</th>\n",
       "      <td>GHCND:FIE00142080</td>\n",
       "      <td>51</td>\n",
       "      <td>60.3269</td>\n",
       "      <td>24.9603</td>\n",
       "      <td>20171003</td>\n",
       "      <td>0.94</td>\n",
       "      <td>47.0</td>\n",
       "      <td>NaN</td>\n",
       "      <td>44.0</td>\n",
       "      <td>2017-10-01</td>\n",
       "      <td>2017-10-03</td>\n",
       "      <td>2017</td>\n",
       "      <td>10</td>\n",
       "      <td>8.333333</td>\n",
       "    </tr>\n",
       "    <tr>\n",
       "      <th>23715</th>\n",
       "      <td>GHCND:FIE00142080</td>\n",
       "      <td>51</td>\n",
       "      <td>60.3269</td>\n",
       "      <td>24.9603</td>\n",
       "      <td>20171004</td>\n",
       "      <td>0.51</td>\n",
       "      <td>52.0</td>\n",
       "      <td>56.0</td>\n",
       "      <td>NaN</td>\n",
       "      <td>2017-10-01</td>\n",
       "      <td>2017-10-04</td>\n",
       "      <td>2017</td>\n",
       "      <td>10</td>\n",
       "      <td>11.111111</td>\n",
       "    </tr>\n",
       "  </tbody>\n",
       "</table>\n",
       "<p>23716 rows × 14 columns</p>\n",
       "</div>"
      ],
      "text/plain": [
       "                 STATION  ELEVATION  LATITUDE  LONGITUDE      DATE  PRCP  \\\n",
       "0      GHCND:FIE00142080         51   60.3269    24.9603  19520101  0.31   \n",
       "1      GHCND:FIE00142080         51   60.3269    24.9603  19520102   NaN   \n",
       "2      GHCND:FIE00142080         51   60.3269    24.9603  19520103  0.14   \n",
       "3      GHCND:FIE00142080         51   60.3269    24.9603  19520104  0.05   \n",
       "4      GHCND:FIE00142080         51   60.3269    24.9603  19520105  0.06   \n",
       "...                  ...        ...       ...        ...       ...   ...   \n",
       "23711  GHCND:FIE00142080         51   60.3269    24.9603  20170930   NaN   \n",
       "23712  GHCND:FIE00142080         51   60.3269    24.9603  20171001  0.04   \n",
       "23713  GHCND:FIE00142080         51   60.3269    24.9603  20171002   NaN   \n",
       "23714  GHCND:FIE00142080         51   60.3269    24.9603  20171003  0.94   \n",
       "23715  GHCND:FIE00142080         51   60.3269    24.9603  20171004  0.51   \n",
       "\n",
       "       TAVG  TMAX  TMIN YEAR_MONTH_DAY   TIME_STR  YEAR  MONTH     TEMP_C  \n",
       "0      37.0  39.0  34.0     1952-01-01 1952-01-01  1952      1   2.777778  \n",
       "1      35.0  37.0  34.0     1952-01-01 1952-01-02  1952      1   1.666667  \n",
       "2      33.0  36.0   NaN     1952-01-01 1952-01-03  1952      1   0.555556  \n",
       "3      29.0  30.0  25.0     1952-01-01 1952-01-04  1952      1  -1.666667  \n",
       "4      27.0  30.0  25.0     1952-01-01 1952-01-05  1952      1  -2.777778  \n",
       "...     ...   ...   ...            ...        ...   ...    ...        ...  \n",
       "23711  47.0  49.0  44.0     2017-09-01 2017-09-30  2017      9   8.333333  \n",
       "23712  47.0  48.0  45.0     2017-10-01 2017-10-01  2017     10   8.333333  \n",
       "23713  47.0  49.0  46.0     2017-10-01 2017-10-02  2017     10   8.333333  \n",
       "23714  47.0   NaN  44.0     2017-10-01 2017-10-03  2017     10   8.333333  \n",
       "23715  52.0  56.0   NaN     2017-10-01 2017-10-04  2017     10  11.111111  \n",
       "\n",
       "[23716 rows x 14 columns]"
      ]
     },
     "execution_count": 21,
     "metadata": {},
     "output_type": "execute_result"
    }
   ],
   "source": [
    "# Преобразование средней температуры из F в C\n",
    "df['TEMP_C'] = df['TAVG'].apply(fahr_to_celsius)\n",
    "df"
   ]
  },
  {
   "cell_type": "code",
   "execution_count": 22,
   "metadata": {},
   "outputs": [],
   "source": [
    "# # Преобразовать \"DATE\" в строку\n",
    "# df[\"YEAR_MONTH\"] = pd.to_datetime(df[\"DATE\"], format='%Y%m', exact=False)\n",
    "# df.head"
   ]
  },
  {
   "cell_type": "code",
   "execution_count": 23,
   "metadata": {},
   "outputs": [
    {
     "name": "stdout",
     "output_type": "stream",
     "text": [
      "<class 'pandas.core.frame.DataFrame'>\n",
      "RangeIndex: 23716 entries, 0 to 23715\n",
      "Data columns (total 14 columns):\n",
      " #   Column          Non-Null Count  Dtype         \n",
      "---  ------          --------------  -----         \n",
      " 0   STATION         23716 non-null  object        \n",
      " 1   ELEVATION       23716 non-null  int64         \n",
      " 2   LATITUDE        23716 non-null  float64       \n",
      " 3   LONGITUDE       23716 non-null  float64       \n",
      " 4   DATE            23716 non-null  int64         \n",
      " 5   PRCP            22163 non-null  float64       \n",
      " 6   TAVG            20408 non-null  float64       \n",
      " 7   TMAX            23456 non-null  float64       \n",
      " 8   TMIN            23351 non-null  float64       \n",
      " 9   YEAR_MONTH_DAY  23716 non-null  datetime64[ns]\n",
      " 10  TIME_STR        23716 non-null  datetime64[ns]\n",
      " 11  YEAR            23716 non-null  int64         \n",
      " 12  MONTH           23716 non-null  int64         \n",
      " 13  TEMP_C          20408 non-null  float64       \n",
      "dtypes: datetime64[ns](2), float64(7), int64(4), object(1)\n",
      "memory usage: 2.5+ MB\n"
     ]
    }
   ],
   "source": [
    "df.info()"
   ]
  },
  {
   "cell_type": "code",
   "execution_count": 44,
   "metadata": {},
   "outputs": [
    {
     "name": "stdout",
     "output_type": "stream",
     "text": [
      "Type:\n",
      " pandas.core.groupby.generic.DataFrameGroupBy\n",
      "длина:\n",
      " 790\n"
     ]
    }
   ],
   "source": [
    "# группировка по году и месяцу\n",
    "grouped = df.groupby([\"YEAR\", \"MONTH\"])\n",
    "\n",
    "# Что это за тип?\n",
    "print(\"Type:\\n\", type(grouped))\n",
    "\n",
    "# сколько?\n",
    "print(\"длина:\\n\", len(grouped))"
   ]
  },
  {
   "cell_type": "code",
   "execution_count": 47,
   "metadata": {},
   "outputs": [
    {
     "data": {
      "text/plain": [
       "790"
      ]
     },
     "execution_count": 47,
     "metadata": {},
     "output_type": "execute_result"
    }
   ],
   "source": [
    "# длина сгруппированного объекта должна совпадать с\n",
    "df[\"YEAR_MONTH_DAY\"].nunique()"
   ]
  },
  {
   "cell_type": "code",
   "execution_count": 46,
   "metadata": {},
   "outputs": [
    {
     "name": "stdout",
     "output_type": "stream",
     "text": [
      "Key:\n",
      " (1952, 1)\n",
      "\n",
      " Первая строка данных в этой группе:\n",
      "              STATION  ELEVATION  LATITUDE  LONGITUDE      DATE  PRCP  TAVG  \\\n",
      "0  GHCND:FIE00142080         51   60.3269    24.9603  19520101  0.31  37.0   \n",
      "1  GHCND:FIE00142080         51   60.3269    24.9603  19520102   NaN  35.0   \n",
      "2  GHCND:FIE00142080         51   60.3269    24.9603  19520103  0.14  33.0   \n",
      "3  GHCND:FIE00142080         51   60.3269    24.9603  19520104  0.05  29.0   \n",
      "4  GHCND:FIE00142080         51   60.3269    24.9603  19520105  0.06  27.0   \n",
      "\n",
      "   TMAX  TMIN YEAR_MONTH_DAY   TIME_STR  YEAR  MONTH    TEMP_C  \n",
      "0  39.0  34.0     1952-01-01 1952-01-01  1952      1  2.777778  \n",
      "1  37.0  34.0     1952-01-01 1952-01-02  1952      1  1.666667  \n",
      "2  36.0   NaN     1952-01-01 1952-01-03  1952      1  0.555556  \n",
      "3  30.0  25.0     1952-01-01 1952-01-04  1952      1 -1.666667  \n",
      "4  30.0  25.0     1952-01-01 1952-01-05  1952      1 -2.777778  \n",
      "23\n",
      "<class 'pandas.core.frame.DataFrame'>\n"
     ]
    }
   ],
   "source": [
    "# Перебираем группы\n",
    "for key, group in grouped:\n",
    "    # Print key и group\n",
    "    print(\"Key:\\n\", key) # год и месяц Н-р: (1906, 1)\n",
    "    print(\"\\n Первая строка данных в этой группе:\\n\", group.head())\n",
    "    print(len(group))\n",
    "    print(type(group))\n",
    "    # остановить итерацию с помощью команды break\n",
    "    break"
   ]
  },
  {
   "cell_type": "code",
   "execution_count": 27,
   "metadata": {},
   "outputs": [
    {
     "data": {
      "text/plain": [
       "dict_keys([(1952, 1), (1952, 2), (1952, 3), (1952, 4), (1952, 5), (1952, 6), (1952, 7), (1952, 8), (1952, 9), (1952, 10), (1952, 11), (1952, 12), (1953, 1), (1953, 2), (1953, 3), (1953, 4), (1953, 5), (1953, 6), (1953, 7), (1953, 8), (1953, 9), (1953, 10), (1953, 11), (1953, 12), (1954, 1), (1954, 2), (1954, 3), (1954, 4), (1954, 5), (1954, 6), (1954, 7), (1954, 8), (1954, 9), (1954, 10), (1954, 11), (1954, 12), (1955, 1), (1955, 2), (1955, 3), (1955, 4), (1955, 5), (1955, 6), (1955, 7), (1955, 8), (1955, 9), (1955, 10), (1955, 11), (1955, 12), (1956, 1), (1956, 2), (1956, 3), (1956, 4), (1956, 5), (1956, 6), (1956, 7), (1956, 8), (1956, 9), (1956, 10), (1956, 11), (1956, 12), (1957, 1), (1957, 2), (1957, 3), (1957, 4), (1957, 5), (1957, 6), (1957, 7), (1957, 8), (1957, 9), (1957, 10), (1957, 11), (1957, 12), (1958, 1), (1958, 2), (1958, 3), (1958, 4), (1958, 5), (1958, 6), (1958, 7), (1958, 8), (1958, 9), (1958, 10), (1958, 11), (1958, 12), (1959, 1), (1959, 2), (1959, 3), (1959, 4), (1959, 5), (1959, 6), (1959, 7), (1959, 8), (1959, 9), (1959, 10), (1959, 11), (1959, 12), (1960, 1), (1960, 2), (1960, 3), (1960, 4), (1960, 5), (1960, 6), (1960, 7), (1960, 8), (1960, 9), (1960, 10), (1960, 11), (1960, 12), (1961, 1), (1961, 2), (1961, 3), (1961, 4), (1961, 5), (1961, 6), (1961, 7), (1961, 8), (1961, 9), (1961, 10), (1961, 11), (1961, 12), (1962, 1), (1962, 2), (1962, 3), (1962, 4), (1962, 5), (1962, 6), (1962, 7), (1962, 8), (1962, 9), (1962, 10), (1962, 11), (1962, 12), (1963, 1), (1963, 2), (1963, 3), (1963, 4), (1963, 5), (1963, 6), (1963, 7), (1963, 8), (1963, 9), (1963, 10), (1963, 11), (1963, 12), (1964, 1), (1964, 2), (1964, 3), (1964, 4), (1964, 5), (1964, 6), (1964, 7), (1964, 8), (1964, 9), (1964, 10), (1964, 11), (1964, 12), (1965, 1), (1965, 2), (1965, 3), (1965, 4), (1965, 5), (1965, 6), (1965, 7), (1965, 8), (1965, 9), (1965, 10), (1965, 11), (1965, 12), (1966, 1), (1966, 2), (1966, 3), (1966, 4), (1966, 5), (1966, 6), (1966, 7), (1966, 8), (1966, 9), (1966, 10), (1966, 11), (1966, 12), (1967, 1), (1967, 2), (1967, 3), (1967, 4), (1967, 5), (1967, 6), (1967, 7), (1967, 8), (1967, 9), (1967, 10), (1967, 11), (1967, 12), (1968, 1), (1968, 2), (1968, 3), (1968, 4), (1968, 5), (1968, 6), (1968, 7), (1968, 8), (1968, 9), (1968, 10), (1968, 11), (1968, 12), (1969, 1), (1969, 2), (1969, 3), (1969, 4), (1969, 5), (1969, 6), (1969, 7), (1969, 8), (1969, 9), (1969, 10), (1969, 11), (1969, 12), (1970, 1), (1970, 2), (1970, 3), (1970, 4), (1970, 5), (1970, 6), (1970, 7), (1970, 8), (1970, 9), (1970, 10), (1970, 11), (1970, 12), (1971, 1), (1971, 2), (1971, 3), (1971, 4), (1971, 5), (1971, 6), (1971, 7), (1971, 8), (1971, 9), (1971, 10), (1971, 11), (1971, 12), (1972, 1), (1972, 2), (1972, 3), (1972, 4), (1972, 5), (1972, 6), (1972, 7), (1972, 8), (1972, 9), (1972, 10), (1972, 11), (1972, 12), (1973, 1), (1973, 2), (1973, 3), (1973, 4), (1973, 5), (1973, 6), (1973, 7), (1973, 8), (1973, 9), (1973, 10), (1973, 11), (1973, 12), (1974, 1), (1974, 2), (1974, 3), (1974, 4), (1974, 5), (1974, 6), (1974, 7), (1974, 8), (1974, 9), (1974, 10), (1974, 11), (1974, 12), (1975, 1), (1975, 2), (1975, 3), (1975, 4), (1975, 5), (1975, 6), (1975, 7), (1975, 8), (1975, 9), (1975, 10), (1975, 11), (1975, 12), (1976, 1), (1976, 2), (1976, 3), (1976, 4), (1976, 5), (1976, 6), (1976, 7), (1976, 8), (1976, 9), (1976, 10), (1976, 11), (1976, 12), (1977, 1), (1977, 2), (1977, 3), (1977, 4), (1977, 5), (1977, 6), (1977, 7), (1977, 8), (1977, 9), (1977, 10), (1977, 11), (1977, 12), (1978, 1), (1978, 2), (1978, 3), (1978, 4), (1978, 5), (1978, 6), (1978, 7), (1978, 8), (1978, 9), (1978, 10), (1978, 11), (1978, 12), (1979, 1), (1979, 2), (1979, 3), (1979, 4), (1979, 5), (1979, 6), (1979, 7), (1979, 8), (1979, 9), (1979, 10), (1979, 11), (1979, 12), (1980, 1), (1980, 2), (1980, 3), (1980, 4), (1980, 5), (1980, 6), (1980, 7), (1980, 8), (1980, 9), (1980, 10), (1980, 11), (1980, 12), (1981, 1), (1981, 2), (1981, 3), (1981, 4), (1981, 5), (1981, 6), (1981, 7), (1981, 8), (1981, 9), (1981, 10), (1981, 11), (1981, 12), (1982, 1), (1982, 2), (1982, 3), (1982, 4), (1982, 5), (1982, 6), (1982, 7), (1982, 8), (1982, 9), (1982, 10), (1982, 11), (1982, 12), (1983, 1), (1983, 2), (1983, 3), (1983, 4), (1983, 5), (1983, 6), (1983, 7), (1983, 8), (1983, 9), (1983, 10), (1983, 11), (1983, 12), (1984, 1), (1984, 2), (1984, 3), (1984, 4), (1984, 5), (1984, 6), (1984, 7), (1984, 8), (1984, 9), (1984, 10), (1984, 11), (1984, 12), (1985, 1), (1985, 2), (1985, 3), (1985, 4), (1985, 5), (1985, 6), (1985, 7), (1985, 8), (1985, 9), (1985, 10), (1985, 11), (1985, 12), (1986, 1), (1986, 2), (1986, 3), (1986, 4), (1986, 5), (1986, 6), (1986, 7), (1986, 8), (1986, 9), (1986, 10), (1986, 11), (1986, 12), (1987, 1), (1987, 2), (1987, 3), (1987, 4), (1987, 5), (1987, 6), (1987, 7), (1987, 8), (1987, 9), (1987, 10), (1987, 11), (1987, 12), (1988, 1), (1988, 2), (1988, 3), (1988, 4), (1988, 5), (1988, 6), (1988, 7), (1988, 8), (1988, 9), (1988, 10), (1988, 11), (1988, 12), (1989, 1), (1989, 2), (1989, 3), (1989, 4), (1989, 5), (1989, 6), (1989, 7), (1989, 8), (1989, 9), (1989, 10), (1989, 11), (1989, 12), (1990, 1), (1990, 2), (1990, 3), (1990, 4), (1990, 5), (1990, 6), (1990, 7), (1990, 8), (1990, 9), (1990, 10), (1990, 11), (1990, 12), (1991, 1), (1991, 2), (1991, 3), (1991, 4), (1991, 5), (1991, 6), (1991, 7), (1991, 8), (1991, 9), (1991, 10), (1991, 11), (1991, 12), (1992, 1), (1992, 2), (1992, 3), (1992, 4), (1992, 5), (1992, 6), (1992, 7), (1992, 8), (1992, 9), (1992, 10), (1992, 11), (1992, 12), (1993, 1), (1993, 2), (1993, 3), (1993, 4), (1993, 5), (1993, 6), (1993, 7), (1993, 8), (1993, 9), (1993, 10), (1993, 11), (1993, 12), (1994, 1), (1994, 2), (1994, 3), (1994, 4), (1994, 5), (1994, 6), (1994, 7), (1994, 8), (1994, 9), (1994, 10), (1994, 11), (1994, 12), (1995, 1), (1995, 2), (1995, 3), (1995, 4), (1995, 5), (1995, 6), (1995, 7), (1995, 8), (1995, 9), (1995, 10), (1995, 11), (1995, 12), (1996, 1), (1996, 2), (1996, 3), (1996, 4), (1996, 5), (1996, 6), (1996, 7), (1996, 8), (1996, 9), (1996, 10), (1996, 11), (1996, 12), (1997, 1), (1997, 2), (1997, 3), (1997, 4), (1997, 5), (1997, 6), (1997, 7), (1997, 8), (1997, 9), (1997, 10), (1997, 11), (1997, 12), (1998, 1), (1998, 2), (1998, 3), (1998, 4), (1998, 5), (1998, 6), (1998, 7), (1998, 8), (1998, 9), (1998, 10), (1998, 11), (1998, 12), (1999, 1), (1999, 2), (1999, 3), (1999, 4), (1999, 5), (1999, 6), (1999, 7), (1999, 8), (1999, 9), (1999, 10), (1999, 11), (1999, 12), (2000, 1), (2000, 2), (2000, 3), (2000, 4), (2000, 5), (2000, 6), (2000, 7), (2000, 8), (2000, 9), (2000, 10), (2000, 11), (2000, 12), (2001, 1), (2001, 2), (2001, 3), (2001, 4), (2001, 5), (2001, 6), (2001, 7), (2001, 8), (2001, 9), (2001, 10), (2001, 11), (2001, 12), (2002, 1), (2002, 2), (2002, 3), (2002, 4), (2002, 5), (2002, 6), (2002, 7), (2002, 8), (2002, 9), (2002, 10), (2002, 11), (2002, 12), (2003, 1), (2003, 2), (2003, 3), (2003, 4), (2003, 5), (2003, 6), (2003, 7), (2003, 8), (2003, 9), (2003, 10), (2003, 11), (2003, 12), (2004, 1), (2004, 2), (2004, 3), (2004, 4), (2004, 5), (2004, 6), (2004, 7), (2004, 8), (2004, 9), (2004, 10), (2004, 11), (2004, 12), (2005, 1), (2005, 2), (2005, 3), (2005, 4), (2005, 5), (2005, 6), (2005, 7), (2005, 8), (2005, 9), (2005, 10), (2005, 11), (2005, 12), (2006, 1), (2006, 2), (2006, 3), (2006, 4), (2006, 5), (2006, 6), (2006, 7), (2006, 8), (2006, 9), (2006, 10), (2006, 11), (2006, 12), (2007, 1), (2007, 2), (2007, 3), (2007, 4), (2007, 5), (2007, 6), (2007, 7), (2007, 8), (2007, 9), (2007, 10), (2007, 11), (2007, 12), (2008, 1), (2008, 2), (2008, 3), (2008, 4), (2008, 5), (2008, 6), (2008, 7), (2008, 8), (2008, 9), (2008, 10), (2008, 11), (2008, 12), (2009, 1), (2009, 2), (2009, 3), (2009, 4), (2009, 5), (2009, 6), (2009, 7), (2009, 8), (2009, 9), (2009, 10), (2009, 11), (2009, 12), (2010, 1), (2010, 2), (2010, 3), (2010, 4), (2010, 5), (2010, 6), (2010, 7), (2010, 8), (2010, 9), (2010, 10), (2010, 11), (2010, 12), (2011, 1), (2011, 2), (2011, 3), (2011, 4), (2011, 5), (2011, 6), (2011, 7), (2011, 8), (2011, 9), (2011, 10), (2011, 11), (2011, 12), (2012, 1), (2012, 2), (2012, 3), (2012, 4), (2012, 5), (2012, 6), (2012, 7), (2012, 8), (2012, 9), (2012, 10), (2012, 11), (2012, 12), (2013, 1), (2013, 2), (2013, 3), (2013, 4), (2013, 5), (2013, 6), (2013, 7), (2013, 8), (2013, 9), (2013, 10), (2013, 11), (2013, 12), (2014, 1), (2014, 2), (2014, 3), (2014, 4), (2014, 5), (2014, 6), (2014, 7), (2014, 8), (2014, 9), (2014, 10), (2014, 11), (2014, 12), (2015, 1), (2015, 2), (2015, 3), (2015, 4), (2015, 5), (2015, 6), (2015, 7), (2015, 8), (2015, 9), (2015, 10), (2015, 11), (2015, 12), (2016, 1), (2016, 2), (2016, 3), (2016, 4), (2016, 5), (2016, 6), (2016, 7), (2016, 8), (2016, 9), (2016, 10), (2016, 11), (2016, 12), (2017, 1), (2017, 2), (2017, 3), (2017, 4), (2017, 5), (2017, 6), (2017, 7), (2017, 8), (2017, 9), (2017, 10)])"
      ]
     },
     "execution_count": 27,
     "metadata": {},
     "output_type": "execute_result"
    }
   ],
   "source": [
    "# Проверьте \"имена\" каждой группы \n",
    "grouped.groups.keys()"
   ]
  },
  {
   "cell_type": "code",
   "execution_count": 28,
   "metadata": {},
   "outputs": [],
   "source": [
    "# столбцы, которые мы хотим агрегировать\n",
    "mean_cols = ['PRCP', 'TAVG', 'TMAX', 'TMIN', 'TEMP_C', 'MONTH', 'YEAR']\n",
    "\n",
    "# Создайте пустой фрейм данных для агрегированных значений средней температуры\n",
    "monthly_data = pd.DataFrame([], columns=mean_cols)"
   ]
  },
  {
   "cell_type": "code",
   "execution_count": 29,
   "metadata": {},
   "outputs": [
    {
     "data": {
      "text/plain": [
       "<bound method NDFrame.head of Empty DataFrame\n",
       "Columns: [PRCP, TAVG, TMAX, TMIN, TEMP_C, MONTH, YEAR]\n",
       "Index: []>"
      ]
     },
     "execution_count": 29,
     "metadata": {},
     "output_type": "execute_result"
    }
   ],
   "source": [
    "monthly_data.head"
   ]
  },
  {
   "cell_type": "code",
   "execution_count": 30,
   "metadata": {},
   "outputs": [
    {
     "data": {
      "text/plain": [
       "<bound method NDFrame.head of          PRCP       TAVG       TMAX       TMIN     TEMP_C  MONTH    YEAR  \\\n",
       "0    0.174545  29.478261  33.263158  27.545455  -1.400966    1.0  1952.0   \n",
       "1    0.090769  24.800000  29.142857  17.761905  -4.000000    2.0  1952.0   \n",
       "2    0.134545  13.807692  26.045455  -0.625000 -10.106838    3.0  1952.0   \n",
       "3    0.102500  39.607143  49.920000  29.884615   4.226190    4.0  1952.0   \n",
       "4    0.188333  44.666667  53.304348  33.916667   7.037037    5.0  1952.0   \n",
       "..        ...        ...        ...        ...        ...    ...     ...   \n",
       "785  0.129333  56.300000  65.533333  48.566667  13.500000    6.0  2017.0   \n",
       "786  0.041935  60.290323  69.709677  52.516129  15.716846    7.0  2017.0   \n",
       "787  0.090323  60.290323  68.064516  53.774194  15.716846    8.0  2017.0   \n",
       "788       NaN  52.333333  58.850000  47.625000  11.296296    9.0  2017.0   \n",
       "789  0.496667  48.250000  51.000000  45.000000   9.027778   10.0  2017.0   \n",
       "\n",
       "     YEAR_MONTH  \n",
       "0     (1952, 1)  \n",
       "1     (1952, 2)  \n",
       "2     (1952, 3)  \n",
       "3     (1952, 4)  \n",
       "4     (1952, 5)  \n",
       "..          ...  \n",
       "785   (2017, 6)  \n",
       "786   (2017, 7)  \n",
       "787   (2017, 8)  \n",
       "788   (2017, 9)  \n",
       "789  (2017, 10)  \n",
       "\n",
       "[790 rows x 8 columns]>"
      ]
     },
     "execution_count": 30,
     "metadata": {},
     "output_type": "execute_result"
    }
   ],
   "source": [
    "# перебираем группы\n",
    "for key, group in grouped:\n",
    "    # вычисляем среднее значение\n",
    "    mean_values = group[mean_cols].mean()\n",
    "#     print(mean_values.dtype)\n",
    "    # добавьте ключ (т. е. информацию о дате и времени) в агрегированные значения\n",
    "    mean_values['YEAR_MONTH'] = key\n",
    "#     print(key)\n",
    "    # добавьте агрегированные значения в фрейм данных monthly_data\n",
    "    monthly_data = monthly_data.append(mean_values, ignore_index=True)\n",
    "#     break\n",
    "\n",
    "monthly_data.head"
   ]
  },
  {
   "cell_type": "code",
   "execution_count": 31,
   "metadata": {},
   "outputs": [
    {
     "name": "stdout",
     "output_type": "stream",
     "text": [
      "790\n"
     ]
    }
   ],
   "source": [
    "# длинна dataframe\n",
    "print(len(monthly_data))"
   ]
  },
  {
   "cell_type": "code",
   "execution_count": 32,
   "metadata": {},
   "outputs": [
    {
     "name": "stdout",
     "output_type": "stream",
     "text": [
      "Средняя температура (С): 5.1\n"
     ]
    }
   ],
   "source": [
    "print(\"Средняя температура (С):\", round(monthly_data.TEMP_C.mean(), 2))"
   ]
  },
  {
   "cell_type": "code",
   "execution_count": 33,
   "metadata": {},
   "outputs": [
    {
     "name": "stdout",
     "output_type": "stream",
     "text": [
      "['PRCP' 'TAVG' 'TMAX' 'TMIN' 'TEMP_C' 'MONTH' 'YEAR' 'YEAR_MONTH']\n"
     ]
    }
   ],
   "source": [
    "# имена колонок\n",
    "print(monthly_data.columns.values)"
   ]
  },
  {
   "cell_type": "code",
   "execution_count": 34,
   "metadata": {},
   "outputs": [
    {
     "name": "stdout",
     "output_type": "stream",
     "text": [
      "Медианное значение температура (С): 4.73\n"
     ]
    }
   ],
   "source": [
    "print(\"Медианное значение температура (С):\", round(monthly_data.TEMP_C.median(), 2))"
   ]
  },
  {
   "cell_type": "markdown",
   "metadata": {},
   "source": [
    "### Расчет температурных аномалий"
   ]
  },
  {
   "cell_type": "markdown",
   "metadata": {},
   "source": [
    "Наша цель в этой задаче-вычислить месячные температурные аномалии, чтобы увидеть, \n",
    "как температура менялась с течением времени относительно периода наблюдений между 1952-1980 годами."
   ]
  },
  {
   "cell_type": "markdown",
   "metadata": {},
   "source": [
    "##### Ваша оценка по этой проблеме будет основана на следующих критериях:"
   ]
  },
  {
   "cell_type": "markdown",
   "metadata": {},
   "source": [
    "Вычисление средней температуры для каждого месяца за период с 1952 по 1980 год включительно \n",
    "в новом фрейме данных под названием reference_temps\n",
    "Вы должны получить 12 значений, 1 среднюю температуру для каждого месяца в течение периода времени \n",
    "(см. примерную таблицу ниже).\n",
    "Столбцы в новом фрейме данных должны быть month и ref_temp\n",
    "Ваш фрейм данных reference_temps должен иметь следующую структуру: \n",
    "- 1 значение для каждого месяца года (всего 12), А значения представляют и усредняют период наблюдения 1952-1980 годов. Температура ref_temp должна быть в градусах Цельсия:"
   ]
  },
  {
   "cell_type": "markdown",
   "metadata": {},
   "source": [
    "|month|ref_temp|\n",
    "|-----|:-------|\n",
    "|01|-5.838761|\n",
    "|02|-7.064088|\n",
    "|03|-3.874213|\n",
    "|...|...|"
   ]
  },
  {
   "cell_type": "code",
   "execution_count": 35,
   "metadata": {},
   "outputs": [],
   "source": [
    "# данные с 1952 по 1980\n",
    "df_5280 = df[df[\"YEAR\"] <= 1980]"
   ]
  },
  {
   "cell_type": "code",
   "execution_count": 36,
   "metadata": {},
   "outputs": [
    {
     "data": {
      "text/plain": [
       "12"
      ]
     },
     "execution_count": 36,
     "metadata": {},
     "output_type": "execute_result"
    }
   ],
   "source": [
    "# группировка по месяцу выборку df_5280\n",
    "grouped = df_5280.groupby([\"MONTH\"])\n",
    "len(grouped)"
   ]
  },
  {
   "cell_type": "code",
   "execution_count": 37,
   "metadata": {},
   "outputs": [
    {
     "data": {
      "text/plain": [
       "dict_keys([1, 2, 3, 4, 5, 6, 7, 8, 9, 10, 11, 12])"
      ]
     },
     "execution_count": 37,
     "metadata": {},
     "output_type": "execute_result"
    }
   ],
   "source": [
    "grouped.groups.keys()"
   ]
  },
  {
   "cell_type": "code",
   "execution_count": 38,
   "metadata": {},
   "outputs": [
    {
     "data": {
      "text/plain": [
       "<bound method NDFrame.head of Empty DataFrame\n",
       "Columns: [MONTH, REF_TEMP]\n",
       "Index: []>"
      ]
     },
     "execution_count": 38,
     "metadata": {},
     "output_type": "execute_result"
    }
   ],
   "source": [
    "# новый пустой датафрейм\n",
    "reference_temps = pd.DataFrame([], columns=['MONTH', 'REF_TEMP'])\n",
    "reference_temps.head"
   ]
  },
  {
   "cell_type": "code",
   "execution_count": 39,
   "metadata": {},
   "outputs": [
    {
     "name": "stdout",
     "output_type": "stream",
     "text": [
      "<class 'pandas.core.frame.DataFrame'>\n",
      "RangeIndex: 12 entries, 0 to 11\n",
      "Data columns (total 2 columns):\n",
      " #   Column    Non-Null Count  Dtype  \n",
      "---  ------    --------------  -----  \n",
      " 0   MONTH     12 non-null     float64\n",
      " 1   REF_TEMP  12 non-null     float64\n",
      "dtypes: float64(2)\n",
      "memory usage: 320.0 bytes\n"
     ]
    }
   ],
   "source": [
    "for key, group in grouped:\n",
    "#     reference_temps = reference_temps.append(group[\"MONTH\"].mean(), ignore_index=True)\n",
    "#     mean_temp = []\n",
    "#     mean_temp.append([key, group[\"TEMP_C\"].mean()])\n",
    "#     print(key)\n",
    "#     print(group[\"TEMP_C\"].mean())\n",
    "#     print(mean_temp) \n",
    "    reference_temps = reference_temps.append({\"MONTH\": key, \"REF_TEMP\": group[\"TEMP_C\"].mean()}, ignore_index=True)\n",
    "reference_temps.info()  "
   ]
  },
  {
   "cell_type": "code",
   "execution_count": 40,
   "metadata": {},
   "outputs": [
    {
     "data": {
      "text/html": [
       "<div>\n",
       "<style scoped>\n",
       "    .dataframe tbody tr th:only-of-type {\n",
       "        vertical-align: middle;\n",
       "    }\n",
       "\n",
       "    .dataframe tbody tr th {\n",
       "        vertical-align: top;\n",
       "    }\n",
       "\n",
       "    .dataframe thead th {\n",
       "        text-align: right;\n",
       "    }\n",
       "</style>\n",
       "<table border=\"1\" class=\"dataframe\">\n",
       "  <thead>\n",
       "    <tr style=\"text-align: right;\">\n",
       "      <th></th>\n",
       "      <th>MONTH</th>\n",
       "      <th>REF_TEMP</th>\n",
       "    </tr>\n",
       "  </thead>\n",
       "  <tbody>\n",
       "    <tr>\n",
       "      <th>0</th>\n",
       "      <td>1.0</td>\n",
       "      <td>-5.877342</td>\n",
       "    </tr>\n",
       "    <tr>\n",
       "      <th>1</th>\n",
       "      <td>2.0</td>\n",
       "      <td>-6.990482</td>\n",
       "    </tr>\n",
       "    <tr>\n",
       "      <th>2</th>\n",
       "      <td>3.0</td>\n",
       "      <td>-3.841270</td>\n",
       "    </tr>\n",
       "    <tr>\n",
       "      <th>3</th>\n",
       "      <td>4.0</td>\n",
       "      <td>2.427875</td>\n",
       "    </tr>\n",
       "    <tr>\n",
       "      <th>4</th>\n",
       "      <td>5.0</td>\n",
       "      <td>9.522613</td>\n",
       "    </tr>\n",
       "    <tr>\n",
       "      <th>...</th>\n",
       "      <td>...</td>\n",
       "      <td>...</td>\n",
       "    </tr>\n",
       "    <tr>\n",
       "      <th>7</th>\n",
       "      <td>8.0</td>\n",
       "      <td>15.022075</td>\n",
       "    </tr>\n",
       "    <tr>\n",
       "      <th>8</th>\n",
       "      <td>9.0</td>\n",
       "      <td>9.910920</td>\n",
       "    </tr>\n",
       "    <tr>\n",
       "      <th>9</th>\n",
       "      <td>10.0</td>\n",
       "      <td>4.947222</td>\n",
       "    </tr>\n",
       "    <tr>\n",
       "      <th>10</th>\n",
       "      <td>11.0</td>\n",
       "      <td>0.323512</td>\n",
       "    </tr>\n",
       "    <tr>\n",
       "      <th>11</th>\n",
       "      <td>12.0</td>\n",
       "      <td>-4.168044</td>\n",
       "    </tr>\n",
       "  </tbody>\n",
       "</table>\n",
       "<p>12 rows × 2 columns</p>\n",
       "</div>"
      ],
      "text/plain": [
       "    MONTH   REF_TEMP\n",
       "0     1.0  -5.877342\n",
       "1     2.0  -6.990482\n",
       "2     3.0  -3.841270\n",
       "3     4.0   2.427875\n",
       "4     5.0   9.522613\n",
       "..    ...        ...\n",
       "7     8.0  15.022075\n",
       "8     9.0   9.910920\n",
       "9    10.0   4.947222\n",
       "10   11.0   0.323512\n",
       "11   12.0  -4.168044\n",
       "\n",
       "[12 rows x 2 columns]"
      ]
     },
     "execution_count": 40,
     "metadata": {},
     "output_type": "execute_result"
    }
   ],
   "source": [
    "reference_temps"
   ]
  },
  {
   "cell_type": "code",
   "execution_count": 161,
   "metadata": {},
   "outputs": [
    {
     "name": "stdout",
     "output_type": "stream",
     "text": [
      "<class 'pandas.core.frame.DataFrame'>\n",
      "RangeIndex: 790 entries, 0 to 789\n",
      "Data columns (total 8 columns):\n",
      " #   Column      Non-Null Count  Dtype  \n",
      "---  ------      --------------  -----  \n",
      " 0   PRCP        789 non-null    float64\n",
      " 1   TAVG        682 non-null    float64\n",
      " 2   TMAX        790 non-null    float64\n",
      " 3   TMIN        790 non-null    float64\n",
      " 4   TEMP_C      682 non-null    float64\n",
      " 5   MONTH       790 non-null    float64\n",
      " 6   YEAR        790 non-null    float64\n",
      " 7   YEAR_MONTH  790 non-null    object \n",
      "dtypes: float64(7), object(1)\n",
      "memory usage: 49.5+ KB\n"
     ]
    }
   ],
   "source": [
    "monthly_data.info()"
   ]
  },
  {
   "cell_type": "markdown",
   "metadata": {},
   "source": [
    "Вычисление температурной аномалии для каждого месяца в фрейме данных monthly_data с использованием \n",
    "соответствующей среднемесячной температуры для каждого из 12 месяцев:\n",
    "Чтобы достичь этого, вам нужно сделать соединение таблиц (см. подсказки для этой недели) между monthly_data и ref_temps на основе месяца.\n",
    "Температурная аномалия рассчитывается как разница между температурой за данный месяц (столбец temp_celsius в monthly_data) и соответствующей месячной эталонной температурой (столбец ref_temp в reference_temps)\n",
    "Сохранить результат в новый столбец \"diff\"\n",
    "В качестве выходных данных соединения таблиц и вычисления вы должны иметь три новых столбца в фрейме данных monthly_data:\n",
    " - diff: Температурная аномалия, то есть разница между температурой за данный месяц (например, февраль 1960 года) и средней за отчетный период (например, за февраль 1952-1980 годов)\n",
    " - month: Месяц для этого ряда наблюдений\n",
    " - ref_temp: Месячная эталонная температура\n",
    "\n",
    "Вы должны сообщить в каком месяце была самая большая погодная аномалия за наблюдаемый период времени."
   ]
  },
  {
   "cell_type": "code",
   "execution_count": 41,
   "metadata": {},
   "outputs": [],
   "source": [
    "# объединяем по колонке месяц\n",
    "diff_data = monthly_data.merge(reference_temps)"
   ]
  },
  {
   "cell_type": "code",
   "execution_count": 42,
   "metadata": {},
   "outputs": [
    {
     "name": "stdout",
     "output_type": "stream",
     "text": [
      "<class 'pandas.core.frame.DataFrame'>\n",
      "Int64Index: 790 entries, 0 to 789\n",
      "Data columns (total 9 columns):\n",
      " #   Column      Non-Null Count  Dtype  \n",
      "---  ------      --------------  -----  \n",
      " 0   PRCP        789 non-null    float64\n",
      " 1   TAVG        682 non-null    float64\n",
      " 2   TMAX        790 non-null    float64\n",
      " 3   TMIN        790 non-null    float64\n",
      " 4   TEMP_C      682 non-null    float64\n",
      " 5   MONTH       790 non-null    float64\n",
      " 6   YEAR        790 non-null    float64\n",
      " 7   YEAR_MONTH  790 non-null    object \n",
      " 8   REF_TEMP    790 non-null    float64\n",
      "dtypes: float64(8), object(1)\n",
      "memory usage: 61.7+ KB\n"
     ]
    }
   ],
   "source": [
    "diff_data.info()"
   ]
  },
  {
   "cell_type": "code",
   "execution_count": 43,
   "metadata": {},
   "outputs": [
    {
     "data": {
      "text/html": [
       "<div>\n",
       "<style scoped>\n",
       "    .dataframe tbody tr th:only-of-type {\n",
       "        vertical-align: middle;\n",
       "    }\n",
       "\n",
       "    .dataframe tbody tr th {\n",
       "        vertical-align: top;\n",
       "    }\n",
       "\n",
       "    .dataframe thead th {\n",
       "        text-align: right;\n",
       "    }\n",
       "</style>\n",
       "<table border=\"1\" class=\"dataframe\">\n",
       "  <thead>\n",
       "    <tr style=\"text-align: right;\">\n",
       "      <th></th>\n",
       "      <th>PRCP</th>\n",
       "      <th>TAVG</th>\n",
       "      <th>TMAX</th>\n",
       "      <th>TMIN</th>\n",
       "      <th>TEMP_C</th>\n",
       "      <th>MONTH</th>\n",
       "      <th>YEAR</th>\n",
       "      <th>YEAR_MONTH</th>\n",
       "      <th>REF_TEMP</th>\n",
       "      <th>DIFF</th>\n",
       "    </tr>\n",
       "  </thead>\n",
       "  <tbody>\n",
       "    <tr>\n",
       "      <th>0</th>\n",
       "      <td>0.174545</td>\n",
       "      <td>29.478261</td>\n",
       "      <td>33.263158</td>\n",
       "      <td>27.545455</td>\n",
       "      <td>-1.400966</td>\n",
       "      <td>1.0</td>\n",
       "      <td>1952.0</td>\n",
       "      <td>(1952, 1)</td>\n",
       "      <td>-5.877342</td>\n",
       "      <td>4.476376</td>\n",
       "    </tr>\n",
       "    <tr>\n",
       "      <th>1</th>\n",
       "      <td>0.140000</td>\n",
       "      <td>22.285714</td>\n",
       "      <td>26.304348</td>\n",
       "      <td>14.727273</td>\n",
       "      <td>-5.396825</td>\n",
       "      <td>1.0</td>\n",
       "      <td>1953.0</td>\n",
       "      <td>(1953, 1)</td>\n",
       "      <td>-5.877342</td>\n",
       "      <td>0.480517</td>\n",
       "    </tr>\n",
       "    <tr>\n",
       "      <th>2</th>\n",
       "      <td>0.099231</td>\n",
       "      <td>19.269231</td>\n",
       "      <td>23.823529</td>\n",
       "      <td>12.066667</td>\n",
       "      <td>-7.072650</td>\n",
       "      <td>1.0</td>\n",
       "      <td>1954.0</td>\n",
       "      <td>(1954, 1)</td>\n",
       "      <td>-5.877342</td>\n",
       "      <td>1.195307</td>\n",
       "    </tr>\n",
       "    <tr>\n",
       "      <th>3</th>\n",
       "      <td>0.167778</td>\n",
       "      <td>22.148148</td>\n",
       "      <td>27.904762</td>\n",
       "      <td>14.526316</td>\n",
       "      <td>-5.473251</td>\n",
       "      <td>1.0</td>\n",
       "      <td>1955.0</td>\n",
       "      <td>(1955, 1)</td>\n",
       "      <td>-5.877342</td>\n",
       "      <td>0.404091</td>\n",
       "    </tr>\n",
       "    <tr>\n",
       "      <th>4</th>\n",
       "      <td>0.132000</td>\n",
       "      <td>17.360000</td>\n",
       "      <td>22.578947</td>\n",
       "      <td>7.866667</td>\n",
       "      <td>-8.133333</td>\n",
       "      <td>1.0</td>\n",
       "      <td>1956.0</td>\n",
       "      <td>(1956, 1)</td>\n",
       "      <td>-5.877342</td>\n",
       "      <td>2.255991</td>\n",
       "    </tr>\n",
       "  </tbody>\n",
       "</table>\n",
       "</div>"
      ],
      "text/plain": [
       "       PRCP       TAVG       TMAX       TMIN    TEMP_C  MONTH    YEAR  \\\n",
       "0  0.174545  29.478261  33.263158  27.545455 -1.400966    1.0  1952.0   \n",
       "1  0.140000  22.285714  26.304348  14.727273 -5.396825    1.0  1953.0   \n",
       "2  0.099231  19.269231  23.823529  12.066667 -7.072650    1.0  1954.0   \n",
       "3  0.167778  22.148148  27.904762  14.526316 -5.473251    1.0  1955.0   \n",
       "4  0.132000  17.360000  22.578947   7.866667 -8.133333    1.0  1956.0   \n",
       "\n",
       "  YEAR_MONTH  REF_TEMP      DIFF  \n",
       "0  (1952, 1) -5.877342  4.476376  \n",
       "1  (1953, 1) -5.877342  0.480517  \n",
       "2  (1954, 1) -5.877342  1.195307  \n",
       "3  (1955, 1) -5.877342  0.404091  \n",
       "4  (1956, 1) -5.877342  2.255991  "
      ]
     },
     "execution_count": 43,
     "metadata": {},
     "output_type": "execute_result"
    }
   ],
   "source": [
    "# добавим колонку diff - Температурная аномалия - абсолютное значение\n",
    "diff_data[\"DIFF\"] = (diff_data[\"TEMP_C\"] - diff_data[\"REF_TEMP\"]).abs()\n",
    "diff_data.head()"
   ]
  },
  {
   "cell_type": "code",
   "execution_count": 197,
   "metadata": {},
   "outputs": [
    {
     "data": {
      "text/html": [
       "<div>\n",
       "<style scoped>\n",
       "    .dataframe tbody tr th:only-of-type {\n",
       "        vertical-align: middle;\n",
       "    }\n",
       "\n",
       "    .dataframe tbody tr th {\n",
       "        vertical-align: top;\n",
       "    }\n",
       "\n",
       "    .dataframe thead th {\n",
       "        text-align: right;\n",
       "    }\n",
       "</style>\n",
       "<table border=\"1\" class=\"dataframe\">\n",
       "  <thead>\n",
       "    <tr style=\"text-align: right;\">\n",
       "      <th></th>\n",
       "      <th>PRCP</th>\n",
       "      <th>TAVG</th>\n",
       "      <th>TMAX</th>\n",
       "      <th>TMIN</th>\n",
       "      <th>TEMP_C</th>\n",
       "      <th>MONTH</th>\n",
       "      <th>YEAR</th>\n",
       "      <th>YEAR_MONTH</th>\n",
       "      <th>REF_TEMP</th>\n",
       "      <th>DIFF</th>\n",
       "    </tr>\n",
       "  </thead>\n",
       "  <tbody>\n",
       "    <tr>\n",
       "      <th>289</th>\n",
       "      <td>0.027097</td>\n",
       "      <td>49.161290</td>\n",
       "      <td>57.967742</td>\n",
       "      <td>40.483871</td>\n",
       "      <td>9.534050</td>\n",
       "      <td>5.0</td>\n",
       "      <td>1977.0</td>\n",
       "      <td>(1977, 5)</td>\n",
       "      <td>9.522613</td>\n",
       "      <td>0.011437</td>\n",
       "    </tr>\n",
       "    <tr>\n",
       "      <th>61</th>\n",
       "      <td>0.045161</td>\n",
       "      <td>21.451613</td>\n",
       "      <td>25.580645</td>\n",
       "      <td>16.193548</td>\n",
       "      <td>-5.860215</td>\n",
       "      <td>1.0</td>\n",
       "      <td>2013.0</td>\n",
       "      <td>(2013, 1)</td>\n",
       "      <td>-5.877342</td>\n",
       "      <td>0.017127</td>\n",
       "    </tr>\n",
       "    <tr>\n",
       "      <th>624</th>\n",
       "      <td>0.057419</td>\n",
       "      <td>40.870968</td>\n",
       "      <td>46.612903</td>\n",
       "      <td>35.161290</td>\n",
       "      <td>4.928315</td>\n",
       "      <td>10.0</td>\n",
       "      <td>1982.0</td>\n",
       "      <td>(1982, 10)</td>\n",
       "      <td>4.947222</td>\n",
       "      <td>0.018907</td>\n",
       "    </tr>\n",
       "    <tr>\n",
       "      <th>736</th>\n",
       "      <td>0.018710</td>\n",
       "      <td>24.548387</td>\n",
       "      <td>30.096774</td>\n",
       "      <td>18.096774</td>\n",
       "      <td>-4.139785</td>\n",
       "      <td>12.0</td>\n",
       "      <td>1963.0</td>\n",
       "      <td>(1963, 12)</td>\n",
       "      <td>-4.168044</td>\n",
       "      <td>0.028259</td>\n",
       "    </tr>\n",
       "    <tr>\n",
       "      <th>567</th>\n",
       "      <td>0.077667</td>\n",
       "      <td>49.900000</td>\n",
       "      <td>57.300000</td>\n",
       "      <td>42.866667</td>\n",
       "      <td>9.944444</td>\n",
       "      <td>9.0</td>\n",
       "      <td>1991.0</td>\n",
       "      <td>(1991, 9)</td>\n",
       "      <td>9.910920</td>\n",
       "      <td>0.033525</td>\n",
       "    </tr>\n",
       "    <tr>\n",
       "      <th>...</th>\n",
       "      <td>...</td>\n",
       "      <td>...</td>\n",
       "      <td>...</td>\n",
       "      <td>...</td>\n",
       "      <td>...</td>\n",
       "      <td>...</td>\n",
       "      <td>...</td>\n",
       "      <td>...</td>\n",
       "      <td>...</td>\n",
       "      <td>...</td>\n",
       "    </tr>\n",
       "    <tr>\n",
       "      <th>99</th>\n",
       "      <td>0.029286</td>\n",
       "      <td>4.785714</td>\n",
       "      <td>11.571429</td>\n",
       "      <td>-1.607143</td>\n",
       "      <td>-15.119048</td>\n",
       "      <td>2.0</td>\n",
       "      <td>1985.0</td>\n",
       "      <td>(1985, 2)</td>\n",
       "      <td>-6.990482</td>\n",
       "      <td>8.128566</td>\n",
       "    </tr>\n",
       "    <tr>\n",
       "      <th>104</th>\n",
       "      <td>0.157500</td>\n",
       "      <td>34.107143</td>\n",
       "      <td>37.642857</td>\n",
       "      <td>30.107143</td>\n",
       "      <td>1.170635</td>\n",
       "      <td>2.0</td>\n",
       "      <td>1990.0</td>\n",
       "      <td>(1990, 2)</td>\n",
       "      <td>-6.990482</td>\n",
       "      <td>8.161117</td>\n",
       "    </tr>\n",
       "    <tr>\n",
       "      <th>751</th>\n",
       "      <td>0.009355</td>\n",
       "      <td>9.032258</td>\n",
       "      <td>15.580645</td>\n",
       "      <td>1.806452</td>\n",
       "      <td>-12.759857</td>\n",
       "      <td>12.0</td>\n",
       "      <td>1978.0</td>\n",
       "      <td>(1978, 12)</td>\n",
       "      <td>-4.168044</td>\n",
       "      <td>8.591813</td>\n",
       "    </tr>\n",
       "    <tr>\n",
       "      <th>33</th>\n",
       "      <td>0.024516</td>\n",
       "      <td>4.064516</td>\n",
       "      <td>11.451613</td>\n",
       "      <td>-3.096774</td>\n",
       "      <td>-15.519713</td>\n",
       "      <td>1.0</td>\n",
       "      <td>1985.0</td>\n",
       "      <td>(1985, 1)</td>\n",
       "      <td>-5.877342</td>\n",
       "      <td>9.642371</td>\n",
       "    </tr>\n",
       "    <tr>\n",
       "      <th>35</th>\n",
       "      <td>0.017419</td>\n",
       "      <td>-0.354839</td>\n",
       "      <td>6.290323</td>\n",
       "      <td>-6.451613</td>\n",
       "      <td>-17.974910</td>\n",
       "      <td>1.0</td>\n",
       "      <td>1987.0</td>\n",
       "      <td>(1987, 1)</td>\n",
       "      <td>-5.877342</td>\n",
       "      <td>12.097568</td>\n",
       "    </tr>\n",
       "  </tbody>\n",
       "</table>\n",
       "<p>682 rows × 10 columns</p>\n",
       "</div>"
      ],
      "text/plain": [
       "         PRCP       TAVG       TMAX       TMIN     TEMP_C  MONTH    YEAR  \\\n",
       "289  0.027097  49.161290  57.967742  40.483871   9.534050    5.0  1977.0   \n",
       "61   0.045161  21.451613  25.580645  16.193548  -5.860215    1.0  2013.0   \n",
       "624  0.057419  40.870968  46.612903  35.161290   4.928315   10.0  1982.0   \n",
       "736  0.018710  24.548387  30.096774  18.096774  -4.139785   12.0  1963.0   \n",
       "567  0.077667  49.900000  57.300000  42.866667   9.944444    9.0  1991.0   \n",
       "..        ...        ...        ...        ...        ...    ...     ...   \n",
       "99   0.029286   4.785714  11.571429  -1.607143 -15.119048    2.0  1985.0   \n",
       "104  0.157500  34.107143  37.642857  30.107143   1.170635    2.0  1990.0   \n",
       "751  0.009355   9.032258  15.580645   1.806452 -12.759857   12.0  1978.0   \n",
       "33   0.024516   4.064516  11.451613  -3.096774 -15.519713    1.0  1985.0   \n",
       "35   0.017419  -0.354839   6.290323  -6.451613 -17.974910    1.0  1987.0   \n",
       "\n",
       "     YEAR_MONTH  REF_TEMP       DIFF  \n",
       "289   (1977, 5)  9.522613   0.011437  \n",
       "61    (2013, 1) -5.877342   0.017127  \n",
       "624  (1982, 10)  4.947222   0.018907  \n",
       "736  (1963, 12) -4.168044   0.028259  \n",
       "567   (1991, 9)  9.910920   0.033525  \n",
       "..          ...       ...        ...  \n",
       "99    (1985, 2) -6.990482   8.128566  \n",
       "104   (1990, 2) -6.990482   8.161117  \n",
       "751  (1978, 12) -4.168044   8.591813  \n",
       "33    (1985, 1) -5.877342   9.642371  \n",
       "35    (1987, 1) -5.877342  12.097568  \n",
       "\n",
       "[682 rows x 10 columns]"
      ]
     },
     "execution_count": 197,
     "metadata": {},
     "output_type": "execute_result"
    }
   ],
   "source": [
    "# отбросим строки содержащие NaN и отсортируем по разнице температур DIFF\n",
    "diff_data[diff_data.DIFF.notnull()].sort_values(\"DIFF\")"
   ]
  },
  {
   "cell_type": "code",
   "execution_count": 198,
   "metadata": {
    "jupyter": {
     "source_hidden": true
    }
   },
   "outputs": [
    {
     "data": {
      "text/html": [
       "<div>\n",
       "<style scoped>\n",
       "    .dataframe tbody tr th:only-of-type {\n",
       "        vertical-align: middle;\n",
       "    }\n",
       "\n",
       "    .dataframe tbody tr th {\n",
       "        vertical-align: top;\n",
       "    }\n",
       "\n",
       "    .dataframe thead th {\n",
       "        text-align: right;\n",
       "    }\n",
       "</style>\n",
       "<table border=\"1\" class=\"dataframe\">\n",
       "  <thead>\n",
       "    <tr style=\"text-align: right;\">\n",
       "      <th></th>\n",
       "      <th>TEMP_C</th>\n",
       "      <th>REF_TEMP</th>\n",
       "      <th>DIFF</th>\n",
       "    </tr>\n",
       "  </thead>\n",
       "  <tbody>\n",
       "    <tr>\n",
       "      <th>count</th>\n",
       "      <td>682.000000</td>\n",
       "      <td>682.000000</td>\n",
       "      <td>682.000000</td>\n",
       "    </tr>\n",
       "    <tr>\n",
       "      <th>mean</th>\n",
       "      <td>5.097114</td>\n",
       "      <td>4.392452</td>\n",
       "      <td>2.047675</td>\n",
       "    </tr>\n",
       "    <tr>\n",
       "      <th>std</th>\n",
       "      <td>8.483949</td>\n",
       "      <td>8.274887</td>\n",
       "      <td>1.654222</td>\n",
       "    </tr>\n",
       "    <tr>\n",
       "      <th>min</th>\n",
       "      <td>-17.974910</td>\n",
       "      <td>-6.990482</td>\n",
       "      <td>0.011437</td>\n",
       "    </tr>\n",
       "    <tr>\n",
       "      <th>25%</th>\n",
       "      <td>-1.685185</td>\n",
       "      <td>-3.841270</td>\n",
       "      <td>0.804740</td>\n",
       "    </tr>\n",
       "    <tr>\n",
       "      <th>50%</th>\n",
       "      <td>4.726105</td>\n",
       "      <td>4.947222</td>\n",
       "      <td>1.659322</td>\n",
       "    </tr>\n",
       "    <tr>\n",
       "      <th>75%</th>\n",
       "      <td>12.870370</td>\n",
       "      <td>13.511653</td>\n",
       "      <td>2.907451</td>\n",
       "    </tr>\n",
       "    <tr>\n",
       "      <th>max</th>\n",
       "      <td>22.329749</td>\n",
       "      <td>16.498881</td>\n",
       "      <td>12.097568</td>\n",
       "    </tr>\n",
       "  </tbody>\n",
       "</table>\n",
       "</div>"
      ],
      "text/plain": [
       "           TEMP_C    REF_TEMP        DIFF\n",
       "count  682.000000  682.000000  682.000000\n",
       "mean     5.097114    4.392452    2.047675\n",
       "std      8.483949    8.274887    1.654222\n",
       "min    -17.974910   -6.990482    0.011437\n",
       "25%     -1.685185   -3.841270    0.804740\n",
       "50%      4.726105    4.947222    1.659322\n",
       "75%     12.870370   13.511653    2.907451\n",
       "max     22.329749   16.498881   12.097568"
      ]
     },
     "execution_count": 198,
     "metadata": {},
     "output_type": "execute_result"
    }
   ],
   "source": [
    "# отбросим строки содержащие NaN -> статистика\n",
    "diff_data[diff_data.DIFF.notnull()][[\"TEMP_C\", \"REF_TEMP\", \"DIFF\"]].describe()"
   ]
  },
  {
   "cell_type": "markdown",
   "metadata": {},
   "source": [
    "##### Месяц c наибольшей анамальной температурой"
   ]
  },
  {
   "cell_type": "code",
   "execution_count": 67,
   "metadata": {},
   "outputs": [
    {
     "ename": "SyntaxError",
     "evalue": "unexpected EOF while parsing (<ipython-input-67-64987782fc54>, line 7)",
     "output_type": "error",
     "traceback": [
      "\u001b[1;36m  File \u001b[1;32m\"<ipython-input-67-64987782fc54>\"\u001b[1;36m, line \u001b[1;32m7\u001b[0m\n\u001b[1;33m    print(\"Наблюдение: \", month_name(int(diff_data[diff_data.DIFF == diff_data.DIFF.max()][\"MONTH\"]))\u001b[0m\n\u001b[1;37m                                                                                                     ^\u001b[0m\n\u001b[1;31mSyntaxError\u001b[0m\u001b[1;31m:\u001b[0m unexpected EOF while parsing\n"
     ]
    }
   ],
   "source": [
    "def month_name(num):\n",
    "    ru = ['январь', 'февраль', 'март', 'апрель', 'май', 'июнь', 'июль', 'август', 'сентябрь',\n",
    "          'октябрь', 'ноябрь', 'декабрь']\n",
    "    return ru[num - 1]\n",
    "\n",
    "print(\"Аномально высокая разница температур:\", round(diff_data.DIFF.max(), 2))\n",
    "print(\"Наблюдение: \", month_name(int(diff_data[diff_data.DIFF == diff_data.DIFF.max()][\"MONTH\"]))"
   ]
  },
  {
   "cell_type": "code",
   "execution_count": 71,
   "metadata": {},
   "outputs": [
    {
     "data": {
      "text/plain": [
       "35    1.0\n",
       "Name: MONTH, dtype: float64"
      ]
     },
     "execution_count": 71,
     "metadata": {},
     "output_type": "execute_result"
    }
   ],
   "source": [
    "diff_data[diff_data.DIFF == diff_data.DIFF.max()][\"MONTH\"]"
   ]
  },
  {
   "cell_type": "code",
   "execution_count": 72,
   "metadata": {},
   "outputs": [
    {
     "data": {
      "text/plain": [
       "'январь'"
      ]
     },
     "execution_count": 72,
     "metadata": {},
     "output_type": "execute_result"
    }
   ],
   "source": [
    "month_name(int(diff_data[diff_data.DIFF == diff_data.DIFF.max()][\"MONTH\"]))"
   ]
  },
  {
   "cell_type": "code",
   "execution_count": null,
   "metadata": {},
   "outputs": [],
   "source": []
  }
 ],
 "metadata": {
  "kernelspec": {
   "display_name": "Python 3",
   "language": "python",
   "name": "python3"
  },
  "language_info": {
   "codemirror_mode": {
    "name": "ipython",
    "version": 3
   },
   "file_extension": ".py",
   "mimetype": "text/x-python",
   "name": "python",
   "nbconvert_exporter": "python",
   "pygments_lexer": "ipython3",
   "version": "3.6.12"
  }
 },
 "nbformat": 4,
 "nbformat_minor": 4
}
