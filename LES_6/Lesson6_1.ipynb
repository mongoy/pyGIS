{
 "cells": [
  {
   "cell_type": "markdown",
   "metadata": {},
   "source": [
    "# Assertions\n",
    "Утверждения"
   ]
  },
  {
   "cell_type": "code",
   "execution_count": null,
   "metadata": {},
   "outputs": [],
   "source": []
  },
  {
   "cell_type": "code",
   "execution_count": 1,
   "metadata": {},
   "outputs": [
    {
     "name": "stdout",
     "output_type": "stream",
     "text": [
      "A wind speed of 9 km/hr is 2.5 m/s.\n"
     ]
    }
   ],
   "source": [
    "# для скорости ветра положительной\n",
    "def convert_kph_ms(speed):\n",
    "    \"\"\"Converts velocity (speed) in km/hr to m/s\"\"\"\n",
    "    return speed * 1000 / 3600\n",
    "\n",
    "wind_speed_km = 9\n",
    "wind_speed_ms = convert_kph_ms(wind_speed_km)\n",
    "\n",
    "print('A wind speed of', wind_speed_km, 'km/hr is', wind_speed_ms, 'm/s.')"
   ]
  },
  {
   "cell_type": "code",
   "execution_count": null,
   "metadata": {},
   "outputs": [],
   "source": [
    "# для скорости ветра положительной и ОТРИЦАТЕЛЬНОЙ \n",
    "def convert_kph_ms(speed):\n",
    "    \"\"\"Converts velocity (speed) in km/hr to m/s\"\"\"\n",
    "    # величина скорости ветра всегда должна быть положительной или нулевой\n",
    "    assert speed >= 0.0, 'Wind speed values must be positive or zero'\n",
    "    return speed * 1000 / 3600\n",
    "\n",
    "wind_speed_km = -27\n",
    "wind_speed_ms = convert_kph_ms(wind_speed_km)\n",
    "\n",
    "print('A wind speed of', wind_speed_km, 'km/hr is', wind_speed_ms, 'm/s.')"
   ]
  },
  {
   "cell_type": "code",
   "execution_count": null,
   "metadata": {},
   "outputs": [],
   "source": [
    "# Multiple assertions\n",
    "Несколько утверждений"
   ]
  },
  {
   "cell_type": "code",
   "execution_count": null,
   "metadata": {},
   "outputs": [],
   "source": []
  }
 ],
 "metadata": {
  "kernelspec": {
   "display_name": "Python 3",
   "language": "python",
   "name": "python3"
  },
  "language_info": {
   "codemirror_mode": {
    "name": "ipython",
    "version": 3
   },
   "file_extension": ".py",
   "mimetype": "text/x-python",
   "name": "python",
   "nbconvert_exporter": "python",
   "pygments_lexer": "ipython3",
   "version": "3.6.12"
  }
 },
 "nbformat": 4,
 "nbformat_minor": 4
}
