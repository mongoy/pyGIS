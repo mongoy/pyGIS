{
 "cells": [
  {
   "cell_type": "code",
   "execution_count": 44,
   "metadata": {},
   "outputs": [],
   "source": [
    "# https://geo-python.github.io/site/notebooks/L5/processing-data-with-pandas.html\n",
    "\n",
    "import os\n",
    "import pandas as pd\n",
    "# import matplotlib.pyplot as plt\n",
    "import numpy as np\n",
    "\n",
    "\n",
    "# Текущая директория\n",
    "ROOT_PATH = os.path.abspath(os.curdir)\n"
   ]
  },
  {
   "cell_type": "code",
   "execution_count": 45,
   "metadata": {},
   "outputs": [],
   "source": [
    "# Путь к файлу Kumpula-June-2016-w-metadata.txt\n",
    "file_name = \"Kumpula-June-2016-w-metadata.txt\"\n",
    "DATASET = os.path.join(ROOT_PATH, \"datasets\\\\\") \n",
    "file_path = os.path.join(DATASET, file_name)\n",
    "\n",
    "# чтение файла с пропуском 8ми первых строк\n",
    "df = pd.read_csv(file_path, sep=',', skiprows=8)"
   ]
  },
  {
   "cell_type": "code",
   "execution_count": 46,
   "metadata": {},
   "outputs": [
    {
     "name": "stdout",
     "output_type": "stream",
     "text": [
      "   YEARMODA  TEMP   MAX   MIN\n",
      "0  20160601  65.5  73.6  54.7\n",
      "1  20160602  65.8  80.8  55.0\n",
      "2  20160603  68.4   NaN  55.6\n",
      "3  20160604  57.5  70.9  47.3\n",
      "4  20160605  51.4  58.3  43.2\n"
     ]
    }
   ],
   "source": [
    "# Содержимое файла данных\n",
    "print(df.head())"
   ]
  },
  {
   "cell_type": "markdown",
   "metadata": {},
   "source": [
    "# Обработка данных"
   ]
  },
  {
   "cell_type": "code",
   "execution_count": 47,
   "metadata": {},
   "outputs": [
    {
     "data": {
      "text/html": [
       "<div>\n",
       "<style scoped>\n",
       "    .dataframe tbody tr th:only-of-type {\n",
       "        vertical-align: middle;\n",
       "    }\n",
       "\n",
       "    .dataframe tbody tr th {\n",
       "        vertical-align: top;\n",
       "    }\n",
       "\n",
       "    .dataframe thead th {\n",
       "        text-align: right;\n",
       "    }\n",
       "</style>\n",
       "<table border=\"1\" class=\"dataframe\">\n",
       "  <thead>\n",
       "    <tr style=\"text-align: right;\">\n",
       "      <th></th>\n",
       "      <th>YEARMODA</th>\n",
       "      <th>TEMP</th>\n",
       "      <th>MAX</th>\n",
       "      <th>MIN</th>\n",
       "      <th>DIFF</th>\n",
       "    </tr>\n",
       "  </thead>\n",
       "  <tbody>\n",
       "    <tr>\n",
       "      <th>0</th>\n",
       "      <td>20160601</td>\n",
       "      <td>65.5</td>\n",
       "      <td>73.6</td>\n",
       "      <td>54.7</td>\n",
       "      <td>0.0</td>\n",
       "    </tr>\n",
       "    <tr>\n",
       "      <th>1</th>\n",
       "      <td>20160602</td>\n",
       "      <td>65.8</td>\n",
       "      <td>80.8</td>\n",
       "      <td>55.0</td>\n",
       "      <td>0.0</td>\n",
       "    </tr>\n",
       "    <tr>\n",
       "      <th>2</th>\n",
       "      <td>20160603</td>\n",
       "      <td>68.4</td>\n",
       "      <td>NaN</td>\n",
       "      <td>55.6</td>\n",
       "      <td>0.0</td>\n",
       "    </tr>\n",
       "    <tr>\n",
       "      <th>3</th>\n",
       "      <td>20160604</td>\n",
       "      <td>57.5</td>\n",
       "      <td>70.9</td>\n",
       "      <td>47.3</td>\n",
       "      <td>0.0</td>\n",
       "    </tr>\n",
       "    <tr>\n",
       "      <th>4</th>\n",
       "      <td>20160605</td>\n",
       "      <td>51.4</td>\n",
       "      <td>58.3</td>\n",
       "      <td>43.2</td>\n",
       "      <td>0.0</td>\n",
       "    </tr>\n",
       "  </tbody>\n",
       "</table>\n",
       "</div>"
      ],
      "text/plain": [
       "   YEARMODA  TEMP   MAX   MIN  DIFF\n",
       "0  20160601  65.5  73.6  54.7   0.0\n",
       "1  20160602  65.8  80.8  55.0   0.0\n",
       "2  20160603  68.4   NaN  55.6   0.0\n",
       "3  20160604  57.5  70.9  47.3   0.0\n",
       "4  20160605  51.4  58.3  43.2   0.0"
      ]
     },
     "execution_count": 47,
     "metadata": {},
     "output_type": "execute_result"
    }
   ],
   "source": [
    "# новый столбец и значение по умолчанию 0.0\n",
    "df['DIFF'] = 0.0\n",
    "df.head()"
   ]
  },
  {
   "cell_type": "code",
   "execution_count": 48,
   "metadata": {},
   "outputs": [
    {
     "data": {
      "text/plain": [
       "dtype('float64')"
      ]
     },
     "execution_count": 48,
     "metadata": {},
     "output_type": "execute_result"
    }
   ],
   "source": [
    "# тип данных в новой колонке\n",
    "df['DIFF'].dtypes"
   ]
  },
  {
   "cell_type": "code",
   "execution_count": 49,
   "metadata": {},
   "outputs": [
    {
     "data": {
      "text/html": [
       "<div>\n",
       "<style scoped>\n",
       "    .dataframe tbody tr th:only-of-type {\n",
       "        vertical-align: middle;\n",
       "    }\n",
       "\n",
       "    .dataframe tbody tr th {\n",
       "        vertical-align: top;\n",
       "    }\n",
       "\n",
       "    .dataframe thead th {\n",
       "        text-align: right;\n",
       "    }\n",
       "</style>\n",
       "<table border=\"1\" class=\"dataframe\">\n",
       "  <thead>\n",
       "    <tr style=\"text-align: right;\">\n",
       "      <th></th>\n",
       "      <th>YEARMODA</th>\n",
       "      <th>TEMP</th>\n",
       "      <th>MAX</th>\n",
       "      <th>MIN</th>\n",
       "      <th>DIFF</th>\n",
       "    </tr>\n",
       "  </thead>\n",
       "  <tbody>\n",
       "    <tr>\n",
       "      <th>0</th>\n",
       "      <td>20160601</td>\n",
       "      <td>65.5</td>\n",
       "      <td>73.6</td>\n",
       "      <td>54.7</td>\n",
       "      <td>18.9</td>\n",
       "    </tr>\n",
       "    <tr>\n",
       "      <th>1</th>\n",
       "      <td>20160602</td>\n",
       "      <td>65.8</td>\n",
       "      <td>80.8</td>\n",
       "      <td>55.0</td>\n",
       "      <td>25.8</td>\n",
       "    </tr>\n",
       "    <tr>\n",
       "      <th>2</th>\n",
       "      <td>20160603</td>\n",
       "      <td>68.4</td>\n",
       "      <td>NaN</td>\n",
       "      <td>55.6</td>\n",
       "      <td>NaN</td>\n",
       "    </tr>\n",
       "    <tr>\n",
       "      <th>3</th>\n",
       "      <td>20160604</td>\n",
       "      <td>57.5</td>\n",
       "      <td>70.9</td>\n",
       "      <td>47.3</td>\n",
       "      <td>23.6</td>\n",
       "    </tr>\n",
       "    <tr>\n",
       "      <th>4</th>\n",
       "      <td>20160605</td>\n",
       "      <td>51.4</td>\n",
       "      <td>58.3</td>\n",
       "      <td>43.2</td>\n",
       "      <td>15.1</td>\n",
       "    </tr>\n",
       "  </tbody>\n",
       "</table>\n",
       "</div>"
      ],
      "text/plain": [
       "   YEARMODA  TEMP   MAX   MIN  DIFF\n",
       "0  20160601  65.5  73.6  54.7  18.9\n",
       "1  20160602  65.8  80.8  55.0  25.8\n",
       "2  20160603  68.4   NaN  55.6   NaN\n",
       "3  20160604  57.5  70.9  47.3  23.6\n",
       "4  20160605  51.4  58.3  43.2  15.1"
      ]
     },
     "execution_count": 49,
     "metadata": {},
     "output_type": "execute_result"
    }
   ],
   "source": [
    "# новый столбец и значение разность температур\n",
    "df['DIFF'] = df[\"MAX\"] - df[\"MIN\"]\n",
    "df.head()"
   ]
  },
  {
   "cell_type": "code",
   "execution_count": 50,
   "metadata": {},
   "outputs": [
    {
     "data": {
      "text/html": [
       "<div>\n",
       "<style scoped>\n",
       "    .dataframe tbody tr th:only-of-type {\n",
       "        vertical-align: middle;\n",
       "    }\n",
       "\n",
       "    .dataframe tbody tr th {\n",
       "        vertical-align: top;\n",
       "    }\n",
       "\n",
       "    .dataframe thead th {\n",
       "        text-align: right;\n",
       "    }\n",
       "</style>\n",
       "<table border=\"1\" class=\"dataframe\">\n",
       "  <thead>\n",
       "    <tr style=\"text-align: right;\">\n",
       "      <th></th>\n",
       "      <th>YEARMODA</th>\n",
       "      <th>TEMP</th>\n",
       "      <th>MAX</th>\n",
       "      <th>MIN</th>\n",
       "      <th>DIFF</th>\n",
       "      <th>DIFF_MIN</th>\n",
       "    </tr>\n",
       "  </thead>\n",
       "  <tbody>\n",
       "    <tr>\n",
       "      <th>0</th>\n",
       "      <td>20160601</td>\n",
       "      <td>65.5</td>\n",
       "      <td>73.6</td>\n",
       "      <td>54.7</td>\n",
       "      <td>18.9</td>\n",
       "      <td>10.8</td>\n",
       "    </tr>\n",
       "    <tr>\n",
       "      <th>1</th>\n",
       "      <td>20160602</td>\n",
       "      <td>65.8</td>\n",
       "      <td>80.8</td>\n",
       "      <td>55.0</td>\n",
       "      <td>25.8</td>\n",
       "      <td>10.8</td>\n",
       "    </tr>\n",
       "    <tr>\n",
       "      <th>2</th>\n",
       "      <td>20160603</td>\n",
       "      <td>68.4</td>\n",
       "      <td>NaN</td>\n",
       "      <td>55.6</td>\n",
       "      <td>NaN</td>\n",
       "      <td>12.8</td>\n",
       "    </tr>\n",
       "    <tr>\n",
       "      <th>3</th>\n",
       "      <td>20160604</td>\n",
       "      <td>57.5</td>\n",
       "      <td>70.9</td>\n",
       "      <td>47.3</td>\n",
       "      <td>23.6</td>\n",
       "      <td>10.2</td>\n",
       "    </tr>\n",
       "    <tr>\n",
       "      <th>4</th>\n",
       "      <td>20160605</td>\n",
       "      <td>51.4</td>\n",
       "      <td>58.3</td>\n",
       "      <td>43.2</td>\n",
       "      <td>15.1</td>\n",
       "      <td>8.2</td>\n",
       "    </tr>\n",
       "  </tbody>\n",
       "</table>\n",
       "</div>"
      ],
      "text/plain": [
       "   YEARMODA  TEMP   MAX   MIN  DIFF  DIFF_MIN\n",
       "0  20160601  65.5  73.6  54.7  18.9      10.8\n",
       "1  20160602  65.8  80.8  55.0  25.8      10.8\n",
       "2  20160603  68.4   NaN  55.6   NaN      12.8\n",
       "3  20160604  57.5  70.9  47.3  23.6      10.2\n",
       "4  20160605  51.4  58.3  43.2  15.1       8.2"
      ]
     },
     "execution_count": 50,
     "metadata": {},
     "output_type": "execute_result"
    }
   ],
   "source": [
    "# новый столбец и значение разность температур\n",
    "df['DIFF_MIN'] = df['TEMP'] - df['MIN']\n",
    "df.head()"
   ]
  },
  {
   "cell_type": "code",
   "execution_count": 51,
   "metadata": {},
   "outputs": [
    {
     "name": "stdout",
     "output_type": "stream",
     "text": [
      "<class 'pandas.core.frame.DataFrame'>\n",
      "RangeIndex: 30 entries, 0 to 29\n",
      "Data columns (total 6 columns):\n",
      " #   Column    Non-Null Count  Dtype  \n",
      "---  ------    --------------  -----  \n",
      " 0   YEARMODA  30 non-null     int64  \n",
      " 1   TEMP      30 non-null     float64\n",
      " 2   MAX       27 non-null     float64\n",
      " 3   MIN       28 non-null     float64\n",
      " 4   DIFF      25 non-null     float64\n",
      " 5   DIFF_MIN  28 non-null     float64\n",
      "dtypes: float64(5), int64(1)\n",
      "memory usage: 1.5 KB\n"
     ]
    }
   ],
   "source": [
    "# Общая информация о данных таблицы df.\n",
    "df.info()"
   ]
  },
  {
   "cell_type": "code",
   "execution_count": 52,
   "metadata": {},
   "outputs": [
    {
     "name": "stdout",
     "output_type": "stream",
     "text": [
      "   YEARMODA  TEMP   MAX   MIN  DIFF  DIFF_MIN  TEMP_CELSIUS\n",
      "0  20160601  65.5  73.6  54.7  18.9      10.8     18.611111\n",
      "1  20160602  65.8  80.8  55.0  25.8      10.8     18.777778\n",
      "2  20160603  68.4   NaN  55.6   NaN      12.8     20.222222\n",
      "3  20160604  57.5  70.9  47.3  23.6      10.2     14.166667\n",
      "4  20160605  51.4  58.3  43.2  15.1       8.2     10.777778\n"
     ]
    }
   ],
   "source": [
    "# Создайте новый столбец и преобразуйте temp fahrenheit в celsius:\n",
    "df['TEMP_CELSIUS'] = (df['TEMP'] - 32) / (9/5)\n",
    "\n",
    "#Проверьте вывод\n",
    "print(df.head())\n"
   ]
  },
  {
   "cell_type": "markdown",
   "metadata": {},
   "source": [
    "## ЗАДАЧА:"
   ]
  },
  {
   "cell_type": "code",
   "execution_count": 53,
   "metadata": {},
   "outputs": [
    {
     "name": "stdout",
     "output_type": "stream",
     "text": [
      "   YEARMODA  TEMP   MAX   MIN  DIFF  DIFF_MIN  TEMP_CELSIUS  TEMP_KELVIN\n",
      "0  20160601  65.5  73.6  54.7  18.9      10.8     18.611111  -254.538889\n",
      "1  20160602  65.8  80.8  55.0  25.8      10.8     18.777778  -254.372222\n",
      "2  20160603  68.4   NaN  55.6   NaN      12.8     20.222222  -252.927778\n",
      "3  20160604  57.5  70.9  47.3  23.6      10.2     14.166667  -258.983333\n",
      "4  20160605  51.4  58.3  43.2  15.1       8.2     10.777778  -262.372222\n"
     ]
    }
   ],
   "source": [
    "# Создайте новый столбец и преобразуйте temp цельсий в кельвин:\n",
    "df[\"TEMP_KELVIN\"] = df['TEMP_CELSIUS'] - 273.15 \n",
    "\n",
    "#Проверьте вывод\n",
    "print(df.head())\n"
   ]
  },
  {
   "cell_type": "markdown",
   "metadata": {},
   "source": [
    "# Выбор строк и столбцов:"
   ]
  },
  {
   "cell_type": "markdown",
   "metadata": {},
   "source": [
    "- Выбор нескольких строк:"
   ]
  },
  {
   "cell_type": "code",
   "execution_count": 54,
   "metadata": {},
   "outputs": [
    {
     "name": "stdout",
     "output_type": "stream",
     "text": [
      "   YEARMODA  TEMP   MAX   MIN  DIFF  DIFF_MIN  TEMP_CELSIUS  TEMP_KELVIN\n",
      "1  20160602  65.8  80.8  55.0  25.8      10.8     18.777778  -254.372222\n",
      "2  20160603  68.4   NaN  55.6   NaN      12.8     20.222222  -252.927778\n"
     ]
    }
   ],
   "source": [
    "# Выберите первые пять строк фрейма данных, используя значения Индекса\n",
    "selection = df[1:3]\n",
    "\n",
    "print(selection)\n"
   ]
  },
  {
   "cell_type": "markdown",
   "metadata": {},
   "source": [
    "- Выбор нескольких строк и столбцов:"
   ]
  },
  {
   "cell_type": "code",
   "execution_count": 55,
   "metadata": {},
   "outputs": [
    {
     "name": "stdout",
     "output_type": "stream",
     "text": [
      "1    25.8\n",
      "2     NaN\n",
      "3    23.6\n",
      "4    15.1\n",
      "Name: DIFF, dtype: float64\n"
     ]
    }
   ],
   "source": [
    "# выборка по четырём строкам и колонке \"DIFF\"\n",
    "selection = df.loc[1:4, \"DIFF\"]\n",
    "print(selection)"
   ]
  },
  {
   "cell_type": "code",
   "execution_count": 56,
   "metadata": {},
   "outputs": [
    {
     "name": "stdout",
     "output_type": "stream",
     "text": [
      "    MAX   MIN  DIFF\n",
      "1  80.8  55.0  25.8\n",
      "2   NaN  55.6   NaN\n",
      "3  70.9  47.3  23.6\n",
      "4  58.3  43.2  15.1\n"
     ]
    }
   ],
   "source": [
    "# выборка по четырём строкам и колонкам \"MAX\" \"MIN\" \"DIFF\"\n",
    "selection = df.loc[1:4, [\"MAX\", \"MIN\", \"DIFF\"]]\n",
    "print(selection)"
   ]
  },
  {
   "cell_type": "markdown",
   "metadata": {},
   "source": [
    "- Выбор по одной строке:"
   ]
  },
  {
   "cell_type": "code",
   "execution_count": 57,
   "metadata": {},
   "outputs": [
    {
     "name": "stdout",
     "output_type": "stream",
     "text": [
      "YEARMODA        2.016060e+07\n",
      "TEMP            5.140000e+01\n",
      "MAX             5.830000e+01\n",
      "MIN             4.320000e+01\n",
      "DIFF            1.510000e+01\n",
      "DIFF_MIN        8.200000e+00\n",
      "TEMP_CELSIUS    1.077778e+01\n",
      "TEMP_KELVIN    -2.623722e+02\n",
      "Name: 4, dtype: float64\n"
     ]
    }
   ],
   "source": [
    "# Выберите одну строку, используя index\n",
    "selection = df.loc[4]\n",
    "\n",
    "print(selection)\n"
   ]
  },
  {
   "cell_type": "markdown",
   "metadata": {},
   "source": [
    "- Выбор по одной колонке из одной строки:"
   ]
  },
  {
   "cell_type": "code",
   "execution_count": 58,
   "metadata": {},
   "outputs": [
    {
     "name": "stdout",
     "output_type": "stream",
     "text": [
      "51.4\n"
     ]
    }
   ],
   "source": [
    "# Выберите одну колонку\n",
    "print(selection[\"TEMP\"])"
   ]
  },
  {
   "cell_type": "markdown",
   "metadata": {},
   "source": [
    "## ЗАДАЧА: \n",
    "Средняя температура за последние семь дней июня (используйте индексацию loc для выбора правильных строк):"
   ]
  },
  {
   "cell_type": "code",
   "execution_count": 59,
   "metadata": {},
   "outputs": [
    {
     "name": "stdout",
     "output_type": "stream",
     "text": [
      "23    61.1\n",
      "24    65.7\n",
      "25    69.6\n",
      "26    60.7\n",
      "27    65.4\n",
      "28    65.8\n",
      "29    65.7\n",
      "Name: TEMP, dtype: float64\n",
      "64.85714285714286\n"
     ]
    }
   ],
   "source": [
    "# вариант без loc\n",
    "df_temp = df[-7:]\n",
    "print(df_temp[\"TEMP\"])\n",
    "print(df_temp[\"TEMP\"].mean())"
   ]
  },
  {
   "cell_type": "code",
   "execution_count": 60,
   "metadata": {},
   "outputs": [
    {
     "name": "stdout",
     "output_type": "stream",
     "text": [
      "23    61.1\n",
      "24    65.7\n",
      "25    69.6\n",
      "26    60.7\n",
      "27    65.4\n",
      "28    65.8\n",
      "29    65.7\n",
      "Name: TEMP, dtype: float64\n",
      "64.85714285714286\n"
     ]
    }
   ],
   "source": [
    "# вариант с loc\n",
    "df_temp = df.loc[23:]\n",
    "print(df_temp[\"TEMP\"])\n",
    "print(df_temp[\"TEMP\"].mean())"
   ]
  },
  {
   "cell_type": "code",
   "execution_count": 61,
   "metadata": {},
   "outputs": [
    {
     "name": "stdout",
     "output_type": "stream",
     "text": [
      "TEMP    64.857143\n",
      "dtype: float64\n"
     ]
    }
   ],
   "source": [
    "# индексы целые числа\n",
    "df_temp = df.iloc[-7:, 1:2]\n",
    "print(df_temp.mean())"
   ]
  },
  {
   "cell_type": "markdown",
   "metadata": {},
   "source": [
    "# Фильтрация и обновление данных"
   ]
  },
  {
   "cell_type": "code",
   "execution_count": 62,
   "metadata": {},
   "outputs": [
    {
     "name": "stdout",
     "output_type": "stream",
     "text": [
      "    YEARMODA  TEMP   MAX   MIN  DIFF  DIFF_MIN  TEMP_CELSIUS  TEMP_KELVIN\n",
      "16  20160617  60.4  70.7  55.9  14.8       4.5     15.777778  -257.372222\n",
      "19  20160620  59.3  69.1  52.2  16.9       7.1     15.166667  -257.983333\n",
      "20  20160621  62.6  71.4  50.4  21.0      12.2     17.000000  -256.150000\n",
      "21  20160622  61.7  70.2  55.4  14.8       6.3     16.500000  -256.650000\n",
      "22  20160623  60.9  67.1  54.9  12.2       6.0     16.055556  -257.094444\n",
      "23  20160624  61.1  68.9  56.7  12.2       4.4     16.166667  -256.983333\n",
      "24  20160625  65.7  75.4  57.9  17.5       7.8     18.722222  -254.427778\n",
      "25  20160626  69.6  77.7  60.3  17.4       9.3     20.888889  -252.261111\n",
      "26  20160627  60.7  70.0   NaN   NaN       NaN     15.944444  -257.205556\n",
      "27  20160628  65.4  73.0  55.8  17.2       9.6     18.555556  -254.594444\n",
      "28  20160629  65.8  73.2   NaN   NaN       NaN     18.777778  -254.372222\n",
      "29  20160630  65.7  72.7  59.2  13.5       6.5     18.722222  -254.427778\n"
     ]
    }
   ],
   "source": [
    "# Выберите строки с температурой Цельсия выше 15 градусов с конца июня 2016 года\n",
    "warm_temps = df.loc[(df[\"TEMP_CELSIUS\"] > 15)&(df[\"YEARMODA\"] >= 20160616)]\n",
    "print(warm_temps)"
   ]
  },
  {
   "cell_type": "markdown",
   "metadata": {},
   "source": [
    "## ЗАДАЧА:\n",
    "Найдите средние температуры (в градусах Цельсия) за последние семь дней июня. Теперь выберите строки, основанные на условии для YEARMODAстолбца!"
   ]
  },
  {
   "cell_type": "code",
   "execution_count": 91,
   "metadata": {},
   "outputs": [
    {
     "name": "stdout",
     "output_type": "stream",
     "text": [
      "17.979166666666668\n",
      "17.98\n"
     ]
    }
   ],
   "source": [
    "# Средняя температура за последние семь дней июня (используйте условный оператор для выбора правильных строк):\n",
    "warm_temps = df.loc[df[\"YEARMODA\"] >= 20160623]\n",
    "print(warm_temps[\"TEMP_CELSIUS\"].mean())\n",
    "print(warm_temps[\"TEMP_CELSIUS\"].mean().round(2))"
   ]
  },
  {
   "cell_type": "markdown",
   "metadata": {},
   "source": [
    "# Работа с недостающими данными:"
   ]
  },
  {
   "cell_type": "markdown",
   "metadata": {},
   "source": [
    "- Удаление всех сток с NaN"
   ]
  },
  {
   "cell_type": "code",
   "execution_count": 64,
   "metadata": {},
   "outputs": [
    {
     "name": "stdout",
     "output_type": "stream",
     "text": [
      "    YEARMODA  TEMP   MAX   MIN  DIFF  DIFF_MIN  TEMP_CELSIUS  TEMP_KELVIN\n",
      "16  20160617  60.4  70.7  55.9  14.8       4.5     15.777778  -257.372222\n",
      "19  20160620  59.3  69.1  52.2  16.9       7.1     15.166667  -257.983333\n",
      "20  20160621  62.6  71.4  50.4  21.0      12.2     17.000000  -256.150000\n",
      "21  20160622  61.7  70.2  55.4  14.8       6.3     16.500000  -256.650000\n",
      "22  20160623  60.9  67.1  54.9  12.2       6.0     16.055556  -257.094444\n",
      "23  20160624  61.1  68.9  56.7  12.2       4.4     16.166667  -256.983333\n",
      "24  20160625  65.7  75.4  57.9  17.5       7.8     18.722222  -254.427778\n",
      "25  20160626  69.6  77.7  60.3  17.4       9.3     20.888889  -252.261111\n",
      "26  20160627  60.7  70.0   NaN   NaN       NaN     15.944444  -257.205556\n",
      "27  20160628  65.4  73.0  55.8  17.2       9.6     18.555556  -254.594444\n",
      "28  20160629  65.8  73.2   NaN   NaN       NaN     18.777778  -254.372222\n",
      "29  20160630  65.7  72.7  59.2  13.5       6.5     18.722222  -254.427778\n"
     ]
    }
   ],
   "source": [
    "warm_temps = df.loc[(df[\"TEMP_CELSIUS\"] > 15)&(df[\"YEARMODA\"] >= 20160616)]\n",
    "print(warm_temps)"
   ]
  },
  {
   "cell_type": "code",
   "execution_count": 65,
   "metadata": {},
   "outputs": [
    {
     "name": "stdout",
     "output_type": "stream",
     "text": [
      "    YEARMODA  TEMP   MAX   MIN  DIFF  DIFF_MIN  TEMP_CELSIUS  TEMP_KELVIN\n",
      "0   20160617  60.4  70.7  55.9  14.8       4.5     15.777778  -257.372222\n",
      "1   20160620  59.3  69.1  52.2  16.9       7.1     15.166667  -257.983333\n",
      "2   20160621  62.6  71.4  50.4  21.0      12.2     17.000000  -256.150000\n",
      "3   20160622  61.7  70.2  55.4  14.8       6.3     16.500000  -256.650000\n",
      "4   20160623  60.9  67.1  54.9  12.2       6.0     16.055556  -257.094444\n",
      "5   20160624  61.1  68.9  56.7  12.2       4.4     16.166667  -256.983333\n",
      "6   20160625  65.7  75.4  57.9  17.5       7.8     18.722222  -254.427778\n",
      "7   20160626  69.6  77.7  60.3  17.4       9.3     20.888889  -252.261111\n",
      "8   20160627  60.7  70.0   NaN   NaN       NaN     15.944444  -257.205556\n",
      "9   20160628  65.4  73.0  55.8  17.2       9.6     18.555556  -254.594444\n",
      "10  20160629  65.8  73.2   NaN   NaN       NaN     18.777778  -254.372222\n",
      "11  20160630  65.7  72.7  59.2  13.5       6.5     18.722222  -254.427778\n"
     ]
    }
   ],
   "source": [
    "# Reset index\n",
    "warm_temps1 = warm_temps.reset_index(drop=True)\n",
    "print(warm_temps1)"
   ]
  },
  {
   "cell_type": "code",
   "execution_count": 74,
   "metadata": {},
   "outputs": [
    {
     "data": {
      "text/html": [
       "<div>\n",
       "<style scoped>\n",
       "    .dataframe tbody tr th:only-of-type {\n",
       "        vertical-align: middle;\n",
       "    }\n",
       "\n",
       "    .dataframe tbody tr th {\n",
       "        vertical-align: top;\n",
       "    }\n",
       "\n",
       "    .dataframe thead th {\n",
       "        text-align: right;\n",
       "    }\n",
       "</style>\n",
       "<table border=\"1\" class=\"dataframe\">\n",
       "  <thead>\n",
       "    <tr style=\"text-align: right;\">\n",
       "      <th></th>\n",
       "      <th>YEARMODA</th>\n",
       "      <th>TEMP</th>\n",
       "      <th>MAX</th>\n",
       "      <th>MIN</th>\n",
       "      <th>DIFF</th>\n",
       "      <th>DIFF_MIN</th>\n",
       "      <th>TEMP_CELSIUS</th>\n",
       "      <th>TEMP_KELVIN</th>\n",
       "    </tr>\n",
       "  </thead>\n",
       "  <tbody>\n",
       "    <tr>\n",
       "      <th>0</th>\n",
       "      <td>False</td>\n",
       "      <td>False</td>\n",
       "      <td>False</td>\n",
       "      <td>False</td>\n",
       "      <td>False</td>\n",
       "      <td>False</td>\n",
       "      <td>False</td>\n",
       "      <td>False</td>\n",
       "    </tr>\n",
       "    <tr>\n",
       "      <th>1</th>\n",
       "      <td>False</td>\n",
       "      <td>False</td>\n",
       "      <td>False</td>\n",
       "      <td>False</td>\n",
       "      <td>False</td>\n",
       "      <td>False</td>\n",
       "      <td>False</td>\n",
       "      <td>False</td>\n",
       "    </tr>\n",
       "    <tr>\n",
       "      <th>2</th>\n",
       "      <td>False</td>\n",
       "      <td>False</td>\n",
       "      <td>False</td>\n",
       "      <td>False</td>\n",
       "      <td>False</td>\n",
       "      <td>False</td>\n",
       "      <td>False</td>\n",
       "      <td>False</td>\n",
       "    </tr>\n",
       "    <tr>\n",
       "      <th>3</th>\n",
       "      <td>False</td>\n",
       "      <td>False</td>\n",
       "      <td>False</td>\n",
       "      <td>False</td>\n",
       "      <td>False</td>\n",
       "      <td>False</td>\n",
       "      <td>False</td>\n",
       "      <td>False</td>\n",
       "    </tr>\n",
       "    <tr>\n",
       "      <th>4</th>\n",
       "      <td>False</td>\n",
       "      <td>False</td>\n",
       "      <td>False</td>\n",
       "      <td>False</td>\n",
       "      <td>False</td>\n",
       "      <td>False</td>\n",
       "      <td>False</td>\n",
       "      <td>False</td>\n",
       "    </tr>\n",
       "    <tr>\n",
       "      <th>5</th>\n",
       "      <td>False</td>\n",
       "      <td>False</td>\n",
       "      <td>False</td>\n",
       "      <td>False</td>\n",
       "      <td>False</td>\n",
       "      <td>False</td>\n",
       "      <td>False</td>\n",
       "      <td>False</td>\n",
       "    </tr>\n",
       "    <tr>\n",
       "      <th>6</th>\n",
       "      <td>False</td>\n",
       "      <td>False</td>\n",
       "      <td>False</td>\n",
       "      <td>False</td>\n",
       "      <td>False</td>\n",
       "      <td>False</td>\n",
       "      <td>False</td>\n",
       "      <td>False</td>\n",
       "    </tr>\n",
       "    <tr>\n",
       "      <th>7</th>\n",
       "      <td>False</td>\n",
       "      <td>False</td>\n",
       "      <td>False</td>\n",
       "      <td>False</td>\n",
       "      <td>False</td>\n",
       "      <td>False</td>\n",
       "      <td>False</td>\n",
       "      <td>False</td>\n",
       "    </tr>\n",
       "    <tr>\n",
       "      <th>8</th>\n",
       "      <td>False</td>\n",
       "      <td>False</td>\n",
       "      <td>False</td>\n",
       "      <td>True</td>\n",
       "      <td>True</td>\n",
       "      <td>True</td>\n",
       "      <td>False</td>\n",
       "      <td>False</td>\n",
       "    </tr>\n",
       "    <tr>\n",
       "      <th>9</th>\n",
       "      <td>False</td>\n",
       "      <td>False</td>\n",
       "      <td>False</td>\n",
       "      <td>False</td>\n",
       "      <td>False</td>\n",
       "      <td>False</td>\n",
       "      <td>False</td>\n",
       "      <td>False</td>\n",
       "    </tr>\n",
       "    <tr>\n",
       "      <th>10</th>\n",
       "      <td>False</td>\n",
       "      <td>False</td>\n",
       "      <td>False</td>\n",
       "      <td>True</td>\n",
       "      <td>True</td>\n",
       "      <td>True</td>\n",
       "      <td>False</td>\n",
       "      <td>False</td>\n",
       "    </tr>\n",
       "    <tr>\n",
       "      <th>11</th>\n",
       "      <td>False</td>\n",
       "      <td>False</td>\n",
       "      <td>False</td>\n",
       "      <td>False</td>\n",
       "      <td>False</td>\n",
       "      <td>False</td>\n",
       "      <td>False</td>\n",
       "      <td>False</td>\n",
       "    </tr>\n",
       "  </tbody>\n",
       "</table>\n",
       "</div>"
      ],
      "text/plain": [
       "    YEARMODA   TEMP    MAX    MIN   DIFF  DIFF_MIN  TEMP_CELSIUS  TEMP_KELVIN\n",
       "0      False  False  False  False  False     False         False        False\n",
       "1      False  False  False  False  False     False         False        False\n",
       "2      False  False  False  False  False     False         False        False\n",
       "3      False  False  False  False  False     False         False        False\n",
       "4      False  False  False  False  False     False         False        False\n",
       "5      False  False  False  False  False     False         False        False\n",
       "6      False  False  False  False  False     False         False        False\n",
       "7      False  False  False  False  False     False         False        False\n",
       "8      False  False  False   True   True      True         False        False\n",
       "9      False  False  False  False  False     False         False        False\n",
       "10     False  False  False   True   True      True         False        False\n",
       "11     False  False  False  False  False     False         False        False"
      ]
     },
     "execution_count": 74,
     "metadata": {},
     "output_type": "execute_result"
    }
   ],
   "source": [
    "# наличие элементов NaN в структурах\n",
    "warm_temps1.isnull()"
   ]
  },
  {
   "cell_type": "code",
   "execution_count": 75,
   "metadata": {},
   "outputs": [
    {
     "data": {
      "text/plain": [
       "YEARMODA        0\n",
       "TEMP            0\n",
       "MAX             0\n",
       "MIN             2\n",
       "DIFF            2\n",
       "DIFF_MIN        2\n",
       "TEMP_CELSIUS    0\n",
       "TEMP_KELVIN     0\n",
       "dtype: int64"
      ]
     },
     "execution_count": 75,
     "metadata": {},
     "output_type": "execute_result"
    }
   ],
   "source": [
    "# количество элементов NaN в структурах по столбцам\n",
    "warm_temps1.isnull().sum()"
   ]
  },
  {
   "cell_type": "code",
   "execution_count": 80,
   "metadata": {},
   "outputs": [
    {
     "data": {
      "text/html": [
       "<div>\n",
       "<style scoped>\n",
       "    .dataframe tbody tr th:only-of-type {\n",
       "        vertical-align: middle;\n",
       "    }\n",
       "\n",
       "    .dataframe tbody tr th {\n",
       "        vertical-align: top;\n",
       "    }\n",
       "\n",
       "    .dataframe thead th {\n",
       "        text-align: right;\n",
       "    }\n",
       "</style>\n",
       "<table border=\"1\" class=\"dataframe\">\n",
       "  <thead>\n",
       "    <tr style=\"text-align: right;\">\n",
       "      <th></th>\n",
       "      <th>YEARMODA</th>\n",
       "      <th>TEMP</th>\n",
       "      <th>MAX</th>\n",
       "      <th>MIN</th>\n",
       "      <th>DIFF</th>\n",
       "      <th>DIFF_MIN</th>\n",
       "      <th>TEMP_CELSIUS</th>\n",
       "      <th>TEMP_KELVIN</th>\n",
       "    </tr>\n",
       "  </thead>\n",
       "  <tbody>\n",
       "    <tr>\n",
       "      <th>0</th>\n",
       "      <td>20160617</td>\n",
       "      <td>60.4</td>\n",
       "      <td>70.7</td>\n",
       "      <td>55.9</td>\n",
       "      <td>14.8</td>\n",
       "      <td>4.5</td>\n",
       "      <td>15.777778</td>\n",
       "      <td>-257.372222</td>\n",
       "    </tr>\n",
       "    <tr>\n",
       "      <th>1</th>\n",
       "      <td>20160620</td>\n",
       "      <td>59.3</td>\n",
       "      <td>69.1</td>\n",
       "      <td>52.2</td>\n",
       "      <td>16.9</td>\n",
       "      <td>7.1</td>\n",
       "      <td>15.166667</td>\n",
       "      <td>-257.983333</td>\n",
       "    </tr>\n",
       "    <tr>\n",
       "      <th>2</th>\n",
       "      <td>20160621</td>\n",
       "      <td>62.6</td>\n",
       "      <td>71.4</td>\n",
       "      <td>50.4</td>\n",
       "      <td>21.0</td>\n",
       "      <td>12.2</td>\n",
       "      <td>17.000000</td>\n",
       "      <td>-256.150000</td>\n",
       "    </tr>\n",
       "    <tr>\n",
       "      <th>3</th>\n",
       "      <td>20160622</td>\n",
       "      <td>61.7</td>\n",
       "      <td>70.2</td>\n",
       "      <td>55.4</td>\n",
       "      <td>14.8</td>\n",
       "      <td>6.3</td>\n",
       "      <td>16.500000</td>\n",
       "      <td>-256.650000</td>\n",
       "    </tr>\n",
       "    <tr>\n",
       "      <th>4</th>\n",
       "      <td>20160623</td>\n",
       "      <td>60.9</td>\n",
       "      <td>67.1</td>\n",
       "      <td>54.9</td>\n",
       "      <td>12.2</td>\n",
       "      <td>6.0</td>\n",
       "      <td>16.055556</td>\n",
       "      <td>-257.094444</td>\n",
       "    </tr>\n",
       "    <tr>\n",
       "      <th>5</th>\n",
       "      <td>20160624</td>\n",
       "      <td>61.1</td>\n",
       "      <td>68.9</td>\n",
       "      <td>56.7</td>\n",
       "      <td>12.2</td>\n",
       "      <td>4.4</td>\n",
       "      <td>16.166667</td>\n",
       "      <td>-256.983333</td>\n",
       "    </tr>\n",
       "    <tr>\n",
       "      <th>6</th>\n",
       "      <td>20160625</td>\n",
       "      <td>65.7</td>\n",
       "      <td>75.4</td>\n",
       "      <td>57.9</td>\n",
       "      <td>17.5</td>\n",
       "      <td>7.8</td>\n",
       "      <td>18.722222</td>\n",
       "      <td>-254.427778</td>\n",
       "    </tr>\n",
       "    <tr>\n",
       "      <th>7</th>\n",
       "      <td>20160626</td>\n",
       "      <td>69.6</td>\n",
       "      <td>77.7</td>\n",
       "      <td>60.3</td>\n",
       "      <td>17.4</td>\n",
       "      <td>9.3</td>\n",
       "      <td>20.888889</td>\n",
       "      <td>-252.261111</td>\n",
       "    </tr>\n",
       "    <tr>\n",
       "      <th>9</th>\n",
       "      <td>20160628</td>\n",
       "      <td>65.4</td>\n",
       "      <td>73.0</td>\n",
       "      <td>55.8</td>\n",
       "      <td>17.2</td>\n",
       "      <td>9.6</td>\n",
       "      <td>18.555556</td>\n",
       "      <td>-254.594444</td>\n",
       "    </tr>\n",
       "    <tr>\n",
       "      <th>11</th>\n",
       "      <td>20160630</td>\n",
       "      <td>65.7</td>\n",
       "      <td>72.7</td>\n",
       "      <td>59.2</td>\n",
       "      <td>13.5</td>\n",
       "      <td>6.5</td>\n",
       "      <td>18.722222</td>\n",
       "      <td>-254.427778</td>\n",
       "    </tr>\n",
       "  </tbody>\n",
       "</table>\n",
       "</div>"
      ],
      "text/plain": [
       "    YEARMODA  TEMP   MAX   MIN  DIFF  DIFF_MIN  TEMP_CELSIUS  TEMP_KELVIN\n",
       "0   20160617  60.4  70.7  55.9  14.8       4.5     15.777778  -257.372222\n",
       "1   20160620  59.3  69.1  52.2  16.9       7.1     15.166667  -257.983333\n",
       "2   20160621  62.6  71.4  50.4  21.0      12.2     17.000000  -256.150000\n",
       "3   20160622  61.7  70.2  55.4  14.8       6.3     16.500000  -256.650000\n",
       "4   20160623  60.9  67.1  54.9  12.2       6.0     16.055556  -257.094444\n",
       "5   20160624  61.1  68.9  56.7  12.2       4.4     16.166667  -256.983333\n",
       "6   20160625  65.7  75.4  57.9  17.5       7.8     18.722222  -254.427778\n",
       "7   20160626  69.6  77.7  60.3  17.4       9.3     20.888889  -252.261111\n",
       "9   20160628  65.4  73.0  55.8  17.2       9.6     18.555556  -254.594444\n",
       "11  20160630  65.7  72.7  59.2  13.5       6.5     18.722222  -254.427778"
      ]
     },
     "execution_count": 80,
     "metadata": {},
     "output_type": "execute_result"
    }
   ],
   "source": [
    "# удалятся строки 8 и 10\n",
    "df_rez = warm_temps1.dropna(subset=[\"MIN\"])\n",
    "df_rez\n",
    "# print(warm_temps)"
   ]
  },
  {
   "cell_type": "code",
   "execution_count": 81,
   "metadata": {},
   "outputs": [
    {
     "data": {
      "text/plain": [
       "YEARMODA        0\n",
       "TEMP            0\n",
       "MAX             0\n",
       "MIN             0\n",
       "DIFF            0\n",
       "DIFF_MIN        0\n",
       "TEMP_CELSIUS    0\n",
       "TEMP_KELVIN     0\n",
       "dtype: int64"
      ]
     },
     "execution_count": 81,
     "metadata": {},
     "output_type": "execute_result"
    }
   ],
   "source": [
    "# проверка количества элементов NaN в структурах по столбцам\n",
    "df_rez.isnull().sum()"
   ]
  },
  {
   "cell_type": "markdown",
   "metadata": {},
   "source": [
    " - Удаление столбцов с NaN"
   ]
  },
  {
   "cell_type": "code",
   "execution_count": 82,
   "metadata": {},
   "outputs": [
    {
     "data": {
      "text/html": [
       "<div>\n",
       "<style scoped>\n",
       "    .dataframe tbody tr th:only-of-type {\n",
       "        vertical-align: middle;\n",
       "    }\n",
       "\n",
       "    .dataframe tbody tr th {\n",
       "        vertical-align: top;\n",
       "    }\n",
       "\n",
       "    .dataframe thead th {\n",
       "        text-align: right;\n",
       "    }\n",
       "</style>\n",
       "<table border=\"1\" class=\"dataframe\">\n",
       "  <thead>\n",
       "    <tr style=\"text-align: right;\">\n",
       "      <th></th>\n",
       "      <th>YEARMODA</th>\n",
       "      <th>TEMP</th>\n",
       "      <th>MAX</th>\n",
       "      <th>MIN</th>\n",
       "      <th>DIFF</th>\n",
       "      <th>DIFF_MIN</th>\n",
       "      <th>TEMP_CELSIUS</th>\n",
       "      <th>TEMP_KELVIN</th>\n",
       "    </tr>\n",
       "  </thead>\n",
       "  <tbody>\n",
       "    <tr>\n",
       "      <th>0</th>\n",
       "      <td>20160617</td>\n",
       "      <td>60.4</td>\n",
       "      <td>70.7</td>\n",
       "      <td>55.9</td>\n",
       "      <td>14.8</td>\n",
       "      <td>4.5</td>\n",
       "      <td>15.777778</td>\n",
       "      <td>-257.372222</td>\n",
       "    </tr>\n",
       "    <tr>\n",
       "      <th>1</th>\n",
       "      <td>20160620</td>\n",
       "      <td>59.3</td>\n",
       "      <td>69.1</td>\n",
       "      <td>52.2</td>\n",
       "      <td>16.9</td>\n",
       "      <td>7.1</td>\n",
       "      <td>15.166667</td>\n",
       "      <td>-257.983333</td>\n",
       "    </tr>\n",
       "    <tr>\n",
       "      <th>2</th>\n",
       "      <td>20160621</td>\n",
       "      <td>62.6</td>\n",
       "      <td>71.4</td>\n",
       "      <td>50.4</td>\n",
       "      <td>21.0</td>\n",
       "      <td>12.2</td>\n",
       "      <td>17.000000</td>\n",
       "      <td>-256.150000</td>\n",
       "    </tr>\n",
       "    <tr>\n",
       "      <th>3</th>\n",
       "      <td>20160622</td>\n",
       "      <td>61.7</td>\n",
       "      <td>70.2</td>\n",
       "      <td>55.4</td>\n",
       "      <td>14.8</td>\n",
       "      <td>6.3</td>\n",
       "      <td>16.500000</td>\n",
       "      <td>-256.650000</td>\n",
       "    </tr>\n",
       "    <tr>\n",
       "      <th>4</th>\n",
       "      <td>20160623</td>\n",
       "      <td>60.9</td>\n",
       "      <td>67.1</td>\n",
       "      <td>54.9</td>\n",
       "      <td>12.2</td>\n",
       "      <td>6.0</td>\n",
       "      <td>16.055556</td>\n",
       "      <td>-257.094444</td>\n",
       "    </tr>\n",
       "    <tr>\n",
       "      <th>5</th>\n",
       "      <td>20160624</td>\n",
       "      <td>61.1</td>\n",
       "      <td>68.9</td>\n",
       "      <td>56.7</td>\n",
       "      <td>12.2</td>\n",
       "      <td>4.4</td>\n",
       "      <td>16.166667</td>\n",
       "      <td>-256.983333</td>\n",
       "    </tr>\n",
       "    <tr>\n",
       "      <th>6</th>\n",
       "      <td>20160625</td>\n",
       "      <td>65.7</td>\n",
       "      <td>75.4</td>\n",
       "      <td>57.9</td>\n",
       "      <td>17.5</td>\n",
       "      <td>7.8</td>\n",
       "      <td>18.722222</td>\n",
       "      <td>-254.427778</td>\n",
       "    </tr>\n",
       "    <tr>\n",
       "      <th>7</th>\n",
       "      <td>20160626</td>\n",
       "      <td>69.6</td>\n",
       "      <td>77.7</td>\n",
       "      <td>60.3</td>\n",
       "      <td>17.4</td>\n",
       "      <td>9.3</td>\n",
       "      <td>20.888889</td>\n",
       "      <td>-252.261111</td>\n",
       "    </tr>\n",
       "    <tr>\n",
       "      <th>8</th>\n",
       "      <td>20160627</td>\n",
       "      <td>60.7</td>\n",
       "      <td>70.0</td>\n",
       "      <td>NaN</td>\n",
       "      <td>NaN</td>\n",
       "      <td>NaN</td>\n",
       "      <td>15.944444</td>\n",
       "      <td>-257.205556</td>\n",
       "    </tr>\n",
       "    <tr>\n",
       "      <th>9</th>\n",
       "      <td>20160628</td>\n",
       "      <td>65.4</td>\n",
       "      <td>73.0</td>\n",
       "      <td>55.8</td>\n",
       "      <td>17.2</td>\n",
       "      <td>9.6</td>\n",
       "      <td>18.555556</td>\n",
       "      <td>-254.594444</td>\n",
       "    </tr>\n",
       "    <tr>\n",
       "      <th>10</th>\n",
       "      <td>20160629</td>\n",
       "      <td>65.8</td>\n",
       "      <td>73.2</td>\n",
       "      <td>NaN</td>\n",
       "      <td>NaN</td>\n",
       "      <td>NaN</td>\n",
       "      <td>18.777778</td>\n",
       "      <td>-254.372222</td>\n",
       "    </tr>\n",
       "    <tr>\n",
       "      <th>11</th>\n",
       "      <td>20160630</td>\n",
       "      <td>65.7</td>\n",
       "      <td>72.7</td>\n",
       "      <td>59.2</td>\n",
       "      <td>13.5</td>\n",
       "      <td>6.5</td>\n",
       "      <td>18.722222</td>\n",
       "      <td>-254.427778</td>\n",
       "    </tr>\n",
       "  </tbody>\n",
       "</table>\n",
       "</div>"
      ],
      "text/plain": [
       "    YEARMODA  TEMP   MAX   MIN  DIFF  DIFF_MIN  TEMP_CELSIUS  TEMP_KELVIN\n",
       "0   20160617  60.4  70.7  55.9  14.8       4.5     15.777778  -257.372222\n",
       "1   20160620  59.3  69.1  52.2  16.9       7.1     15.166667  -257.983333\n",
       "2   20160621  62.6  71.4  50.4  21.0      12.2     17.000000  -256.150000\n",
       "3   20160622  61.7  70.2  55.4  14.8       6.3     16.500000  -256.650000\n",
       "4   20160623  60.9  67.1  54.9  12.2       6.0     16.055556  -257.094444\n",
       "5   20160624  61.1  68.9  56.7  12.2       4.4     16.166667  -256.983333\n",
       "6   20160625  65.7  75.4  57.9  17.5       7.8     18.722222  -254.427778\n",
       "7   20160626  69.6  77.7  60.3  17.4       9.3     20.888889  -252.261111\n",
       "8   20160627  60.7  70.0   NaN   NaN       NaN     15.944444  -257.205556\n",
       "9   20160628  65.4  73.0  55.8  17.2       9.6     18.555556  -254.594444\n",
       "10  20160629  65.8  73.2   NaN   NaN       NaN     18.777778  -254.372222\n",
       "11  20160630  65.7  72.7  59.2  13.5       6.5     18.722222  -254.427778"
      ]
     },
     "execution_count": 82,
     "metadata": {},
     "output_type": "execute_result"
    }
   ],
   "source": [
    "warm_temps2 = warm_temps.reset_index(drop=True)\n",
    "warm_temps2"
   ]
  },
  {
   "cell_type": "code",
   "execution_count": 84,
   "metadata": {},
   "outputs": [
    {
     "data": {
      "text/html": [
       "<div>\n",
       "<style scoped>\n",
       "    .dataframe tbody tr th:only-of-type {\n",
       "        vertical-align: middle;\n",
       "    }\n",
       "\n",
       "    .dataframe tbody tr th {\n",
       "        vertical-align: top;\n",
       "    }\n",
       "\n",
       "    .dataframe thead th {\n",
       "        text-align: right;\n",
       "    }\n",
       "</style>\n",
       "<table border=\"1\" class=\"dataframe\">\n",
       "  <thead>\n",
       "    <tr style=\"text-align: right;\">\n",
       "      <th></th>\n",
       "      <th>YEARMODA</th>\n",
       "      <th>TEMP</th>\n",
       "      <th>MAX</th>\n",
       "      <th>TEMP_CELSIUS</th>\n",
       "      <th>TEMP_KELVIN</th>\n",
       "    </tr>\n",
       "  </thead>\n",
       "  <tbody>\n",
       "    <tr>\n",
       "      <th>0</th>\n",
       "      <td>20160617</td>\n",
       "      <td>60.4</td>\n",
       "      <td>70.7</td>\n",
       "      <td>15.777778</td>\n",
       "      <td>-257.372222</td>\n",
       "    </tr>\n",
       "    <tr>\n",
       "      <th>1</th>\n",
       "      <td>20160620</td>\n",
       "      <td>59.3</td>\n",
       "      <td>69.1</td>\n",
       "      <td>15.166667</td>\n",
       "      <td>-257.983333</td>\n",
       "    </tr>\n",
       "    <tr>\n",
       "      <th>2</th>\n",
       "      <td>20160621</td>\n",
       "      <td>62.6</td>\n",
       "      <td>71.4</td>\n",
       "      <td>17.000000</td>\n",
       "      <td>-256.150000</td>\n",
       "    </tr>\n",
       "    <tr>\n",
       "      <th>3</th>\n",
       "      <td>20160622</td>\n",
       "      <td>61.7</td>\n",
       "      <td>70.2</td>\n",
       "      <td>16.500000</td>\n",
       "      <td>-256.650000</td>\n",
       "    </tr>\n",
       "    <tr>\n",
       "      <th>4</th>\n",
       "      <td>20160623</td>\n",
       "      <td>60.9</td>\n",
       "      <td>67.1</td>\n",
       "      <td>16.055556</td>\n",
       "      <td>-257.094444</td>\n",
       "    </tr>\n",
       "    <tr>\n",
       "      <th>5</th>\n",
       "      <td>20160624</td>\n",
       "      <td>61.1</td>\n",
       "      <td>68.9</td>\n",
       "      <td>16.166667</td>\n",
       "      <td>-256.983333</td>\n",
       "    </tr>\n",
       "    <tr>\n",
       "      <th>6</th>\n",
       "      <td>20160625</td>\n",
       "      <td>65.7</td>\n",
       "      <td>75.4</td>\n",
       "      <td>18.722222</td>\n",
       "      <td>-254.427778</td>\n",
       "    </tr>\n",
       "    <tr>\n",
       "      <th>7</th>\n",
       "      <td>20160626</td>\n",
       "      <td>69.6</td>\n",
       "      <td>77.7</td>\n",
       "      <td>20.888889</td>\n",
       "      <td>-252.261111</td>\n",
       "    </tr>\n",
       "    <tr>\n",
       "      <th>8</th>\n",
       "      <td>20160627</td>\n",
       "      <td>60.7</td>\n",
       "      <td>70.0</td>\n",
       "      <td>15.944444</td>\n",
       "      <td>-257.205556</td>\n",
       "    </tr>\n",
       "    <tr>\n",
       "      <th>9</th>\n",
       "      <td>20160628</td>\n",
       "      <td>65.4</td>\n",
       "      <td>73.0</td>\n",
       "      <td>18.555556</td>\n",
       "      <td>-254.594444</td>\n",
       "    </tr>\n",
       "    <tr>\n",
       "      <th>10</th>\n",
       "      <td>20160629</td>\n",
       "      <td>65.8</td>\n",
       "      <td>73.2</td>\n",
       "      <td>18.777778</td>\n",
       "      <td>-254.372222</td>\n",
       "    </tr>\n",
       "    <tr>\n",
       "      <th>11</th>\n",
       "      <td>20160630</td>\n",
       "      <td>65.7</td>\n",
       "      <td>72.7</td>\n",
       "      <td>18.722222</td>\n",
       "      <td>-254.427778</td>\n",
       "    </tr>\n",
       "  </tbody>\n",
       "</table>\n",
       "</div>"
      ],
      "text/plain": [
       "    YEARMODA  TEMP   MAX  TEMP_CELSIUS  TEMP_KELVIN\n",
       "0   20160617  60.4  70.7     15.777778  -257.372222\n",
       "1   20160620  59.3  69.1     15.166667  -257.983333\n",
       "2   20160621  62.6  71.4     17.000000  -256.150000\n",
       "3   20160622  61.7  70.2     16.500000  -256.650000\n",
       "4   20160623  60.9  67.1     16.055556  -257.094444\n",
       "5   20160624  61.1  68.9     16.166667  -256.983333\n",
       "6   20160625  65.7  75.4     18.722222  -254.427778\n",
       "7   20160626  69.6  77.7     20.888889  -252.261111\n",
       "8   20160627  60.7  70.0     15.944444  -257.205556\n",
       "9   20160628  65.4  73.0     18.555556  -254.594444\n",
       "10  20160629  65.8  73.2     18.777778  -254.372222\n",
       "11  20160630  65.7  72.7     18.722222  -254.427778"
      ]
     },
     "execution_count": 84,
     "metadata": {},
     "output_type": "execute_result"
    }
   ],
   "source": [
    "df_rez = warm_temps2.dropna(axis=1)\n",
    "df_rez"
   ]
  },
  {
   "cell_type": "markdown",
   "metadata": {},
   "source": [
    "- Заполнение"
   ]
  },
  {
   "cell_type": "code",
   "execution_count": 85,
   "metadata": {},
   "outputs": [
    {
     "data": {
      "text/html": [
       "<div>\n",
       "<style scoped>\n",
       "    .dataframe tbody tr th:only-of-type {\n",
       "        vertical-align: middle;\n",
       "    }\n",
       "\n",
       "    .dataframe tbody tr th {\n",
       "        vertical-align: top;\n",
       "    }\n",
       "\n",
       "    .dataframe thead th {\n",
       "        text-align: right;\n",
       "    }\n",
       "</style>\n",
       "<table border=\"1\" class=\"dataframe\">\n",
       "  <thead>\n",
       "    <tr style=\"text-align: right;\">\n",
       "      <th></th>\n",
       "      <th>YEARMODA</th>\n",
       "      <th>TEMP</th>\n",
       "      <th>MAX</th>\n",
       "      <th>MIN</th>\n",
       "      <th>DIFF</th>\n",
       "      <th>DIFF_MIN</th>\n",
       "      <th>TEMP_CELSIUS</th>\n",
       "      <th>TEMP_KELVIN</th>\n",
       "    </tr>\n",
       "  </thead>\n",
       "  <tbody>\n",
       "    <tr>\n",
       "      <th>0</th>\n",
       "      <td>20160617</td>\n",
       "      <td>60.4</td>\n",
       "      <td>70.7</td>\n",
       "      <td>55.9</td>\n",
       "      <td>14.8</td>\n",
       "      <td>4.5</td>\n",
       "      <td>15.777778</td>\n",
       "      <td>-257.372222</td>\n",
       "    </tr>\n",
       "    <tr>\n",
       "      <th>1</th>\n",
       "      <td>20160620</td>\n",
       "      <td>59.3</td>\n",
       "      <td>69.1</td>\n",
       "      <td>52.2</td>\n",
       "      <td>16.9</td>\n",
       "      <td>7.1</td>\n",
       "      <td>15.166667</td>\n",
       "      <td>-257.983333</td>\n",
       "    </tr>\n",
       "    <tr>\n",
       "      <th>2</th>\n",
       "      <td>20160621</td>\n",
       "      <td>62.6</td>\n",
       "      <td>71.4</td>\n",
       "      <td>50.4</td>\n",
       "      <td>21.0</td>\n",
       "      <td>12.2</td>\n",
       "      <td>17.000000</td>\n",
       "      <td>-256.150000</td>\n",
       "    </tr>\n",
       "    <tr>\n",
       "      <th>3</th>\n",
       "      <td>20160622</td>\n",
       "      <td>61.7</td>\n",
       "      <td>70.2</td>\n",
       "      <td>55.4</td>\n",
       "      <td>14.8</td>\n",
       "      <td>6.3</td>\n",
       "      <td>16.500000</td>\n",
       "      <td>-256.650000</td>\n",
       "    </tr>\n",
       "    <tr>\n",
       "      <th>4</th>\n",
       "      <td>20160623</td>\n",
       "      <td>60.9</td>\n",
       "      <td>67.1</td>\n",
       "      <td>54.9</td>\n",
       "      <td>12.2</td>\n",
       "      <td>6.0</td>\n",
       "      <td>16.055556</td>\n",
       "      <td>-257.094444</td>\n",
       "    </tr>\n",
       "    <tr>\n",
       "      <th>5</th>\n",
       "      <td>20160624</td>\n",
       "      <td>61.1</td>\n",
       "      <td>68.9</td>\n",
       "      <td>56.7</td>\n",
       "      <td>12.2</td>\n",
       "      <td>4.4</td>\n",
       "      <td>16.166667</td>\n",
       "      <td>-256.983333</td>\n",
       "    </tr>\n",
       "    <tr>\n",
       "      <th>6</th>\n",
       "      <td>20160625</td>\n",
       "      <td>65.7</td>\n",
       "      <td>75.4</td>\n",
       "      <td>57.9</td>\n",
       "      <td>17.5</td>\n",
       "      <td>7.8</td>\n",
       "      <td>18.722222</td>\n",
       "      <td>-254.427778</td>\n",
       "    </tr>\n",
       "    <tr>\n",
       "      <th>7</th>\n",
       "      <td>20160626</td>\n",
       "      <td>69.6</td>\n",
       "      <td>77.7</td>\n",
       "      <td>60.3</td>\n",
       "      <td>17.4</td>\n",
       "      <td>9.3</td>\n",
       "      <td>20.888889</td>\n",
       "      <td>-252.261111</td>\n",
       "    </tr>\n",
       "    <tr>\n",
       "      <th>8</th>\n",
       "      <td>20160627</td>\n",
       "      <td>60.7</td>\n",
       "      <td>70.0</td>\n",
       "      <td>NaN</td>\n",
       "      <td>NaN</td>\n",
       "      <td>NaN</td>\n",
       "      <td>15.944444</td>\n",
       "      <td>-257.205556</td>\n",
       "    </tr>\n",
       "    <tr>\n",
       "      <th>9</th>\n",
       "      <td>20160628</td>\n",
       "      <td>65.4</td>\n",
       "      <td>73.0</td>\n",
       "      <td>55.8</td>\n",
       "      <td>17.2</td>\n",
       "      <td>9.6</td>\n",
       "      <td>18.555556</td>\n",
       "      <td>-254.594444</td>\n",
       "    </tr>\n",
       "    <tr>\n",
       "      <th>10</th>\n",
       "      <td>20160629</td>\n",
       "      <td>65.8</td>\n",
       "      <td>73.2</td>\n",
       "      <td>NaN</td>\n",
       "      <td>NaN</td>\n",
       "      <td>NaN</td>\n",
       "      <td>18.777778</td>\n",
       "      <td>-254.372222</td>\n",
       "    </tr>\n",
       "    <tr>\n",
       "      <th>11</th>\n",
       "      <td>20160630</td>\n",
       "      <td>65.7</td>\n",
       "      <td>72.7</td>\n",
       "      <td>59.2</td>\n",
       "      <td>13.5</td>\n",
       "      <td>6.5</td>\n",
       "      <td>18.722222</td>\n",
       "      <td>-254.427778</td>\n",
       "    </tr>\n",
       "  </tbody>\n",
       "</table>\n",
       "</div>"
      ],
      "text/plain": [
       "    YEARMODA  TEMP   MAX   MIN  DIFF  DIFF_MIN  TEMP_CELSIUS  TEMP_KELVIN\n",
       "0   20160617  60.4  70.7  55.9  14.8       4.5     15.777778  -257.372222\n",
       "1   20160620  59.3  69.1  52.2  16.9       7.1     15.166667  -257.983333\n",
       "2   20160621  62.6  71.4  50.4  21.0      12.2     17.000000  -256.150000\n",
       "3   20160622  61.7  70.2  55.4  14.8       6.3     16.500000  -256.650000\n",
       "4   20160623  60.9  67.1  54.9  12.2       6.0     16.055556  -257.094444\n",
       "5   20160624  61.1  68.9  56.7  12.2       4.4     16.166667  -256.983333\n",
       "6   20160625  65.7  75.4  57.9  17.5       7.8     18.722222  -254.427778\n",
       "7   20160626  69.6  77.7  60.3  17.4       9.3     20.888889  -252.261111\n",
       "8   20160627  60.7  70.0   NaN   NaN       NaN     15.944444  -257.205556\n",
       "9   20160628  65.4  73.0  55.8  17.2       9.6     18.555556  -254.594444\n",
       "10  20160629  65.8  73.2   NaN   NaN       NaN     18.777778  -254.372222\n",
       "11  20160630  65.7  72.7  59.2  13.5       6.5     18.722222  -254.427778"
      ]
     },
     "execution_count": 85,
     "metadata": {},
     "output_type": "execute_result"
    }
   ],
   "source": [
    "warm_temps3 = warm_temps.reset_index(drop=True)\n",
    "warm_temps3"
   ]
  },
  {
   "cell_type": "code",
   "execution_count": 87,
   "metadata": {},
   "outputs": [
    {
     "data": {
      "text/html": [
       "<div>\n",
       "<style scoped>\n",
       "    .dataframe tbody tr th:only-of-type {\n",
       "        vertical-align: middle;\n",
       "    }\n",
       "\n",
       "    .dataframe tbody tr th {\n",
       "        vertical-align: top;\n",
       "    }\n",
       "\n",
       "    .dataframe thead th {\n",
       "        text-align: right;\n",
       "    }\n",
       "</style>\n",
       "<table border=\"1\" class=\"dataframe\">\n",
       "  <thead>\n",
       "    <tr style=\"text-align: right;\">\n",
       "      <th></th>\n",
       "      <th>YEARMODA</th>\n",
       "      <th>TEMP</th>\n",
       "      <th>MAX</th>\n",
       "      <th>MIN</th>\n",
       "      <th>DIFF</th>\n",
       "      <th>DIFF_MIN</th>\n",
       "      <th>TEMP_CELSIUS</th>\n",
       "      <th>TEMP_KELVIN</th>\n",
       "    </tr>\n",
       "  </thead>\n",
       "  <tbody>\n",
       "    <tr>\n",
       "      <th>0</th>\n",
       "      <td>20160617</td>\n",
       "      <td>60.4</td>\n",
       "      <td>70.7</td>\n",
       "      <td>55.9</td>\n",
       "      <td>14.8</td>\n",
       "      <td>4.5</td>\n",
       "      <td>15.777778</td>\n",
       "      <td>-257.372222</td>\n",
       "    </tr>\n",
       "    <tr>\n",
       "      <th>1</th>\n",
       "      <td>20160620</td>\n",
       "      <td>59.3</td>\n",
       "      <td>69.1</td>\n",
       "      <td>52.2</td>\n",
       "      <td>16.9</td>\n",
       "      <td>7.1</td>\n",
       "      <td>15.166667</td>\n",
       "      <td>-257.983333</td>\n",
       "    </tr>\n",
       "    <tr>\n",
       "      <th>2</th>\n",
       "      <td>20160621</td>\n",
       "      <td>62.6</td>\n",
       "      <td>71.4</td>\n",
       "      <td>50.4</td>\n",
       "      <td>21.0</td>\n",
       "      <td>12.2</td>\n",
       "      <td>17.000000</td>\n",
       "      <td>-256.150000</td>\n",
       "    </tr>\n",
       "    <tr>\n",
       "      <th>3</th>\n",
       "      <td>20160622</td>\n",
       "      <td>61.7</td>\n",
       "      <td>70.2</td>\n",
       "      <td>55.4</td>\n",
       "      <td>14.8</td>\n",
       "      <td>6.3</td>\n",
       "      <td>16.500000</td>\n",
       "      <td>-256.650000</td>\n",
       "    </tr>\n",
       "    <tr>\n",
       "      <th>4</th>\n",
       "      <td>20160623</td>\n",
       "      <td>60.9</td>\n",
       "      <td>67.1</td>\n",
       "      <td>54.9</td>\n",
       "      <td>12.2</td>\n",
       "      <td>6.0</td>\n",
       "      <td>16.055556</td>\n",
       "      <td>-257.094444</td>\n",
       "    </tr>\n",
       "    <tr>\n",
       "      <th>5</th>\n",
       "      <td>20160624</td>\n",
       "      <td>61.1</td>\n",
       "      <td>68.9</td>\n",
       "      <td>56.7</td>\n",
       "      <td>12.2</td>\n",
       "      <td>4.4</td>\n",
       "      <td>16.166667</td>\n",
       "      <td>-256.983333</td>\n",
       "    </tr>\n",
       "    <tr>\n",
       "      <th>6</th>\n",
       "      <td>20160625</td>\n",
       "      <td>65.7</td>\n",
       "      <td>75.4</td>\n",
       "      <td>57.9</td>\n",
       "      <td>17.5</td>\n",
       "      <td>7.8</td>\n",
       "      <td>18.722222</td>\n",
       "      <td>-254.427778</td>\n",
       "    </tr>\n",
       "    <tr>\n",
       "      <th>7</th>\n",
       "      <td>20160626</td>\n",
       "      <td>69.6</td>\n",
       "      <td>77.7</td>\n",
       "      <td>60.3</td>\n",
       "      <td>17.4</td>\n",
       "      <td>9.3</td>\n",
       "      <td>20.888889</td>\n",
       "      <td>-252.261111</td>\n",
       "    </tr>\n",
       "    <tr>\n",
       "      <th>8</th>\n",
       "      <td>20160627</td>\n",
       "      <td>60.7</td>\n",
       "      <td>70.0</td>\n",
       "      <td>-9999.0</td>\n",
       "      <td>-9999.0</td>\n",
       "      <td>-9999.0</td>\n",
       "      <td>15.944444</td>\n",
       "      <td>-257.205556</td>\n",
       "    </tr>\n",
       "    <tr>\n",
       "      <th>9</th>\n",
       "      <td>20160628</td>\n",
       "      <td>65.4</td>\n",
       "      <td>73.0</td>\n",
       "      <td>55.8</td>\n",
       "      <td>17.2</td>\n",
       "      <td>9.6</td>\n",
       "      <td>18.555556</td>\n",
       "      <td>-254.594444</td>\n",
       "    </tr>\n",
       "    <tr>\n",
       "      <th>10</th>\n",
       "      <td>20160629</td>\n",
       "      <td>65.8</td>\n",
       "      <td>73.2</td>\n",
       "      <td>-9999.0</td>\n",
       "      <td>-9999.0</td>\n",
       "      <td>-9999.0</td>\n",
       "      <td>18.777778</td>\n",
       "      <td>-254.372222</td>\n",
       "    </tr>\n",
       "    <tr>\n",
       "      <th>11</th>\n",
       "      <td>20160630</td>\n",
       "      <td>65.7</td>\n",
       "      <td>72.7</td>\n",
       "      <td>59.2</td>\n",
       "      <td>13.5</td>\n",
       "      <td>6.5</td>\n",
       "      <td>18.722222</td>\n",
       "      <td>-254.427778</td>\n",
       "    </tr>\n",
       "  </tbody>\n",
       "</table>\n",
       "</div>"
      ],
      "text/plain": [
       "    YEARMODA  TEMP   MAX     MIN    DIFF  DIFF_MIN  TEMP_CELSIUS  TEMP_KELVIN\n",
       "0   20160617  60.4  70.7    55.9    14.8       4.5     15.777778  -257.372222\n",
       "1   20160620  59.3  69.1    52.2    16.9       7.1     15.166667  -257.983333\n",
       "2   20160621  62.6  71.4    50.4    21.0      12.2     17.000000  -256.150000\n",
       "3   20160622  61.7  70.2    55.4    14.8       6.3     16.500000  -256.650000\n",
       "4   20160623  60.9  67.1    54.9    12.2       6.0     16.055556  -257.094444\n",
       "5   20160624  61.1  68.9    56.7    12.2       4.4     16.166667  -256.983333\n",
       "6   20160625  65.7  75.4    57.9    17.5       7.8     18.722222  -254.427778\n",
       "7   20160626  69.6  77.7    60.3    17.4       9.3     20.888889  -252.261111\n",
       "8   20160627  60.7  70.0 -9999.0 -9999.0   -9999.0     15.944444  -257.205556\n",
       "9   20160628  65.4  73.0    55.8    17.2       9.6     18.555556  -254.594444\n",
       "10  20160629  65.8  73.2 -9999.0 -9999.0   -9999.0     18.777778  -254.372222\n",
       "11  20160630  65.7  72.7    59.2    13.5       6.5     18.722222  -254.427778"
      ]
     },
     "execution_count": 87,
     "metadata": {},
     "output_type": "execute_result"
    }
   ],
   "source": [
    "df_rez = warm_temps3.fillna(-9999.0)\n",
    "df_rez"
   ]
  },
  {
   "cell_type": "markdown",
   "metadata": {},
   "source": [
    "# Преобразование типов данных:"
   ]
  },
  {
   "cell_type": "code",
   "execution_count": 93,
   "metadata": {},
   "outputs": [
    {
     "name": "stdout",
     "output_type": "stream",
     "text": [
      "исходные значения:\n",
      "0    65.5\n",
      "1    65.8\n",
      "2    68.4\n",
      "3    57.5\n",
      "4    51.4\n",
      "Name: TEMP, dtype: float64\n"
     ]
    }
   ],
   "source": [
    "print(\"исходные значения:\")\n",
    "print(df['TEMP'].head())"
   ]
  },
  {
   "cell_type": "code",
   "execution_count": 95,
   "metadata": {},
   "outputs": [
    {
     "name": "stdout",
     "output_type": "stream",
     "text": [
      "усеченные целочисленные значения:\n",
      "0    65\n",
      "1    65\n",
      "2    68\n",
      "3    57\n",
      "4    51\n",
      "Name: TEMP, dtype: int32\n"
     ]
    }
   ],
   "source": [
    "print(\"усеченные целочисленные значения:\")\n",
    "print(df['TEMP'].astype(int).head())"
   ]
  },
  {
   "cell_type": "code",
   "execution_count": 97,
   "metadata": {},
   "outputs": [
    {
     "name": "stdout",
     "output_type": "stream",
     "text": [
      "округленные целочисленные значения:\n",
      "0    66\n",
      "1    66\n",
      "2    68\n",
      "3    58\n",
      "4    51\n",
      "Name: TEMP, dtype: int32\n"
     ]
    }
   ],
   "source": [
    "# ТАК ПРАВИЛЬНО\n",
    "print(\"округленные целочисленные значения:\")\n",
    "print(df['TEMP'].round(0).astype(int).head())"
   ]
  },
  {
   "cell_type": "markdown",
   "metadata": {},
   "source": [
    "## Уникальные значения:"
   ]
  },
  {
   "cell_type": "code",
   "execution_count": 99,
   "metadata": {},
   "outputs": [
    {
     "data": {
      "text/plain": [
       "array([65.5, 65.8, 68.4, 57.5, 51.4, 52.2, 56.9, 54.2, 49.4, 49.5, 54. ,\n",
       "       55.4, 58.3, 59.7, 63.4, 57.8, 60.4, 57.3, 56.3, 59.3, 62.6, 61.7,\n",
       "       60.9, 61.1, 65.7, 69.6, 60.7, 65.4])"
      ]
     },
     "execution_count": 99,
     "metadata": {},
     "output_type": "execute_result"
    }
   ],
   "source": [
    "df[\"TEMP\"].unique()"
   ]
  },
  {
   "cell_type": "markdown",
   "metadata": {},
   "source": [
    "## Сортировка данных:"
   ]
  },
  {
   "cell_type": "code",
   "execution_count": 101,
   "metadata": {},
   "outputs": [
    {
     "data": {
      "text/html": [
       "<div>\n",
       "<style scoped>\n",
       "    .dataframe tbody tr th:only-of-type {\n",
       "        vertical-align: middle;\n",
       "    }\n",
       "\n",
       "    .dataframe tbody tr th {\n",
       "        vertical-align: top;\n",
       "    }\n",
       "\n",
       "    .dataframe thead th {\n",
       "        text-align: right;\n",
       "    }\n",
       "</style>\n",
       "<table border=\"1\" class=\"dataframe\">\n",
       "  <thead>\n",
       "    <tr style=\"text-align: right;\">\n",
       "      <th></th>\n",
       "      <th>YEARMODA</th>\n",
       "      <th>TEMP</th>\n",
       "      <th>MAX</th>\n",
       "      <th>MIN</th>\n",
       "      <th>DIFF</th>\n",
       "      <th>DIFF_MIN</th>\n",
       "      <th>TEMP_CELSIUS</th>\n",
       "      <th>TEMP_KELVIN</th>\n",
       "    </tr>\n",
       "  </thead>\n",
       "  <tbody>\n",
       "    <tr>\n",
       "      <th>8</th>\n",
       "      <td>20160609</td>\n",
       "      <td>49.4</td>\n",
       "      <td>54.1</td>\n",
       "      <td>45.7</td>\n",
       "      <td>8.4</td>\n",
       "      <td>3.7</td>\n",
       "      <td>9.666667</td>\n",
       "      <td>-263.483333</td>\n",
       "    </tr>\n",
       "    <tr>\n",
       "      <th>9</th>\n",
       "      <td>20160610</td>\n",
       "      <td>49.5</td>\n",
       "      <td>55.9</td>\n",
       "      <td>43.0</td>\n",
       "      <td>12.9</td>\n",
       "      <td>6.5</td>\n",
       "      <td>9.722222</td>\n",
       "      <td>-263.427778</td>\n",
       "    </tr>\n",
       "    <tr>\n",
       "      <th>4</th>\n",
       "      <td>20160605</td>\n",
       "      <td>51.4</td>\n",
       "      <td>58.3</td>\n",
       "      <td>43.2</td>\n",
       "      <td>15.1</td>\n",
       "      <td>8.2</td>\n",
       "      <td>10.777778</td>\n",
       "      <td>-262.372222</td>\n",
       "    </tr>\n",
       "    <tr>\n",
       "      <th>5</th>\n",
       "      <td>20160606</td>\n",
       "      <td>52.2</td>\n",
       "      <td>59.7</td>\n",
       "      <td>42.8</td>\n",
       "      <td>16.9</td>\n",
       "      <td>9.4</td>\n",
       "      <td>11.222222</td>\n",
       "      <td>-261.927778</td>\n",
       "    </tr>\n",
       "    <tr>\n",
       "      <th>10</th>\n",
       "      <td>20160611</td>\n",
       "      <td>54.0</td>\n",
       "      <td>62.1</td>\n",
       "      <td>41.7</td>\n",
       "      <td>20.4</td>\n",
       "      <td>12.3</td>\n",
       "      <td>12.222222</td>\n",
       "      <td>-260.927778</td>\n",
       "    </tr>\n",
       "  </tbody>\n",
       "</table>\n",
       "</div>"
      ],
      "text/plain": [
       "    YEARMODA  TEMP   MAX   MIN  DIFF  DIFF_MIN  TEMP_CELSIUS  TEMP_KELVIN\n",
       "8   20160609  49.4  54.1  45.7   8.4       3.7      9.666667  -263.483333\n",
       "9   20160610  49.5  55.9  43.0  12.9       6.5      9.722222  -263.427778\n",
       "4   20160605  51.4  58.3  43.2  15.1       8.2     10.777778  -262.372222\n",
       "5   20160606  52.2  59.7  42.8  16.9       9.4     11.222222  -261.927778\n",
       "10  20160611  54.0  62.1  41.7  20.4      12.3     12.222222  -260.927778"
      ]
     },
     "execution_count": 101,
     "metadata": {},
     "output_type": "execute_result"
    }
   ],
   "source": [
    "# сортировка по колонке (по умолчанию - по возрастанию)\n",
    "df.sort_values(by=\"TEMP\").head()"
   ]
  },
  {
   "cell_type": "code",
   "execution_count": 103,
   "metadata": {},
   "outputs": [
    {
     "data": {
      "text/html": [
       "<div>\n",
       "<style scoped>\n",
       "    .dataframe tbody tr th:only-of-type {\n",
       "        vertical-align: middle;\n",
       "    }\n",
       "\n",
       "    .dataframe tbody tr th {\n",
       "        vertical-align: top;\n",
       "    }\n",
       "\n",
       "    .dataframe thead th {\n",
       "        text-align: right;\n",
       "    }\n",
       "</style>\n",
       "<table border=\"1\" class=\"dataframe\">\n",
       "  <thead>\n",
       "    <tr style=\"text-align: right;\">\n",
       "      <th></th>\n",
       "      <th>YEARMODA</th>\n",
       "      <th>TEMP</th>\n",
       "      <th>MAX</th>\n",
       "      <th>MIN</th>\n",
       "      <th>DIFF</th>\n",
       "      <th>DIFF_MIN</th>\n",
       "      <th>TEMP_CELSIUS</th>\n",
       "      <th>TEMP_KELVIN</th>\n",
       "    </tr>\n",
       "  </thead>\n",
       "  <tbody>\n",
       "    <tr>\n",
       "      <th>25</th>\n",
       "      <td>20160626</td>\n",
       "      <td>69.6</td>\n",
       "      <td>77.7</td>\n",
       "      <td>60.3</td>\n",
       "      <td>17.4</td>\n",
       "      <td>9.3</td>\n",
       "      <td>20.888889</td>\n",
       "      <td>-252.261111</td>\n",
       "    </tr>\n",
       "    <tr>\n",
       "      <th>2</th>\n",
       "      <td>20160603</td>\n",
       "      <td>68.4</td>\n",
       "      <td>NaN</td>\n",
       "      <td>55.6</td>\n",
       "      <td>NaN</td>\n",
       "      <td>12.8</td>\n",
       "      <td>20.222222</td>\n",
       "      <td>-252.927778</td>\n",
       "    </tr>\n",
       "    <tr>\n",
       "      <th>1</th>\n",
       "      <td>20160602</td>\n",
       "      <td>65.8</td>\n",
       "      <td>80.8</td>\n",
       "      <td>55.0</td>\n",
       "      <td>25.8</td>\n",
       "      <td>10.8</td>\n",
       "      <td>18.777778</td>\n",
       "      <td>-254.372222</td>\n",
       "    </tr>\n",
       "    <tr>\n",
       "      <th>28</th>\n",
       "      <td>20160629</td>\n",
       "      <td>65.8</td>\n",
       "      <td>73.2</td>\n",
       "      <td>NaN</td>\n",
       "      <td>NaN</td>\n",
       "      <td>NaN</td>\n",
       "      <td>18.777778</td>\n",
       "      <td>-254.372222</td>\n",
       "    </tr>\n",
       "    <tr>\n",
       "      <th>29</th>\n",
       "      <td>20160630</td>\n",
       "      <td>65.7</td>\n",
       "      <td>72.7</td>\n",
       "      <td>59.2</td>\n",
       "      <td>13.5</td>\n",
       "      <td>6.5</td>\n",
       "      <td>18.722222</td>\n",
       "      <td>-254.427778</td>\n",
       "    </tr>\n",
       "  </tbody>\n",
       "</table>\n",
       "</div>"
      ],
      "text/plain": [
       "    YEARMODA  TEMP   MAX   MIN  DIFF  DIFF_MIN  TEMP_CELSIUS  TEMP_KELVIN\n",
       "25  20160626  69.6  77.7  60.3  17.4       9.3     20.888889  -252.261111\n",
       "2   20160603  68.4   NaN  55.6   NaN      12.8     20.222222  -252.927778\n",
       "1   20160602  65.8  80.8  55.0  25.8      10.8     18.777778  -254.372222\n",
       "28  20160629  65.8  73.2   NaN   NaN       NaN     18.777778  -254.372222\n",
       "29  20160630  65.7  72.7  59.2  13.5       6.5     18.722222  -254.427778"
      ]
     },
     "execution_count": 103,
     "metadata": {},
     "output_type": "execute_result"
    }
   ],
   "source": [
    "# сортировка по колонке (по убыванию)\n",
    "df.sort_values(by=\"TEMP\", ascending=False).head()"
   ]
  },
  {
   "cell_type": "markdown",
   "metadata": {},
   "source": [
    "# Запись данных в файл:"
   ]
  },
  {
   "cell_type": "code",
   "execution_count": 105,
   "metadata": {},
   "outputs": [],
   "source": [
    "# define output filename\n",
    "output_fp = \"Kumpula_temps_June_2016.csv\"\n",
    "df.to_csv(output_fp, sep=',')"
   ]
  },
  {
   "cell_type": "code",
   "execution_count": 106,
   "metadata": {},
   "outputs": [],
   "source": [
    "# фрейм данных без индекса и только с 1 десятичной дробью в числах с плавающей запятой\n",
    "output_fp = \"Kumpula_temps_above15_June_2016.csv\"\n",
    "df.to_csv(output_fp, sep=',', index=False, float_format='%.1f')"
   ]
  },
  {
   "cell_type": "code",
   "execution_count": null,
   "metadata": {},
   "outputs": [],
   "source": []
  }
 ],
 "metadata": {
  "kernelspec": {
   "display_name": "Python 3",
   "language": "python",
   "name": "python3"
  },
  "language_info": {
   "codemirror_mode": {
    "name": "ipython",
    "version": 3
   },
   "file_extension": ".py",
   "mimetype": "text/x-python",
   "name": "python",
   "nbconvert_exporter": "python",
   "pygments_lexer": "ipython3",
   "version": "3.6.12"
  }
 },
 "nbformat": 4,
 "nbformat_minor": 4
}
