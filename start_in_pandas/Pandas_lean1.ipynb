{
 "cells": [
  {
   "cell_type": "code",
   "execution_count": 186,
   "metadata": {},
   "outputs": [],
   "source": [
    "import os\n",
    "import pandas as pd             # библиотека для анализа данных\n",
    "import sqlite3                  # подключение к базе данных SQLite3        \n",
    "import matplotlib.pyplot as plt # построение графиков\n",
    "import numpy as np\n",
    "\n",
    "# Текущая директория\n",
    "ROOT_PATH = os.path.abspath(os.curdir)\n",
    "\n",
    "%matplotlib inline     "
   ]
  },
  {
   "cell_type": "markdown",
   "metadata": {},
   "source": [
    "# Pandas series"
   ]
  },
  {
   "cell_type": "code",
   "execution_count": 187,
   "metadata": {},
   "outputs": [
    {
     "data": {
      "text/plain": [
       "a     5\n",
       "b     6\n",
       "c     7\n",
       "d     8\n",
       "e     9\n",
       "f    10\n",
       "dtype: int64"
      ]
     },
     "execution_count": 187,
     "metadata": {},
     "output_type": "execute_result"
    }
   ],
   "source": [
    "# создание серии 1 - список\n",
    "my_series = pd.Series([5, 6, 7, 8, 9, 10])\n",
    "# my_series\n",
    "\n",
    "# создание серии 2 - словарь\n",
    "my_series2 = pd.Series({'a':5, 'b':6, 'c':7, 'd':8, 'e':9, 'f':10})\n",
    "my_series2\n"
   ]
  },
  {
   "cell_type": "code",
   "execution_count": 188,
   "metadata": {},
   "outputs": [
    {
     "data": {
      "text/plain": [
       "RangeIndex(start=0, stop=6, step=1)"
      ]
     },
     "execution_count": 188,
     "metadata": {},
     "output_type": "execute_result"
    }
   ],
   "source": [
    "# индексы\n",
    "my_series.index"
   ]
  },
  {
   "cell_type": "code",
   "execution_count": 189,
   "metadata": {},
   "outputs": [
    {
     "name": "stdout",
     "output_type": "stream",
     "text": [
      "[ 5  6  7  8  9 10]\n",
      "6\n"
     ]
    },
    {
     "data": {
      "text/plain": [
       "array([ 5,  6,  7,  8,  9, 10], dtype=int64)"
      ]
     },
     "execution_count": 189,
     "metadata": {},
     "output_type": "execute_result"
    }
   ],
   "source": [
    "# значения элементов\n",
    "print(my_series.values) # все\n",
    "print(my_series.values[1])  # второй элемент\n",
    "my_series.values"
   ]
  },
  {
   "cell_type": "code",
   "execution_count": 190,
   "metadata": {},
   "outputs": [
    {
     "data": {
      "text/plain": [
       "a     5\n",
       "b     6\n",
       "c     7\n",
       "d     8\n",
       "e     9\n",
       "f    10\n",
       "dtype: int64"
      ]
     },
     "execution_count": 190,
     "metadata": {},
     "output_type": "execute_result"
    }
   ],
   "source": [
    "# свои индексы\n",
    "my_series1 = pd.Series([5, 6, 7, 8, 9, 10], index=['a', 'b', 'c', 'd', 'e', 'f'])\n",
    "my_series1"
   ]
  },
  {
   "cell_type": "code",
   "execution_count": 191,
   "metadata": {},
   "outputs": [
    {
     "data": {
      "text/plain": [
       "Index(['a', 'b', 'c', 'd', 'e', 'f'], dtype='object')"
      ]
     },
     "execution_count": 191,
     "metadata": {},
     "output_type": "execute_result"
    }
   ],
   "source": [
    "# индексы\n",
    "my_series1.index"
   ]
  },
  {
   "cell_type": "code",
   "execution_count": 192,
   "metadata": {},
   "outputs": [
    {
     "data": {
      "text/plain": [
       "4    9\n",
       "dtype: int64"
      ]
     },
     "execution_count": 192,
     "metadata": {},
     "output_type": "execute_result"
    }
   ],
   "source": [
    "# обращение к элементам\n",
    "my_series[[4]]"
   ]
  },
  {
   "cell_type": "code",
   "execution_count": 193,
   "metadata": {},
   "outputs": [
    {
     "data": {
      "text/plain": [
       "a    5\n",
       "dtype: int64"
      ]
     },
     "execution_count": 193,
     "metadata": {},
     "output_type": "execute_result"
    }
   ],
   "source": [
    "# обращение к элементам\n",
    "my_series1[['a']]"
   ]
  },
  {
   "cell_type": "code",
   "execution_count": 194,
   "metadata": {},
   "outputs": [
    {
     "data": {
      "text/plain": [
       "a     0\n",
       "b     0\n",
       "c     7\n",
       "d     8\n",
       "e     0\n",
       "f    10\n",
       "dtype: int64"
      ]
     },
     "execution_count": 194,
     "metadata": {},
     "output_type": "execute_result"
    }
   ],
   "source": [
    "# замена значения по индексу\n",
    "my_series1[['a', 'b', 'e']] = 0\n",
    "my_series1"
   ]
  },
  {
   "cell_type": "code",
   "execution_count": 195,
   "metadata": {},
   "outputs": [
    {
     "data": {
      "text/plain": [
       "c     7\n",
       "d     8\n",
       "f    10\n",
       "dtype: int64"
      ]
     },
     "execution_count": 195,
     "metadata": {},
     "output_type": "execute_result"
    }
   ],
   "source": [
    "# вывод по условию\n",
    "my_series1[my_series1 > 0]"
   ]
  },
  {
   "cell_type": "code",
   "execution_count": 196,
   "metadata": {},
   "outputs": [
    {
     "data": {
      "text/plain": [
       "letters\n",
       "a     5\n",
       "b     6\n",
       "c     7\n",
       "d     8\n",
       "e     9\n",
       "f    10\n",
       "Name: numbers, dtype: int64"
      ]
     },
     "execution_count": 196,
     "metadata": {},
     "output_type": "execute_result"
    }
   ],
   "source": [
    "#\n",
    "my_series2.name = 'numbers'\n",
    "my_series2.index.name = 'letters'\n",
    "my_series2"
   ]
  },
  {
   "cell_type": "markdown",
   "metadata": {},
   "source": [
    "# Pandas DataFrame"
   ]
  },
  {
   "cell_type": "code",
   "execution_count": 197,
   "metadata": {},
   "outputs": [
    {
     "data": {
      "text/html": [
       "<div>\n",
       "<style scoped>\n",
       "    .dataframe tbody tr th:only-of-type {\n",
       "        vertical-align: middle;\n",
       "    }\n",
       "\n",
       "    .dataframe tbody tr th {\n",
       "        vertical-align: top;\n",
       "    }\n",
       "\n",
       "    .dataframe thead th {\n",
       "        text-align: right;\n",
       "    }\n",
       "</style>\n",
       "<table border=\"1\" class=\"dataframe\">\n",
       "  <thead>\n",
       "    <tr style=\"text-align: right;\">\n",
       "      <th></th>\n",
       "      <th>country</th>\n",
       "      <th>population</th>\n",
       "      <th>square</th>\n",
       "    </tr>\n",
       "  </thead>\n",
       "  <tbody>\n",
       "    <tr>\n",
       "      <th>0</th>\n",
       "      <td>Казахстан</td>\n",
       "      <td>17.04</td>\n",
       "      <td>2724902</td>\n",
       "    </tr>\n",
       "    <tr>\n",
       "      <th>1</th>\n",
       "      <td>Россия</td>\n",
       "      <td>143.50</td>\n",
       "      <td>171251191</td>\n",
       "    </tr>\n",
       "    <tr>\n",
       "      <th>2</th>\n",
       "      <td>Беларуссия</td>\n",
       "      <td>9.50</td>\n",
       "      <td>207600</td>\n",
       "    </tr>\n",
       "    <tr>\n",
       "      <th>3</th>\n",
       "      <td>Украина</td>\n",
       "      <td>45.50</td>\n",
       "      <td>603628</td>\n",
       "    </tr>\n",
       "  </tbody>\n",
       "</table>\n",
       "</div>"
      ],
      "text/plain": [
       "      country  population     square\n",
       "0   Казахстан       17.04    2724902\n",
       "1      Россия      143.50  171251191\n",
       "2  Беларуссия        9.50     207600\n",
       "3     Украина       45.50     603628"
      ]
     },
     "execution_count": 197,
     "metadata": {},
     "output_type": "execute_result"
    }
   ],
   "source": [
    "# создание datframe\n",
    "df = pd.DataFrame({\n",
    "    'country':['Казахстан', 'Россия', 'Беларуссия', 'Украина'],\n",
    "    'population':[17.04, 143.5, 9.5, 45.5],\n",
    "    'square':[2724902, 171251191, 207600, 603628]\n",
    "})\n",
    "df"
   ]
  },
  {
   "cell_type": "code",
   "execution_count": 198,
   "metadata": {},
   "outputs": [
    {
     "data": {
      "text/plain": [
       "0     17.04\n",
       "1    143.50\n",
       "2      9.50\n",
       "3     45.50\n",
       "Name: population, dtype: float64"
      ]
     },
     "execution_count": 198,
     "metadata": {},
     "output_type": "execute_result"
    }
   ],
   "source": [
    "# вывод значений колонки 'population' \n",
    "df.population"
   ]
  },
  {
   "cell_type": "code",
   "execution_count": 199,
   "metadata": {},
   "outputs": [
    {
     "data": {
      "text/plain": [
       "pandas.core.series.Series"
      ]
     },
     "execution_count": 199,
     "metadata": {},
     "output_type": "execute_result"
    }
   ],
   "source": [
    "# тип значений колонки 'population' \n",
    "type(df.population)"
   ]
  },
  {
   "cell_type": "code",
   "execution_count": 200,
   "metadata": {},
   "outputs": [
    {
     "data": {
      "text/html": [
       "<div>\n",
       "<style scoped>\n",
       "    .dataframe tbody tr th:only-of-type {\n",
       "        vertical-align: middle;\n",
       "    }\n",
       "\n",
       "    .dataframe tbody tr th {\n",
       "        vertical-align: top;\n",
       "    }\n",
       "\n",
       "    .dataframe thead th {\n",
       "        text-align: right;\n",
       "    }\n",
       "</style>\n",
       "<table border=\"1\" class=\"dataframe\">\n",
       "  <thead>\n",
       "    <tr style=\"text-align: right;\">\n",
       "      <th></th>\n",
       "      <th>country</th>\n",
       "      <th>population</th>\n",
       "      <th>square</th>\n",
       "    </tr>\n",
       "  </thead>\n",
       "  <tbody>\n",
       "    <tr>\n",
       "      <th>KZ</th>\n",
       "      <td>Казахстан</td>\n",
       "      <td>17.04</td>\n",
       "      <td>2724902</td>\n",
       "    </tr>\n",
       "    <tr>\n",
       "      <th>RU</th>\n",
       "      <td>Россия</td>\n",
       "      <td>143.50</td>\n",
       "      <td>171251191</td>\n",
       "    </tr>\n",
       "    <tr>\n",
       "      <th>BY</th>\n",
       "      <td>Беларуссия</td>\n",
       "      <td>9.50</td>\n",
       "      <td>207600</td>\n",
       "    </tr>\n",
       "    <tr>\n",
       "      <th>UA</th>\n",
       "      <td>Украина</td>\n",
       "      <td>45.50</td>\n",
       "      <td>603628</td>\n",
       "    </tr>\n",
       "  </tbody>\n",
       "</table>\n",
       "</div>"
      ],
      "text/plain": [
       "       country  population     square\n",
       "KZ   Казахстан       17.04    2724902\n",
       "RU      Россия      143.50  171251191\n",
       "BY  Беларуссия        9.50     207600\n",
       "UA     Украина       45.50     603628"
      ]
     },
     "execution_count": 200,
     "metadata": {},
     "output_type": "execute_result"
    }
   ],
   "source": [
    "# новые индексы\n",
    "df.index = ['KZ', 'RU', 'BY', 'UA']\n",
    "df"
   ]
  },
  {
   "cell_type": "markdown",
   "metadata": {},
   "source": [
    "## Импорт данных:"
   ]
  },
  {
   "cell_type": "code",
   "execution_count": 201,
   "metadata": {},
   "outputs": [
    {
     "data": {
      "text/html": [
       "<div>\n",
       "<style scoped>\n",
       "    .dataframe tbody tr th:only-of-type {\n",
       "        vertical-align: middle;\n",
       "    }\n",
       "\n",
       "    .dataframe tbody tr th {\n",
       "        vertical-align: top;\n",
       "    }\n",
       "\n",
       "    .dataframe thead th {\n",
       "        text-align: right;\n",
       "    }\n",
       "</style>\n",
       "<table border=\"1\" class=\"dataframe\">\n",
       "  <thead>\n",
       "    <tr style=\"text-align: right;\">\n",
       "      <th></th>\n",
       "      <th>name</th>\n",
       "      <th>id</th>\n",
       "      <th>nametype</th>\n",
       "      <th>recclass</th>\n",
       "      <th>mass</th>\n",
       "      <th>fall</th>\n",
       "      <th>year</th>\n",
       "      <th>reclat</th>\n",
       "      <th>reclong</th>\n",
       "      <th>GeoLocation</th>\n",
       "    </tr>\n",
       "  </thead>\n",
       "  <tbody>\n",
       "    <tr>\n",
       "      <th>0</th>\n",
       "      <td>Aachen</td>\n",
       "      <td>1</td>\n",
       "      <td>Valid</td>\n",
       "      <td>L5</td>\n",
       "      <td>21.0</td>\n",
       "      <td>Fell</td>\n",
       "      <td>1880.0</td>\n",
       "      <td>50.775</td>\n",
       "      <td>6.083</td>\n",
       "      <td>(50.775000, 6.083330)</td>\n",
       "    </tr>\n",
       "    <tr>\n",
       "      <th>1</th>\n",
       "      <td>Aarhus</td>\n",
       "      <td>2</td>\n",
       "      <td>Valid</td>\n",
       "      <td>H6</td>\n",
       "      <td>720.0</td>\n",
       "      <td>Fell</td>\n",
       "      <td>1951.0</td>\n",
       "      <td>56.183</td>\n",
       "      <td>10.233</td>\n",
       "      <td>(56.183330, 10.233330)</td>\n",
       "    </tr>\n",
       "    <tr>\n",
       "      <th>2</th>\n",
       "      <td>Abee</td>\n",
       "      <td>6</td>\n",
       "      <td>Valid</td>\n",
       "      <td>EH4</td>\n",
       "      <td>107000.0</td>\n",
       "      <td>Fell</td>\n",
       "      <td>1952.0</td>\n",
       "      <td>54.217</td>\n",
       "      <td>-113.000</td>\n",
       "      <td>(54.216670, -113.000000)</td>\n",
       "    </tr>\n",
       "    <tr>\n",
       "      <th>3</th>\n",
       "      <td>Acapulco</td>\n",
       "      <td>10</td>\n",
       "      <td>Valid</td>\n",
       "      <td>Acapulcoite</td>\n",
       "      <td>1914.0</td>\n",
       "      <td>Fell</td>\n",
       "      <td>1976.0</td>\n",
       "      <td>16.883</td>\n",
       "      <td>-99.900</td>\n",
       "      <td>(16.883330, -99.900000)</td>\n",
       "    </tr>\n",
       "    <tr>\n",
       "      <th>4</th>\n",
       "      <td>Achiras</td>\n",
       "      <td>370</td>\n",
       "      <td>Valid</td>\n",
       "      <td>L6</td>\n",
       "      <td>780.0</td>\n",
       "      <td>Fell</td>\n",
       "      <td>1902.0</td>\n",
       "      <td>-33.167</td>\n",
       "      <td>-64.950</td>\n",
       "      <td>(-33.166670, -64.950000)</td>\n",
       "    </tr>\n",
       "    <tr>\n",
       "      <th>...</th>\n",
       "      <td>...</td>\n",
       "      <td>...</td>\n",
       "      <td>...</td>\n",
       "      <td>...</td>\n",
       "      <td>...</td>\n",
       "      <td>...</td>\n",
       "      <td>...</td>\n",
       "      <td>...</td>\n",
       "      <td>...</td>\n",
       "      <td>...</td>\n",
       "    </tr>\n",
       "    <tr>\n",
       "      <th>45711</th>\n",
       "      <td>Zillah 002</td>\n",
       "      <td>31356</td>\n",
       "      <td>Valid</td>\n",
       "      <td>Eucrite</td>\n",
       "      <td>172.0</td>\n",
       "      <td>Found</td>\n",
       "      <td>1990.0</td>\n",
       "      <td>29.037</td>\n",
       "      <td>17.018</td>\n",
       "      <td>(29.037000, 17.018500)</td>\n",
       "    </tr>\n",
       "    <tr>\n",
       "      <th>45712</th>\n",
       "      <td>Zinder</td>\n",
       "      <td>30409</td>\n",
       "      <td>Valid</td>\n",
       "      <td>Pallasite, ungrouped</td>\n",
       "      <td>46.0</td>\n",
       "      <td>Found</td>\n",
       "      <td>1999.0</td>\n",
       "      <td>13.783</td>\n",
       "      <td>8.967</td>\n",
       "      <td>(13.783330, 8.966670)</td>\n",
       "    </tr>\n",
       "    <tr>\n",
       "      <th>45713</th>\n",
       "      <td>Zlin</td>\n",
       "      <td>30410</td>\n",
       "      <td>Valid</td>\n",
       "      <td>H4</td>\n",
       "      <td>3.3</td>\n",
       "      <td>Found</td>\n",
       "      <td>1939.0</td>\n",
       "      <td>49.250</td>\n",
       "      <td>17.667</td>\n",
       "      <td>(49.250000, 17.666670)</td>\n",
       "    </tr>\n",
       "    <tr>\n",
       "      <th>45714</th>\n",
       "      <td>Zubkovsky</td>\n",
       "      <td>31357</td>\n",
       "      <td>Valid</td>\n",
       "      <td>L6</td>\n",
       "      <td>2167.0</td>\n",
       "      <td>Found</td>\n",
       "      <td>2003.0</td>\n",
       "      <td>49.789</td>\n",
       "      <td>41.505</td>\n",
       "      <td>(49.789170, 41.504600)</td>\n",
       "    </tr>\n",
       "    <tr>\n",
       "      <th>45715</th>\n",
       "      <td>Zulu Queen</td>\n",
       "      <td>30414</td>\n",
       "      <td>Valid</td>\n",
       "      <td>L3.7</td>\n",
       "      <td>200.0</td>\n",
       "      <td>Found</td>\n",
       "      <td>1976.0</td>\n",
       "      <td>33.983</td>\n",
       "      <td>-115.683</td>\n",
       "      <td>(33.983330, -115.683330)</td>\n",
       "    </tr>\n",
       "  </tbody>\n",
       "</table>\n",
       "<p>45716 rows × 10 columns</p>\n",
       "</div>"
      ],
      "text/plain": [
       "             name     id nametype              recclass      mass   fall  \\\n",
       "0          Aachen      1    Valid                    L5      21.0   Fell   \n",
       "1          Aarhus      2    Valid                    H6     720.0   Fell   \n",
       "2            Abee      6    Valid                   EH4  107000.0   Fell   \n",
       "3        Acapulco     10    Valid           Acapulcoite    1914.0   Fell   \n",
       "4         Achiras    370    Valid                    L6     780.0   Fell   \n",
       "...           ...    ...      ...                   ...       ...    ...   \n",
       "45711  Zillah 002  31356    Valid               Eucrite     172.0  Found   \n",
       "45712      Zinder  30409    Valid  Pallasite, ungrouped      46.0  Found   \n",
       "45713        Zlin  30410    Valid                    H4       3.3  Found   \n",
       "45714   Zubkovsky  31357    Valid                    L6    2167.0  Found   \n",
       "45715  Zulu Queen  30414    Valid                  L3.7     200.0  Found   \n",
       "\n",
       "         year  reclat  reclong               GeoLocation  \n",
       "0      1880.0  50.775    6.083     (50.775000, 6.083330)  \n",
       "1      1951.0  56.183   10.233    (56.183330, 10.233330)  \n",
       "2      1952.0  54.217 -113.000  (54.216670, -113.000000)  \n",
       "3      1976.0  16.883  -99.900   (16.883330, -99.900000)  \n",
       "4      1902.0 -33.167  -64.950  (-33.166670, -64.950000)  \n",
       "...       ...     ...      ...                       ...  \n",
       "45711  1990.0  29.037   17.018    (29.037000, 17.018500)  \n",
       "45712  1999.0  13.783    8.967     (13.783330, 8.966670)  \n",
       "45713  1939.0  49.250   17.667    (49.250000, 17.666670)  \n",
       "45714  2003.0  49.789   41.505    (49.789170, 41.504600)  \n",
       "45715  1976.0  33.983 -115.683  (33.983330, -115.683330)  \n",
       "\n",
       "[45716 rows x 10 columns]"
      ]
     },
     "execution_count": 201,
     "metadata": {},
     "output_type": "execute_result"
    }
   ],
   "source": [
    "# импорт из CSV\n",
    "ml = pd.read_csv(os.path.join(ROOT_PATH, 'meteorite-landings.csv'), sep=',')\n",
    "ml"
   ]
  },
  {
   "cell_type": "code",
   "execution_count": 202,
   "metadata": {},
   "outputs": [
    {
     "data": {
      "text/plain": [
       "<bound method NDFrame.head of              name     id nametype              recclass      mass   fall  \\\n",
       "0          Aachen      1    Valid                    L5      21.0   Fell   \n",
       "1          Aarhus      2    Valid                    H6     720.0   Fell   \n",
       "2            Abee      6    Valid                   EH4  107000.0   Fell   \n",
       "3        Acapulco     10    Valid           Acapulcoite    1914.0   Fell   \n",
       "4         Achiras    370    Valid                    L6     780.0   Fell   \n",
       "...           ...    ...      ...                   ...       ...    ...   \n",
       "45711  Zillah 002  31356    Valid               Eucrite     172.0  Found   \n",
       "45712      Zinder  30409    Valid  Pallasite, ungrouped      46.0  Found   \n",
       "45713        Zlin  30410    Valid                    H4       3.3  Found   \n",
       "45714   Zubkovsky  31357    Valid                    L6    2167.0  Found   \n",
       "45715  Zulu Queen  30414    Valid                  L3.7     200.0  Found   \n",
       "\n",
       "         year  reclat  reclong               GeoLocation  \n",
       "0      1880.0  50.775    6.083     (50.775000, 6.083330)  \n",
       "1      1951.0  56.183   10.233    (56.183330, 10.233330)  \n",
       "2      1952.0  54.217 -113.000  (54.216670, -113.000000)  \n",
       "3      1976.0  16.883  -99.900   (16.883330, -99.900000)  \n",
       "4      1902.0 -33.167  -64.950  (-33.166670, -64.950000)  \n",
       "...       ...     ...      ...                       ...  \n",
       "45711  1990.0  29.037   17.018    (29.037000, 17.018500)  \n",
       "45712  1999.0  13.783    8.967     (13.783330, 8.966670)  \n",
       "45713  1939.0  49.250   17.667    (49.250000, 17.666670)  \n",
       "45714  2003.0  49.789   41.505    (49.789170, 41.504600)  \n",
       "45715  1976.0  33.983 -115.683  (33.983330, -115.683330)  \n",
       "\n",
       "[45716 rows x 10 columns]>"
      ]
     },
     "execution_count": 202,
     "metadata": {},
     "output_type": "execute_result"
    }
   ],
   "source": [
    "# пять первых\n",
    "ml.head"
   ]
  },
  {
   "cell_type": "code",
   "execution_count": 203,
   "metadata": {},
   "outputs": [
    {
     "data": {
      "text/plain": [
       "<bound method NDFrame.tail of              name     id nametype              recclass      mass   fall  \\\n",
       "0          Aachen      1    Valid                    L5      21.0   Fell   \n",
       "1          Aarhus      2    Valid                    H6     720.0   Fell   \n",
       "2            Abee      6    Valid                   EH4  107000.0   Fell   \n",
       "3        Acapulco     10    Valid           Acapulcoite    1914.0   Fell   \n",
       "4         Achiras    370    Valid                    L6     780.0   Fell   \n",
       "...           ...    ...      ...                   ...       ...    ...   \n",
       "45711  Zillah 002  31356    Valid               Eucrite     172.0  Found   \n",
       "45712      Zinder  30409    Valid  Pallasite, ungrouped      46.0  Found   \n",
       "45713        Zlin  30410    Valid                    H4       3.3  Found   \n",
       "45714   Zubkovsky  31357    Valid                    L6    2167.0  Found   \n",
       "45715  Zulu Queen  30414    Valid                  L3.7     200.0  Found   \n",
       "\n",
       "         year  reclat  reclong               GeoLocation  \n",
       "0      1880.0  50.775    6.083     (50.775000, 6.083330)  \n",
       "1      1951.0  56.183   10.233    (56.183330, 10.233330)  \n",
       "2      1952.0  54.217 -113.000  (54.216670, -113.000000)  \n",
       "3      1976.0  16.883  -99.900   (16.883330, -99.900000)  \n",
       "4      1902.0 -33.167  -64.950  (-33.166670, -64.950000)  \n",
       "...       ...     ...      ...                       ...  \n",
       "45711  1990.0  29.037   17.018    (29.037000, 17.018500)  \n",
       "45712  1999.0  13.783    8.967     (13.783330, 8.966670)  \n",
       "45713  1939.0  49.250   17.667    (49.250000, 17.666670)  \n",
       "45714  2003.0  49.789   41.505    (49.789170, 41.504600)  \n",
       "45715  1976.0  33.983 -115.683  (33.983330, -115.683330)  \n",
       "\n",
       "[45716 rows x 10 columns]>"
      ]
     },
     "execution_count": 203,
     "metadata": {},
     "output_type": "execute_result"
    }
   ],
   "source": [
    "# пять последних\n",
    "ml.tail"
   ]
  },
  {
   "cell_type": "code",
   "execution_count": 204,
   "metadata": {},
   "outputs": [
    {
     "data": {
      "text/plain": [
       "[                                                   0                1\n",
       " 0  Mail.ruПочтаМой МирОдноклассникиИгрыЗнакомства...  РегистрацияВход,\n",
       "     0      1\n",
       " 0 NaN  выход,\n",
       "                  0\n",
       " 0  РегистрацияВход,\n",
       "          0      1     2     3     4     5        6\n",
       " 0  Новости  Спорт  Авто  Кино  Леди  Игры  Hi-Tech,\n",
       "                                                    0  \\\n",
       " 0  Погода-1, днем +7завтра +9mr.counter('d1265489');   \n",
       " \n",
       "                                                    1  \\\n",
       " 0  Курс ЦБ c 03.10$78.09+0.81€91.58+0.85mr.counte...   \n",
       " \n",
       "                                                    2  \n",
       " 0  ГороскопыВесы — прислушивайтесь к интуиции. Он...  ,\n",
       "               0                                        1  \\\n",
       " 0  ТВ программа  Нефть39.23−1.67mr.counter('d12403154');   \n",
       " \n",
       "                              2  \n",
       " 0  Начните делать добрые дела!  ,\n",
       "              0                      1\n",
       " 0  ЭрудитБалда  Покер на костяхДомино,\n",
       "                          0                       1\n",
       " 0  Клиентские39Мини-игры68  Браузерные100Новинки25]"
      ]
     },
     "execution_count": 204,
     "metadata": {},
     "output_type": "execute_result"
    }
   ],
   "source": [
    "mailru = pd.read_html('https://mail.ru/')\n",
    "mailru"
   ]
  },
  {
   "cell_type": "markdown",
   "metadata": {},
   "source": [
    "#### Работа Pandas с большими файлами, которые непомещаются в память. Можно читать небольшими чанками. "
   ]
  },
  {
   "cell_type": "code",
   "execution_count": 205,
   "metadata": {},
   "outputs": [
    {
     "name": "stdout",
     "output_type": "stream",
     "text": [
      "(10000, 10)\n",
      "(10000, 10)\n",
      "(10000, 10)\n",
      "(10000, 10)\n",
      "(5716, 10)\n"
     ]
    }
   ],
   "source": [
    "# чанк\n",
    "c_size = 10000\n",
    "\n",
    "# считывание в цикле\n",
    "for gm_chunk in pd.read_csv(os.path.join(ROOT_PATH, 'meteorite-landings.csv'), sep=',', chunksize=c_size):\n",
    "    print(gm_chunk.shape)"
   ]
  },
  {
   "cell_type": "markdown",
   "metadata": {},
   "source": [
    "# Экспорт данных:"
   ]
  },
  {
   "cell_type": "code",
   "execution_count": 206,
   "metadata": {},
   "outputs": [],
   "source": [
    "# pd.to_csv(filename)\n",
    "# pd.to_sql(tablename, connection_object)\n",
    "# и т.д."
   ]
  },
  {
   "cell_type": "markdown",
   "metadata": {},
   "source": [
    "## Доступ к данным:"
   ]
  },
  {
   "cell_type": "markdown",
   "metadata": {},
   "source": [
    "- .loc - доступ по строковой метке\n",
    "- .iloc - доступ по числовому значению (с 0)"
   ]
  },
  {
   "cell_type": "code",
   "execution_count": 207,
   "metadata": {},
   "outputs": [
    {
     "data": {
      "text/html": [
       "<div>\n",
       "<style scoped>\n",
       "    .dataframe tbody tr th:only-of-type {\n",
       "        vertical-align: middle;\n",
       "    }\n",
       "\n",
       "    .dataframe tbody tr th {\n",
       "        vertical-align: top;\n",
       "    }\n",
       "\n",
       "    .dataframe thead th {\n",
       "        text-align: right;\n",
       "    }\n",
       "</style>\n",
       "<table border=\"1\" class=\"dataframe\">\n",
       "  <thead>\n",
       "    <tr style=\"text-align: right;\">\n",
       "      <th></th>\n",
       "      <th>country</th>\n",
       "      <th>population</th>\n",
       "      <th>square</th>\n",
       "    </tr>\n",
       "  </thead>\n",
       "  <tbody>\n",
       "    <tr>\n",
       "      <th>KZ</th>\n",
       "      <td>Казахстан</td>\n",
       "      <td>17.04</td>\n",
       "      <td>2724902</td>\n",
       "    </tr>\n",
       "    <tr>\n",
       "      <th>RU</th>\n",
       "      <td>Россия</td>\n",
       "      <td>143.50</td>\n",
       "      <td>171251191</td>\n",
       "    </tr>\n",
       "    <tr>\n",
       "      <th>BY</th>\n",
       "      <td>Беларуссия</td>\n",
       "      <td>9.50</td>\n",
       "      <td>207600</td>\n",
       "    </tr>\n",
       "    <tr>\n",
       "      <th>UA</th>\n",
       "      <td>Украина</td>\n",
       "      <td>45.50</td>\n",
       "      <td>603628</td>\n",
       "    </tr>\n",
       "  </tbody>\n",
       "</table>\n",
       "</div>"
      ],
      "text/plain": [
       "       country  population     square\n",
       "KZ   Казахстан       17.04    2724902\n",
       "RU      Россия      143.50  171251191\n",
       "BY  Беларуссия        9.50     207600\n",
       "UA     Украина       45.50     603628"
      ]
     },
     "execution_count": 207,
     "metadata": {},
     "output_type": "execute_result"
    }
   ],
   "source": [
    "df"
   ]
  },
  {
   "cell_type": "code",
   "execution_count": 208,
   "metadata": {},
   "outputs": [
    {
     "data": {
      "text/plain": [
       "country       Казахстан\n",
       "population           17\n",
       "square          2724902\n",
       "Name: KZ, dtype: object"
      ]
     },
     "execution_count": 208,
     "metadata": {},
     "output_type": "execute_result"
    }
   ],
   "source": [
    "df.loc['KZ']"
   ]
  },
  {
   "cell_type": "code",
   "execution_count": 209,
   "metadata": {},
   "outputs": [
    {
     "data": {
      "text/plain": [
       "country       Казахстан\n",
       "population           17\n",
       "square          2724902\n",
       "Name: KZ, dtype: object"
      ]
     },
     "execution_count": 209,
     "metadata": {},
     "output_type": "execute_result"
    }
   ],
   "source": [
    "df.iloc[0]"
   ]
  },
  {
   "cell_type": "code",
   "execution_count": 210,
   "metadata": {},
   "outputs": [
    {
     "data": {
      "text/plain": [
       "KZ     17.04\n",
       "RU    143.50\n",
       "Name: population, dtype: float64"
      ]
     },
     "execution_count": 210,
     "metadata": {},
     "output_type": "execute_result"
    }
   ],
   "source": [
    "# индекс + колонка\n",
    "df.loc[['KZ', 'RU'], 'population']"
   ]
  },
  {
   "cell_type": "code",
   "execution_count": 211,
   "metadata": {},
   "outputs": [
    {
     "data": {
      "text/plain": [
       "KZ     17.04\n",
       "RU    143.50\n",
       "Name: population, dtype: float64"
      ]
     },
     "execution_count": 211,
     "metadata": {},
     "output_type": "execute_result"
    }
   ],
   "source": [
    "df.iloc[[0, 1], 1]"
   ]
  },
  {
   "cell_type": "code",
   "execution_count": 212,
   "metadata": {},
   "outputs": [
    {
     "data": {
      "text/html": [
       "<div>\n",
       "<style scoped>\n",
       "    .dataframe tbody tr th:only-of-type {\n",
       "        vertical-align: middle;\n",
       "    }\n",
       "\n",
       "    .dataframe tbody tr th {\n",
       "        vertical-align: top;\n",
       "    }\n",
       "\n",
       "    .dataframe thead th {\n",
       "        text-align: right;\n",
       "    }\n",
       "</style>\n",
       "<table border=\"1\" class=\"dataframe\">\n",
       "  <thead>\n",
       "    <tr style=\"text-align: right;\">\n",
       "      <th></th>\n",
       "      <th>country</th>\n",
       "      <th>square</th>\n",
       "    </tr>\n",
       "  </thead>\n",
       "  <tbody>\n",
       "    <tr>\n",
       "      <th>KZ</th>\n",
       "      <td>Казахстан</td>\n",
       "      <td>2724902</td>\n",
       "    </tr>\n",
       "    <tr>\n",
       "      <th>RU</th>\n",
       "      <td>Россия</td>\n",
       "      <td>171251191</td>\n",
       "    </tr>\n",
       "    <tr>\n",
       "      <th>UA</th>\n",
       "      <td>Украина</td>\n",
       "      <td>603628</td>\n",
       "    </tr>\n",
       "  </tbody>\n",
       "</table>\n",
       "</div>"
      ],
      "text/plain": [
       "      country     square\n",
       "KZ  Казахстан    2724902\n",
       "RU     Россия  171251191\n",
       "UA    Украина     603628"
      ]
     },
     "execution_count": 212,
     "metadata": {},
     "output_type": "execute_result"
    }
   ],
   "source": [
    "df[df.population > 10][['country', 'square']]"
   ]
  },
  {
   "cell_type": "code",
   "execution_count": 213,
   "metadata": {},
   "outputs": [
    {
     "data": {
      "text/html": [
       "<div>\n",
       "<style scoped>\n",
       "    .dataframe tbody tr th:only-of-type {\n",
       "        vertical-align: middle;\n",
       "    }\n",
       "\n",
       "    .dataframe tbody tr th {\n",
       "        vertical-align: top;\n",
       "    }\n",
       "\n",
       "    .dataframe thead th {\n",
       "        text-align: right;\n",
       "    }\n",
       "</style>\n",
       "<table border=\"1\" class=\"dataframe\">\n",
       "  <thead>\n",
       "    <tr style=\"text-align: right;\">\n",
       "      <th></th>\n",
       "      <th>country</th>\n",
       "      <th>square</th>\n",
       "    </tr>\n",
       "  </thead>\n",
       "  <tbody>\n",
       "    <tr>\n",
       "      <th>RU</th>\n",
       "      <td>Россия</td>\n",
       "      <td>171251191</td>\n",
       "    </tr>\n",
       "  </tbody>\n",
       "</table>\n",
       "</div>"
      ],
      "text/plain": [
       "   country     square\n",
       "RU  Россия  171251191"
      ]
     },
     "execution_count": 213,
     "metadata": {},
     "output_type": "execute_result"
    }
   ],
   "source": [
    "df[(df.square > 70000) & (df.country == 'Россия')][['country', 'square']]"
   ]
  },
  {
   "cell_type": "code",
   "execution_count": 214,
   "metadata": {},
   "outputs": [
    {
     "data": {
      "text/html": [
       "<div>\n",
       "<style scoped>\n",
       "    .dataframe tbody tr th:only-of-type {\n",
       "        vertical-align: middle;\n",
       "    }\n",
       "\n",
       "    .dataframe tbody tr th {\n",
       "        vertical-align: top;\n",
       "    }\n",
       "\n",
       "    .dataframe thead th {\n",
       "        text-align: right;\n",
       "    }\n",
       "</style>\n",
       "<table border=\"1\" class=\"dataframe\">\n",
       "  <thead>\n",
       "    <tr style=\"text-align: right;\">\n",
       "      <th></th>\n",
       "      <th>country</th>\n",
       "      <th>population</th>\n",
       "      <th>square</th>\n",
       "    </tr>\n",
       "  </thead>\n",
       "  <tbody>\n",
       "    <tr>\n",
       "      <th>RU</th>\n",
       "      <td>Россия</td>\n",
       "      <td>143.5</td>\n",
       "      <td>171251191</td>\n",
       "    </tr>\n",
       "  </tbody>\n",
       "</table>\n",
       "</div>"
      ],
      "text/plain": [
       "   country  population     square\n",
       "RU  Россия       143.5  171251191"
      ]
     },
     "execution_count": 214,
     "metadata": {},
     "output_type": "execute_result"
    }
   ],
   "source": [
    "# Или так\n",
    "filter = (df.country == 'Россия')\n",
    "df[filter]"
   ]
  },
  {
   "cell_type": "code",
   "execution_count": 215,
   "metadata": {},
   "outputs": [
    {
     "data": {
      "text/plain": [
       "KZ     True\n",
       "RU     True\n",
       "BY    False\n",
       "UA     True\n",
       "Name: population, dtype: bool"
      ]
     },
     "execution_count": 215,
     "metadata": {},
     "output_type": "execute_result"
    }
   ],
   "source": [
    "df.population > 10"
   ]
  },
  {
   "cell_type": "code",
   "execution_count": 216,
   "metadata": {},
   "outputs": [
    {
     "data": {
      "text/html": [
       "<div>\n",
       "<style scoped>\n",
       "    .dataframe tbody tr th:only-of-type {\n",
       "        vertical-align: middle;\n",
       "    }\n",
       "\n",
       "    .dataframe tbody tr th {\n",
       "        vertical-align: top;\n",
       "    }\n",
       "\n",
       "    .dataframe thead th {\n",
       "        text-align: right;\n",
       "    }\n",
       "</style>\n",
       "<table border=\"1\" class=\"dataframe\">\n",
       "  <thead>\n",
       "    <tr style=\"text-align: right;\">\n",
       "      <th></th>\n",
       "      <th>country</th>\n",
       "      <th>population</th>\n",
       "      <th>square</th>\n",
       "      <th>density</th>\n",
       "    </tr>\n",
       "  </thead>\n",
       "  <tbody>\n",
       "    <tr>\n",
       "      <th>KZ</th>\n",
       "      <td>Казахстан</td>\n",
       "      <td>17.04</td>\n",
       "      <td>2724902</td>\n",
       "      <td>6.253</td>\n",
       "    </tr>\n",
       "    <tr>\n",
       "      <th>RU</th>\n",
       "      <td>Россия</td>\n",
       "      <td>143.50</td>\n",
       "      <td>171251191</td>\n",
       "      <td>0.838</td>\n",
       "    </tr>\n",
       "    <tr>\n",
       "      <th>BY</th>\n",
       "      <td>Беларуссия</td>\n",
       "      <td>9.50</td>\n",
       "      <td>207600</td>\n",
       "      <td>45.761</td>\n",
       "    </tr>\n",
       "    <tr>\n",
       "      <th>UA</th>\n",
       "      <td>Украина</td>\n",
       "      <td>45.50</td>\n",
       "      <td>603628</td>\n",
       "      <td>75.378</td>\n",
       "    </tr>\n",
       "  </tbody>\n",
       "</table>\n",
       "</div>"
      ],
      "text/plain": [
       "       country  population     square  density\n",
       "KZ   Казахстан       17.04    2724902    6.253\n",
       "RU      Россия      143.50  171251191    0.838\n",
       "BY  Беларуссия        9.50     207600   45.761\n",
       "UA     Украина       45.50     603628   75.378"
      ]
     },
     "execution_count": 216,
     "metadata": {},
     "output_type": "execute_result"
    }
   ],
   "source": [
    "# создадим новую колонку\n",
    "df['density'] = df['population'] / df['square'] * 1000000\n",
    "df"
   ]
  },
  {
   "cell_type": "code",
   "execution_count": 217,
   "metadata": {},
   "outputs": [
    {
     "data": {
      "text/html": [
       "<div>\n",
       "<style scoped>\n",
       "    .dataframe tbody tr th:only-of-type {\n",
       "        vertical-align: middle;\n",
       "    }\n",
       "\n",
       "    .dataframe tbody tr th {\n",
       "        vertical-align: top;\n",
       "    }\n",
       "\n",
       "    .dataframe thead th {\n",
       "        text-align: right;\n",
       "    }\n",
       "</style>\n",
       "<table border=\"1\" class=\"dataframe\">\n",
       "  <thead>\n",
       "    <tr style=\"text-align: right;\">\n",
       "      <th></th>\n",
       "      <th>country</th>\n",
       "      <th>population</th>\n",
       "      <th>square</th>\n",
       "    </tr>\n",
       "  </thead>\n",
       "  <tbody>\n",
       "    <tr>\n",
       "      <th>KZ</th>\n",
       "      <td>Казахстан</td>\n",
       "      <td>17.04</td>\n",
       "      <td>2724902</td>\n",
       "    </tr>\n",
       "    <tr>\n",
       "      <th>RU</th>\n",
       "      <td>Россия</td>\n",
       "      <td>143.50</td>\n",
       "      <td>171251191</td>\n",
       "    </tr>\n",
       "    <tr>\n",
       "      <th>BY</th>\n",
       "      <td>Беларуссия</td>\n",
       "      <td>9.50</td>\n",
       "      <td>207600</td>\n",
       "    </tr>\n",
       "    <tr>\n",
       "      <th>UA</th>\n",
       "      <td>Украина</td>\n",
       "      <td>45.50</td>\n",
       "      <td>603628</td>\n",
       "    </tr>\n",
       "  </tbody>\n",
       "</table>\n",
       "</div>"
      ],
      "text/plain": [
       "       country  population     square\n",
       "KZ   Казахстан       17.04    2724902\n",
       "RU      Россия      143.50  171251191\n",
       "BY  Беларуссия        9.50     207600\n",
       "UA     Украина       45.50     603628"
      ]
     },
     "execution_count": 217,
     "metadata": {},
     "output_type": "execute_result"
    }
   ],
   "source": [
    "# df.drop(['density'], axis=1)\n",
    "# # результат вывода неизменится\n",
    "# df\n",
    "\n",
    "\n",
    "# для перезаписи df надо сделать так\n",
    "df.drop(['density'], axis='columns', inplace=True)\n",
    "# inplace=True - перезапись (подмена) исходного df\n",
    "df"
   ]
  },
  {
   "cell_type": "code",
   "execution_count": 218,
   "metadata": {},
   "outputs": [
    {
     "data": {
      "text/html": [
       "<div>\n",
       "<style scoped>\n",
       "    .dataframe tbody tr th:only-of-type {\n",
       "        vertical-align: middle;\n",
       "    }\n",
       "\n",
       "    .dataframe tbody tr th {\n",
       "        vertical-align: top;\n",
       "    }\n",
       "\n",
       "    .dataframe thead th {\n",
       "        text-align: right;\n",
       "    }\n",
       "</style>\n",
       "<table border=\"1\" class=\"dataframe\">\n",
       "  <thead>\n",
       "    <tr style=\"text-align: right;\">\n",
       "      <th></th>\n",
       "      <th>country</th>\n",
       "      <th>population</th>\n",
       "      <th>square</th>\n",
       "    </tr>\n",
       "  </thead>\n",
       "  <tbody>\n",
       "    <tr>\n",
       "      <th>KZ</th>\n",
       "      <td>Казахстан</td>\n",
       "      <td>17.04</td>\n",
       "      <td>2724902</td>\n",
       "    </tr>\n",
       "    <tr>\n",
       "      <th>RU</th>\n",
       "      <td>Россия</td>\n",
       "      <td>143.50</td>\n",
       "      <td>171251191</td>\n",
       "    </tr>\n",
       "    <tr>\n",
       "      <th>BY</th>\n",
       "      <td>Беларуссия</td>\n",
       "      <td>9.50</td>\n",
       "      <td>207600</td>\n",
       "    </tr>\n",
       "    <tr>\n",
       "      <th>UA</th>\n",
       "      <td>Украина</td>\n",
       "      <td>45.50</td>\n",
       "      <td>603628</td>\n",
       "    </tr>\n",
       "  </tbody>\n",
       "</table>\n",
       "</div>"
      ],
      "text/plain": [
       "       country  population     square\n",
       "KZ   Казахстан       17.04    2724902\n",
       "RU      Россия      143.50  171251191\n",
       "BY  Беларуссия        9.50     207600\n",
       "UA     Украина       45.50     603628"
      ]
     },
     "execution_count": 218,
     "metadata": {},
     "output_type": "execute_result"
    }
   ],
   "source": [
    "# переименование колонки\n",
    "df = df.rename(columns={\"Country_Code\":\"country_code\"})\n",
    "df"
   ]
  },
  {
   "cell_type": "code",
   "execution_count": 219,
   "metadata": {},
   "outputs": [
    {
     "data": {
      "text/html": [
       "<div>\n",
       "<style scoped>\n",
       "    .dataframe tbody tr th:only-of-type {\n",
       "        vertical-align: middle;\n",
       "    }\n",
       "\n",
       "    .dataframe tbody tr th {\n",
       "        vertical-align: top;\n",
       "    }\n",
       "\n",
       "    .dataframe thead th {\n",
       "        text-align: right;\n",
       "    }\n",
       "</style>\n",
       "<table border=\"1\" class=\"dataframe\">\n",
       "  <thead>\n",
       "    <tr style=\"text-align: right;\">\n",
       "      <th></th>\n",
       "      <th>country</th>\n",
       "      <th>population</th>\n",
       "      <th>square</th>\n",
       "    </tr>\n",
       "  </thead>\n",
       "  <tbody>\n",
       "    <tr>\n",
       "      <th>RU</th>\n",
       "      <td>Россия</td>\n",
       "      <td>143.5</td>\n",
       "      <td>171251191</td>\n",
       "    </tr>\n",
       "    <tr>\n",
       "      <th>UA</th>\n",
       "      <td>Украина</td>\n",
       "      <td>45.5</td>\n",
       "      <td>603628</td>\n",
       "    </tr>\n",
       "  </tbody>\n",
       "</table>\n",
       "</div>"
      ],
      "text/plain": [
       "    country  population     square\n",
       "RU   Россия       143.5  171251191\n",
       "UA  Украина        45.5     603628"
      ]
     },
     "execution_count": 219,
     "metadata": {},
     "output_type": "execute_result"
    }
   ],
   "source": [
    "# 2а наибольших значения из колонки \"population\"\n",
    "df = df.nlargest(2, \"population\")\n",
    "df"
   ]
  },
  {
   "cell_type": "markdown",
   "metadata": {},
   "source": [
    "## Работа с данными:\n",
    "Источник: meteorite-landings.csv - падения метиоритов"
   ]
  },
  {
   "cell_type": "code",
   "execution_count": 220,
   "metadata": {},
   "outputs": [],
   "source": [
    "# импорт данных из CSV\n",
    "df = pd.read_csv(os.path.join(ROOT_PATH, 'meteorite-landings.csv'), sep=',')"
   ]
  },
  {
   "cell_type": "code",
   "execution_count": 221,
   "metadata": {},
   "outputs": [
    {
     "data": {
      "text/html": [
       "<div>\n",
       "<style scoped>\n",
       "    .dataframe tbody tr th:only-of-type {\n",
       "        vertical-align: middle;\n",
       "    }\n",
       "\n",
       "    .dataframe tbody tr th {\n",
       "        vertical-align: top;\n",
       "    }\n",
       "\n",
       "    .dataframe thead th {\n",
       "        text-align: right;\n",
       "    }\n",
       "</style>\n",
       "<table border=\"1\" class=\"dataframe\">\n",
       "  <thead>\n",
       "    <tr style=\"text-align: right;\">\n",
       "      <th></th>\n",
       "      <th>name</th>\n",
       "      <th>id</th>\n",
       "      <th>nametype</th>\n",
       "      <th>recclass</th>\n",
       "      <th>mass</th>\n",
       "      <th>fall</th>\n",
       "      <th>year</th>\n",
       "      <th>reclat</th>\n",
       "      <th>reclong</th>\n",
       "      <th>GeoLocation</th>\n",
       "    </tr>\n",
       "  </thead>\n",
       "  <tbody>\n",
       "    <tr>\n",
       "      <th>0</th>\n",
       "      <td>Aachen</td>\n",
       "      <td>1</td>\n",
       "      <td>Valid</td>\n",
       "      <td>L5</td>\n",
       "      <td>21.0</td>\n",
       "      <td>Fell</td>\n",
       "      <td>1880.0</td>\n",
       "      <td>50.775</td>\n",
       "      <td>6.083</td>\n",
       "      <td>(50.775000, 6.083330)</td>\n",
       "    </tr>\n",
       "    <tr>\n",
       "      <th>1</th>\n",
       "      <td>Aarhus</td>\n",
       "      <td>2</td>\n",
       "      <td>Valid</td>\n",
       "      <td>H6</td>\n",
       "      <td>720.0</td>\n",
       "      <td>Fell</td>\n",
       "      <td>1951.0</td>\n",
       "      <td>56.183</td>\n",
       "      <td>10.233</td>\n",
       "      <td>(56.183330, 10.233330)</td>\n",
       "    </tr>\n",
       "    <tr>\n",
       "      <th>2</th>\n",
       "      <td>Abee</td>\n",
       "      <td>6</td>\n",
       "      <td>Valid</td>\n",
       "      <td>EH4</td>\n",
       "      <td>107000.0</td>\n",
       "      <td>Fell</td>\n",
       "      <td>1952.0</td>\n",
       "      <td>54.217</td>\n",
       "      <td>-113.000</td>\n",
       "      <td>(54.216670, -113.000000)</td>\n",
       "    </tr>\n",
       "    <tr>\n",
       "      <th>3</th>\n",
       "      <td>Acapulco</td>\n",
       "      <td>10</td>\n",
       "      <td>Valid</td>\n",
       "      <td>Acapulcoite</td>\n",
       "      <td>1914.0</td>\n",
       "      <td>Fell</td>\n",
       "      <td>1976.0</td>\n",
       "      <td>16.883</td>\n",
       "      <td>-99.900</td>\n",
       "      <td>(16.883330, -99.900000)</td>\n",
       "    </tr>\n",
       "    <tr>\n",
       "      <th>4</th>\n",
       "      <td>Achiras</td>\n",
       "      <td>370</td>\n",
       "      <td>Valid</td>\n",
       "      <td>L6</td>\n",
       "      <td>780.0</td>\n",
       "      <td>Fell</td>\n",
       "      <td>1902.0</td>\n",
       "      <td>-33.167</td>\n",
       "      <td>-64.950</td>\n",
       "      <td>(-33.166670, -64.950000)</td>\n",
       "    </tr>\n",
       "  </tbody>\n",
       "</table>\n",
       "</div>"
      ],
      "text/plain": [
       "       name   id nametype     recclass      mass  fall    year  reclat  \\\n",
       "0    Aachen    1    Valid           L5      21.0  Fell  1880.0  50.775   \n",
       "1    Aarhus    2    Valid           H6     720.0  Fell  1951.0  56.183   \n",
       "2      Abee    6    Valid          EH4  107000.0  Fell  1952.0  54.217   \n",
       "3  Acapulco   10    Valid  Acapulcoite    1914.0  Fell  1976.0  16.883   \n",
       "4   Achiras  370    Valid           L6     780.0  Fell  1902.0 -33.167   \n",
       "\n",
       "   reclong               GeoLocation  \n",
       "0    6.083     (50.775000, 6.083330)  \n",
       "1   10.233    (56.183330, 10.233330)  \n",
       "2 -113.000  (54.216670, -113.000000)  \n",
       "3  -99.900   (16.883330, -99.900000)  \n",
       "4  -64.950  (-33.166670, -64.950000)  "
      ]
     },
     "execution_count": 221,
     "metadata": {},
     "output_type": "execute_result"
    }
   ],
   "source": [
    "# просмотр данных (первые строки)\n",
    "df.head()\n",
    "# df.tail()"
   ]
  },
  {
   "cell_type": "markdown",
   "metadata": {},
   "source": [
    "- По умолчанию выводятся 20 колонок и 60 строк"
   ]
  },
  {
   "cell_type": "code",
   "execution_count": 222,
   "metadata": {},
   "outputs": [],
   "source": [
    "# меняем их\n",
    "pd.set_option('display.max_columns', 100)\n",
    "pd.set_option('display.max_rows', 200)\n",
    "# кол-во знаков после запятой (округление)\n",
    "pd.set_option('display.precision', 3)"
   ]
  },
  {
   "cell_type": "code",
   "execution_count": 223,
   "metadata": {},
   "outputs": [
    {
     "data": {
      "text/html": [
       "<div>\n",
       "<style scoped>\n",
       "    .dataframe tbody tr th:only-of-type {\n",
       "        vertical-align: middle;\n",
       "    }\n",
       "\n",
       "    .dataframe tbody tr th {\n",
       "        vertical-align: top;\n",
       "    }\n",
       "\n",
       "    .dataframe thead th {\n",
       "        text-align: right;\n",
       "    }\n",
       "</style>\n",
       "<table border=\"1\" class=\"dataframe\">\n",
       "  <thead>\n",
       "    <tr style=\"text-align: right;\">\n",
       "      <th></th>\n",
       "      <th>name</th>\n",
       "      <th>id</th>\n",
       "      <th>nametype</th>\n",
       "      <th>recclass</th>\n",
       "      <th>mass</th>\n",
       "      <th>fall</th>\n",
       "      <th>year</th>\n",
       "      <th>reclat</th>\n",
       "      <th>reclong</th>\n",
       "      <th>GeoLocation</th>\n",
       "    </tr>\n",
       "  </thead>\n",
       "  <tbody>\n",
       "    <tr>\n",
       "      <th>0</th>\n",
       "      <td>Aachen</td>\n",
       "      <td>1</td>\n",
       "      <td>Valid</td>\n",
       "      <td>L5</td>\n",
       "      <td>21.0</td>\n",
       "      <td>Fell</td>\n",
       "      <td>1880.0</td>\n",
       "      <td>50.775</td>\n",
       "      <td>6.083</td>\n",
       "      <td>(50.775000, 6.083330)</td>\n",
       "    </tr>\n",
       "    <tr>\n",
       "      <th>1</th>\n",
       "      <td>Aarhus</td>\n",
       "      <td>2</td>\n",
       "      <td>Valid</td>\n",
       "      <td>H6</td>\n",
       "      <td>720.0</td>\n",
       "      <td>Fell</td>\n",
       "      <td>1951.0</td>\n",
       "      <td>56.183</td>\n",
       "      <td>10.233</td>\n",
       "      <td>(56.183330, 10.233330)</td>\n",
       "    </tr>\n",
       "    <tr>\n",
       "      <th>2</th>\n",
       "      <td>Abee</td>\n",
       "      <td>6</td>\n",
       "      <td>Valid</td>\n",
       "      <td>EH4</td>\n",
       "      <td>107000.0</td>\n",
       "      <td>Fell</td>\n",
       "      <td>1952.0</td>\n",
       "      <td>54.217</td>\n",
       "      <td>-113.000</td>\n",
       "      <td>(54.216670, -113.000000)</td>\n",
       "    </tr>\n",
       "    <tr>\n",
       "      <th>3</th>\n",
       "      <td>Acapulco</td>\n",
       "      <td>10</td>\n",
       "      <td>Valid</td>\n",
       "      <td>Acapulcoite</td>\n",
       "      <td>1914.0</td>\n",
       "      <td>Fell</td>\n",
       "      <td>1976.0</td>\n",
       "      <td>16.883</td>\n",
       "      <td>-99.900</td>\n",
       "      <td>(16.883330, -99.900000)</td>\n",
       "    </tr>\n",
       "    <tr>\n",
       "      <th>4</th>\n",
       "      <td>Achiras</td>\n",
       "      <td>370</td>\n",
       "      <td>Valid</td>\n",
       "      <td>L6</td>\n",
       "      <td>780.0</td>\n",
       "      <td>Fell</td>\n",
       "      <td>1902.0</td>\n",
       "      <td>-33.167</td>\n",
       "      <td>-64.950</td>\n",
       "      <td>(-33.166670, -64.950000)</td>\n",
       "    </tr>\n",
       "  </tbody>\n",
       "</table>\n",
       "</div>"
      ],
      "text/plain": [
       "       name   id nametype     recclass      mass  fall    year  reclat  \\\n",
       "0    Aachen    1    Valid           L5      21.0  Fell  1880.0  50.775   \n",
       "1    Aarhus    2    Valid           H6     720.0  Fell  1951.0  56.183   \n",
       "2      Abee    6    Valid          EH4  107000.0  Fell  1952.0  54.217   \n",
       "3  Acapulco   10    Valid  Acapulcoite    1914.0  Fell  1976.0  16.883   \n",
       "4   Achiras  370    Valid           L6     780.0  Fell  1902.0 -33.167   \n",
       "\n",
       "   reclong               GeoLocation  \n",
       "0    6.083     (50.775000, 6.083330)  \n",
       "1   10.233    (56.183330, 10.233330)  \n",
       "2 -113.000  (54.216670, -113.000000)  \n",
       "3  -99.900   (16.883330, -99.900000)  \n",
       "4  -64.950  (-33.166670, -64.950000)  "
      ]
     },
     "execution_count": 223,
     "metadata": {},
     "output_type": "execute_result"
    }
   ],
   "source": [
    "df.head()"
   ]
  },
  {
   "cell_type": "code",
   "execution_count": 224,
   "metadata": {},
   "outputs": [
    {
     "data": {
      "text/plain": [
       "(45716, 10)"
      ]
     },
     "execution_count": 224,
     "metadata": {},
     "output_type": "execute_result"
    }
   ],
   "source": [
    "# строки, колонки \n",
    "df.shape"
   ]
  },
  {
   "cell_type": "code",
   "execution_count": 225,
   "metadata": {},
   "outputs": [
    {
     "data": {
      "text/plain": [
       "Index(['name', 'id', 'nametype', 'recclass', 'mass', 'fall', 'year', 'reclat',\n",
       "       'reclong', 'GeoLocation'],\n",
       "      dtype='object')"
      ]
     },
     "execution_count": 225,
     "metadata": {},
     "output_type": "execute_result"
    }
   ],
   "source": [
    "# индексы\n",
    "df.columns"
   ]
  },
  {
   "cell_type": "markdown",
   "metadata": {},
   "source": [
    "### Общая информация по выборке"
   ]
  },
  {
   "cell_type": "code",
   "execution_count": 226,
   "metadata": {},
   "outputs": [
    {
     "name": "stdout",
     "output_type": "stream",
     "text": [
      "<class 'pandas.core.frame.DataFrame'>\n",
      "RangeIndex: 45716 entries, 0 to 45715\n",
      "Data columns (total 10 columns):\n",
      " #   Column       Non-Null Count  Dtype  \n",
      "---  ------       --------------  -----  \n",
      " 0   name         45716 non-null  object \n",
      " 1   id           45716 non-null  int64  \n",
      " 2   nametype     45716 non-null  object \n",
      " 3   recclass     45716 non-null  object \n",
      " 4   mass         45585 non-null  float64\n",
      " 5   fall         45716 non-null  object \n",
      " 6   year         45428 non-null  float64\n",
      " 7   reclat       38401 non-null  float64\n",
      " 8   reclong      38401 non-null  float64\n",
      " 9   GeoLocation  38401 non-null  object \n",
      "dtypes: float64(4), int64(1), object(5)\n",
      "memory usage: 3.5+ MB\n"
     ]
    }
   ],
   "source": [
    "df.info()"
   ]
  },
  {
   "cell_type": "markdown",
   "metadata": {},
   "source": [
    "занимаемая память критичный параметр"
   ]
  },
  {
   "cell_type": "code",
   "execution_count": 227,
   "metadata": {},
   "outputs": [
    {
     "data": {
      "text/html": [
       "<div>\n",
       "<style scoped>\n",
       "    .dataframe tbody tr th:only-of-type {\n",
       "        vertical-align: middle;\n",
       "    }\n",
       "\n",
       "    .dataframe tbody tr th {\n",
       "        vertical-align: top;\n",
       "    }\n",
       "\n",
       "    .dataframe thead th {\n",
       "        text-align: right;\n",
       "    }\n",
       "</style>\n",
       "<table border=\"1\" class=\"dataframe\">\n",
       "  <thead>\n",
       "    <tr style=\"text-align: right;\">\n",
       "      <th></th>\n",
       "      <th>id</th>\n",
       "      <th>mass</th>\n",
       "      <th>year</th>\n",
       "      <th>reclat</th>\n",
       "      <th>reclong</th>\n",
       "    </tr>\n",
       "  </thead>\n",
       "  <tbody>\n",
       "    <tr>\n",
       "      <th>count</th>\n",
       "      <td>45716.000</td>\n",
       "      <td>4.558e+04</td>\n",
       "      <td>45428.000</td>\n",
       "      <td>38401.000</td>\n",
       "      <td>38401.000</td>\n",
       "    </tr>\n",
       "    <tr>\n",
       "      <th>mean</th>\n",
       "      <td>26889.735</td>\n",
       "      <td>1.328e+04</td>\n",
       "      <td>1991.772</td>\n",
       "      <td>-39.123</td>\n",
       "      <td>61.074</td>\n",
       "    </tr>\n",
       "    <tr>\n",
       "      <th>std</th>\n",
       "      <td>16860.683</td>\n",
       "      <td>5.750e+05</td>\n",
       "      <td>27.181</td>\n",
       "      <td>46.379</td>\n",
       "      <td>80.647</td>\n",
       "    </tr>\n",
       "    <tr>\n",
       "      <th>min</th>\n",
       "      <td>1.000</td>\n",
       "      <td>0.000e+00</td>\n",
       "      <td>301.000</td>\n",
       "      <td>-87.367</td>\n",
       "      <td>-165.433</td>\n",
       "    </tr>\n",
       "    <tr>\n",
       "      <th>25%</th>\n",
       "      <td>12688.750</td>\n",
       "      <td>7.200e+00</td>\n",
       "      <td>1987.000</td>\n",
       "      <td>-76.714</td>\n",
       "      <td>0.000</td>\n",
       "    </tr>\n",
       "    <tr>\n",
       "      <th>50%</th>\n",
       "      <td>24261.500</td>\n",
       "      <td>3.260e+01</td>\n",
       "      <td>1998.000</td>\n",
       "      <td>-71.500</td>\n",
       "      <td>35.667</td>\n",
       "    </tr>\n",
       "    <tr>\n",
       "      <th>75%</th>\n",
       "      <td>40656.750</td>\n",
       "      <td>2.026e+02</td>\n",
       "      <td>2003.000</td>\n",
       "      <td>0.000</td>\n",
       "      <td>157.167</td>\n",
       "    </tr>\n",
       "    <tr>\n",
       "      <th>max</th>\n",
       "      <td>57458.000</td>\n",
       "      <td>6.000e+07</td>\n",
       "      <td>2501.000</td>\n",
       "      <td>81.167</td>\n",
       "      <td>354.473</td>\n",
       "    </tr>\n",
       "  </tbody>\n",
       "</table>\n",
       "</div>"
      ],
      "text/plain": [
       "              id       mass       year     reclat    reclong\n",
       "count  45716.000  4.558e+04  45428.000  38401.000  38401.000\n",
       "mean   26889.735  1.328e+04   1991.772    -39.123     61.074\n",
       "std    16860.683  5.750e+05     27.181     46.379     80.647\n",
       "min        1.000  0.000e+00    301.000    -87.367   -165.433\n",
       "25%    12688.750  7.200e+00   1987.000    -76.714      0.000\n",
       "50%    24261.500  3.260e+01   1998.000    -71.500     35.667\n",
       "75%    40656.750  2.026e+02   2003.000      0.000    157.167\n",
       "max    57458.000  6.000e+07   2501.000     81.167    354.473"
      ]
     },
     "execution_count": 227,
     "metadata": {},
     "output_type": "execute_result"
    }
   ],
   "source": [
    "# числовые значения float64\n",
    "df.describe()"
   ]
  },
  {
   "cell_type": "code",
   "execution_count": 228,
   "metadata": {},
   "outputs": [
    {
     "data": {
      "text/html": [
       "<div>\n",
       "<style scoped>\n",
       "    .dataframe tbody tr th:only-of-type {\n",
       "        vertical-align: middle;\n",
       "    }\n",
       "\n",
       "    .dataframe tbody tr th {\n",
       "        vertical-align: top;\n",
       "    }\n",
       "\n",
       "    .dataframe thead th {\n",
       "        text-align: right;\n",
       "    }\n",
       "</style>\n",
       "<table border=\"1\" class=\"dataframe\">\n",
       "  <thead>\n",
       "    <tr style=\"text-align: right;\">\n",
       "      <th></th>\n",
       "      <th>mass</th>\n",
       "      <th>year</th>\n",
       "      <th>reclat</th>\n",
       "      <th>reclong</th>\n",
       "    </tr>\n",
       "  </thead>\n",
       "  <tbody>\n",
       "    <tr>\n",
       "      <th>count</th>\n",
       "      <td>4.558e+04</td>\n",
       "      <td>45428.000</td>\n",
       "      <td>38401.000</td>\n",
       "      <td>38401.000</td>\n",
       "    </tr>\n",
       "    <tr>\n",
       "      <th>mean</th>\n",
       "      <td>1.328e+04</td>\n",
       "      <td>1991.772</td>\n",
       "      <td>-39.123</td>\n",
       "      <td>61.074</td>\n",
       "    </tr>\n",
       "    <tr>\n",
       "      <th>std</th>\n",
       "      <td>5.750e+05</td>\n",
       "      <td>27.181</td>\n",
       "      <td>46.379</td>\n",
       "      <td>80.647</td>\n",
       "    </tr>\n",
       "    <tr>\n",
       "      <th>min</th>\n",
       "      <td>0.000e+00</td>\n",
       "      <td>301.000</td>\n",
       "      <td>-87.367</td>\n",
       "      <td>-165.433</td>\n",
       "    </tr>\n",
       "    <tr>\n",
       "      <th>25%</th>\n",
       "      <td>7.200e+00</td>\n",
       "      <td>1987.000</td>\n",
       "      <td>-76.714</td>\n",
       "      <td>0.000</td>\n",
       "    </tr>\n",
       "    <tr>\n",
       "      <th>50%</th>\n",
       "      <td>3.260e+01</td>\n",
       "      <td>1998.000</td>\n",
       "      <td>-71.500</td>\n",
       "      <td>35.667</td>\n",
       "    </tr>\n",
       "    <tr>\n",
       "      <th>75%</th>\n",
       "      <td>2.026e+02</td>\n",
       "      <td>2003.000</td>\n",
       "      <td>0.000</td>\n",
       "      <td>157.167</td>\n",
       "    </tr>\n",
       "    <tr>\n",
       "      <th>max</th>\n",
       "      <td>6.000e+07</td>\n",
       "      <td>2501.000</td>\n",
       "      <td>81.167</td>\n",
       "      <td>354.473</td>\n",
       "    </tr>\n",
       "  </tbody>\n",
       "</table>\n",
       "</div>"
      ],
      "text/plain": [
       "            mass       year     reclat    reclong\n",
       "count  4.558e+04  45428.000  38401.000  38401.000\n",
       "mean   1.328e+04   1991.772    -39.123     61.074\n",
       "std    5.750e+05     27.181     46.379     80.647\n",
       "min    0.000e+00    301.000    -87.367   -165.433\n",
       "25%    7.200e+00   1987.000    -76.714      0.000\n",
       "50%    3.260e+01   1998.000    -71.500     35.667\n",
       "75%    2.026e+02   2003.000      0.000    157.167\n",
       "max    6.000e+07   2501.000     81.167    354.473"
      ]
     },
     "execution_count": 228,
     "metadata": {},
     "output_type": "execute_result"
    }
   ],
   "source": [
    "# числовые значения float64\n",
    "df.describe(include=['float64'])"
   ]
  },
  {
   "cell_type": "code",
   "execution_count": 229,
   "metadata": {},
   "outputs": [
    {
     "data": {
      "text/html": [
       "<div>\n",
       "<style scoped>\n",
       "    .dataframe tbody tr th:only-of-type {\n",
       "        vertical-align: middle;\n",
       "    }\n",
       "\n",
       "    .dataframe tbody tr th {\n",
       "        vertical-align: top;\n",
       "    }\n",
       "\n",
       "    .dataframe thead th {\n",
       "        text-align: right;\n",
       "    }\n",
       "</style>\n",
       "<table border=\"1\" class=\"dataframe\">\n",
       "  <thead>\n",
       "    <tr style=\"text-align: right;\">\n",
       "      <th></th>\n",
       "      <th>name</th>\n",
       "      <th>nametype</th>\n",
       "      <th>recclass</th>\n",
       "      <th>fall</th>\n",
       "      <th>GeoLocation</th>\n",
       "    </tr>\n",
       "  </thead>\n",
       "  <tbody>\n",
       "    <tr>\n",
       "      <th>count</th>\n",
       "      <td>45716</td>\n",
       "      <td>45716</td>\n",
       "      <td>45716</td>\n",
       "      <td>45716</td>\n",
       "      <td>38401</td>\n",
       "    </tr>\n",
       "    <tr>\n",
       "      <th>unique</th>\n",
       "      <td>45716</td>\n",
       "      <td>2</td>\n",
       "      <td>466</td>\n",
       "      <td>2</td>\n",
       "      <td>17100</td>\n",
       "    </tr>\n",
       "    <tr>\n",
       "      <th>top</th>\n",
       "      <td>LaPaz Icefield 04657</td>\n",
       "      <td>Valid</td>\n",
       "      <td>L6</td>\n",
       "      <td>Found</td>\n",
       "      <td>(0.000000, 0.000000)</td>\n",
       "    </tr>\n",
       "    <tr>\n",
       "      <th>freq</th>\n",
       "      <td>1</td>\n",
       "      <td>45641</td>\n",
       "      <td>8285</td>\n",
       "      <td>44609</td>\n",
       "      <td>6214</td>\n",
       "    </tr>\n",
       "  </tbody>\n",
       "</table>\n",
       "</div>"
      ],
      "text/plain": [
       "                        name nametype recclass   fall           GeoLocation\n",
       "count                  45716    45716    45716  45716                 38401\n",
       "unique                 45716        2      466      2                 17100\n",
       "top     LaPaz Icefield 04657    Valid       L6  Found  (0.000000, 0.000000)\n",
       "freq                       1    45641     8285  44609                  6214"
      ]
     },
     "execution_count": 229,
     "metadata": {},
     "output_type": "execute_result"
    }
   ],
   "source": [
    "# не числовые (категориальные) значения (признаки) - object\n",
    "df.describe(include=['object'])"
   ]
  },
  {
   "cell_type": "code",
   "execution_count": 230,
   "metadata": {},
   "outputs": [
    {
     "data": {
      "text/plain": [
       "L6    8285\n",
       "H5    7142\n",
       "L5    4796\n",
       "H6    4528\n",
       "H4    4211\n",
       "Name: recclass, dtype: int64"
      ]
     },
     "execution_count": 230,
     "metadata": {},
     "output_type": "execute_result"
    }
   ],
   "source": [
    "# 5 самых встречающихся признаков в колонке 'recclass'\n",
    "df.recclass.value_counts()[:5]"
   ]
  },
  {
   "cell_type": "code",
   "execution_count": 231,
   "metadata": {},
   "outputs": [
    {
     "name": "stdout",
     "output_type": "stream",
     "text": [
      "Avaridg memory usege for float columns: 0.28 MB\n",
      "Avaridg memory usege for int columns: 0.00 MB\n",
      "Avaridg memory usege for object columns: 2.41 MB\n"
     ]
    }
   ],
   "source": [
    "# сколько каждый тип в среднем занимает памяти\n",
    "for dtype in ['float', 'int', 'object']:\n",
    "    # возвращаем подмножество столбцов DataFrame на основе dtypes столбцов\n",
    "    select_dtype = df.select_dtypes(include=[dtype])\n",
    "    # Возвращаем использование памяти каждого столбца в байтах. means()-среднее значение по выборке \n",
    "    mean_usege_b = select_dtype.memory_usage(deep=True).mean()\n",
    "    # байты в мегабайты\n",
    "    mean_usege_mb = mean_usege_b / 1024 ** 2\n",
    "    print(\"Avaridg memory usege for {} columns: {:03.2f} MB\".format(dtype, mean_usege_mb))\n",
    "    "
   ]
  },
  {
   "cell_type": "markdown",
   "metadata": {},
   "source": [
    "Можно закодировать колонки типа 'object' в числовые эквиваленты \n",
    "(LabelEncoder или OneHotEncoder). \n",
    "Линейные модели, метрики близости объектов, линейные регрессии НЕРАБОТАЮТ.\n",
    "OneHotEncoder - преобразует данные в разреженную матрицу -> \n",
    "Линейные модели, метрики близости объектов, линейные регрессии РАБОТАЮТ."
   ]
  },
  {
   "cell_type": "code",
   "execution_count": 232,
   "metadata": {},
   "outputs": [],
   "source": [
    "# для сокращения объема используемой памяти можно преобразовать колонки float64 в float32\n",
    "df['mass'] = df['mass'].astype('float32')"
   ]
  },
  {
   "cell_type": "code",
   "execution_count": 233,
   "metadata": {},
   "outputs": [
    {
     "name": "stdout",
     "output_type": "stream",
     "text": [
      "<class 'pandas.core.frame.DataFrame'>\n",
      "RangeIndex: 45716 entries, 0 to 45715\n",
      "Data columns (total 10 columns):\n",
      " #   Column       Non-Null Count  Dtype  \n",
      "---  ------       --------------  -----  \n",
      " 0   name         45716 non-null  object \n",
      " 1   id           45716 non-null  int64  \n",
      " 2   nametype     45716 non-null  object \n",
      " 3   recclass     45716 non-null  object \n",
      " 4   mass         45585 non-null  float32\n",
      " 5   fall         45716 non-null  object \n",
      " 6   year         45428 non-null  float64\n",
      " 7   reclat       38401 non-null  float64\n",
      " 8   reclong      38401 non-null  float64\n",
      " 9   GeoLocation  38401 non-null  object \n",
      "dtypes: float32(1), float64(3), int64(1), object(5)\n",
      "memory usage: 3.3+ MB\n"
     ]
    }
   ],
   "source": [
    "df.info()"
   ]
  },
  {
   "cell_type": "markdown",
   "metadata": {},
   "source": [
    "## Тип данных КАТЕГОРИЯ"
   ]
  },
  {
   "cell_type": "code",
   "execution_count": 234,
   "metadata": {},
   "outputs": [
    {
     "data": {
      "text/plain": [
       "[('name', 45716),\n",
       " ('id', 45716),\n",
       " ('nametype', 2),\n",
       " ('recclass', 466),\n",
       " ('mass', 12576),\n",
       " ('fall', 2),\n",
       " ('year', 268),\n",
       " ('reclat', 12738),\n",
       " ('reclong', 14640),\n",
       " ('GeoLocation', 17100)]"
      ]
     },
     "execution_count": 234,
     "metadata": {},
     "output_type": "execute_result"
    }
   ],
   "source": [
    "# количество уникальных значений \n",
    "[(col, df[col].nunique()) for col in df.columns]"
   ]
  },
  {
   "cell_type": "code",
   "execution_count": 235,
   "metadata": {},
   "outputs": [],
   "source": [
    "# глубокая копия -> новый df\n",
    "df_with_cat = df.copy()"
   ]
  },
  {
   "cell_type": "code",
   "execution_count": 236,
   "metadata": {},
   "outputs": [],
   "source": [
    "# преобразуем recclass в categiry - тип category\n",
    "df_with_cat['recclass'] = df_with_cat['recclass'].astype('category')"
   ]
  },
  {
   "cell_type": "code",
   "execution_count": 237,
   "metadata": {},
   "outputs": [
    {
     "name": "stdout",
     "output_type": "stream",
     "text": [
      "<class 'pandas.core.frame.DataFrame'>\n",
      "RangeIndex: 45716 entries, 0 to 45715\n",
      "Data columns (total 10 columns):\n",
      " #   Column       Non-Null Count  Dtype   \n",
      "---  ------       --------------  -----   \n",
      " 0   name         45716 non-null  object  \n",
      " 1   id           45716 non-null  int64   \n",
      " 2   nametype     45716 non-null  object  \n",
      " 3   recclass     45716 non-null  category\n",
      " 4   mass         45585 non-null  float32 \n",
      " 5   fall         45716 non-null  object  \n",
      " 6   year         45428 non-null  float64 \n",
      " 7   reclat       38401 non-null  float64 \n",
      " 8   reclong      38401 non-null  float64 \n",
      " 9   GeoLocation  38401 non-null  object  \n",
      "dtypes: category(1), float32(1), float64(3), int64(1), object(4)\n",
      "memory usage: 3.1+ MB\n"
     ]
    }
   ],
   "source": [
    "df_with_cat.info()\n",
    "# сокращение объема используемой памяти"
   ]
  },
  {
   "cell_type": "code",
   "execution_count": 238,
   "metadata": {},
   "outputs": [
    {
     "name": "stdout",
     "output_type": "stream",
     "text": [
      "1.01 ms ± 24.7 µs per loop (mean ± std. dev. of 7 runs, 1000 loops each)\n"
     ]
    }
   ],
   "source": [
    "%%timeit\n",
    "# вычисление времени выполнения команды по df с категориальной колонкой\n",
    "df_with_cat.groupby('recclass')['mass'].mean().to_frame()"
   ]
  },
  {
   "cell_type": "code",
   "execution_count": 239,
   "metadata": {},
   "outputs": [
    {
     "name": "stdout",
     "output_type": "stream",
     "text": [
      "2.76 ms ± 92.5 µs per loop (mean ± std. dev. of 7 runs, 100 loops each)\n"
     ]
    }
   ],
   "source": [
    "%%timeit\n",
    "# вычисление времени выполнения команды по df без категориальной колонкой\n",
    "df.groupby('recclass')['mass'].mean().to_frame()"
   ]
  },
  {
   "cell_type": "markdown",
   "metadata": {},
   "source": [
    "### Применение к данным требуемых операций"
   ]
  },
  {
   "cell_type": "code",
   "execution_count": 240,
   "metadata": {},
   "outputs": [
    {
     "data": {
      "text/html": [
       "<div>\n",
       "<style scoped>\n",
       "    .dataframe tbody tr th:only-of-type {\n",
       "        vertical-align: middle;\n",
       "    }\n",
       "\n",
       "    .dataframe tbody tr th {\n",
       "        vertical-align: top;\n",
       "    }\n",
       "\n",
       "    .dataframe thead th {\n",
       "        text-align: right;\n",
       "    }\n",
       "</style>\n",
       "<table border=\"1\" class=\"dataframe\">\n",
       "  <thead>\n",
       "    <tr style=\"text-align: right;\">\n",
       "      <th></th>\n",
       "      <th>name</th>\n",
       "      <th>id</th>\n",
       "      <th>nametype</th>\n",
       "      <th>recclass</th>\n",
       "      <th>mass</th>\n",
       "      <th>fall</th>\n",
       "      <th>year</th>\n",
       "      <th>reclat</th>\n",
       "      <th>reclong</th>\n",
       "      <th>GeoLocation</th>\n",
       "    </tr>\n",
       "  </thead>\n",
       "  <tbody>\n",
       "    <tr>\n",
       "      <th>27673</th>\n",
       "      <td>Northwest Africa 2656</td>\n",
       "      <td>32485</td>\n",
       "      <td>Valid</td>\n",
       "      <td>Acapulcoite</td>\n",
       "      <td>7500.0</td>\n",
       "      <td>Found</td>\n",
       "      <td>2003.0</td>\n",
       "      <td>NaN</td>\n",
       "      <td>NaN</td>\n",
       "      <td>NaN</td>\n",
       "    </tr>\n",
       "    <tr>\n",
       "      <th>30353</th>\n",
       "      <td>Northwest Africa 725</td>\n",
       "      <td>17807</td>\n",
       "      <td>Valid</td>\n",
       "      <td>Acapulcoite</td>\n",
       "      <td>3824.0</td>\n",
       "      <td>Found</td>\n",
       "      <td>NaN</td>\n",
       "      <td>30.6</td>\n",
       "      <td>-5.05</td>\n",
       "      <td>(30.600000, -5.050000)</td>\n",
       "    </tr>\n",
       "    <tr>\n",
       "      <th>27845</th>\n",
       "      <td>Northwest Africa 2871</td>\n",
       "      <td>33345</td>\n",
       "      <td>Valid</td>\n",
       "      <td>Acapulcoite</td>\n",
       "      <td>3467.0</td>\n",
       "      <td>Found</td>\n",
       "      <td>2005.0</td>\n",
       "      <td>NaN</td>\n",
       "      <td>NaN</td>\n",
       "      <td>NaN</td>\n",
       "    </tr>\n",
       "  </tbody>\n",
       "</table>\n",
       "</div>"
      ],
      "text/plain": [
       "                        name     id nametype     recclass    mass   fall  \\\n",
       "27673  Northwest Africa 2656  32485    Valid  Acapulcoite  7500.0  Found   \n",
       "30353   Northwest Africa 725  17807    Valid  Acapulcoite  3824.0  Found   \n",
       "27845  Northwest Africa 2871  33345    Valid  Acapulcoite  3467.0  Found   \n",
       "\n",
       "         year  reclat  reclong             GeoLocation  \n",
       "27673  2003.0     NaN      NaN                     NaN  \n",
       "30353     NaN    30.6    -5.05  (30.600000, -5.050000)  \n",
       "27845  2005.0     NaN      NaN                     NaN  "
      ]
     },
     "execution_count": 240,
     "metadata": {},
     "output_type": "execute_result"
    }
   ],
   "source": [
    "# сортировка по возрастанию ascending=[True, False] [1я колонка, 2я колонка]\n",
    "df.sort_values(by=['recclass', 'mass'], ascending=[True, False]).head(3)"
   ]
  },
  {
   "cell_type": "code",
   "execution_count": 241,
   "metadata": {},
   "outputs": [
    {
     "data": {
      "text/html": [
       "<div>\n",
       "<style scoped>\n",
       "    .dataframe tbody tr th:only-of-type {\n",
       "        vertical-align: middle;\n",
       "    }\n",
       "\n",
       "    .dataframe tbody tr th {\n",
       "        vertical-align: top;\n",
       "    }\n",
       "\n",
       "    .dataframe thead th {\n",
       "        text-align: right;\n",
       "    }\n",
       "</style>\n",
       "<table border=\"1\" class=\"dataframe\">\n",
       "  <thead>\n",
       "    <tr style=\"text-align: right;\">\n",
       "      <th></th>\n",
       "      <th>name</th>\n",
       "      <th>id</th>\n",
       "      <th>nametype</th>\n",
       "      <th>recclass</th>\n",
       "      <th>mass</th>\n",
       "      <th>fall</th>\n",
       "      <th>year</th>\n",
       "      <th>reclat</th>\n",
       "      <th>reclong</th>\n",
       "      <th>GeoLocation</th>\n",
       "    </tr>\n",
       "  </thead>\n",
       "  <tbody>\n",
       "    <tr>\n",
       "      <th>0</th>\n",
       "      <td>Aachen</td>\n",
       "      <td>1</td>\n",
       "      <td>Valid</td>\n",
       "      <td>L5</td>\n",
       "      <td>21.0</td>\n",
       "      <td>Fell</td>\n",
       "      <td>1880.0</td>\n",
       "      <td>50.775</td>\n",
       "      <td>6.083</td>\n",
       "      <td>(50.775000, 6.083330)</td>\n",
       "    </tr>\n",
       "    <tr>\n",
       "      <th>1</th>\n",
       "      <td>Aarhus</td>\n",
       "      <td>2</td>\n",
       "      <td>Valid</td>\n",
       "      <td>H6</td>\n",
       "      <td>720.0</td>\n",
       "      <td>Fell</td>\n",
       "      <td>1951.0</td>\n",
       "      <td>56.183</td>\n",
       "      <td>10.233</td>\n",
       "      <td>(56.183330, 10.233330)</td>\n",
       "    </tr>\n",
       "    <tr>\n",
       "      <th>2</th>\n",
       "      <td>Abee</td>\n",
       "      <td>6</td>\n",
       "      <td>Valid</td>\n",
       "      <td>EH4</td>\n",
       "      <td>107000.0</td>\n",
       "      <td>Fell</td>\n",
       "      <td>1952.0</td>\n",
       "      <td>54.217</td>\n",
       "      <td>-113.000</td>\n",
       "      <td>(54.216670, -113.000000)</td>\n",
       "    </tr>\n",
       "    <tr>\n",
       "      <th>3</th>\n",
       "      <td>Acapulco</td>\n",
       "      <td>10</td>\n",
       "      <td>Valid</td>\n",
       "      <td>Acapulcoite</td>\n",
       "      <td>1914.0</td>\n",
       "      <td>Fell</td>\n",
       "      <td>1976.0</td>\n",
       "      <td>16.883</td>\n",
       "      <td>-99.900</td>\n",
       "      <td>(16.883330, -99.900000)</td>\n",
       "    </tr>\n",
       "    <tr>\n",
       "      <th>4</th>\n",
       "      <td>Achiras</td>\n",
       "      <td>370</td>\n",
       "      <td>Valid</td>\n",
       "      <td>L6</td>\n",
       "      <td>780.0</td>\n",
       "      <td>Fell</td>\n",
       "      <td>1902.0</td>\n",
       "      <td>-33.167</td>\n",
       "      <td>-64.950</td>\n",
       "      <td>(-33.166670, -64.950000)</td>\n",
       "    </tr>\n",
       "    <tr>\n",
       "      <th>5</th>\n",
       "      <td>Adhi Kot</td>\n",
       "      <td>379</td>\n",
       "      <td>Valid</td>\n",
       "      <td>EH4</td>\n",
       "      <td>4239.0</td>\n",
       "      <td>Fell</td>\n",
       "      <td>1919.0</td>\n",
       "      <td>32.100</td>\n",
       "      <td>71.800</td>\n",
       "      <td>(32.100000, 71.800000)</td>\n",
       "    </tr>\n",
       "  </tbody>\n",
       "</table>\n",
       "</div>"
      ],
      "text/plain": [
       "       name   id nametype     recclass      mass  fall    year  reclat  \\\n",
       "0    Aachen    1    Valid           L5      21.0  Fell  1880.0  50.775   \n",
       "1    Aarhus    2    Valid           H6     720.0  Fell  1951.0  56.183   \n",
       "2      Abee    6    Valid          EH4  107000.0  Fell  1952.0  54.217   \n",
       "3  Acapulco   10    Valid  Acapulcoite    1914.0  Fell  1976.0  16.883   \n",
       "4   Achiras  370    Valid           L6     780.0  Fell  1902.0 -33.167   \n",
       "5  Adhi Kot  379    Valid          EH4    4239.0  Fell  1919.0  32.100   \n",
       "\n",
       "   reclong               GeoLocation  \n",
       "0    6.083     (50.775000, 6.083330)  \n",
       "1   10.233    (56.183330, 10.233330)  \n",
       "2 -113.000  (54.216670, -113.000000)  \n",
       "3  -99.900   (16.883330, -99.900000)  \n",
       "4  -64.950  (-33.166670, -64.950000)  \n",
       "5   71.800    (32.100000, 71.800000)  "
      ]
     },
     "execution_count": 241,
     "metadata": {},
     "output_type": "execute_result"
    }
   ],
   "source": [
    "# извлечение 6-ти строк\n",
    "df.loc[0:5,:]"
   ]
  },
  {
   "cell_type": "code",
   "execution_count": 242,
   "metadata": {},
   "outputs": [
    {
     "data": {
      "text/plain": [
       "107000.0"
      ]
     },
     "execution_count": 242,
     "metadata": {},
     "output_type": "execute_result"
    }
   ],
   "source": [
    "# средняя масса по имени (условие > колонка > функция)\n",
    "df[df[\"name\"] == 'Abee'][\"mass\"].mean()"
   ]
  },
  {
   "cell_type": "code",
   "execution_count": 243,
   "metadata": {},
   "outputs": [
    {
     "data": {
      "text/plain": [
       "Found    44609\n",
       "Fell      1107\n",
       "Name: fall, dtype: int64"
      ]
     },
     "execution_count": 243,
     "metadata": {},
     "output_type": "execute_result"
    }
   ],
   "source": [
    "# количество уникальных значений в колонке 'fall'\n",
    "#df.fall.value_counts()\n",
    "# количество уникальных значений в колонке 'fall' с NaN или без\n",
    "df.fall.value_counts(dropna=False)"
   ]
  },
  {
   "cell_type": "code",
   "execution_count": 244,
   "metadata": {},
   "outputs": [
    {
     "data": {
      "text/plain": [
       "mass    6.000e+07\n",
       "id      5.746e+04\n",
       "dtype: float64"
      ]
     },
     "execution_count": 244,
     "metadata": {},
     "output_type": "execute_result"
    }
   ],
   "source": [
    "# применение функции к колонке/строке\n",
    "df[['mass', 'id']].apply(np.max)"
   ]
  },
  {
   "cell_type": "code",
   "execution_count": 245,
   "metadata": {},
   "outputs": [
    {
     "data": {
      "text/plain": [
       "<bound method NDFrame.tail of              name     id nametype              recclass      mass   fall  \\\n",
       "0          Aachen      1    Valid                    L5      21.0   Fell   \n",
       "1          Aarhus      2    Valid                    H6     720.0   Fell   \n",
       "2            Abee      6    Valid                   EH4  107000.0   Fell   \n",
       "3        Acapulco     10    Valid           Acapulcoite    1914.0   Fell   \n",
       "4         Achiras    370    Valid                    L6     780.0   Fell   \n",
       "...           ...    ...      ...                   ...       ...    ...   \n",
       "45711  Zillah 002  31356    Valid               Eucrite     172.0  Found   \n",
       "45712      Zinder  30409    Valid  Pallasite, ungrouped      46.0  Found   \n",
       "45713        Zlin  30410    Valid                    H4       3.3  Found   \n",
       "45714   Zubkovsky  31357    Valid                    L6    2167.0  Found   \n",
       "45715  Zulu Queen  30414    Valid                  L3.7     200.0  Found   \n",
       "\n",
       "         year  reclat  reclong               GeoLocation  status  \n",
       "0      1880.0  50.775    6.083     (50.775000, 6.083330)       0  \n",
       "1      1951.0  56.183   10.233    (56.183330, 10.233330)       0  \n",
       "2      1952.0  54.217 -113.000  (54.216670, -113.000000)       0  \n",
       "3      1976.0  16.883  -99.900   (16.883330, -99.900000)       0  \n",
       "4      1902.0 -33.167  -64.950  (-33.166670, -64.950000)       0  \n",
       "...       ...     ...      ...                       ...     ...  \n",
       "45711  1990.0  29.037   17.018    (29.037000, 17.018500)       1  \n",
       "45712  1999.0  13.783    8.967     (13.783330, 8.966670)       1  \n",
       "45713  1939.0  49.250   17.667    (49.250000, 17.666670)       1  \n",
       "45714  2003.0  49.789   41.505    (49.789170, 41.504600)       1  \n",
       "45715  1976.0  33.983 -115.683  (33.983330, -115.683330)       1  \n",
       "\n",
       "[45716 rows x 11 columns]>"
      ]
     },
     "execution_count": 245,
     "metadata": {},
     "output_type": "execute_result"
    }
   ],
   "source": [
    "# добавим новую колонку со значениями (1, 0) в соответствии с другой колонкой \n",
    "d = {\"Found\": 1, \"Fell\": 0}\n",
    "df[\"status\"] = df[\"fall\"].map(d)\n",
    "df.tail"
   ]
  },
  {
   "cell_type": "code",
   "execution_count": 246,
   "metadata": {},
   "outputs": [
    {
     "data": {
      "text/plain": [
       "fall\n",
       "Fell     2.300e+07\n",
       "Found    6.000e+07\n",
       "Name: mass, dtype: float32"
      ]
     },
     "execution_count": 246,
     "metadata": {},
     "output_type": "execute_result"
    }
   ],
   "source": [
    "# максимальное значение по колонке 'mass' для групп по колонке 'fall'\n",
    "df.groupby(by=\"fall\")[\"mass\"].max()"
   ]
  },
  {
   "cell_type": "code",
   "execution_count": 247,
   "metadata": {},
   "outputs": [
    {
     "data": {
      "text/html": [
       "<div>\n",
       "<style scoped>\n",
       "    .dataframe tbody tr th:only-of-type {\n",
       "        vertical-align: middle;\n",
       "    }\n",
       "\n",
       "    .dataframe tbody tr th {\n",
       "        vertical-align: top;\n",
       "    }\n",
       "\n",
       "    .dataframe thead th {\n",
       "        text-align: right;\n",
       "    }\n",
       "</style>\n",
       "<table border=\"1\" class=\"dataframe\">\n",
       "  <thead>\n",
       "    <tr style=\"text-align: right;\">\n",
       "      <th></th>\n",
       "      <th>mean</th>\n",
       "      <th>std</th>\n",
       "      <th>amin</th>\n",
       "      <th>amax</th>\n",
       "    </tr>\n",
       "    <tr>\n",
       "      <th>fall</th>\n",
       "      <th></th>\n",
       "      <th></th>\n",
       "      <th></th>\n",
       "      <th></th>\n",
       "    </tr>\n",
       "  </thead>\n",
       "  <tbody>\n",
       "    <tr>\n",
       "      <th>Fell</th>\n",
       "      <td>47070.715</td>\n",
       "      <td>717067.126</td>\n",
       "      <td>0.1</td>\n",
       "      <td>2.300e+07</td>\n",
       "    </tr>\n",
       "    <tr>\n",
       "      <th>Found</th>\n",
       "      <td>12461.923</td>\n",
       "      <td>571105.752</td>\n",
       "      <td>0.0</td>\n",
       "      <td>6.000e+07</td>\n",
       "    </tr>\n",
       "  </tbody>\n",
       "</table>\n",
       "</div>"
      ],
      "text/plain": [
       "            mean         std  amin       amax\n",
       "fall                                         \n",
       "Fell   47070.715  717067.126   0.1  2.300e+07\n",
       "Found  12461.923  571105.752   0.0  6.000e+07"
      ]
     },
     "execution_count": 247,
     "metadata": {},
     "output_type": "execute_result"
    }
   ],
   "source": [
    "# статистические данные по колонке 'mass' для групп объектов 'fall'\n",
    "df.groupby(by=\"fall\")[\"mass\"].agg([np.mean, np.std, np.min, np.max])"
   ]
  },
  {
   "cell_type": "code",
   "execution_count": 248,
   "metadata": {},
   "outputs": [
    {
     "data": {
      "text/html": [
       "<div>\n",
       "<style scoped>\n",
       "    .dataframe tbody tr th:only-of-type {\n",
       "        vertical-align: middle;\n",
       "    }\n",
       "\n",
       "    .dataframe tbody tr th {\n",
       "        vertical-align: top;\n",
       "    }\n",
       "\n",
       "    .dataframe thead th {\n",
       "        text-align: right;\n",
       "    }\n",
       "</style>\n",
       "<table border=\"1\" class=\"dataframe\">\n",
       "  <thead>\n",
       "    <tr style=\"text-align: right;\">\n",
       "      <th>nametype</th>\n",
       "      <th>Relict</th>\n",
       "      <th>Valid</th>\n",
       "    </tr>\n",
       "    <tr>\n",
       "      <th>fall</th>\n",
       "      <th></th>\n",
       "      <th></th>\n",
       "    </tr>\n",
       "  </thead>\n",
       "  <tbody>\n",
       "    <tr>\n",
       "      <th>Fell</th>\n",
       "      <td>0</td>\n",
       "      <td>1107</td>\n",
       "    </tr>\n",
       "    <tr>\n",
       "      <th>Found</th>\n",
       "      <td>75</td>\n",
       "      <td>44534</td>\n",
       "    </tr>\n",
       "  </tbody>\n",
       "</table>\n",
       "</div>"
      ],
      "text/plain": [
       "nametype  Relict  Valid\n",
       "fall                   \n",
       "Fell           0   1107\n",
       "Found         75  44534"
      ]
     },
     "execution_count": 248,
     "metadata": {},
     "output_type": "execute_result"
    }
   ],
   "source": [
    "# сводные таблици пересечение\n",
    "pd.crosstab(df[\"fall\"], df[\"nametype\"])"
   ]
  },
  {
   "cell_type": "code",
   "execution_count": 249,
   "metadata": {},
   "outputs": [
    {
     "data": {
      "text/html": [
       "<div>\n",
       "<style scoped>\n",
       "    .dataframe tbody tr th:only-of-type {\n",
       "        vertical-align: middle;\n",
       "    }\n",
       "\n",
       "    .dataframe tbody tr th {\n",
       "        vertical-align: top;\n",
       "    }\n",
       "\n",
       "    .dataframe thead th {\n",
       "        text-align: right;\n",
       "    }\n",
       "</style>\n",
       "<table border=\"1\" class=\"dataframe\">\n",
       "  <thead>\n",
       "    <tr style=\"text-align: right;\">\n",
       "      <th>nametype</th>\n",
       "      <th>Relict</th>\n",
       "      <th>Valid</th>\n",
       "    </tr>\n",
       "    <tr>\n",
       "      <th>fall</th>\n",
       "      <th></th>\n",
       "      <th></th>\n",
       "    </tr>\n",
       "  </thead>\n",
       "  <tbody>\n",
       "    <tr>\n",
       "      <th>Fell</th>\n",
       "      <td>0.000</td>\n",
       "      <td>0.024</td>\n",
       "    </tr>\n",
       "    <tr>\n",
       "      <th>Found</th>\n",
       "      <td>0.002</td>\n",
       "      <td>0.974</td>\n",
       "    </tr>\n",
       "  </tbody>\n",
       "</table>\n",
       "</div>"
      ],
      "text/plain": [
       "nametype  Relict  Valid\n",
       "fall                   \n",
       "Fell       0.000  0.024\n",
       "Found      0.002  0.974"
      ]
     },
     "execution_count": 249,
     "metadata": {},
     "output_type": "execute_result"
    }
   ],
   "source": [
    "# сводные таблици пересечение, нормализованная статистика (значение делённое на количество наблюдений)\n",
    "pd.crosstab(df[\"fall\"], df[\"nametype\"], normalize=True)"
   ]
  },
  {
   "cell_type": "markdown",
   "metadata": {},
   "source": [
    "## Marge, join and concatinate\n",
    "Документация - https://pandas.pydata.org/pandas-docs/stable/user_guide/merging.html\n",
    "    "
   ]
  },
  {
   "cell_type": "code",
   "execution_count": 267,
   "metadata": {},
   "outputs": [
    {
     "data": {
      "text/html": [
       "<div>\n",
       "<style scoped>\n",
       "    .dataframe tbody tr th:only-of-type {\n",
       "        vertical-align: middle;\n",
       "    }\n",
       "\n",
       "    .dataframe tbody tr th {\n",
       "        vertical-align: top;\n",
       "    }\n",
       "\n",
       "    .dataframe thead th {\n",
       "        text-align: right;\n",
       "    }\n",
       "</style>\n",
       "<table border=\"1\" class=\"dataframe\">\n",
       "  <thead>\n",
       "    <tr style=\"text-align: right;\">\n",
       "      <th></th>\n",
       "      <th>subject_id</th>\n",
       "      <th>first_name</th>\n",
       "      <th>last_name</th>\n",
       "    </tr>\n",
       "  </thead>\n",
       "  <tbody>\n",
       "    <tr>\n",
       "      <th>0</th>\n",
       "      <td>1</td>\n",
       "      <td>Alex</td>\n",
       "      <td>Anderson</td>\n",
       "    </tr>\n",
       "    <tr>\n",
       "      <th>1</th>\n",
       "      <td>2</td>\n",
       "      <td>Any</td>\n",
       "      <td>Ackerman</td>\n",
       "    </tr>\n",
       "    <tr>\n",
       "      <th>2</th>\n",
       "      <td>3</td>\n",
       "      <td>Allen</td>\n",
       "      <td>Ali</td>\n",
       "    </tr>\n",
       "    <tr>\n",
       "      <th>3</th>\n",
       "      <td>4</td>\n",
       "      <td>Alice</td>\n",
       "      <td>Aoni</td>\n",
       "    </tr>\n",
       "    <tr>\n",
       "      <th>4</th>\n",
       "      <td>5</td>\n",
       "      <td>Ayoung</td>\n",
       "      <td>Atiches</td>\n",
       "    </tr>\n",
       "  </tbody>\n",
       "</table>\n",
       "</div>"
      ],
      "text/plain": [
       "  subject_id first_name last_name\n",
       "0          1       Alex  Anderson\n",
       "1          2        Any  Ackerman\n",
       "2          3      Allen       Ali\n",
       "3          4      Alice      Aoni\n",
       "4          5     Ayoung   Atiches"
      ]
     },
     "execution_count": 267,
     "metadata": {},
     "output_type": "execute_result"
    }
   ],
   "source": [
    "# 1я таблица\n",
    "raw_data = {\n",
    "    \"subject_id\": ['1', '2', '3', '4', '5'],\n",
    "    \"first_name\": ['Alex', 'Any', 'Allen', 'Alice', 'Ayoung'],\n",
    "    \"last_name\": ['Anderson', 'Ackerman', 'Ali', 'Aoni', 'Atiches']\n",
    "    }\n",
    "df_a = pd.DataFrame(raw_data, columns=[\"subject_id\", \"first_name\", \"last_name\"])\n",
    "df_a.index = [0, 1, 2, 3, 4]\n",
    "df_a"
   ]
  },
  {
   "cell_type": "code",
   "execution_count": 268,
   "metadata": {},
   "outputs": [
    {
     "data": {
      "text/html": [
       "<div>\n",
       "<style scoped>\n",
       "    .dataframe tbody tr th:only-of-type {\n",
       "        vertical-align: middle;\n",
       "    }\n",
       "\n",
       "    .dataframe tbody tr th {\n",
       "        vertical-align: top;\n",
       "    }\n",
       "\n",
       "    .dataframe thead th {\n",
       "        text-align: right;\n",
       "    }\n",
       "</style>\n",
       "<table border=\"1\" class=\"dataframe\">\n",
       "  <thead>\n",
       "    <tr style=\"text-align: right;\">\n",
       "      <th></th>\n",
       "      <th>subject_id</th>\n",
       "      <th>first_name</th>\n",
       "      <th>last_name</th>\n",
       "    </tr>\n",
       "  </thead>\n",
       "  <tbody>\n",
       "    <tr>\n",
       "      <th>2</th>\n",
       "      <td>4</td>\n",
       "      <td>Billy</td>\n",
       "      <td>Bonder</td>\n",
       "    </tr>\n",
       "    <tr>\n",
       "      <th>3</th>\n",
       "      <td>5</td>\n",
       "      <td>Brian</td>\n",
       "      <td>Black</td>\n",
       "    </tr>\n",
       "    <tr>\n",
       "      <th>4</th>\n",
       "      <td>6</td>\n",
       "      <td>Bran</td>\n",
       "      <td>Baiwner</td>\n",
       "    </tr>\n",
       "    <tr>\n",
       "      <th>5</th>\n",
       "      <td>7</td>\n",
       "      <td>Bryce</td>\n",
       "      <td>Brice</td>\n",
       "    </tr>\n",
       "    <tr>\n",
       "      <th>6</th>\n",
       "      <td>8</td>\n",
       "      <td>Betty</td>\n",
       "      <td>Btisan</td>\n",
       "    </tr>\n",
       "  </tbody>\n",
       "</table>\n",
       "</div>"
      ],
      "text/plain": [
       "  subject_id first_name last_name\n",
       "2          4      Billy    Bonder\n",
       "3          5      Brian     Black\n",
       "4          6       Bran   Baiwner\n",
       "5          7      Bryce     Brice\n",
       "6          8      Betty    Btisan"
      ]
     },
     "execution_count": 268,
     "metadata": {},
     "output_type": "execute_result"
    }
   ],
   "source": [
    "# 2я таблица\n",
    "raw_data = {\n",
    "    \"subject_id\": ['4', '5', '6', '7', '8'],\n",
    "    \"first_name\": ['Billy', 'Brian', 'Bran', 'Bryce', 'Betty'],\n",
    "    \"last_name\": ['Bonder', 'Black', 'Baiwner', 'Brice', 'Btisan']\n",
    "    }\n",
    "df_b = pd.DataFrame(raw_data, columns=[\"subject_id\", \"first_name\", \"last_name\"])\n",
    "df_b.index = [2, 3, 4, 5, 6]\n",
    "df_b"
   ]
  },
  {
   "cell_type": "code",
   "execution_count": 269,
   "metadata": {},
   "outputs": [
    {
     "data": {
      "text/html": [
       "<div>\n",
       "<style scoped>\n",
       "    .dataframe tbody tr th:only-of-type {\n",
       "        vertical-align: middle;\n",
       "    }\n",
       "\n",
       "    .dataframe tbody tr th {\n",
       "        vertical-align: top;\n",
       "    }\n",
       "\n",
       "    .dataframe thead th {\n",
       "        text-align: right;\n",
       "    }\n",
       "</style>\n",
       "<table border=\"1\" class=\"dataframe\">\n",
       "  <thead>\n",
       "    <tr style=\"text-align: right;\">\n",
       "      <th></th>\n",
       "      <th>subject_id</th>\n",
       "      <th>first_name</th>\n",
       "      <th>last_name</th>\n",
       "    </tr>\n",
       "  </thead>\n",
       "  <tbody>\n",
       "    <tr>\n",
       "      <th>2</th>\n",
       "      <td>4</td>\n",
       "      <td>Billy</td>\n",
       "      <td>Bonder</td>\n",
       "    </tr>\n",
       "    <tr>\n",
       "      <th>3</th>\n",
       "      <td>5</td>\n",
       "      <td>Brian</td>\n",
       "      <td>Black</td>\n",
       "    </tr>\n",
       "    <tr>\n",
       "      <th>4</th>\n",
       "      <td>6</td>\n",
       "      <td>Bran</td>\n",
       "      <td>Baiwner</td>\n",
       "    </tr>\n",
       "    <tr>\n",
       "      <th>5</th>\n",
       "      <td>7</td>\n",
       "      <td>Bryce</td>\n",
       "      <td>Brice</td>\n",
       "    </tr>\n",
       "    <tr>\n",
       "      <th>6</th>\n",
       "      <td>8</td>\n",
       "      <td>Betty</td>\n",
       "      <td>Btisan</td>\n",
       "    </tr>\n",
       "  </tbody>\n",
       "</table>\n",
       "</div>"
      ],
      "text/plain": [
       "  subject_id first_name last_name\n",
       "2          4      Billy    Bonder\n",
       "3          5      Brian     Black\n",
       "4          6       Bran   Baiwner\n",
       "5          7      Bryce     Brice\n",
       "6          8      Betty    Btisan"
      ]
     },
     "execution_count": 269,
     "metadata": {},
     "output_type": "execute_result"
    }
   ],
   "source": [
    "df_b.reset_index()\n",
    "df_b"
   ]
  },
  {
   "cell_type": "code",
   "execution_count": 270,
   "metadata": {},
   "outputs": [
    {
     "data": {
      "text/html": [
       "<div>\n",
       "<style scoped>\n",
       "    .dataframe tbody tr th:only-of-type {\n",
       "        vertical-align: middle;\n",
       "    }\n",
       "\n",
       "    .dataframe tbody tr th {\n",
       "        vertical-align: top;\n",
       "    }\n",
       "\n",
       "    .dataframe thead th {\n",
       "        text-align: right;\n",
       "    }\n",
       "</style>\n",
       "<table border=\"1\" class=\"dataframe\">\n",
       "  <thead>\n",
       "    <tr style=\"text-align: right;\">\n",
       "      <th></th>\n",
       "      <th>subject_id</th>\n",
       "      <th>test_id</th>\n",
       "    </tr>\n",
       "  </thead>\n",
       "  <tbody>\n",
       "    <tr>\n",
       "      <th>0</th>\n",
       "      <td>1</td>\n",
       "      <td>51</td>\n",
       "    </tr>\n",
       "    <tr>\n",
       "      <th>1</th>\n",
       "      <td>2</td>\n",
       "      <td>15</td>\n",
       "    </tr>\n",
       "    <tr>\n",
       "      <th>2</th>\n",
       "      <td>3</td>\n",
       "      <td>15</td>\n",
       "    </tr>\n",
       "    <tr>\n",
       "      <th>3</th>\n",
       "      <td>4</td>\n",
       "      <td>61</td>\n",
       "    </tr>\n",
       "    <tr>\n",
       "      <th>4</th>\n",
       "      <td>5</td>\n",
       "      <td>16</td>\n",
       "    </tr>\n",
       "    <tr>\n",
       "      <th>5</th>\n",
       "      <td>7</td>\n",
       "      <td>14</td>\n",
       "    </tr>\n",
       "    <tr>\n",
       "      <th>6</th>\n",
       "      <td>8</td>\n",
       "      <td>15</td>\n",
       "    </tr>\n",
       "    <tr>\n",
       "      <th>7</th>\n",
       "      <td>9</td>\n",
       "      <td>1</td>\n",
       "    </tr>\n",
       "    <tr>\n",
       "      <th>8</th>\n",
       "      <td>10</td>\n",
       "      <td>61</td>\n",
       "    </tr>\n",
       "    <tr>\n",
       "      <th>9</th>\n",
       "      <td>11</td>\n",
       "      <td>16</td>\n",
       "    </tr>\n",
       "  </tbody>\n",
       "</table>\n",
       "</div>"
      ],
      "text/plain": [
       "  subject_id  test_id\n",
       "0          1       51\n",
       "1          2       15\n",
       "2          3       15\n",
       "3          4       61\n",
       "4          5       16\n",
       "5          7       14\n",
       "6          8       15\n",
       "7          9        1\n",
       "8         10       61\n",
       "9         11       16"
      ]
     },
     "execution_count": 270,
     "metadata": {},
     "output_type": "execute_result"
    }
   ],
   "source": [
    "# 3я таблица\n",
    "raw_data = {\n",
    "    \"subject_id\": ['1', '2', '3', '4', '5', '7', '8', '9', '10', '11'],\n",
    "    \"test_id\": [51, 15, 15, 61, 16, 14, 15, 1, 61, 16]\n",
    "    }\n",
    "df_n = pd.DataFrame(raw_data, columns=[\"subject_id\", \"test_id\"])\n",
    "df_n"
   ]
  },
  {
   "cell_type": "markdown",
   "metadata": {},
   "source": [
    "## Concat\n",
    "объединение по вертикальной или горизонтальной оси"
   ]
  },
  {
   "cell_type": "code",
   "execution_count": 274,
   "metadata": {},
   "outputs": [
    {
     "data": {
      "text/html": [
       "<div>\n",
       "<style scoped>\n",
       "    .dataframe tbody tr th:only-of-type {\n",
       "        vertical-align: middle;\n",
       "    }\n",
       "\n",
       "    .dataframe tbody tr th {\n",
       "        vertical-align: top;\n",
       "    }\n",
       "\n",
       "    .dataframe thead th {\n",
       "        text-align: right;\n",
       "    }\n",
       "</style>\n",
       "<table border=\"1\" class=\"dataframe\">\n",
       "  <thead>\n",
       "    <tr style=\"text-align: right;\">\n",
       "      <th></th>\n",
       "      <th>subject_id</th>\n",
       "      <th>first_name</th>\n",
       "      <th>last_name</th>\n",
       "    </tr>\n",
       "  </thead>\n",
       "  <tbody>\n",
       "    <tr>\n",
       "      <th>0</th>\n",
       "      <td>1</td>\n",
       "      <td>Alex</td>\n",
       "      <td>Anderson</td>\n",
       "    </tr>\n",
       "    <tr>\n",
       "      <th>1</th>\n",
       "      <td>2</td>\n",
       "      <td>Any</td>\n",
       "      <td>Ackerman</td>\n",
       "    </tr>\n",
       "    <tr>\n",
       "      <th>2</th>\n",
       "      <td>3</td>\n",
       "      <td>Allen</td>\n",
       "      <td>Ali</td>\n",
       "    </tr>\n",
       "    <tr>\n",
       "      <th>3</th>\n",
       "      <td>4</td>\n",
       "      <td>Alice</td>\n",
       "      <td>Aoni</td>\n",
       "    </tr>\n",
       "    <tr>\n",
       "      <th>4</th>\n",
       "      <td>5</td>\n",
       "      <td>Ayoung</td>\n",
       "      <td>Atiches</td>\n",
       "    </tr>\n",
       "    <tr>\n",
       "      <th>2</th>\n",
       "      <td>4</td>\n",
       "      <td>Billy</td>\n",
       "      <td>Bonder</td>\n",
       "    </tr>\n",
       "    <tr>\n",
       "      <th>3</th>\n",
       "      <td>5</td>\n",
       "      <td>Brian</td>\n",
       "      <td>Black</td>\n",
       "    </tr>\n",
       "    <tr>\n",
       "      <th>4</th>\n",
       "      <td>6</td>\n",
       "      <td>Bran</td>\n",
       "      <td>Baiwner</td>\n",
       "    </tr>\n",
       "    <tr>\n",
       "      <th>5</th>\n",
       "      <td>7</td>\n",
       "      <td>Bryce</td>\n",
       "      <td>Brice</td>\n",
       "    </tr>\n",
       "    <tr>\n",
       "      <th>6</th>\n",
       "      <td>8</td>\n",
       "      <td>Betty</td>\n",
       "      <td>Btisan</td>\n",
       "    </tr>\n",
       "  </tbody>\n",
       "</table>\n",
       "</div>"
      ],
      "text/plain": [
       "  subject_id first_name last_name\n",
       "0          1       Alex  Anderson\n",
       "1          2        Any  Ackerman\n",
       "2          3      Allen       Ali\n",
       "3          4      Alice      Aoni\n",
       "4          5     Ayoung   Atiches\n",
       "2          4      Billy    Bonder\n",
       "3          5      Brian     Black\n",
       "4          6       Bran   Baiwner\n",
       "5          7      Bryce     Brice\n",
       "6          8      Betty    Btisan"
      ]
     },
     "execution_count": 274,
     "metadata": {},
     "output_type": "execute_result"
    }
   ],
   "source": [
    "# строки\n",
    "df_new = pd.concat([df_a, df_b])\n",
    "df_new"
   ]
  },
  {
   "cell_type": "code",
   "execution_count": 275,
   "metadata": {},
   "outputs": [
    {
     "data": {
      "text/html": [
       "<div>\n",
       "<style scoped>\n",
       "    .dataframe tbody tr th:only-of-type {\n",
       "        vertical-align: middle;\n",
       "    }\n",
       "\n",
       "    .dataframe tbody tr th {\n",
       "        vertical-align: top;\n",
       "    }\n",
       "\n",
       "    .dataframe thead th {\n",
       "        text-align: right;\n",
       "    }\n",
       "</style>\n",
       "<table border=\"1\" class=\"dataframe\">\n",
       "  <thead>\n",
       "    <tr style=\"text-align: right;\">\n",
       "      <th></th>\n",
       "      <th>subject_id</th>\n",
       "      <th>first_name</th>\n",
       "      <th>last_name</th>\n",
       "      <th>subject_id</th>\n",
       "      <th>first_name</th>\n",
       "      <th>last_name</th>\n",
       "    </tr>\n",
       "  </thead>\n",
       "  <tbody>\n",
       "    <tr>\n",
       "      <th>0</th>\n",
       "      <td>1</td>\n",
       "      <td>Alex</td>\n",
       "      <td>Anderson</td>\n",
       "      <td>NaN</td>\n",
       "      <td>NaN</td>\n",
       "      <td>NaN</td>\n",
       "    </tr>\n",
       "    <tr>\n",
       "      <th>1</th>\n",
       "      <td>2</td>\n",
       "      <td>Any</td>\n",
       "      <td>Ackerman</td>\n",
       "      <td>NaN</td>\n",
       "      <td>NaN</td>\n",
       "      <td>NaN</td>\n",
       "    </tr>\n",
       "    <tr>\n",
       "      <th>2</th>\n",
       "      <td>3</td>\n",
       "      <td>Allen</td>\n",
       "      <td>Ali</td>\n",
       "      <td>4</td>\n",
       "      <td>Billy</td>\n",
       "      <td>Bonder</td>\n",
       "    </tr>\n",
       "    <tr>\n",
       "      <th>3</th>\n",
       "      <td>4</td>\n",
       "      <td>Alice</td>\n",
       "      <td>Aoni</td>\n",
       "      <td>5</td>\n",
       "      <td>Brian</td>\n",
       "      <td>Black</td>\n",
       "    </tr>\n",
       "    <tr>\n",
       "      <th>4</th>\n",
       "      <td>5</td>\n",
       "      <td>Ayoung</td>\n",
       "      <td>Atiches</td>\n",
       "      <td>6</td>\n",
       "      <td>Bran</td>\n",
       "      <td>Baiwner</td>\n",
       "    </tr>\n",
       "    <tr>\n",
       "      <th>5</th>\n",
       "      <td>NaN</td>\n",
       "      <td>NaN</td>\n",
       "      <td>NaN</td>\n",
       "      <td>7</td>\n",
       "      <td>Bryce</td>\n",
       "      <td>Brice</td>\n",
       "    </tr>\n",
       "    <tr>\n",
       "      <th>6</th>\n",
       "      <td>NaN</td>\n",
       "      <td>NaN</td>\n",
       "      <td>NaN</td>\n",
       "      <td>8</td>\n",
       "      <td>Betty</td>\n",
       "      <td>Btisan</td>\n",
       "    </tr>\n",
       "  </tbody>\n",
       "</table>\n",
       "</div>"
      ],
      "text/plain": [
       "  subject_id first_name last_name subject_id first_name last_name\n",
       "0          1       Alex  Anderson        NaN        NaN       NaN\n",
       "1          2        Any  Ackerman        NaN        NaN       NaN\n",
       "2          3      Allen       Ali          4      Billy    Bonder\n",
       "3          4      Alice      Aoni          5      Brian     Black\n",
       "4          5     Ayoung   Atiches          6       Bran   Baiwner\n",
       "5        NaN        NaN       NaN          7      Bryce     Brice\n",
       "6        NaN        NaN       NaN          8      Betty    Btisan"
      ]
     },
     "execution_count": 275,
     "metadata": {},
     "output_type": "execute_result"
    }
   ],
   "source": [
    "# колонки (строки содержащие NaN - т.к. разные индексы в объединяемых таблицах)\n",
    "df_new_ = pd.concat([df_a, df_b], axis=1)\n",
    "df_new_"
   ]
  },
  {
   "cell_type": "code",
   "execution_count": 276,
   "metadata": {
    "collapsed": true,
    "jupyter": {
     "outputs_hidden": true
    }
   },
   "outputs": [
    {
     "name": "stdout",
     "output_type": "stream",
     "text": [
      "  subject_id first_name last_name\n",
      "2          4      Billy    Bonder\n",
      "3          5      Brian     Black\n",
      "4          6       Bran   Baiwner\n",
      "5          7      Bryce     Brice\n",
      "6          8      Betty    Btisan\n",
      "   index subject_id first_name last_name\n",
      "0      2          4      Billy    Bonder\n",
      "1      3          5      Brian     Black\n",
      "2      4          6       Bran   Baiwner\n",
      "3      5          7      Bryce     Brice\n",
      "4      6          8      Betty    Btisan\n"
     ]
    },
    {
     "data": {
      "text/html": [
       "<div>\n",
       "<style scoped>\n",
       "    .dataframe tbody tr th:only-of-type {\n",
       "        vertical-align: middle;\n",
       "    }\n",
       "\n",
       "    .dataframe tbody tr th {\n",
       "        vertical-align: top;\n",
       "    }\n",
       "\n",
       "    .dataframe thead th {\n",
       "        text-align: right;\n",
       "    }\n",
       "</style>\n",
       "<table border=\"1\" class=\"dataframe\">\n",
       "  <thead>\n",
       "    <tr style=\"text-align: right;\">\n",
       "      <th></th>\n",
       "      <th>subject_id</th>\n",
       "      <th>first_name</th>\n",
       "      <th>last_name</th>\n",
       "      <th>index</th>\n",
       "      <th>subject_id</th>\n",
       "      <th>first_name</th>\n",
       "      <th>last_name</th>\n",
       "    </tr>\n",
       "  </thead>\n",
       "  <tbody>\n",
       "    <tr>\n",
       "      <th>0</th>\n",
       "      <td>1</td>\n",
       "      <td>Alex</td>\n",
       "      <td>Anderson</td>\n",
       "      <td>2</td>\n",
       "      <td>4</td>\n",
       "      <td>Billy</td>\n",
       "      <td>Bonder</td>\n",
       "    </tr>\n",
       "    <tr>\n",
       "      <th>1</th>\n",
       "      <td>2</td>\n",
       "      <td>Any</td>\n",
       "      <td>Ackerman</td>\n",
       "      <td>3</td>\n",
       "      <td>5</td>\n",
       "      <td>Brian</td>\n",
       "      <td>Black</td>\n",
       "    </tr>\n",
       "    <tr>\n",
       "      <th>2</th>\n",
       "      <td>3</td>\n",
       "      <td>Allen</td>\n",
       "      <td>Ali</td>\n",
       "      <td>4</td>\n",
       "      <td>6</td>\n",
       "      <td>Bran</td>\n",
       "      <td>Baiwner</td>\n",
       "    </tr>\n",
       "    <tr>\n",
       "      <th>3</th>\n",
       "      <td>4</td>\n",
       "      <td>Alice</td>\n",
       "      <td>Aoni</td>\n",
       "      <td>5</td>\n",
       "      <td>7</td>\n",
       "      <td>Bryce</td>\n",
       "      <td>Brice</td>\n",
       "    </tr>\n",
       "    <tr>\n",
       "      <th>4</th>\n",
       "      <td>5</td>\n",
       "      <td>Ayoung</td>\n",
       "      <td>Atiches</td>\n",
       "      <td>6</td>\n",
       "      <td>8</td>\n",
       "      <td>Betty</td>\n",
       "      <td>Btisan</td>\n",
       "    </tr>\n",
       "  </tbody>\n",
       "</table>\n",
       "</div>"
      ],
      "text/plain": [
       "  subject_id first_name last_name  index subject_id first_name last_name\n",
       "0          1       Alex  Anderson      2          4      Billy    Bonder\n",
       "1          2        Any  Ackerman      3          5      Brian     Black\n",
       "2          3      Allen       Ali      4          6       Bran   Baiwner\n",
       "3          4      Alice      Aoni      5          7      Bryce     Brice\n",
       "4          5     Ayoung   Atiches      6          8      Betty    Btisan"
      ]
     },
     "execution_count": 276,
     "metadata": {},
     "output_type": "execute_result"
    }
   ],
   "source": [
    "# выравниваем индексы в объединяемых таблицах (dtop - сохранить или удалить старый индекс)\n",
    "df_a1 = df_a\n",
    "df_b1 = df_b\n",
    "# print(df_a1)\n",
    "print(df_b1)\n",
    "df_b1.reset_index(inplace=True)\n",
    "print(df_b1)\n",
    "df_new_ = pd.concat([df_a1, df_b1], axis=1)\n",
    "df_new_"
   ]
  },
  {
   "cell_type": "code",
   "execution_count": 278,
   "metadata": {},
   "outputs": [],
   "source": [
    "# 1я таблица\n",
    "raw_data = {\n",
    "    \"subject_id\": ['1', '2', '3', '4', '5'],\n",
    "    \"first_name\": ['Alex', 'Any', 'Allen', 'Alice', 'Ayoung'],\n",
    "    \"last_name\": ['Anderson', 'Ackerman', 'Ali', 'Aoni', 'Atiches']\n",
    "    }\n",
    "df_a = pd.DataFrame(raw_data, columns=[\"subject_id\", \"first_name\", \"last_name\"])\n",
    "df_a.index = [0, 1, 2, 3, 4]\n",
    "# 2я таблица\n",
    "raw_data = {\n",
    "    \"subject_id\": ['4', '5', '6', '7', '8'],\n",
    "    \"first_name\": ['Billy', 'Brian', 'Bran', 'Bryce', 'Betty'],\n",
    "    \"last_name\": ['Bonder', 'Black', 'Baiwner', 'Brice', 'Btisan']\n",
    "    }\n",
    "df_b = pd.DataFrame(raw_data, columns=[\"subject_id\", \"first_name\", \"last_name\"])\n",
    "df_b.index = [2, 3, 4, 5, 6]\n"
   ]
  },
  {
   "cell_type": "code",
   "execution_count": 279,
   "metadata": {},
   "outputs": [
    {
     "name": "stdout",
     "output_type": "stream",
     "text": [
      "  subject_id first_name last_name\n",
      "0          1       Alex  Anderson\n",
      "1          2        Any  Ackerman\n",
      "2          3      Allen       Ali\n",
      "3          4      Alice      Aoni\n",
      "4          5     Ayoung   Atiches\n",
      "  subject_id first_name last_name\n",
      "2          4      Billy    Bonder\n",
      "3          5      Brian     Black\n",
      "4          6       Bran   Baiwner\n",
      "5          7      Bryce     Brice\n",
      "6          8      Betty    Btisan\n"
     ]
    },
    {
     "data": {
      "text/html": [
       "<div>\n",
       "<style scoped>\n",
       "    .dataframe tbody tr th:only-of-type {\n",
       "        vertical-align: middle;\n",
       "    }\n",
       "\n",
       "    .dataframe tbody tr th {\n",
       "        vertical-align: top;\n",
       "    }\n",
       "\n",
       "    .dataframe thead th {\n",
       "        text-align: right;\n",
       "    }\n",
       "</style>\n",
       "<table border=\"1\" class=\"dataframe\">\n",
       "  <thead>\n",
       "    <tr style=\"text-align: right;\">\n",
       "      <th></th>\n",
       "      <th>subject_id</th>\n",
       "      <th>first_name</th>\n",
       "      <th>last_name</th>\n",
       "      <th>subject_id</th>\n",
       "      <th>first_name</th>\n",
       "      <th>last_name</th>\n",
       "    </tr>\n",
       "  </thead>\n",
       "  <tbody>\n",
       "    <tr>\n",
       "      <th>2</th>\n",
       "      <td>3</td>\n",
       "      <td>Allen</td>\n",
       "      <td>Ali</td>\n",
       "      <td>4</td>\n",
       "      <td>Billy</td>\n",
       "      <td>Bonder</td>\n",
       "    </tr>\n",
       "    <tr>\n",
       "      <th>3</th>\n",
       "      <td>4</td>\n",
       "      <td>Alice</td>\n",
       "      <td>Aoni</td>\n",
       "      <td>5</td>\n",
       "      <td>Brian</td>\n",
       "      <td>Black</td>\n",
       "    </tr>\n",
       "    <tr>\n",
       "      <th>4</th>\n",
       "      <td>5</td>\n",
       "      <td>Ayoung</td>\n",
       "      <td>Atiches</td>\n",
       "      <td>6</td>\n",
       "      <td>Bran</td>\n",
       "      <td>Baiwner</td>\n",
       "    </tr>\n",
       "  </tbody>\n",
       "</table>\n",
       "</div>"
      ],
      "text/plain": [
       "  subject_id first_name last_name subject_id first_name last_name\n",
       "2          3      Allen       Ali          4      Billy    Bonder\n",
       "3          4      Alice      Aoni          5      Brian     Black\n",
       "4          5     Ayoung   Atiches          6       Bran   Baiwner"
      ]
     },
     "execution_count": 279,
     "metadata": {},
     "output_type": "execute_result"
    }
   ],
   "source": [
    "# результат объединения - только строки с одинаковыми индексами (Н-р: 1,2,3)\n",
    "df_new_ = pd.concat([df_a, df_b], axis=1, join='inner')\n",
    "print(df_a)\n",
    "print(df_b)\n",
    "df_new_"
   ]
  },
  {
   "cell_type": "markdown",
   "metadata": {},
   "source": [
    "## Apend\n",
    "частный случай Concat - параметры: axis=0 - строки и join='outer'"
   ]
  },
  {
   "cell_type": "code",
   "execution_count": 282,
   "metadata": {},
   "outputs": [
    {
     "data": {
      "text/html": [
       "<div>\n",
       "<style scoped>\n",
       "    .dataframe tbody tr th:only-of-type {\n",
       "        vertical-align: middle;\n",
       "    }\n",
       "\n",
       "    .dataframe tbody tr th {\n",
       "        vertical-align: top;\n",
       "    }\n",
       "\n",
       "    .dataframe thead th {\n",
       "        text-align: right;\n",
       "    }\n",
       "</style>\n",
       "<table border=\"1\" class=\"dataframe\">\n",
       "  <thead>\n",
       "    <tr style=\"text-align: right;\">\n",
       "      <th></th>\n",
       "      <th>subject_id</th>\n",
       "      <th>first_name</th>\n",
       "      <th>last_name</th>\n",
       "    </tr>\n",
       "  </thead>\n",
       "  <tbody>\n",
       "    <tr>\n",
       "      <th>0</th>\n",
       "      <td>1</td>\n",
       "      <td>Alex</td>\n",
       "      <td>Anderson</td>\n",
       "    </tr>\n",
       "    <tr>\n",
       "      <th>1</th>\n",
       "      <td>2</td>\n",
       "      <td>Any</td>\n",
       "      <td>Ackerman</td>\n",
       "    </tr>\n",
       "    <tr>\n",
       "      <th>2</th>\n",
       "      <td>3</td>\n",
       "      <td>Allen</td>\n",
       "      <td>Ali</td>\n",
       "    </tr>\n",
       "    <tr>\n",
       "      <th>3</th>\n",
       "      <td>4</td>\n",
       "      <td>Alice</td>\n",
       "      <td>Aoni</td>\n",
       "    </tr>\n",
       "    <tr>\n",
       "      <th>4</th>\n",
       "      <td>5</td>\n",
       "      <td>Ayoung</td>\n",
       "      <td>Atiches</td>\n",
       "    </tr>\n",
       "    <tr>\n",
       "      <th>2</th>\n",
       "      <td>4</td>\n",
       "      <td>Billy</td>\n",
       "      <td>Bonder</td>\n",
       "    </tr>\n",
       "    <tr>\n",
       "      <th>3</th>\n",
       "      <td>5</td>\n",
       "      <td>Brian</td>\n",
       "      <td>Black</td>\n",
       "    </tr>\n",
       "    <tr>\n",
       "      <th>4</th>\n",
       "      <td>6</td>\n",
       "      <td>Bran</td>\n",
       "      <td>Baiwner</td>\n",
       "    </tr>\n",
       "    <tr>\n",
       "      <th>5</th>\n",
       "      <td>7</td>\n",
       "      <td>Bryce</td>\n",
       "      <td>Brice</td>\n",
       "    </tr>\n",
       "    <tr>\n",
       "      <th>6</th>\n",
       "      <td>8</td>\n",
       "      <td>Betty</td>\n",
       "      <td>Btisan</td>\n",
       "    </tr>\n",
       "  </tbody>\n",
       "</table>\n",
       "</div>"
      ],
      "text/plain": [
       "  subject_id first_name last_name\n",
       "0          1       Alex  Anderson\n",
       "1          2        Any  Ackerman\n",
       "2          3      Allen       Ali\n",
       "3          4      Alice      Aoni\n",
       "4          5     Ayoung   Atiches\n",
       "2          4      Billy    Bonder\n",
       "3          5      Brian     Black\n",
       "4          6       Bran   Baiwner\n",
       "5          7      Bryce     Brice\n",
       "6          8      Betty    Btisan"
      ]
     },
     "execution_count": 282,
     "metadata": {},
     "output_type": "execute_result"
    }
   ],
   "source": [
    "# просто добавляем строки из df_b в df_a\n",
    "df_c = df_a.append(df_b)\n",
    "df_c"
   ]
  },
  {
   "cell_type": "markdown",
   "metadata": {},
   "source": [
    "## Merge"
   ]
  },
  {
   "cell_type": "code",
   "execution_count": 283,
   "metadata": {},
   "outputs": [
    {
     "data": {
      "text/html": [
       "<div>\n",
       "<style scoped>\n",
       "    .dataframe tbody tr th:only-of-type {\n",
       "        vertical-align: middle;\n",
       "    }\n",
       "\n",
       "    .dataframe tbody tr th {\n",
       "        vertical-align: top;\n",
       "    }\n",
       "\n",
       "    .dataframe thead th {\n",
       "        text-align: right;\n",
       "    }\n",
       "</style>\n",
       "<table border=\"1\" class=\"dataframe\">\n",
       "  <thead>\n",
       "    <tr style=\"text-align: right;\">\n",
       "      <th></th>\n",
       "      <th>subject_id</th>\n",
       "      <th>first_name</th>\n",
       "      <th>last_name</th>\n",
       "    </tr>\n",
       "  </thead>\n",
       "  <tbody>\n",
       "    <tr>\n",
       "      <th>0</th>\n",
       "      <td>1</td>\n",
       "      <td>Alex</td>\n",
       "      <td>Anderson</td>\n",
       "    </tr>\n",
       "    <tr>\n",
       "      <th>1</th>\n",
       "      <td>2</td>\n",
       "      <td>Any</td>\n",
       "      <td>Ackerman</td>\n",
       "    </tr>\n",
       "    <tr>\n",
       "      <th>2</th>\n",
       "      <td>3</td>\n",
       "      <td>Allen</td>\n",
       "      <td>Ali</td>\n",
       "    </tr>\n",
       "    <tr>\n",
       "      <th>3</th>\n",
       "      <td>4</td>\n",
       "      <td>Alice</td>\n",
       "      <td>Aoni</td>\n",
       "    </tr>\n",
       "    <tr>\n",
       "      <th>4</th>\n",
       "      <td>5</td>\n",
       "      <td>Ayoung</td>\n",
       "      <td>Atiches</td>\n",
       "    </tr>\n",
       "    <tr>\n",
       "      <th>2</th>\n",
       "      <td>4</td>\n",
       "      <td>Billy</td>\n",
       "      <td>Bonder</td>\n",
       "    </tr>\n",
       "    <tr>\n",
       "      <th>3</th>\n",
       "      <td>5</td>\n",
       "      <td>Brian</td>\n",
       "      <td>Black</td>\n",
       "    </tr>\n",
       "    <tr>\n",
       "      <th>4</th>\n",
       "      <td>6</td>\n",
       "      <td>Bran</td>\n",
       "      <td>Baiwner</td>\n",
       "    </tr>\n",
       "    <tr>\n",
       "      <th>5</th>\n",
       "      <td>7</td>\n",
       "      <td>Bryce</td>\n",
       "      <td>Brice</td>\n",
       "    </tr>\n",
       "    <tr>\n",
       "      <th>6</th>\n",
       "      <td>8</td>\n",
       "      <td>Betty</td>\n",
       "      <td>Btisan</td>\n",
       "    </tr>\n",
       "  </tbody>\n",
       "</table>\n",
       "</div>"
      ],
      "text/plain": [
       "  subject_id first_name last_name\n",
       "0          1       Alex  Anderson\n",
       "1          2        Any  Ackerman\n",
       "2          3      Allen       Ali\n",
       "3          4      Alice      Aoni\n",
       "4          5     Ayoung   Atiches\n",
       "2          4      Billy    Bonder\n",
       "3          5      Brian     Black\n",
       "4          6       Bran   Baiwner\n",
       "5          7      Bryce     Brice\n",
       "6          8      Betty    Btisan"
      ]
     },
     "execution_count": 283,
     "metadata": {},
     "output_type": "execute_result"
    }
   ],
   "source": [
    "df_c"
   ]
  },
  {
   "cell_type": "code",
   "execution_count": 284,
   "metadata": {},
   "outputs": [
    {
     "data": {
      "text/html": [
       "<div>\n",
       "<style scoped>\n",
       "    .dataframe tbody tr th:only-of-type {\n",
       "        vertical-align: middle;\n",
       "    }\n",
       "\n",
       "    .dataframe tbody tr th {\n",
       "        vertical-align: top;\n",
       "    }\n",
       "\n",
       "    .dataframe thead th {\n",
       "        text-align: right;\n",
       "    }\n",
       "</style>\n",
       "<table border=\"1\" class=\"dataframe\">\n",
       "  <thead>\n",
       "    <tr style=\"text-align: right;\">\n",
       "      <th></th>\n",
       "      <th>subject_id</th>\n",
       "      <th>first_name</th>\n",
       "      <th>last_name</th>\n",
       "      <th>test_id</th>\n",
       "    </tr>\n",
       "  </thead>\n",
       "  <tbody>\n",
       "    <tr>\n",
       "      <th>0</th>\n",
       "      <td>1</td>\n",
       "      <td>Alex</td>\n",
       "      <td>Anderson</td>\n",
       "      <td>51</td>\n",
       "    </tr>\n",
       "    <tr>\n",
       "      <th>1</th>\n",
       "      <td>2</td>\n",
       "      <td>Any</td>\n",
       "      <td>Ackerman</td>\n",
       "      <td>15</td>\n",
       "    </tr>\n",
       "    <tr>\n",
       "      <th>2</th>\n",
       "      <td>3</td>\n",
       "      <td>Allen</td>\n",
       "      <td>Ali</td>\n",
       "      <td>15</td>\n",
       "    </tr>\n",
       "    <tr>\n",
       "      <th>3</th>\n",
       "      <td>4</td>\n",
       "      <td>Alice</td>\n",
       "      <td>Aoni</td>\n",
       "      <td>61</td>\n",
       "    </tr>\n",
       "    <tr>\n",
       "      <th>4</th>\n",
       "      <td>4</td>\n",
       "      <td>Billy</td>\n",
       "      <td>Bonder</td>\n",
       "      <td>61</td>\n",
       "    </tr>\n",
       "    <tr>\n",
       "      <th>5</th>\n",
       "      <td>5</td>\n",
       "      <td>Ayoung</td>\n",
       "      <td>Atiches</td>\n",
       "      <td>16</td>\n",
       "    </tr>\n",
       "    <tr>\n",
       "      <th>6</th>\n",
       "      <td>5</td>\n",
       "      <td>Brian</td>\n",
       "      <td>Black</td>\n",
       "      <td>16</td>\n",
       "    </tr>\n",
       "    <tr>\n",
       "      <th>7</th>\n",
       "      <td>7</td>\n",
       "      <td>Bryce</td>\n",
       "      <td>Brice</td>\n",
       "      <td>14</td>\n",
       "    </tr>\n",
       "    <tr>\n",
       "      <th>8</th>\n",
       "      <td>8</td>\n",
       "      <td>Betty</td>\n",
       "      <td>Btisan</td>\n",
       "      <td>15</td>\n",
       "    </tr>\n",
       "  </tbody>\n",
       "</table>\n",
       "</div>"
      ],
      "text/plain": [
       "  subject_id first_name last_name  test_id\n",
       "0          1       Alex  Anderson       51\n",
       "1          2        Any  Ackerman       15\n",
       "2          3      Allen       Ali       15\n",
       "3          4      Alice      Aoni       61\n",
       "4          4      Billy    Bonder       61\n",
       "5          5     Ayoung   Atiches       16\n",
       "6          5      Brian     Black       16\n",
       "7          7      Bryce     Brice       14\n",
       "8          8      Betty    Btisan       15"
      ]
     },
     "execution_count": 284,
     "metadata": {},
     "output_type": "execute_result"
    }
   ],
   "source": [
    "# присоединяем строки df_n к df_с по совпадению 'subject_id' \n",
    "pd.merge(df_c, df_n, on='subject_id')\n",
    "# или \n",
    "# pd.merge(df_c, df_n, left_on='subject_id', right_on='subject_id')"
   ]
  },
  {
   "cell_type": "code",
   "execution_count": 285,
   "metadata": {},
   "outputs": [
    {
     "name": "stdout",
     "output_type": "stream",
     "text": [
      "  subject_id first_name last_name\n",
      "0          1       Alex  Anderson\n",
      "1          2        Any  Ackerman\n",
      "2          3      Allen       Ali\n",
      "3          4      Alice      Aoni\n",
      "4          5     Ayoung   Atiches\n",
      "  subject_id first_name last_name\n",
      "2          4      Billy    Bonder\n",
      "3          5      Brian     Black\n",
      "4          6       Bran   Baiwner\n",
      "5          7      Bryce     Brice\n",
      "6          8      Betty    Btisan\n"
     ]
    },
    {
     "data": {
      "text/html": [
       "<div>\n",
       "<style scoped>\n",
       "    .dataframe tbody tr th:only-of-type {\n",
       "        vertical-align: middle;\n",
       "    }\n",
       "\n",
       "    .dataframe tbody tr th {\n",
       "        vertical-align: top;\n",
       "    }\n",
       "\n",
       "    .dataframe thead th {\n",
       "        text-align: right;\n",
       "    }\n",
       "</style>\n",
       "<table border=\"1\" class=\"dataframe\">\n",
       "  <thead>\n",
       "    <tr style=\"text-align: right;\">\n",
       "      <th></th>\n",
       "      <th>subject_id</th>\n",
       "      <th>first_name_x</th>\n",
       "      <th>last_name_x</th>\n",
       "      <th>first_name_y</th>\n",
       "      <th>last_name_y</th>\n",
       "    </tr>\n",
       "  </thead>\n",
       "  <tbody>\n",
       "    <tr>\n",
       "      <th>0</th>\n",
       "      <td>1</td>\n",
       "      <td>Alex</td>\n",
       "      <td>Anderson</td>\n",
       "      <td>NaN</td>\n",
       "      <td>NaN</td>\n",
       "    </tr>\n",
       "    <tr>\n",
       "      <th>1</th>\n",
       "      <td>2</td>\n",
       "      <td>Any</td>\n",
       "      <td>Ackerman</td>\n",
       "      <td>NaN</td>\n",
       "      <td>NaN</td>\n",
       "    </tr>\n",
       "    <tr>\n",
       "      <th>2</th>\n",
       "      <td>3</td>\n",
       "      <td>Allen</td>\n",
       "      <td>Ali</td>\n",
       "      <td>NaN</td>\n",
       "      <td>NaN</td>\n",
       "    </tr>\n",
       "    <tr>\n",
       "      <th>3</th>\n",
       "      <td>4</td>\n",
       "      <td>Alice</td>\n",
       "      <td>Aoni</td>\n",
       "      <td>Billy</td>\n",
       "      <td>Bonder</td>\n",
       "    </tr>\n",
       "    <tr>\n",
       "      <th>4</th>\n",
       "      <td>5</td>\n",
       "      <td>Ayoung</td>\n",
       "      <td>Atiches</td>\n",
       "      <td>Brian</td>\n",
       "      <td>Black</td>\n",
       "    </tr>\n",
       "  </tbody>\n",
       "</table>\n",
       "</div>"
      ],
      "text/plain": [
       "  subject_id first_name_x last_name_x first_name_y last_name_y\n",
       "0          1         Alex    Anderson          NaN         NaN\n",
       "1          2          Any    Ackerman          NaN         NaN\n",
       "2          3        Allen         Ali          NaN         NaN\n",
       "3          4        Alice        Aoni        Billy      Bonder\n",
       "4          5       Ayoung     Atiches        Brian       Black"
      ]
     },
     "execution_count": 285,
     "metadata": {},
     "output_type": "execute_result"
    }
   ],
   "source": [
    "# оставляем все значения правой таблици и добавляем значения из левой по индексу. \n",
    "# Если нет значения - NaN\n",
    "print(df_a)\n",
    "print(df_b)\n",
    "pd.merge(df_a, df_b, on='subject_id', how='left')"
   ]
  },
  {
   "cell_type": "code",
   "execution_count": 287,
   "metadata": {},
   "outputs": [
    {
     "name": "stdout",
     "output_type": "stream",
     "text": [
      "  subject_id first_name last_name\n",
      "0          1       Alex  Anderson\n",
      "1          2        Any  Ackerman\n",
      "2          3      Allen       Ali\n",
      "3          4      Alice      Aoni\n",
      "4          5     Ayoung   Atiches\n",
      "  subject_id first_name last_name\n",
      "2          4      Billy    Bonder\n",
      "3          5      Brian     Black\n",
      "4          6       Bran   Baiwner\n",
      "5          7      Bryce     Brice\n",
      "6          8      Betty    Btisan\n"
     ]
    },
    {
     "data": {
      "text/html": [
       "<div>\n",
       "<style scoped>\n",
       "    .dataframe tbody tr th:only-of-type {\n",
       "        vertical-align: middle;\n",
       "    }\n",
       "\n",
       "    .dataframe tbody tr th {\n",
       "        vertical-align: top;\n",
       "    }\n",
       "\n",
       "    .dataframe thead th {\n",
       "        text-align: right;\n",
       "    }\n",
       "</style>\n",
       "<table border=\"1\" class=\"dataframe\">\n",
       "  <thead>\n",
       "    <tr style=\"text-align: right;\">\n",
       "      <th></th>\n",
       "      <th>subject_id</th>\n",
       "      <th>first_name_x</th>\n",
       "      <th>last_name_x</th>\n",
       "      <th>first_name_y</th>\n",
       "      <th>last_name_y</th>\n",
       "    </tr>\n",
       "  </thead>\n",
       "  <tbody>\n",
       "    <tr>\n",
       "      <th>0</th>\n",
       "      <td>4</td>\n",
       "      <td>Alice</td>\n",
       "      <td>Aoni</td>\n",
       "      <td>Billy</td>\n",
       "      <td>Bonder</td>\n",
       "    </tr>\n",
       "    <tr>\n",
       "      <th>1</th>\n",
       "      <td>5</td>\n",
       "      <td>Ayoung</td>\n",
       "      <td>Atiches</td>\n",
       "      <td>Brian</td>\n",
       "      <td>Black</td>\n",
       "    </tr>\n",
       "    <tr>\n",
       "      <th>2</th>\n",
       "      <td>6</td>\n",
       "      <td>NaN</td>\n",
       "      <td>NaN</td>\n",
       "      <td>Bran</td>\n",
       "      <td>Baiwner</td>\n",
       "    </tr>\n",
       "    <tr>\n",
       "      <th>3</th>\n",
       "      <td>7</td>\n",
       "      <td>NaN</td>\n",
       "      <td>NaN</td>\n",
       "      <td>Bryce</td>\n",
       "      <td>Brice</td>\n",
       "    </tr>\n",
       "    <tr>\n",
       "      <th>4</th>\n",
       "      <td>8</td>\n",
       "      <td>NaN</td>\n",
       "      <td>NaN</td>\n",
       "      <td>Betty</td>\n",
       "      <td>Btisan</td>\n",
       "    </tr>\n",
       "  </tbody>\n",
       "</table>\n",
       "</div>"
      ],
      "text/plain": [
       "  subject_id first_name_x last_name_x first_name_y last_name_y\n",
       "0          4        Alice        Aoni        Billy      Bonder\n",
       "1          5       Ayoung     Atiches        Brian       Black\n",
       "2          6          NaN         NaN         Bran     Baiwner\n",
       "3          7          NaN         NaN        Bryce       Brice\n",
       "4          8          NaN         NaN        Betty      Btisan"
      ]
     },
     "execution_count": 287,
     "metadata": {},
     "output_type": "execute_result"
    }
   ],
   "source": [
    "# Наоборот\n",
    "# оставляем все значения левой таблици и добавляем значения из правой по индексу. \n",
    "# Если нет значения - NaN\n",
    "print(df_a)\n",
    "print(df_b)\n",
    "pd.merge(df_a, df_b, on='subject_id', how='right')"
   ]
  },
  {
   "cell_type": "code",
   "execution_count": 288,
   "metadata": {},
   "outputs": [
    {
     "name": "stdout",
     "output_type": "stream",
     "text": [
      "  subject_id first_name last_name\n",
      "0          1       Alex  Anderson\n",
      "1          2        Any  Ackerman\n",
      "2          3      Allen       Ali\n",
      "3          4      Alice      Aoni\n",
      "4          5     Ayoung   Atiches\n",
      "  subject_id first_name last_name\n",
      "2          4      Billy    Bonder\n",
      "3          5      Brian     Black\n",
      "4          6       Bran   Baiwner\n",
      "5          7      Bryce     Brice\n",
      "6          8      Betty    Btisan\n"
     ]
    },
    {
     "data": {
      "text/html": [
       "<div>\n",
       "<style scoped>\n",
       "    .dataframe tbody tr th:only-of-type {\n",
       "        vertical-align: middle;\n",
       "    }\n",
       "\n",
       "    .dataframe tbody tr th {\n",
       "        vertical-align: top;\n",
       "    }\n",
       "\n",
       "    .dataframe thead th {\n",
       "        text-align: right;\n",
       "    }\n",
       "</style>\n",
       "<table border=\"1\" class=\"dataframe\">\n",
       "  <thead>\n",
       "    <tr style=\"text-align: right;\">\n",
       "      <th></th>\n",
       "      <th>subject_id_x</th>\n",
       "      <th>first_name_x</th>\n",
       "      <th>last_name_x</th>\n",
       "      <th>subject_id_y</th>\n",
       "      <th>first_name_y</th>\n",
       "      <th>last_name_y</th>\n",
       "    </tr>\n",
       "  </thead>\n",
       "  <tbody>\n",
       "    <tr>\n",
       "      <th>2</th>\n",
       "      <td>3</td>\n",
       "      <td>Allen</td>\n",
       "      <td>Ali</td>\n",
       "      <td>4</td>\n",
       "      <td>Billy</td>\n",
       "      <td>Bonder</td>\n",
       "    </tr>\n",
       "    <tr>\n",
       "      <th>3</th>\n",
       "      <td>4</td>\n",
       "      <td>Alice</td>\n",
       "      <td>Aoni</td>\n",
       "      <td>5</td>\n",
       "      <td>Brian</td>\n",
       "      <td>Black</td>\n",
       "    </tr>\n",
       "    <tr>\n",
       "      <th>4</th>\n",
       "      <td>5</td>\n",
       "      <td>Ayoung</td>\n",
       "      <td>Atiches</td>\n",
       "      <td>6</td>\n",
       "      <td>Bran</td>\n",
       "      <td>Baiwner</td>\n",
       "    </tr>\n",
       "  </tbody>\n",
       "</table>\n",
       "</div>"
      ],
      "text/plain": [
       "  subject_id_x first_name_x last_name_x subject_id_y first_name_y last_name_y\n",
       "2            3        Allen         Ali            4        Billy      Bonder\n",
       "3            4        Alice        Aoni            5        Brian       Black\n",
       "4            5       Ayoung     Atiches            6         Bran     Baiwner"
      ]
     },
     "execution_count": 288,
     "metadata": {},
     "output_type": "execute_result"
    }
   ],
   "source": [
    "print(df_a)\n",
    "print(df_b)\n",
    "pd.merge(df_a, df_b, right_index=True, left_index=True)"
   ]
  },
  {
   "cell_type": "markdown",
   "metadata": {},
   "source": [
    "## The end"
   ]
  },
  {
   "cell_type": "code",
   "execution_count": null,
   "metadata": {},
   "outputs": [],
   "source": []
  }
 ],
 "metadata": {
  "kernelspec": {
   "display_name": "Python 3",
   "language": "python",
   "name": "python3"
  },
  "language_info": {
   "codemirror_mode": {
    "name": "ipython",
    "version": 3
   },
   "file_extension": ".py",
   "mimetype": "text/x-python",
   "name": "python",
   "nbconvert_exporter": "python",
   "pygments_lexer": "ipython3",
   "version": "3.6.12"
  }
 },
 "nbformat": 4,
 "nbformat_minor": 4
}
