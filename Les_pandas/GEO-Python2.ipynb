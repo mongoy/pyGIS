{
 "cells": [
  {
   "cell_type": "code",
   "execution_count": 1,
   "metadata": {},
   "outputs": [],
   "source": [
    "import os\n",
    "import pandas as pd"
   ]
  },
  {
   "cell_type": "markdown",
   "metadata": {},
   "source": [
    "ПРИМЕР СОЗДАНИЯ СЕРИИ И ДАТАФРЕЙМА"
   ]
  },
  {
   "cell_type": "code",
   "execution_count": 23,
   "metadata": {},
   "outputs": [
    {
     "name": "stdout",
     "output_type": "stream",
     "text": [
      "a    4.0\n",
      "b    5.0\n",
      "c    6.0\n",
      "d    7.0\n",
      "dtype: float64\n",
      "              station_name    lat    lon\n",
      "0            Hanko Russarö  59.77  22.95\n",
      "1       Heinola Asemantaus  61.20  26.05\n",
      "2      Helsinki Kaisaniemi  60.18  24.94\n",
      "3  Helsinki Malmi airfield  60.25  25.05\n"
     ]
    }
   ],
   "source": [
    "# Create Pandas Series from a list\n",
    "number_series = pd.Series([4, 5, 6, 7.0], index=['a', 'b', 'c', 'd'])\n",
    "print(number_series)\n",
    "\n",
    "# Station names\n",
    "stations = ['Hanko Russarö', 'Heinola Asemantaus', 'Helsinki Kaisaniemi', 'Helsinki Malmi airfield']\n",
    "\n",
    "# Latitude coordinates of Weather stations\n",
    "lats = [59.77, 61.2, 60.18, 60.25]\n",
    "\n",
    "# Longitude coordinates of Weather stations\n",
    "lons = [22.95, 26.05, 24.94, 25.05]\n",
    "\n",
    "# Create Pandas DataFrame from a 3-list\n",
    "new_df = pd.DataFrame(data={\"station_name\": stations, \"lat\": lats, \"lon\": lons})\n",
    "print(new_df)"
   ]
  },
  {
   "cell_type": "code",
   "execution_count": 77,
   "metadata": {},
   "outputs": [],
   "source": [
    "# считаем данные в датафрейм без заголовка (8 строк) с 9-й строки\n",
    "df = pd.read_csv('Kumpula-June-2016-w-metadata.txt', sep=',', skiprows=8)"
   ]
  },
  {
   "cell_type": "code",
   "execution_count": 6,
   "metadata": {},
   "outputs": [
    {
     "data": {
      "text/html": [
       "<div>\n",
       "<style scoped>\n",
       "    .dataframe tbody tr th:only-of-type {\n",
       "        vertical-align: middle;\n",
       "    }\n",
       "\n",
       "    .dataframe tbody tr th {\n",
       "        vertical-align: top;\n",
       "    }\n",
       "\n",
       "    .dataframe thead th {\n",
       "        text-align: right;\n",
       "    }\n",
       "</style>\n",
       "<table border=\"1\" class=\"dataframe\">\n",
       "  <thead>\n",
       "    <tr style=\"text-align: right;\">\n",
       "      <th></th>\n",
       "      <th>YEARMODA</th>\n",
       "      <th>TEMP</th>\n",
       "      <th>MAX</th>\n",
       "      <th>MIN</th>\n",
       "    </tr>\n",
       "  </thead>\n",
       "  <tbody>\n",
       "    <tr>\n",
       "      <td>0</td>\n",
       "      <td>20160601</td>\n",
       "      <td>65.5</td>\n",
       "      <td>73.6</td>\n",
       "      <td>54.7</td>\n",
       "    </tr>\n",
       "    <tr>\n",
       "      <td>1</td>\n",
       "      <td>20160602</td>\n",
       "      <td>65.8</td>\n",
       "      <td>80.8</td>\n",
       "      <td>55.0</td>\n",
       "    </tr>\n",
       "    <tr>\n",
       "      <td>2</td>\n",
       "      <td>20160603</td>\n",
       "      <td>68.4</td>\n",
       "      <td>NaN</td>\n",
       "      <td>55.6</td>\n",
       "    </tr>\n",
       "    <tr>\n",
       "      <td>3</td>\n",
       "      <td>20160604</td>\n",
       "      <td>57.5</td>\n",
       "      <td>70.9</td>\n",
       "      <td>47.3</td>\n",
       "    </tr>\n",
       "    <tr>\n",
       "      <td>4</td>\n",
       "      <td>20160605</td>\n",
       "      <td>51.4</td>\n",
       "      <td>58.3</td>\n",
       "      <td>43.2</td>\n",
       "    </tr>\n",
       "  </tbody>\n",
       "</table>\n",
       "</div>"
      ],
      "text/plain": [
       "   YEARMODA  TEMP   MAX   MIN\n",
       "0  20160601  65.5  73.6  54.7\n",
       "1  20160602  65.8  80.8  55.0\n",
       "2  20160603  68.4   NaN  55.6\n",
       "3  20160604  57.5  70.9  47.3\n",
       "4  20160605  51.4  58.3  43.2"
      ]
     },
     "execution_count": 6,
     "metadata": {},
     "output_type": "execute_result"
    }
   ],
   "source": [
    "df.head() # 5 сверху, df - все, df.tail() - 5 снизу"
   ]
  },
  {
   "cell_type": "code",
   "execution_count": 7,
   "metadata": {},
   "outputs": [
    {
     "data": {
      "text/plain": [
       "(30, 4)"
      ]
     },
     "execution_count": 7,
     "metadata": {},
     "output_type": "execute_result"
    }
   ],
   "source": [
    "df.shape # (30, 4) строки колонки"
   ]
  },
  {
   "cell_type": "code",
   "execution_count": 8,
   "metadata": {},
   "outputs": [
    {
     "data": {
      "text/plain": [
       "Index(['YEARMODA', 'TEMP', 'MAX', 'MIN'], dtype='object')"
      ]
     },
     "execution_count": 8,
     "metadata": {},
     "output_type": "execute_result"
    }
   ],
   "source": [
    " df.columns # Index(['YEARMODA', 'TEMP', 'MAX', 'MIN'], dtype='object')"
   ]
  },
  {
   "cell_type": "code",
   "execution_count": 9,
   "metadata": {},
   "outputs": [
    {
     "data": {
      "text/plain": [
       "array(['YEARMODA', 'TEMP', 'MAX', 'MIN'], dtype=object)"
      ]
     },
     "execution_count": 9,
     "metadata": {},
     "output_type": "execute_result"
    }
   ],
   "source": [
    "df.columns.values # array(['YEARMODA', 'TEMP', 'MAX', 'MIN'], dtype=object)"
   ]
  },
  {
   "cell_type": "code",
   "execution_count": 10,
   "metadata": {},
   "outputs": [
    {
     "data": {
      "text/plain": [
       "TEMP        1\n",
       "YEARMODA    1\n",
       "MAX         1\n",
       "MIN         1\n",
       "dtype: int64"
      ]
     },
     "execution_count": 10,
     "metadata": {},
     "output_type": "execute_result"
    }
   ],
   "source": [
    "df.columns.value_counts()"
   ]
  },
  {
   "cell_type": "code",
   "execution_count": 11,
   "metadata": {},
   "outputs": [
    {
     "data": {
      "text/plain": [
       "RangeIndex(start=0, stop=30, step=1)"
      ]
     },
     "execution_count": 11,
     "metadata": {},
     "output_type": "execute_result"
    }
   ],
   "source": [
    "df.index # RangeIndex(start=0, stop=30, step=1)"
   ]
  },
  {
   "cell_type": "markdown",
   "metadata": {},
   "source": [
    "Создание новых колонок"
   ]
  },
  {
   "cell_type": "code",
   "execution_count": 81,
   "metadata": {},
   "outputs": [
    {
     "name": "stdout",
     "output_type": "stream",
     "text": [
      "   YEARMODA  TEMP   MAX   MIN  DIFF  DIFF_MIN\n",
      "0  20160601  65.5  73.6  54.7   0.0      10.8\n",
      "1  20160602  65.8  80.8  55.0   0.0      10.8\n",
      "2  20160603  68.4   NaN  55.6   0.0      12.8\n",
      "3  20160604  57.5  70.9  47.3   0.0      10.2\n",
      "4  20160605  51.4  58.3  43.2   0.0       8.2\n"
     ]
    }
   ],
   "source": [
    "# Define a new column \"DIFF\"\n",
    "df = df\n",
    "df['DIFF'] = 0.0\n",
    "# Print the dataframe\n",
    "print(df.head())"
   ]
  },
  {
   "cell_type": "code",
   "execution_count": 82,
   "metadata": {},
   "outputs": [
    {
     "name": "stdout",
     "output_type": "stream",
     "text": [
      "   YEARMODA  TEMP   MAX   MIN  DIFF  DIFF_MIN\n",
      "0  20160601  65.5  73.6  54.7   0.0      10.8\n",
      "1  20160602  65.8  80.8  55.0   0.0      10.8\n",
      "2  20160603  68.4   NaN  55.6   0.0      12.8\n",
      "3  20160604  57.5  70.9  47.3   0.0      10.2\n",
      "4  20160605  51.4  58.3  43.2   0.0       8.2\n"
     ]
    }
   ],
   "source": [
    "# Calculate difference between temp and min column values\n",
    "df['DIFF_MIN'] = df['TEMP'] - df['MIN']\n",
    "# Print the dataframe\n",
    "print(df.head())"
   ]
  },
  {
   "cell_type": "code",
   "execution_count": 83,
   "metadata": {},
   "outputs": [
    {
     "name": "stdout",
     "output_type": "stream",
     "text": [
      "   YEARMODA  TEMP   MAX   MIN  DIFF  DIFF_MIN  TEMP_CELSIUS\n",
      "0  20160601  65.5  73.6  54.7   0.0      10.8     18.611111\n",
      "1  20160602  65.8  80.8  55.0   0.0      10.8     18.777778\n",
      "2  20160603  68.4   NaN  55.6   0.0      12.8     20.222222\n",
      "3  20160604  57.5  70.9  47.3   0.0      10.2     14.166667\n",
      "4  20160605  51.4  58.3  43.2   0.0       8.2     10.777778\n"
     ]
    }
   ],
   "source": [
    "# Create a new column and convert temp fahrenheit to celsius:\n",
    "df['TEMP_CELSIUS'] = (df['TEMP'] - 32) / (9/5)\n",
    "#Check output\n",
    "print(df.head())"
   ]
  },
  {
   "cell_type": "markdown",
   "metadata": {},
   "source": [
    "Выбор данных из ДатаФрейма"
   ]
  },
  {
   "cell_type": "code",
   "execution_count": 47,
   "metadata": {},
   "outputs": [
    {
     "name": "stdout",
     "output_type": "stream",
     "text": [
      "   YEARMODA  TEMP   MAX   MIN  DIFF  DIFF_MIN  TEMP_CELSIUS\n",
      "0  20160601  65.5  73.6  54.7   0.0      10.8     18.611111\n",
      "1  20160602  65.8  80.8  55.0   0.0      10.8     18.777778\n",
      "2  20160603  68.4   NaN  55.6   0.0      12.8     20.222222\n",
      "3  20160604  57.5  70.9  47.3   0.0      10.2     14.166667\n",
      "4  20160605  51.4  58.3  43.2   0.0       8.2     10.777778\n"
     ]
    }
   ],
   "source": [
    "# Select first five rows of dataframe using index values\n",
    "selection = df[0:5]\n",
    "print(selection)"
   ]
  },
  {
   "cell_type": "code",
   "execution_count": 56,
   "metadata": {},
   "outputs": [
    {
     "name": "stdout",
     "output_type": "stream",
     "text": [
      "YEARMODA        2.016060e+07\n",
      "TEMP            5.140000e+01\n",
      "MAX             5.830000e+01\n",
      "MIN             4.320000e+01\n",
      "DIFF            0.000000e+00\n",
      "DIFF_MIN        8.200000e+00\n",
      "TEMP_CELSIUS    1.077778e+01\n",
      "Name: 4, dtype: float64\n",
      " \n",
      "51.4\n",
      " \n",
      "   YEARMODA  TEMP   MAX   MIN  DIFF  DIFF_MIN  TEMP_CELSIUS\n",
      "0  20160601  65.5  73.6  54.7   0.0      10.8     18.611111\n",
      "1  20160602  65.8  80.8  55.0   0.0      10.8     18.777778\n",
      "2  20160603  68.4   NaN  55.6   0.0      12.8     20.222222\n",
      "3  20160604  57.5  70.9  47.3   0.0      10.2     14.166667\n",
      "4  20160605  51.4  58.3  43.2   0.0       8.2     10.777778\n",
      " \n",
      "0    65.5\n",
      "1    65.8\n",
      "2    68.4\n",
      "3    57.5\n",
      "4    51.4\n",
      "5    52.2\n",
      "Name: TEMP, dtype: float64\n",
      " \n",
      "   TEMP  TEMP_CELSIUS\n",
      "0  65.5     18.611111\n",
      "1  65.8     18.777778\n",
      "2  68.4     20.222222\n",
      "3  57.5     14.166667\n",
      "4  51.4     10.777778\n",
      "5  52.2     11.222222\n",
      " \n",
      "65.5\n"
     ]
    }
   ],
   "source": [
    "# Select one row using index\n",
    "selection = df.loc[4]\n",
    "#Print all attributes from the selected row\n",
    "print(selection)\n",
    "print(' ')\n",
    "#Print one attribute from the selected row\n",
    "print(selection['TEMP'])\n",
    "print(' ')\n",
    "# Select first five rows of dataframe using index values\n",
    "selection = df[0:5]\n",
    "print(selection)\n",
    "print(' ')\n",
    "# Select temp column values on rows 0-5\n",
    "selection = df.loc[0:5, 'TEMP']\n",
    "print(selection)\n",
    "print(' ')\n",
    "# Select columns temp and temp_celsius on rows 0-5\n",
    "selection = df.loc[0:5, ['TEMP', 'TEMP_CELSIUS']]\n",
    "print(selection)\n",
    "print(' ')\n",
    "# Select the temprerature (column TEMP) on the first fow (index 0) of our DataFrame \n",
    "print(df.at[0, \"TEMP\"])\n"
   ]
  },
  {
   "cell_type": "code",
   "execution_count": 44,
   "metadata": {},
   "outputs": [
    {
     "name": "stdout",
     "output_type": "stream",
     "text": [
      "   YEARMODA  TEMP\n",
      "0  20160601  65.5\n",
      "1  20160602  65.8\n",
      "2  20160603  68.4\n",
      "3  20160604  57.5\n",
      "4  20160605  51.4\n",
      " \n",
      "65.5\n",
      " \n",
      "YEARMODA    20160630.0\n",
      "TEMP              65.7\n",
      "MAX               72.7\n",
      "MIN               59.2\n",
      "DIFF               0.0\n",
      "DIFF_MIN           6.5\n",
      "Name: 29, dtype: float64\n"
     ]
    }
   ],
   "source": [
    "print(df.iloc[0: 5, 0 : 2])\n",
    "print(' ')\n",
    "print(df.iloc[0, 1])\n",
    "print(' ')\n",
    "print(df.iloc[-1])"
   ]
  },
  {
   "cell_type": "markdown",
   "metadata": {},
   "source": [
    "Фильтрация и обновление данных"
   ]
  },
  {
   "cell_type": "code",
   "execution_count": 84,
   "metadata": {},
   "outputs": [
    {
     "name": "stdout",
     "output_type": "stream",
     "text": [
      "    YEARMODA  TEMP   MAX   MIN  DIFF  DIFF_MIN  TEMP_CELSIUS\n",
      "0   20160601  65.5  73.6  54.7   0.0      10.8     18.611111\n",
      "1   20160602  65.8  80.8  55.0   0.0      10.8     18.777778\n",
      "2   20160603  68.4   NaN  55.6   0.0      12.8     20.222222\n",
      "13  20160614  59.7  67.8  47.8   0.0      11.9     15.388889\n",
      "14  20160615  63.4  70.3  49.3   0.0      14.1     17.444444\n"
     ]
    }
   ],
   "source": [
    "# Select rows with temp celsius higher than 15 degrees\n",
    "warm_temps = df.loc[df['TEMP_CELSIUS'] > 15]\n",
    "print(warm_temps.head())"
   ]
  },
  {
   "cell_type": "code",
   "execution_count": 85,
   "metadata": {},
   "outputs": [
    {
     "name": "stdout",
     "output_type": "stream",
     "text": [
      "    YEARMODA  TEMP   MAX   MIN  DIFF  DIFF_MIN  TEMP_CELSIUS\n",
      "14  20160615  63.4  70.3  49.3   0.0      14.1     17.444444\n",
      "16  20160617  60.4  70.7  55.9   0.0       4.5     15.777778\n",
      "19  20160620  59.3  69.1  52.2   0.0       7.1     15.166667\n",
      "20  20160621  62.6  71.4  50.4   0.0      12.2     17.000000\n",
      "21  20160622  61.7  70.2  55.4   0.0       6.3     16.500000\n",
      "22  20160623  60.9  67.1  54.9   0.0       6.0     16.055556\n",
      "23  20160624  61.1  68.9  56.7   0.0       4.4     16.166667\n",
      "24  20160625  65.7  75.4  57.9   0.0       7.8     18.722222\n",
      "25  20160626  69.6  77.7  60.3   0.0       9.3     20.888889\n",
      "26  20160627  60.7  70.0   NaN   0.0       NaN     15.944444\n",
      "27  20160628  65.4  73.0  55.8   0.0       9.6     18.555556\n",
      "28  20160629  65.8  73.2   NaN   0.0       NaN     18.777778\n",
      "29  20160630  65.7  72.7  59.2   0.0       6.5     18.722222\n"
     ]
    }
   ],
   "source": [
    "# Select rows with temp celsius higher than 15 degrees from late June 2016\n",
    "warm_temps = df.loc[(df['TEMP_CELSIUS'] > 15) & (df['YEARMODA'] >= 20160615)]\n",
    "print(warm_temps)"
   ]
  },
  {
   "cell_type": "code",
   "execution_count": 64,
   "metadata": {},
   "outputs": [
    {
     "name": "stdout",
     "output_type": "stream",
     "text": [
      "    index  YEARMODA  TEMP   MAX   MIN  DIFF  DIFF_MIN  TEMP_CELSIUS\n",
      "0      14  20160615  63.4  70.3  49.3   0.0      14.1     17.444444\n",
      "1      16  20160617  60.4  70.7  55.9   0.0       4.5     15.777778\n",
      "2      19  20160620  59.3  69.1  52.2   0.0       7.1     15.166667\n",
      "3      20  20160621  62.6  71.4  50.4   0.0      12.2     17.000000\n",
      "4      21  20160622  61.7  70.2  55.4   0.0       6.3     16.500000\n",
      "5      22  20160623  60.9  67.1  54.9   0.0       6.0     16.055556\n",
      "6      23  20160624  61.1  68.9  56.7   0.0       4.4     16.166667\n",
      "7      24  20160625  65.7  75.4  57.9   0.0       7.8     18.722222\n",
      "8      25  20160626  69.6  77.7  60.3   0.0       9.3     20.888889\n",
      "9      26  20160627  60.7  70.0   NaN   0.0       NaN     15.944444\n",
      "10     27  20160628  65.4  73.0  55.8   0.0       9.6     18.555556\n",
      "11     28  20160629  65.8  73.2   NaN   0.0       NaN     18.777778\n",
      "12     29  20160630  65.7  72.7  59.2   0.0       6.5     18.722222\n",
      " \n",
      "    YEARMODA  TEMP   MAX   MIN  DIFF  DIFF_MIN  TEMP_CELSIUS\n",
      "0   20160615  63.4  70.3  49.3   0.0      14.1     17.444444\n",
      "1   20160617  60.4  70.7  55.9   0.0       4.5     15.777778\n",
      "2   20160620  59.3  69.1  52.2   0.0       7.1     15.166667\n",
      "3   20160621  62.6  71.4  50.4   0.0      12.2     17.000000\n",
      "4   20160622  61.7  70.2  55.4   0.0       6.3     16.500000\n",
      "5   20160623  60.9  67.1  54.9   0.0       6.0     16.055556\n",
      "6   20160624  61.1  68.9  56.7   0.0       4.4     16.166667\n",
      "7   20160625  65.7  75.4  57.9   0.0       7.8     18.722222\n",
      "8   20160626  69.6  77.7  60.3   0.0       9.3     20.888889\n",
      "9   20160627  60.7  70.0   NaN   0.0       NaN     15.944444\n",
      "10  20160628  65.4  73.0  55.8   0.0       9.6     18.555556\n",
      "11  20160629  65.8  73.2   NaN   0.0       NaN     18.777778\n",
      "12  20160630  65.7  72.7  59.2   0.0       6.5     18.722222\n"
     ]
    }
   ],
   "source": [
    "# Reset index\n",
    "warm_temps1 = warm_temps.reset_index()\n",
    "print(warm_temps1)\n",
    "print(' ')\n",
    "# отказ от создания колонки INDEX\n",
    "warm_temps2 = warm_temps.reset_index(drop=True)\n",
    "print(warm_temps2)"
   ]
  },
  {
   "cell_type": "code",
   "execution_count": 86,
   "metadata": {},
   "outputs": [
    {
     "data": {
      "text/html": [
       "<div>\n",
       "<style scoped>\n",
       "    .dataframe tbody tr th:only-of-type {\n",
       "        vertical-align: middle;\n",
       "    }\n",
       "\n",
       "    .dataframe tbody tr th {\n",
       "        vertical-align: top;\n",
       "    }\n",
       "\n",
       "    .dataframe thead th {\n",
       "        text-align: right;\n",
       "    }\n",
       "</style>\n",
       "<table border=\"1\" class=\"dataframe\">\n",
       "  <thead>\n",
       "    <tr style=\"text-align: right;\">\n",
       "      <th></th>\n",
       "      <th>YEARMODA</th>\n",
       "      <th>TEMP</th>\n",
       "    </tr>\n",
       "  </thead>\n",
       "  <tbody>\n",
       "    <tr>\n",
       "      <td>0</td>\n",
       "      <td>20160601</td>\n",
       "      <td>65.5</td>\n",
       "    </tr>\n",
       "    <tr>\n",
       "      <td>1</td>\n",
       "      <td>20160602</td>\n",
       "      <td>65.8</td>\n",
       "    </tr>\n",
       "    <tr>\n",
       "      <td>2</td>\n",
       "      <td>20160603</td>\n",
       "      <td>68.4</td>\n",
       "    </tr>\n",
       "    <tr>\n",
       "      <td>3</td>\n",
       "      <td>20160604</td>\n",
       "      <td>57.5</td>\n",
       "    </tr>\n",
       "    <tr>\n",
       "      <td>4</td>\n",
       "      <td>20160605</td>\n",
       "      <td>51.4</td>\n",
       "    </tr>\n",
       "  </tbody>\n",
       "</table>\n",
       "</div>"
      ],
      "text/plain": [
       "   YEARMODA  TEMP\n",
       "0  20160601  65.5\n",
       "1  20160602  65.8\n",
       "2  20160603  68.4\n",
       "3  20160604  57.5\n",
       "4  20160605  51.4"
      ]
     },
     "execution_count": 86,
     "metadata": {},
     "output_type": "execute_result"
    }
   ],
   "source": [
    "selections = df[['YEARMODA', 'TEMP']]\n",
    "selections.head()"
   ]
  },
  {
   "cell_type": "code",
   "execution_count": 87,
   "metadata": {},
   "outputs": [
    {
     "data": {
      "text/plain": [
       "YEARMODA        2.016062e+07\n",
       "TEMP            5.973000e+01\n",
       "MAX             6.804074e+01\n",
       "MIN             5.125714e+01\n",
       "DIFF            0.000000e+00\n",
       "DIFF_MIN        8.221429e+00\n",
       "TEMP_CELSIUS    1.540556e+01\n",
       "dtype: float64"
      ]
     },
     "execution_count": 87,
     "metadata": {},
     "output_type": "execute_result"
    }
   ],
   "source": [
    "df.mean()"
   ]
  },
  {
   "cell_type": "code",
   "execution_count": 88,
   "metadata": {},
   "outputs": [
    {
     "name": "stdout",
     "output_type": "stream",
     "text": [
      "59.73\n"
     ]
    }
   ],
   "source": [
    "# Среднее значение\n",
    "print(df['TEMP'].mean()) # 59.730000000000004"
   ]
  },
  {
   "cell_type": "code",
   "execution_count": 89,
   "metadata": {},
   "outputs": [
    {
     "name": "stdout",
     "output_type": "stream",
     "text": [
      "   TEMP   MIN   MAX\n",
      "0  65.5  54.7  73.6\n",
      "1  65.8  55.0  80.8\n",
      "2  68.4  55.6   NaN\n",
      "3  57.5  47.3  70.9\n",
      "4  51.4  43.2  58.3\n"
     ]
    },
    {
     "data": {
      "text/plain": [
       "<matplotlib.axes._subplots.AxesSubplot at 0x1a082dd0088>"
      ]
     },
     "execution_count": 89,
     "metadata": {},
     "output_type": "execute_result"
    },
    {
     "data": {
      "image/png": "[encoded data removed]",
      "text/plain": [
       "<Figure size 432x288 with 1 Axes>"
      ]
     },
     "metadata": {
      "needs_background": "light"
     },
     "output_type": "display_data"
    }
   ],
   "source": [
    "print(df[['TEMP', 'MIN', 'MAX']].head())\n",
    "df[['TEMP', 'MIN', 'MAX']].plot()"
   ]
  },
  {
   "cell_type": "markdown",
   "metadata": {},
   "source": [
    "Работа с недостающими данными"
   ]
  },
  {
   "cell_type": "code",
   "execution_count": 90,
   "metadata": {},
   "outputs": [
    {
     "name": "stdout",
     "output_type": "stream",
     "text": [
      "    YEARMODA  TEMP   MAX   MIN  DIFF  DIFF_MIN  TEMP_CELSIUS\n",
      "14  20160615  63.4  70.3  49.3   0.0      14.1     17.444444\n",
      "16  20160617  60.4  70.7  55.9   0.0       4.5     15.777778\n",
      "19  20160620  59.3  69.1  52.2   0.0       7.1     15.166667\n",
      "20  20160621  62.6  71.4  50.4   0.0      12.2     17.000000\n",
      "21  20160622  61.7  70.2  55.4   0.0       6.3     16.500000\n",
      "22  20160623  60.9  67.1  54.9   0.0       6.0     16.055556\n",
      "23  20160624  61.1  68.9  56.7   0.0       4.4     16.166667\n",
      "24  20160625  65.7  75.4  57.9   0.0       7.8     18.722222\n",
      "25  20160626  69.6  77.7  60.3   0.0       9.3     20.888889\n",
      "27  20160628  65.4  73.0  55.8   0.0       9.6     18.555556\n",
      "29  20160630  65.7  72.7  59.2   0.0       6.5     18.722222\n"
     ]
    },
    {
     "data": {
      "text/plain": [
       "<matplotlib.axes._subplots.AxesSubplot at 0x1a080d7ec08>"
      ]
     },
     "execution_count": 90,
     "metadata": {},
     "output_type": "execute_result"
    },
    {
     "data": {
      "image/png": "[encoded data removed]",
      "text/plain": [
       "<Figure size 432x288 with 1 Axes>"
      ]
     },
     "metadata": {
      "needs_background": "light"
     },
     "output_type": "display_data"
    },
    {
     "data": {
      "image/png": "[encoded data removed]",
      "text/plain": [
       "<Figure size 432x288 with 1 Axes>"
      ]
     },
     "metadata": {
      "needs_background": "light"
     },
     "output_type": "display_data"
    }
   ],
   "source": [
    "# Drop no data values based on the MIN column\n",
    "warm_temps[['TEMP', 'MIN', 'MAX']].plot()\n",
    "warm_temps3 = warm_temps.dropna(subset=['MIN'])\n",
    "print(warm_temps3)\n",
    "warm_temps3[['TEMP', 'MIN', 'MAX']].plot()"
   ]
  },
  {
   "cell_type": "code",
   "execution_count": 91,
   "metadata": {},
   "outputs": [
    {
     "name": "stdout",
     "output_type": "stream",
     "text": [
      "    YEARMODA  TEMP   MAX     MIN  DIFF  DIFF_MIN  TEMP_CELSIUS\n",
      "14  20160615  63.4  70.3    49.3   0.0      14.1     17.444444\n",
      "16  20160617  60.4  70.7    55.9   0.0       4.5     15.777778\n",
      "19  20160620  59.3  69.1    52.2   0.0       7.1     15.166667\n",
      "20  20160621  62.6  71.4    50.4   0.0      12.2     17.000000\n",
      "21  20160622  61.7  70.2    55.4   0.0       6.3     16.500000\n",
      "22  20160623  60.9  67.1    54.9   0.0       6.0     16.055556\n",
      "23  20160624  61.1  68.9    56.7   0.0       4.4     16.166667\n",
      "24  20160625  65.7  75.4    57.9   0.0       7.8     18.722222\n",
      "25  20160626  69.6  77.7    60.3   0.0       9.3     20.888889\n",
      "26  20160627  60.7  70.0 -9999.0   0.0   -9999.0     15.944444\n",
      "27  20160628  65.4  73.0    55.8   0.0       9.6     18.555556\n",
      "28  20160629  65.8  73.2 -9999.0   0.0   -9999.0     18.777778\n",
      "29  20160630  65.7  72.7    59.2   0.0       6.5     18.722222\n"
     ]
    },
    {
     "data": {
      "text/plain": [
       "<matplotlib.axes._subplots.AxesSubplot at 0x1a082f0afc8>"
      ]
     },
     "execution_count": 91,
     "metadata": {},
     "output_type": "execute_result"
    },
    {
     "data": {
      "image/png": "[encoded data removed]",
      "text/plain": [
       "<Figure size 432x288 with 1 Axes>"
      ]
     },
     "metadata": {
      "needs_background": "light"
     },
     "output_type": "display_data"
    }
   ],
   "source": [
    "## Fill Nan values\n",
    "warm_temps4 = warm_temps.fillna(-9999)\n",
    "print(warm_temps4)\n",
    "warm_temps4[['TEMP', 'MIN', 'MAX']].plot()"
   ]
  },
  {
   "cell_type": "markdown",
   "metadata": {},
   "source": [
    "Преобразование типов данных"
   ]
  },
  {
   "cell_type": "code",
   "execution_count": 92,
   "metadata": {},
   "outputs": [
    {
     "name": "stdout",
     "output_type": "stream",
     "text": [
      "Original values:\n",
      "0    65.5\n",
      "1    65.8\n",
      "2    68.4\n",
      "3    57.5\n",
      "4    51.4\n",
      "Name: TEMP, dtype: float64\n"
     ]
    }
   ],
   "source": [
    "df_tranc = df\n",
    "print(\"Original values:\")\n",
    "print(df_tranc['TEMP'].head())"
   ]
  },
  {
   "cell_type": "code",
   "execution_count": 93,
   "metadata": {},
   "outputs": [
    {
     "name": "stdout",
     "output_type": "stream",
     "text": [
      "Truncated integer values:\n",
      "0    65\n",
      "1    65\n",
      "2    68\n",
      "3    57\n",
      "4    51\n",
      "Name: TEMP, dtype: int32\n"
     ]
    }
   ],
   "source": [
    "# Преобразование с простым отсечением дробной части\n",
    "df_tranc = df\n",
    "print(\"Truncated integer values:\")\n",
    "print(df_tranc['TEMP'].astype(int).head())"
   ]
  },
  {
   "cell_type": "code",
   "execution_count": 94,
   "metadata": {},
   "outputs": [
    {
     "name": "stdout",
     "output_type": "stream",
     "text": [
      "Rounded integer values:\n",
      "0    66\n",
      "1    66\n",
      "2    68\n",
      "3    58\n",
      "4    51\n",
      "Name: TEMP, dtype: int32\n"
     ]
    }
   ],
   "source": [
    "# Преобразование с округлением\n",
    "df_tranc = df\n",
    "print(\"Rounded integer values:\")\n",
    "print(df_tranc['TEMP'].round(0).astype(int).head())"
   ]
  },
  {
   "cell_type": "markdown",
   "metadata": {},
   "source": [
    "Уникальное значение"
   ]
  },
  {
   "cell_type": "code",
   "execution_count": 99,
   "metadata": {},
   "outputs": [
    {
     "name": "stdout",
     "output_type": "stream",
     "text": [
      "[65.5 65.8 68.4 57.5 51.4 52.2 56.9 54.2 49.4 49.5 54.  55.4 58.3 59.7\n",
      " 63.4 57.8 60.4 57.3 56.3 59.3 62.6 61.7 60.9 61.1 65.7 69.6 60.7 65.4]\n",
      " \n",
      "[65.5, 65.8, 68.4, 57.5, 51.4, 52.2, 56.9, 54.2, 49.4, 49.5, 54.0, 55.4, 58.3, 59.7, 63.4, 57.8, 60.4, 57.3, 56.3, 59.3, 62.6, 61.7, 60.9, 61.1, 65.7, 69.6, 60.7, 65.4]\n"
     ]
    }
   ],
   "source": [
    "# Get unique celsius values\n",
    "unique = df['TEMP'].unique()\n",
    "print(unique)\n",
    "print(' ')\n",
    "# unique values as list\n",
    "print(list(unique))"
   ]
  },
  {
   "cell_type": "code",
   "execution_count": 102,
   "metadata": {},
   "outputs": [
    {
     "name": "stdout",
     "output_type": "stream",
     "text": [
      "В июне 2016г., с уникальной температурой было - 28  дней\n"
     ]
    }
   ],
   "source": [
    "# Number of unique values\n",
    "unique_temps = len(unique)\n",
    "print(\"В июне 2016г., с уникальной температурой было -\", unique_temps, \" дней\")"
   ]
  },
  {
   "cell_type": "markdown",
   "metadata": {},
   "source": [
    "Сортировка данных"
   ]
  },
  {
   "cell_type": "code",
   "execution_count": 103,
   "metadata": {},
   "outputs": [
    {
     "data": {
      "text/html": [
       "<div>\n",
       "<style scoped>\n",
       "    .dataframe tbody tr th:only-of-type {\n",
       "        vertical-align: middle;\n",
       "    }\n",
       "\n",
       "    .dataframe tbody tr th {\n",
       "        vertical-align: top;\n",
       "    }\n",
       "\n",
       "    .dataframe thead th {\n",
       "        text-align: right;\n",
       "    }\n",
       "</style>\n",
       "<table border=\"1\" class=\"dataframe\">\n",
       "  <thead>\n",
       "    <tr style=\"text-align: right;\">\n",
       "      <th></th>\n",
       "      <th>YEARMODA</th>\n",
       "      <th>TEMP</th>\n",
       "      <th>MAX</th>\n",
       "      <th>MIN</th>\n",
       "      <th>DIFF</th>\n",
       "      <th>DIFF_MIN</th>\n",
       "      <th>TEMP_CELSIUS</th>\n",
       "    </tr>\n",
       "  </thead>\n",
       "  <tbody>\n",
       "    <tr>\n",
       "      <td>8</td>\n",
       "      <td>20160609</td>\n",
       "      <td>49.4</td>\n",
       "      <td>54.1</td>\n",
       "      <td>45.7</td>\n",
       "      <td>0.0</td>\n",
       "      <td>3.7</td>\n",
       "      <td>9.666667</td>\n",
       "    </tr>\n",
       "    <tr>\n",
       "      <td>9</td>\n",
       "      <td>20160610</td>\n",
       "      <td>49.5</td>\n",
       "      <td>55.9</td>\n",
       "      <td>43.0</td>\n",
       "      <td>0.0</td>\n",
       "      <td>6.5</td>\n",
       "      <td>9.722222</td>\n",
       "    </tr>\n",
       "    <tr>\n",
       "      <td>4</td>\n",
       "      <td>20160605</td>\n",
       "      <td>51.4</td>\n",
       "      <td>58.3</td>\n",
       "      <td>43.2</td>\n",
       "      <td>0.0</td>\n",
       "      <td>8.2</td>\n",
       "      <td>10.777778</td>\n",
       "    </tr>\n",
       "    <tr>\n",
       "      <td>5</td>\n",
       "      <td>20160606</td>\n",
       "      <td>52.2</td>\n",
       "      <td>59.7</td>\n",
       "      <td>42.8</td>\n",
       "      <td>0.0</td>\n",
       "      <td>9.4</td>\n",
       "      <td>11.222222</td>\n",
       "    </tr>\n",
       "    <tr>\n",
       "      <td>10</td>\n",
       "      <td>20160611</td>\n",
       "      <td>54.0</td>\n",
       "      <td>62.1</td>\n",
       "      <td>41.7</td>\n",
       "      <td>0.0</td>\n",
       "      <td>12.3</td>\n",
       "      <td>12.222222</td>\n",
       "    </tr>\n",
       "  </tbody>\n",
       "</table>\n",
       "</div>"
      ],
      "text/plain": [
       "    YEARMODA  TEMP   MAX   MIN  DIFF  DIFF_MIN  TEMP_CELSIUS\n",
       "8   20160609  49.4  54.1  45.7   0.0       3.7      9.666667\n",
       "9   20160610  49.5  55.9  43.0   0.0       6.5      9.722222\n",
       "4   20160605  51.4  58.3  43.2   0.0       8.2     10.777778\n",
       "5   20160606  52.2  59.7  42.8   0.0       9.4     11.222222\n",
       "10  20160611  54.0  62.1  41.7   0.0      12.3     12.222222"
      ]
     },
     "execution_count": 103,
     "metadata": {},
     "output_type": "execute_result"
    }
   ],
   "source": [
    "# По возрастающей\n",
    "df.sort_values(by='TEMP').head()"
   ]
  },
  {
   "cell_type": "code",
   "execution_count": 104,
   "metadata": {},
   "outputs": [
    {
     "data": {
      "text/html": [
       "<div>\n",
       "<style scoped>\n",
       "    .dataframe tbody tr th:only-of-type {\n",
       "        vertical-align: middle;\n",
       "    }\n",
       "\n",
       "    .dataframe tbody tr th {\n",
       "        vertical-align: top;\n",
       "    }\n",
       "\n",
       "    .dataframe thead th {\n",
       "        text-align: right;\n",
       "    }\n",
       "</style>\n",
       "<table border=\"1\" class=\"dataframe\">\n",
       "  <thead>\n",
       "    <tr style=\"text-align: right;\">\n",
       "      <th></th>\n",
       "      <th>YEARMODA</th>\n",
       "      <th>TEMP</th>\n",
       "      <th>MAX</th>\n",
       "      <th>MIN</th>\n",
       "      <th>DIFF</th>\n",
       "      <th>DIFF_MIN</th>\n",
       "      <th>TEMP_CELSIUS</th>\n",
       "    </tr>\n",
       "  </thead>\n",
       "  <tbody>\n",
       "    <tr>\n",
       "      <td>25</td>\n",
       "      <td>20160626</td>\n",
       "      <td>69.6</td>\n",
       "      <td>77.7</td>\n",
       "      <td>60.3</td>\n",
       "      <td>0.0</td>\n",
       "      <td>9.3</td>\n",
       "      <td>20.888889</td>\n",
       "    </tr>\n",
       "    <tr>\n",
       "      <td>2</td>\n",
       "      <td>20160603</td>\n",
       "      <td>68.4</td>\n",
       "      <td>NaN</td>\n",
       "      <td>55.6</td>\n",
       "      <td>0.0</td>\n",
       "      <td>12.8</td>\n",
       "      <td>20.222222</td>\n",
       "    </tr>\n",
       "    <tr>\n",
       "      <td>1</td>\n",
       "      <td>20160602</td>\n",
       "      <td>65.8</td>\n",
       "      <td>80.8</td>\n",
       "      <td>55.0</td>\n",
       "      <td>0.0</td>\n",
       "      <td>10.8</td>\n",
       "      <td>18.777778</td>\n",
       "    </tr>\n",
       "    <tr>\n",
       "      <td>28</td>\n",
       "      <td>20160629</td>\n",
       "      <td>65.8</td>\n",
       "      <td>73.2</td>\n",
       "      <td>NaN</td>\n",
       "      <td>0.0</td>\n",
       "      <td>NaN</td>\n",
       "      <td>18.777778</td>\n",
       "    </tr>\n",
       "    <tr>\n",
       "      <td>29</td>\n",
       "      <td>20160630</td>\n",
       "      <td>65.7</td>\n",
       "      <td>72.7</td>\n",
       "      <td>59.2</td>\n",
       "      <td>0.0</td>\n",
       "      <td>6.5</td>\n",
       "      <td>18.722222</td>\n",
       "    </tr>\n",
       "  </tbody>\n",
       "</table>\n",
       "</div>"
      ],
      "text/plain": [
       "    YEARMODA  TEMP   MAX   MIN  DIFF  DIFF_MIN  TEMP_CELSIUS\n",
       "25  20160626  69.6  77.7  60.3   0.0       9.3     20.888889\n",
       "2   20160603  68.4   NaN  55.6   0.0      12.8     20.222222\n",
       "1   20160602  65.8  80.8  55.0   0.0      10.8     18.777778\n",
       "28  20160629  65.8  73.2   NaN   0.0       NaN     18.777778\n",
       "29  20160630  65.7  72.7  59.2   0.0       6.5     18.722222"
      ]
     },
     "execution_count": 104,
     "metadata": {},
     "output_type": "execute_result"
    }
   ],
   "source": [
    "# По убывающей\n",
    "df.sort_values(by='TEMP', ascending=False).head()"
   ]
  },
  {
   "cell_type": "markdown",
   "metadata": {},
   "source": [
    "Запись данных в файл"
   ]
  },
  {
   "cell_type": "code",
   "execution_count": 105,
   "metadata": {},
   "outputs": [],
   "source": [
    "# define output filename\n",
    "output_fp = \"Kumpula_temps_June_2016.csv\"\n",
    "\n",
    "# Save dataframe to csv\n",
    "df.to_csv(output_fp, sep=',')"
   ]
  },
  {
   "cell_type": "code",
   "execution_count": 106,
   "metadata": {},
   "outputs": [],
   "source": [
    "# Cохраним значения температуры из warm_tempsфрейма данных без индекса \n",
    "# и только с 1 десятичной дробью в числах с плавающей запятой\n",
    "output_fp2  =  \"Kumpula_temps_above15_June_2016.csv\" \n",
    "warm_temps .to_csv ( output_fp2,  sep =',',  index = False,  float_format =\"%.1f\")"
   ]
  },
  {
   "cell_type": "code",
   "execution_count": null,
   "metadata": {},
   "outputs": [],
   "source": []
  }
 ],
 "metadata": {
  "kernelspec": {
   "display_name": "Python 3",
   "language": "python",
   "name": "python3"
  },
  "language_info": {
   "codemirror_mode": {
    "name": "ipython",
    "version": 3
   },
   "file_extension": ".py",
   "mimetype": "text/x-python",
   "name": "python",
   "nbconvert_exporter": "python",
   "pygments_lexer": "ipython3",
   "version": "3.7.7"
  }
 },
 "nbformat": 4,
 "nbformat_minor": 2
}
