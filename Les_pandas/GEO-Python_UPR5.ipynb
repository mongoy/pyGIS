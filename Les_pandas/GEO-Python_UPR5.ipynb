{
 "cells": [
  {
   "cell_type": "code",
   "execution_count": 1,
   "metadata": {},
   "outputs": [],
   "source": [
    "import os\n",
    "import pandas as pd"
   ]
  },
  {
   "cell_type": "code",
   "execution_count": 3,
   "metadata": {},
   "outputs": [],
   "source": [
    "# Проверка корректной установки Pandas\n",
    "from nose.tools import ok_, assert_equal\n",
    "import inspect\n",
    "import sys\n",
    "\n",
    "# Check that pandas module is imported\n",
    "ok_('pandas' in sys.modules)"
   ]
  },
  {
   "cell_type": "code",
   "execution_count": 4,
   "metadata": {},
   "outputs": [],
   "source": [
    "df = None\n",
    "\n",
    "# REPLACE THE ERROR BELOW WITH YOUR OWN CODE\n",
    "# raise NotImplementedError()"
   ]
  },
  {
   "cell_type": "code",
   "execution_count": 5,
   "metadata": {},
   "outputs": [],
   "source": [
    "# Check that the variable data exists:\n",
    "ok_('df' in locals())"
   ]
  },
  {
   "cell_type": "markdown",
   "metadata": {},
   "source": [
    "Загрузка данных"
   ]
  },
  {
   "cell_type": "code",
   "execution_count": 6,
   "metadata": {},
   "outputs": [],
   "source": [
    "# считаем данные в датафрейм\n",
    "df = pd.read_csv('Input\\\\6153237444115dat.csv', sep=',')"
   ]
  },
  {
   "cell_type": "code",
   "execution_count": 7,
   "metadata": {},
   "outputs": [
    {
     "data": {
      "text/html": [
       "<div>\n",
       "<style scoped>\n",
       "    .dataframe tbody tr th:only-of-type {\n",
       "        vertical-align: middle;\n",
       "    }\n",
       "\n",
       "    .dataframe tbody tr th {\n",
       "        vertical-align: top;\n",
       "    }\n",
       "\n",
       "    .dataframe thead th {\n",
       "        text-align: right;\n",
       "    }\n",
       "</style>\n",
       "<table border=\"1\" class=\"dataframe\">\n",
       "  <thead>\n",
       "    <tr style=\"text-align: right;\">\n",
       "      <th></th>\n",
       "      <th>USAF</th>\n",
       "      <th>WBAN</th>\n",
       "      <th>YR--MODAHRMN</th>\n",
       "      <th>DIR</th>\n",
       "      <th>SPD</th>\n",
       "      <th>GUS</th>\n",
       "      <th>CLG</th>\n",
       "      <th>SKC</th>\n",
       "      <th>L</th>\n",
       "      <th>M</th>\n",
       "      <th>...</th>\n",
       "      <th>SLP</th>\n",
       "      <th>ALT</th>\n",
       "      <th>STP</th>\n",
       "      <th>MAX</th>\n",
       "      <th>MIN</th>\n",
       "      <th>PCP01</th>\n",
       "      <th>PCP06</th>\n",
       "      <th>PCP24</th>\n",
       "      <th>PCPXX</th>\n",
       "      <th>SD</th>\n",
       "    </tr>\n",
       "  </thead>\n",
       "  <tbody>\n",
       "    <tr>\n",
       "      <th>0</th>\n",
       "      <td>28450</td>\n",
       "      <td>99999</td>\n",
       "      <td>201705010000</td>\n",
       "      <td>174</td>\n",
       "      <td>10</td>\n",
       "      <td>14</td>\n",
       "      <td>***</td>\n",
       "      <td>***</td>\n",
       "      <td>*</td>\n",
       "      <td>*</td>\n",
       "      <td>...</td>\n",
       "      <td>1009.2</td>\n",
       "      <td>*****</td>\n",
       "      <td>984.1</td>\n",
       "      <td>***</td>\n",
       "      <td>***</td>\n",
       "      <td>*****</td>\n",
       "      <td>*****</td>\n",
       "      <td>*****</td>\n",
       "      <td>*****</td>\n",
       "      <td>35</td>\n",
       "    </tr>\n",
       "    <tr>\n",
       "      <th>1</th>\n",
       "      <td>28450</td>\n",
       "      <td>99999</td>\n",
       "      <td>201705010020</td>\n",
       "      <td>180</td>\n",
       "      <td>10</td>\n",
       "      <td>***</td>\n",
       "      <td>4</td>\n",
       "      <td>***</td>\n",
       "      <td>*</td>\n",
       "      <td>*</td>\n",
       "      <td>...</td>\n",
       "      <td>******</td>\n",
       "      <td>29.74</td>\n",
       "      <td>******</td>\n",
       "      <td>***</td>\n",
       "      <td>***</td>\n",
       "      <td>*****</td>\n",
       "      <td>*****</td>\n",
       "      <td>*****</td>\n",
       "      <td>*****</td>\n",
       "      <td>**</td>\n",
       "    </tr>\n",
       "    <tr>\n",
       "      <th>2</th>\n",
       "      <td>28450</td>\n",
       "      <td>99999</td>\n",
       "      <td>201705010050</td>\n",
       "      <td>190</td>\n",
       "      <td>10</td>\n",
       "      <td>***</td>\n",
       "      <td>4</td>\n",
       "      <td>***</td>\n",
       "      <td>*</td>\n",
       "      <td>*</td>\n",
       "      <td>...</td>\n",
       "      <td>******</td>\n",
       "      <td>29.74</td>\n",
       "      <td>******</td>\n",
       "      <td>***</td>\n",
       "      <td>***</td>\n",
       "      <td>*****</td>\n",
       "      <td>*****</td>\n",
       "      <td>*****</td>\n",
       "      <td>*****</td>\n",
       "      <td>**</td>\n",
       "    </tr>\n",
       "    <tr>\n",
       "      <th>3</th>\n",
       "      <td>28450</td>\n",
       "      <td>99999</td>\n",
       "      <td>201705010100</td>\n",
       "      <td>188</td>\n",
       "      <td>12</td>\n",
       "      <td>16</td>\n",
       "      <td>***</td>\n",
       "      <td>***</td>\n",
       "      <td>*</td>\n",
       "      <td>*</td>\n",
       "      <td>...</td>\n",
       "      <td>1009.1</td>\n",
       "      <td>*****</td>\n",
       "      <td>984.0</td>\n",
       "      <td>***</td>\n",
       "      <td>***</td>\n",
       "      <td>*****</td>\n",
       "      <td>*****</td>\n",
       "      <td>*****</td>\n",
       "      <td>*****</td>\n",
       "      <td>35</td>\n",
       "    </tr>\n",
       "    <tr>\n",
       "      <th>4</th>\n",
       "      <td>28450</td>\n",
       "      <td>99999</td>\n",
       "      <td>201705010120</td>\n",
       "      <td>200</td>\n",
       "      <td>13</td>\n",
       "      <td>***</td>\n",
       "      <td>2</td>\n",
       "      <td>OBS</td>\n",
       "      <td>*</td>\n",
       "      <td>*</td>\n",
       "      <td>...</td>\n",
       "      <td>******</td>\n",
       "      <td>29.74</td>\n",
       "      <td>******</td>\n",
       "      <td>***</td>\n",
       "      <td>***</td>\n",
       "      <td>*****</td>\n",
       "      <td>*****</td>\n",
       "      <td>*****</td>\n",
       "      <td>*****</td>\n",
       "      <td>**</td>\n",
       "    </tr>\n",
       "  </tbody>\n",
       "</table>\n",
       "<p>5 rows × 33 columns</p>\n",
       "</div>"
      ],
      "text/plain": [
       "    USAF   WBAN  YR--MODAHRMN  DIR SPD  GUS  CLG  SKC  L  M  ...     SLP  \\\n",
       "0  28450  99999  201705010000  174  10   14  ***  ***  *  *  ...  1009.2   \n",
       "1  28450  99999  201705010020  180  10  ***    4  ***  *  *  ...  ******   \n",
       "2  28450  99999  201705010050  190  10  ***    4  ***  *  *  ...  ******   \n",
       "3  28450  99999  201705010100  188  12   16  ***  ***  *  *  ...  1009.1   \n",
       "4  28450  99999  201705010120  200  13  ***    2  OBS  *  *  ...  ******   \n",
       "\n",
       "     ALT     STP  MAX  MIN  PCP01  PCP06  PCP24  PCPXX  SD  \n",
       "0  *****   984.1  ***  ***  *****  *****  *****  *****  35  \n",
       "1  29.74  ******  ***  ***  *****  *****  *****  *****  **  \n",
       "2  29.74  ******  ***  ***  *****  *****  *****  *****  **  \n",
       "3  *****   984.0  ***  ***  *****  *****  *****  *****  35  \n",
       "4  29.74  ******  ***  ***  *****  *****  *****  *****  **  \n",
       "\n",
       "[5 rows x 33 columns]"
      ]
     },
     "execution_count": 7,
     "metadata": {},
     "output_type": "execute_result"
    }
   ],
   "source": [
    "df.head()"
   ]
  },
  {
   "cell_type": "code",
   "execution_count": 8,
   "metadata": {},
   "outputs": [],
   "source": [
    "# Отсутствие данных\n",
    "na_values=['*', '**', '***', '****', '*****', '******']"
   ]
  },
  {
   "cell_type": "code",
   "execution_count": 13,
   "metadata": {},
   "outputs": [],
   "source": [
    "# Number of rows in the dataframe:\n",
    "rows = df.shape[0]\n",
    "\n",
    "# Column names:\n",
    "column_names = list(df) # df.columns\n",
    "\n",
    "# Column datatypes:\n",
    "column_datatypes = df.dtypes\n",
    "\n",
    "# REPLACE THE ERROR BELOW WITH YOUR OWN CODE\n",
    "# raise NotImplementedError()"
   ]
  },
  {
   "cell_type": "code",
   "execution_count": 14,
   "metadata": {},
   "outputs": [
    {
     "name": "stdout",
     "output_type": "stream",
     "text": [
      "There are 11694 rows\n",
      "The columns are: \n",
      " ['USAF', 'WBAN', 'YR--MODAHRMN', 'DIR', 'SPD', 'GUS', 'CLG', 'SKC', 'L', 'M', 'H', 'VSB', 'MW', 'MW.1', 'MW.2', 'MW.3', 'AW', 'AW.1', 'AW.2', 'AW.3', 'W', 'TEMP', 'DEWP', 'SLP', 'ALT', 'STP', 'MAX', 'MIN', 'PCP01', 'PCP06', 'PCP24', 'PCPXX', 'SD']\n",
      "The column types are: \n",
      " USAF             int64\n",
      "WBAN             int64\n",
      "YR--MODAHRMN     int64\n",
      "DIR             object\n",
      "SPD             object\n",
      "GUS             object\n",
      "CLG             object\n",
      "SKC             object\n",
      "L               object\n",
      "M               object\n",
      "H               object\n",
      "VSB             object\n",
      "MW              object\n",
      "MW.1            object\n",
      "MW.2            object\n",
      "MW.3            object\n",
      "AW              object\n",
      "AW.1            object\n",
      "AW.2            object\n",
      "AW.3            object\n",
      "W               object\n",
      "TEMP            object\n",
      "DEWP            object\n",
      "SLP             object\n",
      "ALT             object\n",
      "STP             object\n",
      "MAX             object\n",
      "MIN             object\n",
      "PCP01           object\n",
      "PCP06           object\n",
      "PCP24           object\n",
      "PCPXX           object\n",
      "SD              object\n",
      "dtype: object\n"
     ]
    }
   ],
   "source": [
    "# Print the number of rows in the dataframe:\n",
    "print(\"There are \" + str(rows) + \" rows\")\n",
    "\n",
    "# Print the column names:\n",
    "print(\"The columns are: \\n\", column_names)\n",
    "\n",
    "# Print the column datatypes:\n",
    "print(\"The column types are: \\n\", column_datatypes)"
   ]
  },
  {
   "cell_type": "code",
   "execution_count": null,
   "metadata": {},
   "outputs": [],
   "source": [
    "# Calculate mean temperature\n",
    "temp_mean = df['TEMP'].mean()\n",
    "\n",
    "# Calculate standard deviaton of the maximum temperature:\n",
    "temp_max_std = None\n",
    "\n",
    "#Calculate number of unique stations:\n",
    "station_count = None"
   ]
  },
  {
   "cell_type": "code",
   "execution_count": 17,
   "metadata": {},
   "outputs": [
    {
     "ename": "NameError",
     "evalue": "name 'temp_mean' is not defined",
     "output_type": "error",
     "traceback": [
      "\u001b[1;31m---------------------------------------------------------------------------\u001b[0m",
      "\u001b[1;31mNameError\u001b[0m                                 Traceback (most recent call last)",
      "\u001b[1;32m<ipython-input-17-5dbf94f36bab>\u001b[0m in \u001b[0;36m<module>\u001b[1;34m\u001b[0m\n\u001b[0;32m      1\u001b[0m \u001b[1;31m# Check mean temperature value\u001b[0m\u001b[1;33m\u001b[0m\u001b[1;33m\u001b[0m\u001b[1;33m\u001b[0m\u001b[0m\n\u001b[1;32m----> 2\u001b[1;33m \u001b[0mprint\u001b[0m\u001b[1;33m(\u001b[0m\u001b[1;34m\"The mean temperature in Fahrenheit is \"\u001b[0m\u001b[1;33m,\u001b[0m \u001b[0mround\u001b[0m\u001b[1;33m(\u001b[0m\u001b[0mtemp_mean\u001b[0m\u001b[1;33m,\u001b[0m\u001b[1;36m1\u001b[0m\u001b[1;33m)\u001b[0m\u001b[1;33m)\u001b[0m\u001b[1;33m\u001b[0m\u001b[1;33m\u001b[0m\u001b[0m\n\u001b[0m",
      "\u001b[1;31mNameError\u001b[0m: name 'temp_mean' is not defined"
     ]
    }
   ],
   "source": [
    "# Check mean temperature value\n",
    "print(\"The mean temperature in Fahrenheit is \", round(temp_mean,1))"
   ]
  },
  {
   "cell_type": "code",
   "execution_count": 33,
   "metadata": {},
   "outputs": [
    {
     "name": "stdout",
     "output_type": "stream",
     "text": [
      "0        31\n",
      "1        30\n",
      "2        30\n",
      "3        31\n",
      "4        30\n",
      "         ..\n",
      "11689    64\n",
      "11690    64\n",
      "11691    64\n",
      "11692    64\n",
      "11693    64\n",
      "Name: TEMP, Length: 11691, dtype: object\n"
     ]
    }
   ],
   "source": [
    " df1 = df['TEMP'][df['TEMP'].values != zv in ]\n",
    " # df1 = df['TEMP'][df['TEMP'].values != \"****\"]   \n",
    " print(df1)   "
   ]
  },
  {
   "cell_type": "code",
   "execution_count": 34,
   "metadata": {},
   "outputs": [
    {
     "data": {
      "text/plain": [
       "52.24796852279531"
      ]
     },
     "execution_count": 34,
     "metadata": {},
     "output_type": "execute_result"
    }
   ],
   "source": [
    "df1.astype(int).mean()"
   ]
  },
  {
   "cell_type": "code",
   "execution_count": 19,
   "metadata": {},
   "outputs": [
    {
     "data": {
      "text/plain": [
       "USAF            2.883257e+04\n",
       "WBAN            9.999900e+04\n",
       "YR--MODAHRMN    2.017067e+11\n",
       "dtype: float64"
      ]
     },
     "execution_count": 19,
     "metadata": {},
     "output_type": "execute_result"
    }
   ],
   "source": [
    "df.mean()"
   ]
  },
  {
   "cell_type": "code",
   "execution_count": null,
   "metadata": {},
   "outputs": [],
   "source": []
  }
 ],
 "metadata": {
  "kernelspec": {
   "display_name": "Python 3",
   "language": "python",
   "name": "python3"
  },
  "language_info": {
   "codemirror_mode": {
    "name": "ipython",
    "version": 3
   },
   "file_extension": ".py",
   "mimetype": "text/x-python",
   "name": "python",
   "nbconvert_exporter": "python",
   "pygments_lexer": "ipython3",
   "version": "3.7.7"
  }
 },
 "nbformat": 4,
 "nbformat_minor": 2
}
