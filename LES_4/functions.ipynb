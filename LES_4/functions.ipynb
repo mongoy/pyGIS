{
 "cells": [
  {
   "cell_type": "code",
   "execution_count": 1,
   "metadata": {
    "collapsed": true,
    "jupyter": {
     "outputs_hidden": true
    }
   },
   "outputs": [
    {
     "name": "stdout",
     "output_type": "stream",
     "text": [
      "Температура замерзания воды в градусах Фаренгейта равна: 32.0\n"
     ]
    }
   ],
   "source": [
    "import sys\n",
    "import os\n",
    "# import temp_converter\n",
    "from temp_converter import celsius_to_fahr"
   ]
  },
  {
   "cell_type": "code",
   "execution_count": 2,
   "metadata": {
    "collapsed": true,
    "jupyter": {
     "outputs_hidden": true
    }
   },
   "outputs": [
    {
     "data": {
      "text/plain": [
       "32.0"
      ]
     },
     "execution_count": 2,
     "metadata": {},
     "output_type": "execute_result"
    }
   ],
   "source": [
    "celsius_to_fahr(0)"
   ]
  },
  {
   "cell_type": "code",
   "execution_count": 3,
   "metadata": {
    "collapsed": true,
    "jupyter": {
     "outputs_hidden": true
    }
   },
   "outputs": [
    {
     "name": "stdout",
     "output_type": "stream",
     "text": [
      "Температура замерзания воды в градусах Фаренгейта равна: 32.0\n"
     ]
    }
   ],
   "source": [
    "print(\"Температура замерзания воды в градусах Фаренгейта равна:\", celsius_to_fahr(0))"
   ]
  },
  {
   "cell_type": "code",
   "execution_count": 11,
   "metadata": {
    "collapsed": true,
    "jupyter": {
     "outputs_hidden": true
    }
   },
   "outputs": [
    {
     "name": "stdout",
     "output_type": "stream",
     "text": [
      " ’®¬ ў гбва®©бвўҐ D Ё¬ҐҐв ¬ҐвЄг GARANT\n",
      " ‘ҐаЁ©­л© ­®¬Ґа в®¬ : B135-AD02\n",
      "\n",
      " ‘®¤Ґа¦Ё¬®Ґ Ї ЇЄЁ D:\\!PROJ\\pyGIS\\LES_4\n",
      "\n",
      "11.09.2020  16:23    <DIR>          .\n",
      "11.09.2020  16:23    <DIR>          ..\n",
      "11.09.2020  13:38    <DIR>          .ipynb_checkpoints\n",
      "11.09.2020  16:13    <DIR>          __pycache__\n",
      "11.09.2020  16:14             3я006 functions.ipynb\n",
      "11.09.2020  16:23               352 temp_converter.py\n",
      "11.09.2020  13:24                 0 untitled.txt\n",
      "               3 д ©«®ў          3я358 Ў ©в\n",
      "               4 Ї Ї®Є  234я507я661я312 Ў ©в бў®Ў®¤­®\n"
     ]
    }
   ],
   "source": [
    "ls"
   ]
  },
  {
   "cell_type": "code",
   "execution_count": 6,
   "metadata": {},
   "outputs": [],
   "source": [
    "import pandas as pd\n",
    "import matplotlib.pyplot as plt"
   ]
  },
  {
   "cell_type": "code",
   "execution_count": 8,
   "metadata": {},
   "outputs": [
    {
     "data": {
      "text/plain": [
       "<Figure size 432x288 with 0 Axes>"
      ]
     },
     "execution_count": 8,
     "metadata": {},
     "output_type": "execute_result"
    },
    {
     "data": {
      "text/plain": [
       "<Figure size 432x288 with 0 Axes>"
      ]
     },
     "metadata": {},
     "output_type": "display_data"
    }
   ],
   "source": [
    "plt.figure()"
   ]
  },
  {
   "cell_type": "code",
   "execution_count": null,
   "metadata": {},
   "outputs": [],
   "source": []
  }
 ],
 "metadata": {
  "kernelspec": {
   "display_name": "Python 3",
   "language": "python",
   "name": "python3"
  },
  "language_info": {
   "codemirror_mode": {
    "name": "ipython",
    "version": 3
   },
   "file_extension": ".py",
   "mimetype": "text/x-python",
   "name": "python",
   "nbconvert_exporter": "python",
   "pygments_lexer": "ipython3",
   "version": "3.6.12"
  }
 },
 "nbformat": 4,
 "nbformat_minor": 4
}
