{
 "cells": [
  {
   "cell_type": "code",
   "execution_count": 1,
   "metadata": {},
   "outputs": [],
   "source": [
    "import pandas as pd\n",
    "import matplotlib.pyplot as plt\n",
    "import numpy as np\n"
   ]
  },
  {
   "cell_type": "code",
   "execution_count": 2,
   "metadata": {},
   "outputs": [
    {
     "data": {
      "text/plain": [
       "<Figure size 432x288 with 0 Axes>"
      ]
     },
     "execution_count": 2,
     "metadata": {},
     "output_type": "execute_result"
    },
    {
     "data": {
      "text/plain": [
       "<Figure size 432x288 with 0 Axes>"
      ]
     },
     "metadata": {},
     "output_type": "display_data"
    }
   ],
   "source": [
    "plt.figure()"
   ]
  },
  {
   "cell_type": "code",
   "execution_count": 3,
   "metadata": {
    "collapsed": false,
    "jupyter": {
     "outputs_hidden": false
    },
    "pycharm": {
     "name": "#%%\n"
    }
   },
   "outputs": [
    {
     "name": "stdout",
     "output_type": "stream",
     "text": [
      "\n",
      "Please wait a moment while I gather a list of all available modules...\n",
      "\n"
     ]
    },
    {
     "name": "stderr",
     "output_type": "stream",
     "text": [
      "e:\\anaconda3\\envs\\gis_env\\lib\\site-packages\\IPython\\kernel\\__init__.py:13: ShimWarning: The `IPython.kernel` package has been deprecated since IPython 4.0.You should import from ipykernel or jupyter_client instead.\n",
      "  \"You should import from ipykernel or jupyter_client instead.\", ShimWarning)\n",
      "e:\\anaconda3\\envs\\gis_env\\lib\\site-packages\\IPython\\html.py:14: ShimWarning: The `IPython.html` package has been deprecated since IPython 4.0. You should import from `notebook` instead. `IPython.html.widgets` has moved to `ipywidgets`.\n",
      "  \"`IPython.html.widgets` has moved to `ipywidgets`.\", ShimWarning)\n",
      "e:\\anaconda3\\envs\\gis_env\\lib\\pkgutil.py:92: MatplotlibDeprecationWarning: \n",
      "The matplotlib.compat module was deprecated in Matplotlib 3.3 and will be removed two minor releases later.\n",
      "  __import__(info.name)\n",
      "e:\\anaconda3\\envs\\gis_env\\lib\\pkgutil.py:107: VisibleDeprecationWarning: zmq.eventloop.minitornado is deprecated in pyzmq 14.0 and will be removed.\n",
      "    Install tornado itself to use zmq with the tornado IOLoop.\n",
      "    \n",
      "  yield from walk_packages(path, info.name+'.', onerror)\n"
     ]
    },
    {
     "name": "stdout",
     "output_type": "stream",
     "text": [
      "IPython             cgi                 mmsystem            subprocess\n",
      "PIL                 cgitb               modulefinder        sunau\n",
      "__future__          chardet             msilib              symbol\n",
      "_ast                chunk               msvcrt              sympyprinting\n",
      "_asyncio            cmath               multiprocessing     symtable\n",
      "_bisect             cmd                 nbclient            sys\n",
      "_blake2             code                nbconvert           sysconfig\n",
      "_bootlocale         codecs              nbformat            tabnanny\n",
      "_bz2                codeop              nest_asyncio        tarfile\n",
      "_cffi_backend       collections         netbios             telnetlib\n",
      "_codecs             colorama            netrc               tempfile\n",
      "_codecs_cn          colorsys            nntplib             terminado\n",
      "_codecs_hk          commctrl            nose                test\n",
      "_codecs_iso2022     compileall          notebook            testpath\n",
      "_codecs_jp          concurrent          nt                  tests\n",
      "_codecs_kr          configparser        ntpath              textwrap\n",
      "_codecs_tw          contextlib          ntsecuritycon       this\n",
      "_collections        copy                nturl2path          threading\n",
      "_collections_abc    copyreg             numbers             time\n",
      "_compat_pickle      crypt               numpy               timeit\n",
      "_compression        csv                 odbc                timer\n",
      "_csv                ctypes              opcode              tkinter\n",
      "_ctypes             curses              operator            token\n",
      "_ctypes_test        cycler              optparse            tokenize\n",
      "_datetime           cythonmagic         os                  tornado\n",
      "_decimal            datetime            packaging           trace\n",
      "_distutils_findvs   dateutil            pandas              traceback\n",
      "_distutils_hack     dbi                 pandocfilters       tracemalloc\n",
      "_dummy_thread       dbm                 parser              traitlets\n",
      "_elementtree        dde                 parso               tty\n",
      "_functools          decimal             pathlib             turtle\n",
      "_hashlib            decorator           pdb                 turtledemo\n",
      "_heapq              defusedxml          peppercorn          types\n",
      "_imp                difflib             perfmon             typing\n",
      "_io                 dis                 pickle              unicodedata\n",
      "_json               distutils           pickleshare         unittest\n",
      "_locale             doctest             pickletools         urllib\n",
      "_lsprof             dummy_threading     pip                 urllib3\n",
      "_lzma               easy_install        pipes               uu\n",
      "_markupbase         email               pkg_resources       uuid\n",
      "_md5                encodings           pkgutil             venv\n",
      "_msi                ensurepip           platform            warnings\n",
      "_multibytecodec     entrypoints         plistlib            wave\n",
      "_multiprocessing    enum                poplib              wcwidth\n",
      "_opcode             errno               posixpath           weakref\n",
      "_operator           faulthandler        pprint              webbrowser\n",
      "_osx_support        filecmp             profile             webencodings\n",
      "_overlapped         fileinput           prometheus_client   wheel\n",
      "_pickle             fnmatch             prompt_toolkit      widgetsnbextension\n",
      "_pydecimal          formatter           pstats              win2kras\n",
      "_pyio               fractions           pty                 win32api\n",
      "_pyrsistent_version ftplib              py_compile          win32clipboard\n",
      "_random             functools           pyclbr              win32com\n",
      "_sha1               gc                  pycparser           win32con\n",
      "_sha256             genericpath         pydoc               win32console\n",
      "_sha3               getopt              pydoc_data          win32cred\n",
      "_sha512             getpass             pyexpat             win32crypt\n",
      "_signal             gettext             pygments            win32cryptcon\n",
      "_sitebuiltins       glob                pylab               win32event\n",
      "_socket             gzip                pyparsing           win32evtlog\n",
      "_sqlite3            hashlib             pyrsistent          win32evtlogutil\n",
      "_sre                heapq               pythoncom           win32file\n",
      "_ssl                hmac                pytz                win32gui\n",
      "_stat               html                pywin               win32gui_struct\n",
      "_string             http                pywin32_bootstrap   win32help\n",
      "_strptime           idlelib             pywin32_testutil    win32inet\n",
      "_struct             idna                pywintypes          win32inetcon\n",
      "_symtable           imaplib             qtconsole           win32job\n",
      "_testbuffer         imghdr              qtpy                win32lz\n",
      "_testcapi           imp                 queue               win32net\n",
      "_testconsole        importlib           quopri              win32netcon\n",
      "_testimportmultiple importlib_metadata  random              win32pdh\n",
      "_testmultiphase     inspect             rasutil             win32pdhquery\n",
      "_thread             io                  re                  win32pdhutil\n",
      "_threading_local    ipaddress           regcheck            win32pipe\n",
      "_tkinter            ipykernel           regutil             win32print\n",
      "_tracemalloc        ipykernel_launcher  reprlib             win32process\n",
      "_warnings           ipython_genutils    requests            win32profile\n",
      "_weakref            ipywidgets          rlcompleter         win32ras\n",
      "_weakrefset         isapi               rmagic              win32rcparser\n",
      "_win32sysloader     itertools           runpy               win32security\n",
      "_winapi             jedi                sched               win32service\n",
      "_winxptheme         jinja2              secrets             win32serviceutil\n",
      "abc                 json                select              win32timezone\n",
      "adodbapi            json5               selectors           win32trace\n",
      "afxres              jsonschema          send2trash          win32traceutil\n",
      "aifc                jupyter             servicemanager      win32transaction\n",
      "antigravity         jupyter-git         setuptools          win32ts\n",
      "argon2              jupyter_client      shapely             win32ui\n",
      "argparse            jupyter_console     shelve              win32uiole\n",
      "array               jupyter_core        shlex               win32verstamp\n",
      "ast                 jupyterlab          shutil              win32wnet\n",
      "async_generator     jupyterlab_pygments signal              wincertstore\n",
      "asynchat            jupyterlab_server   site                winerror\n",
      "asyncio             keyword             six                 winioctlcon\n",
      "asyncore            kiwisolver          smtpd               winnt\n",
      "atexit              lib2to3             smtplib             winperf\n",
      "attr                linecache           sndhdr              winpty\n",
      "audioop             locale              socket              winreg\n",
      "autoreload          logging             socketserver        winsound\n",
      "backcall            lzma                sqlite3             winxpgui\n",
      "base64              macpath             sre_compile         winxptheme\n",
      "bdb                 macurl2path         sre_constants       wsgiref\n",
      "binascii            mailbox             sre_parse           xdrlib\n",
      "binhex              mailcap             ssl                 xml\n",
      "bisect              markupsafe          sspi                xmlrpc\n",
      "bleach              marshal             sspicon             xxsubtype\n",
      "builtins            math                stat                zipapp\n",
      "bz2                 matplotlib          statistics          zipfile\n",
      "cProfile            mimetypes           storemagic          zipimport\n",
      "calendar            mistune             string              zipp\n",
      "certifi             mmap                stringprep          zlib\n",
      "cffi                mmapfile            struct              zmq\n",
      "\n",
      "Enter any module name to get more help.  Or, type \"modules spam\" to search\n",
      "for modules whose name or summary contain the string \"spam\".\n",
      "\n"
     ]
    }
   ],
   "source": [
    "help(\"modules\")"
   ]
  },
  {
   "cell_type": "code",
   "execution_count": 4,
   "metadata": {},
   "outputs": [],
   "source": [
    "def fahr_to_celsius(temp_fahrenheit):\n",
    "    \"\"\"\n",
    "    Конвертор из температуры в Фарингейтах в температуры в Цельсиях\n",
    "    \n",
    "    Usage: temp_fahrenheit\n",
    "    \n",
    "    Return: converted_temp\n",
    "    \"\"\"\n",
    "    # температура в Цельсиях \n",
    "    converted_temp = (temp_fahrenheit - 32) / 1.8\n",
    "    return converted_temp"
   ]
  },
  {
   "cell_type": "code",
   "execution_count": 5,
   "metadata": {},
   "outputs": [
    {
     "name": "stdout",
     "output_type": "stream",
     "text": [
      "32 degrees Fahrenheit in Celsius is: 0.0\n"
     ]
    }
   ],
   "source": [
    "print(\"32 degrees Fahrenheit in Celsius is:\", fahr_to_celsius(32))"
   ]
  },
  {
   "cell_type": "code",
   "execution_count": 6,
   "metadata": {},
   "outputs": [
    {
     "name": "stdout",
     "output_type": "stream",
     "text": [
      "48 degrees Fahrenheit in Celsius is: 8.88888888888889\n"
     ]
    }
   ],
   "source": [
    "# 1. What is 48° Fahrenheit in Celsius? \n",
    "\n",
    "print(\"48 degrees Fahrenheit in Celsius is:\", fahr_to_celsius(48))"
   ]
  },
  {
   "cell_type": "code",
   "execution_count": 7,
   "metadata": {},
   "outputs": [
    {
     "name": "stdout",
     "output_type": "stream",
     "text": [
      "71 degrees Fahrenheit in Celsius is: 21.666666666666668\n"
     ]
    }
   ],
   "source": [
    "# 2. What about 71° Fahrenheit in Celsius?\n",
    "print(\"71 degrees Fahrenheit in Celsius is:\", fahr_to_celsius(71))"
   ]
  },
  {
   "cell_type": "markdown",
   "metadata": {},
   "source": [
    "Тестирование кода функции fahr_to_celsius()"
   ]
  },
  {
   "cell_type": "code",
   "execution_count": 8,
   "metadata": {},
   "outputs": [],
   "source": [
    "# 1\n",
    "from nose.tools import ok_, assert_equal\n",
    "import inspect\n",
    "\n",
    "# Check that function exists\n",
    "ok_(inspect.isfunction(fahr_to_celsius))"
   ]
  },
  {
   "cell_type": "code",
   "execution_count": 9,
   "metadata": {},
   "outputs": [],
   "source": [
    "# 2\n",
    "# Check that the function has a single parameter and the parameter name is correct\n",
    "params = list(inspect.signature(fahr_to_celsius).parameters.keys())\n",
    "ok_(len(params)==1)\n",
    "ok_(params[0]=='temp_fahrenheit')\n"
   ]
  },
  {
   "cell_type": "code",
   "execution_count": 10,
   "metadata": {},
   "outputs": [],
   "source": [
    "# 3\n",
    "# Check that the function produces correct answers for:\n",
    "# 1. What is 48° Fahrenheit in Celsius? \n",
    "assert_equal(round(fahr_to_celsius(48), 2), 8.89)\n"
   ]
  },
  {
   "cell_type": "code",
   "execution_count": 11,
   "metadata": {},
   "outputs": [],
   "source": [
    "# 2. What about 71° Fahrenheit in Celsius?\n",
    "assert_equal(round(fahr_to_celsius(71), 2), 21.67)"
   ]
  },
  {
   "cell_type": "code",
   "execution_count": null,
   "metadata": {},
   "outputs": [],
   "source": []
  }
 ],
 "metadata": {
  "kernelspec": {
   "display_name": "Python 3",
   "language": "python",
   "name": "python3"
  },
  "language_info": {
   "codemirror_mode": {
    "name": "ipython",
    "version": 3
   },
   "file_extension": ".py",
   "mimetype": "text/x-python",
   "name": "python",
   "nbconvert_exporter": "python",
   "pygments_lexer": "ipython3",
   "version": "3.6.12"
  }
 },
 "nbformat": 4,
 "nbformat_minor": 4
}
